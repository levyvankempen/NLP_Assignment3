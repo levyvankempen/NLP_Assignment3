{
 "cells": [
  {
   "cell_type": "markdown",
   "id": "ddb49d2b",
   "metadata": {},
   "source": [
    "# Assignment 3 Natural Language Processing - Part 1: traditional machine learning approach: XGBoost\n",
    "\n",
    "For the preprocessing, we constructed another notebook which explains the preprocessing steps as well as the reasoning behind it.\n",
    "\n",
    "When using the SVM, we found that this had only mediocre performance and wondered if an ensemble technique like XGBoost would perform better. Therefore, we wanted to also test the XGBoost before comparing it to deep learning techniques.\n",
    "\n",
    "To give the machine learner something to work with, the text needs to be vectorized. For this, multiple techniques exist. When testing the SVM, we found that each personality trait prefers a different technique. Therefore, we want to investigate the performance of TF-IDF, Part-of-Speech and Bag-of-Words for XGBoost as well, to see how these would perform and if there would be a clear optimal solution. In the remainder of this notebook, we test these techniques separately. As such, for XGBoost we will train and test in total 3 different approaches. Taking into account the 3 different approaches for SVM, this totals 6 different machine learning approaches that we train and test. For all three XGBoost approaches, we first convert the data according to the method. Afterwards, we do a hyperparameter for all target variables and finally evaluate the model's performance. With this done, we can compare it to SVM to see what machine learner would work better.\n",
    "\n",
    "In the end, we want to see how the different techniques compare per target variable, to see how XGBoost does when predicting the target variables separately based on just the text.\n"
   ]
  },
  {
   "cell_type": "code",
   "execution_count": 1,
   "id": "e17ce75b",
   "metadata": {},
   "outputs": [
    {
     "name": "stderr",
     "output_type": "stream",
     "text": [
      "C:\\Users\\maxma\\anaconda3\\envs\\nlp\\lib\\site-packages\\paramiko\\transport.py:219: CryptographyDeprecationWarning: Blowfish has been deprecated\n",
      "  \"class\": algorithms.Blowfish,\n"
     ]
    }
   ],
   "source": [
    "import pandas as pd\n",
    "import nltk\n",
    "from nltk.tokenize import word_tokenize\n",
    "from gensim.models import Word2Vec\n",
    "from sklearn.model_selection import train_test_split, RandomizedSearchCV, RepeatedKFold\n",
    "import numpy as np\n",
    "from sklearn.feature_extraction.text import TfidfVectorizer\n",
    "from sklearn.model_selection import cross_val_score, StratifiedKFold\n",
    "from sklearn.metrics import make_scorer, accuracy_score, precision_score, recall_score, f1_score\n",
    "from sklearn.feature_extraction.text import CountVectorizer\n",
    "import xgboost as xgb\n",
    "from gensim.models import Word2Vec\n",
    "from statistics import mean"
   ]
  },
  {
   "cell_type": "code",
   "execution_count": 2,
   "id": "3dd3d76e",
   "metadata": {},
   "outputs": [
    {
     "data": {
      "text/html": [
       "<div>\n",
       "<style scoped>\n",
       "    .dataframe tbody tr th:only-of-type {\n",
       "        vertical-align: middle;\n",
       "    }\n",
       "\n",
       "    .dataframe tbody tr th {\n",
       "        vertical-align: top;\n",
       "    }\n",
       "\n",
       "    .dataframe thead th {\n",
       "        text-align: right;\n",
       "    }\n",
       "</style>\n",
       "<table border=\"1\" class=\"dataframe\">\n",
       "  <thead>\n",
       "    <tr style=\"text-align: right;\">\n",
       "      <th></th>\n",
       "      <th>TEXT</th>\n",
       "      <th>cEXT</th>\n",
       "      <th>cNEU</th>\n",
       "      <th>cAGR</th>\n",
       "      <th>cCON</th>\n",
       "      <th>cOPN</th>\n",
       "    </tr>\n",
       "  </thead>\n",
       "  <tbody>\n",
       "    <tr>\n",
       "      <th>0</th>\n",
       "      <td>Well right woke midday nap Its sort weird ever...</td>\n",
       "      <td>0</td>\n",
       "      <td>1</td>\n",
       "      <td>1</td>\n",
       "      <td>0</td>\n",
       "      <td>1</td>\n",
       "    </tr>\n",
       "    <tr>\n",
       "      <th>1</th>\n",
       "      <td>Well stream consciousness essay used thing lik...</td>\n",
       "      <td>0</td>\n",
       "      <td>0</td>\n",
       "      <td>1</td>\n",
       "      <td>0</td>\n",
       "      <td>0</td>\n",
       "    </tr>\n",
       "    <tr>\n",
       "      <th>2</th>\n",
       "      <td>open keyboard button push The thing finally wo...</td>\n",
       "      <td>0</td>\n",
       "      <td>1</td>\n",
       "      <td>0</td>\n",
       "      <td>1</td>\n",
       "      <td>1</td>\n",
       "    </tr>\n",
       "    <tr>\n",
       "      <th>3</th>\n",
       "      <td>cant believe Its really happening pulse racing...</td>\n",
       "      <td>1</td>\n",
       "      <td>0</td>\n",
       "      <td>1</td>\n",
       "      <td>1</td>\n",
       "      <td>0</td>\n",
       "    </tr>\n",
       "    <tr>\n",
       "      <th>4</th>\n",
       "      <td>Well good old stream consciousness assignment ...</td>\n",
       "      <td>1</td>\n",
       "      <td>0</td>\n",
       "      <td>1</td>\n",
       "      <td>0</td>\n",
       "      <td>1</td>\n",
       "    </tr>\n",
       "    <tr>\n",
       "      <th>...</th>\n",
       "      <td>...</td>\n",
       "      <td>...</td>\n",
       "      <td>...</td>\n",
       "      <td>...</td>\n",
       "      <td>...</td>\n",
       "      <td>...</td>\n",
       "    </tr>\n",
       "    <tr>\n",
       "      <th>2958</th>\n",
       "      <td>motivated day day basis need provide little fa...</td>\n",
       "      <td>1</td>\n",
       "      <td>0</td>\n",
       "      <td>0</td>\n",
       "      <td>1</td>\n",
       "      <td>1</td>\n",
       "    </tr>\n",
       "    <tr>\n",
       "      <th>2959</th>\n",
       "      <td>son biggest part life without reckless person ...</td>\n",
       "      <td>1</td>\n",
       "      <td>1</td>\n",
       "      <td>0</td>\n",
       "      <td>0</td>\n",
       "      <td>0</td>\n",
       "    </tr>\n",
       "    <tr>\n",
       "      <th>2960</th>\n",
       "      <td>kid grandkids keep motivated everyday inspire ...</td>\n",
       "      <td>1</td>\n",
       "      <td>0</td>\n",
       "      <td>1</td>\n",
       "      <td>1</td>\n",
       "      <td>0</td>\n",
       "    </tr>\n",
       "    <tr>\n",
       "      <th>2961</th>\n",
       "      <td>biggest drive earn money retire beach schedule...</td>\n",
       "      <td>0</td>\n",
       "      <td>0</td>\n",
       "      <td>0</td>\n",
       "      <td>0</td>\n",
       "      <td>0</td>\n",
       "    </tr>\n",
       "    <tr>\n",
       "      <th>2962</th>\n",
       "      <td>People never give cause life cruel strong enem...</td>\n",
       "      <td>1</td>\n",
       "      <td>1</td>\n",
       "      <td>0</td>\n",
       "      <td>0</td>\n",
       "      <td>0</td>\n",
       "    </tr>\n",
       "  </tbody>\n",
       "</table>\n",
       "<p>2963 rows × 6 columns</p>\n",
       "</div>"
      ],
      "text/plain": [
       "                                                   TEXT  cEXT  cNEU  cAGR  \\\n",
       "0     Well right woke midday nap Its sort weird ever...     0     1     1   \n",
       "1     Well stream consciousness essay used thing lik...     0     0     1   \n",
       "2     open keyboard button push The thing finally wo...     0     1     0   \n",
       "3     cant believe Its really happening pulse racing...     1     0     1   \n",
       "4     Well good old stream consciousness assignment ...     1     0     1   \n",
       "...                                                 ...   ...   ...   ...   \n",
       "2958  motivated day day basis need provide little fa...     1     0     0   \n",
       "2959  son biggest part life without reckless person ...     1     1     0   \n",
       "2960  kid grandkids keep motivated everyday inspire ...     1     0     1   \n",
       "2961  biggest drive earn money retire beach schedule...     0     0     0   \n",
       "2962  People never give cause life cruel strong enem...     1     1     0   \n",
       "\n",
       "      cCON  cOPN  \n",
       "0        0     1  \n",
       "1        0     0  \n",
       "2        1     1  \n",
       "3        1     0  \n",
       "4        0     1  \n",
       "...    ...   ...  \n",
       "2958     1     1  \n",
       "2959     0     0  \n",
       "2960     1     0  \n",
       "2961     0     0  \n",
       "2962     0     0  \n",
       "\n",
       "[2963 rows x 6 columns]"
      ]
     },
     "execution_count": 2,
     "metadata": {},
     "output_type": "execute_result"
    }
   ],
   "source": [
    "df = pd.read_csv('processed_data_english_no_lowercasing.csv')\n",
    "df"
   ]
  },
  {
   "cell_type": "code",
   "execution_count": 3,
   "id": "09f3042f",
   "metadata": {},
   "outputs": [],
   "source": [
    "corpus = df['TEXT'].tolist()"
   ]
  },
  {
   "cell_type": "markdown",
   "id": "1f3dd93e",
   "metadata": {},
   "source": [
    "# Modelling \n",
    "\n",
    "As with the SVM, 3 different feeding techniques were considered: TF-IDF, Part-of-Speech (PoS) Tagging and Bag-of-Words (BoW). In the remainder of the notebook, each method will be used and will be compared at the end of the notebook. "
   ]
  },
  {
   "cell_type": "markdown",
   "id": "5f370d0c",
   "metadata": {},
   "source": [
    "## Using TF-IDF \n",
    "\n",
    "First, train-test splits are made per target variable. Afterwards, X_train and X_test are transformed using TF-IDF"
   ]
  },
  {
   "cell_type": "code",
   "execution_count": 4,
   "id": "a3b64c72",
   "metadata": {},
   "outputs": [],
   "source": [
    "# Ext split\n",
    "X_train_ext, X_test_ext, y_train_ext, y_test_ext = train_test_split(corpus, df['cEXT'].tolist(), test_size=0.2, random_state=42)\n",
    "\n",
    "# Neu split\n",
    "X_train_neu, X_test_neu, y_train_neu, y_test_neu = train_test_split(corpus, df['cNEU'].tolist(), test_size=0.2, random_state=42)\n",
    "\n",
    "# Agr split\n",
    "X_train_agr, X_test_agr, y_train_agr, y_test_agr = train_test_split(corpus, df['cAGR'].tolist(), test_size=0.2, random_state=42)\n",
    "\n",
    "# Con split\n",
    "X_train_con, X_test_con, y_train_con, y_test_con = train_test_split(corpus, df['cCON'].tolist(), test_size=0.2, random_state=42)\n",
    "\n",
    "# Opn split\n",
    "X_train_opn, X_test_opn, y_train_opn, y_test_opn = train_test_split(corpus, df['cOPN'].tolist(), test_size=0.2, random_state=42)"
   ]
  },
  {
   "cell_type": "code",
   "execution_count": 5,
   "id": "9151da20",
   "metadata": {},
   "outputs": [],
   "source": [
    "tfidf = TfidfVectorizer()  \n",
    "\n",
    "# for Ext\n",
    "X_train_ext_t = tfidf.fit_transform(X_train_ext)\n",
    "X_test_ext_t = tfidf.transform(X_test_ext)\n",
    "\n",
    "# for Neu\n",
    "X_train_neu_t = tfidf.fit_transform(X_train_neu)\n",
    "X_test_neu_t = tfidf.transform(X_test_neu)\n",
    "\n",
    "# for Agr\n",
    "X_train_agr_t = tfidf.fit_transform(X_train_agr)\n",
    "X_test_agr_t = tfidf.transform(X_test_agr)\n",
    "\n",
    "# for Con\n",
    "X_train_con_t = tfidf.fit_transform(X_train_con)\n",
    "X_test_con_t = tfidf.transform(X_test_con)\n",
    "\n",
    "# for Opn\n",
    "X_train_opn_t = tfidf.fit_transform(X_train_opn)\n",
    "X_test_opn_t = tfidf.transform(X_test_opn)"
   ]
  },
  {
   "cell_type": "markdown",
   "id": "3cf1d65c",
   "metadata": {},
   "source": [
    "### Hyperparameter tuning\n",
    "\n",
    "In order to have the optimal XGBoost model, a Randomized Search is done to find the 'learning rate', 'gamma', 'max depth' and 'min child weigt' parameters of the XGBoost that yield the highest F1 score. This is done per target variable."
   ]
  },
  {
   "cell_type": "code",
   "execution_count": 6,
   "id": "dcd45fdd",
   "metadata": {
    "scrolled": true
   },
   "outputs": [
    {
     "name": "stdout",
     "output_type": "stream",
     "text": [
      "Fitting 5 folds for each of 10 candidates, totalling 50 fits\n"
     ]
    },
    {
     "ename": "KeyboardInterrupt",
     "evalue": "",
     "output_type": "error",
     "traceback": [
      "\u001b[1;31m---------------------------------------------------------------------------\u001b[0m",
      "\u001b[1;31mKeyboardInterrupt\u001b[0m                         Traceback (most recent call last)",
      "Cell \u001b[1;32mIn[6], line 17\u001b[0m\n\u001b[0;32m      4\u001b[0m params_dict \u001b[38;5;241m=\u001b[39m {\u001b[38;5;124m'\u001b[39m\u001b[38;5;124mlearning_rate\u001b[39m\u001b[38;5;124m'\u001b[39m: [\u001b[38;5;241m0.01\u001b[39m, \u001b[38;5;241m0.1\u001b[39m, \u001b[38;5;241m0.2\u001b[39m],\n\u001b[0;32m      5\u001b[0m                \u001b[38;5;124m'\u001b[39m\u001b[38;5;124mgamma\u001b[39m\u001b[38;5;124m'\u001b[39m: [\u001b[38;5;241m0.5\u001b[39m, \u001b[38;5;241m1\u001b[39m, \u001b[38;5;241m2.0\u001b[39m],\n\u001b[0;32m      6\u001b[0m                \u001b[38;5;124m'\u001b[39m\u001b[38;5;124mmax_depth\u001b[39m\u001b[38;5;124m'\u001b[39m: [\u001b[38;5;241m3\u001b[39m, \u001b[38;5;241m6\u001b[39m, \u001b[38;5;241m9\u001b[39m],\n\u001b[0;32m      7\u001b[0m                \u001b[38;5;124m'\u001b[39m\u001b[38;5;124mmin_child_weight\u001b[39m\u001b[38;5;124m'\u001b[39m: [\u001b[38;5;241m1\u001b[39m, \u001b[38;5;241m5\u001b[39m, \u001b[38;5;241m10\u001b[39m],\n\u001b[0;32m      8\u001b[0m               }\n\u001b[0;32m     10\u001b[0m search \u001b[38;5;241m=\u001b[39m RandomizedSearchCV(xgb_model,\n\u001b[0;32m     11\u001b[0m          param_distributions\u001b[38;5;241m=\u001b[39mparams_dict,\n\u001b[0;32m     12\u001b[0m          scoring \u001b[38;5;241m=\u001b[39m [\u001b[38;5;124m'\u001b[39m\u001b[38;5;124mrecall\u001b[39m\u001b[38;5;124m'\u001b[39m, \u001b[38;5;124m'\u001b[39m\u001b[38;5;124mprecision\u001b[39m\u001b[38;5;124m'\u001b[39m, \u001b[38;5;124m'\u001b[39m\u001b[38;5;124maccuracy\u001b[39m\u001b[38;5;124m'\u001b[39m, \u001b[38;5;124m'\u001b[39m\u001b[38;5;124mf1\u001b[39m\u001b[38;5;124m'\u001b[39m],\n\u001b[0;32m     13\u001b[0m          refit \u001b[38;5;241m=\u001b[39m \u001b[38;5;124m'\u001b[39m\u001b[38;5;124mf1\u001b[39m\u001b[38;5;124m'\u001b[39m, \n\u001b[0;32m     14\u001b[0m          cv\u001b[38;5;241m=\u001b[39m \u001b[38;5;241m5\u001b[39m,\n\u001b[0;32m     15\u001b[0m          verbose\u001b[38;5;241m=\u001b[39m\u001b[38;5;241m3\u001b[39m)\n\u001b[1;32m---> 17\u001b[0m \u001b[43msearch\u001b[49m\u001b[38;5;241;43m.\u001b[39;49m\u001b[43mfit\u001b[49m\u001b[43m(\u001b[49m\u001b[43mX_train_ext_t\u001b[49m\u001b[43m,\u001b[49m\u001b[43my_train_ext\u001b[49m\u001b[43m)\u001b[49m\n\u001b[0;32m     18\u001b[0m opt_params_ext_t \u001b[38;5;241m=\u001b[39m search\u001b[38;5;241m.\u001b[39mbest_params_\n\u001b[0;32m     19\u001b[0m opt_params_ext_t\n",
      "File \u001b[1;32m~\\anaconda3\\envs\\nlp\\lib\\site-packages\\sklearn\\base.py:1151\u001b[0m, in \u001b[0;36m_fit_context.<locals>.decorator.<locals>.wrapper\u001b[1;34m(estimator, *args, **kwargs)\u001b[0m\n\u001b[0;32m   1144\u001b[0m     estimator\u001b[38;5;241m.\u001b[39m_validate_params()\n\u001b[0;32m   1146\u001b[0m \u001b[38;5;28;01mwith\u001b[39;00m config_context(\n\u001b[0;32m   1147\u001b[0m     skip_parameter_validation\u001b[38;5;241m=\u001b[39m(\n\u001b[0;32m   1148\u001b[0m         prefer_skip_nested_validation \u001b[38;5;129;01mor\u001b[39;00m global_skip_validation\n\u001b[0;32m   1149\u001b[0m     )\n\u001b[0;32m   1150\u001b[0m ):\n\u001b[1;32m-> 1151\u001b[0m     \u001b[38;5;28;01mreturn\u001b[39;00m \u001b[43mfit_method\u001b[49m\u001b[43m(\u001b[49m\u001b[43mestimator\u001b[49m\u001b[43m,\u001b[49m\u001b[43m \u001b[49m\u001b[38;5;241;43m*\u001b[39;49m\u001b[43margs\u001b[49m\u001b[43m,\u001b[49m\u001b[43m \u001b[49m\u001b[38;5;241;43m*\u001b[39;49m\u001b[38;5;241;43m*\u001b[39;49m\u001b[43mkwargs\u001b[49m\u001b[43m)\u001b[49m\n",
      "File \u001b[1;32m~\\anaconda3\\envs\\nlp\\lib\\site-packages\\sklearn\\model_selection\\_search.py:898\u001b[0m, in \u001b[0;36mBaseSearchCV.fit\u001b[1;34m(self, X, y, groups, **fit_params)\u001b[0m\n\u001b[0;32m    892\u001b[0m     results \u001b[38;5;241m=\u001b[39m \u001b[38;5;28mself\u001b[39m\u001b[38;5;241m.\u001b[39m_format_results(\n\u001b[0;32m    893\u001b[0m         all_candidate_params, n_splits, all_out, all_more_results\n\u001b[0;32m    894\u001b[0m     )\n\u001b[0;32m    896\u001b[0m     \u001b[38;5;28;01mreturn\u001b[39;00m results\n\u001b[1;32m--> 898\u001b[0m \u001b[38;5;28;43mself\u001b[39;49m\u001b[38;5;241;43m.\u001b[39;49m\u001b[43m_run_search\u001b[49m\u001b[43m(\u001b[49m\u001b[43mevaluate_candidates\u001b[49m\u001b[43m)\u001b[49m\n\u001b[0;32m    900\u001b[0m \u001b[38;5;66;03m# multimetric is determined here because in the case of a callable\u001b[39;00m\n\u001b[0;32m    901\u001b[0m \u001b[38;5;66;03m# self.scoring the return type is only known after calling\u001b[39;00m\n\u001b[0;32m    902\u001b[0m first_test_score \u001b[38;5;241m=\u001b[39m all_out[\u001b[38;5;241m0\u001b[39m][\u001b[38;5;124m\"\u001b[39m\u001b[38;5;124mtest_scores\u001b[39m\u001b[38;5;124m\"\u001b[39m]\n",
      "File \u001b[1;32m~\\anaconda3\\envs\\nlp\\lib\\site-packages\\sklearn\\model_selection\\_search.py:1806\u001b[0m, in \u001b[0;36mRandomizedSearchCV._run_search\u001b[1;34m(self, evaluate_candidates)\u001b[0m\n\u001b[0;32m   1804\u001b[0m \u001b[38;5;28;01mdef\u001b[39;00m \u001b[38;5;21m_run_search\u001b[39m(\u001b[38;5;28mself\u001b[39m, evaluate_candidates):\n\u001b[0;32m   1805\u001b[0m \u001b[38;5;250m    \u001b[39m\u001b[38;5;124;03m\"\"\"Search n_iter candidates from param_distributions\"\"\"\u001b[39;00m\n\u001b[1;32m-> 1806\u001b[0m     \u001b[43mevaluate_candidates\u001b[49m\u001b[43m(\u001b[49m\n\u001b[0;32m   1807\u001b[0m \u001b[43m        \u001b[49m\u001b[43mParameterSampler\u001b[49m\u001b[43m(\u001b[49m\n\u001b[0;32m   1808\u001b[0m \u001b[43m            \u001b[49m\u001b[38;5;28;43mself\u001b[39;49m\u001b[38;5;241;43m.\u001b[39;49m\u001b[43mparam_distributions\u001b[49m\u001b[43m,\u001b[49m\u001b[43m \u001b[49m\u001b[38;5;28;43mself\u001b[39;49m\u001b[38;5;241;43m.\u001b[39;49m\u001b[43mn_iter\u001b[49m\u001b[43m,\u001b[49m\u001b[43m \u001b[49m\u001b[43mrandom_state\u001b[49m\u001b[38;5;241;43m=\u001b[39;49m\u001b[38;5;28;43mself\u001b[39;49m\u001b[38;5;241;43m.\u001b[39;49m\u001b[43mrandom_state\u001b[49m\n\u001b[0;32m   1809\u001b[0m \u001b[43m        \u001b[49m\u001b[43m)\u001b[49m\n\u001b[0;32m   1810\u001b[0m \u001b[43m    \u001b[49m\u001b[43m)\u001b[49m\n",
      "File \u001b[1;32m~\\anaconda3\\envs\\nlp\\lib\\site-packages\\sklearn\\model_selection\\_search.py:845\u001b[0m, in \u001b[0;36mBaseSearchCV.fit.<locals>.evaluate_candidates\u001b[1;34m(candidate_params, cv, more_results)\u001b[0m\n\u001b[0;32m    837\u001b[0m \u001b[38;5;28;01mif\u001b[39;00m \u001b[38;5;28mself\u001b[39m\u001b[38;5;241m.\u001b[39mverbose \u001b[38;5;241m>\u001b[39m \u001b[38;5;241m0\u001b[39m:\n\u001b[0;32m    838\u001b[0m     \u001b[38;5;28mprint\u001b[39m(\n\u001b[0;32m    839\u001b[0m         \u001b[38;5;124m\"\u001b[39m\u001b[38;5;124mFitting \u001b[39m\u001b[38;5;132;01m{0}\u001b[39;00m\u001b[38;5;124m folds for each of \u001b[39m\u001b[38;5;132;01m{1}\u001b[39;00m\u001b[38;5;124m candidates,\u001b[39m\u001b[38;5;124m\"\u001b[39m\n\u001b[0;32m    840\u001b[0m         \u001b[38;5;124m\"\u001b[39m\u001b[38;5;124m totalling \u001b[39m\u001b[38;5;132;01m{2}\u001b[39;00m\u001b[38;5;124m fits\u001b[39m\u001b[38;5;124m\"\u001b[39m\u001b[38;5;241m.\u001b[39mformat(\n\u001b[0;32m    841\u001b[0m             n_splits, n_candidates, n_candidates \u001b[38;5;241m*\u001b[39m n_splits\n\u001b[0;32m    842\u001b[0m         )\n\u001b[0;32m    843\u001b[0m     )\n\u001b[1;32m--> 845\u001b[0m out \u001b[38;5;241m=\u001b[39m \u001b[43mparallel\u001b[49m\u001b[43m(\u001b[49m\n\u001b[0;32m    846\u001b[0m \u001b[43m    \u001b[49m\u001b[43mdelayed\u001b[49m\u001b[43m(\u001b[49m\u001b[43m_fit_and_score\u001b[49m\u001b[43m)\u001b[49m\u001b[43m(\u001b[49m\n\u001b[0;32m    847\u001b[0m \u001b[43m        \u001b[49m\u001b[43mclone\u001b[49m\u001b[43m(\u001b[49m\u001b[43mbase_estimator\u001b[49m\u001b[43m)\u001b[49m\u001b[43m,\u001b[49m\n\u001b[0;32m    848\u001b[0m \u001b[43m        \u001b[49m\u001b[43mX\u001b[49m\u001b[43m,\u001b[49m\n\u001b[0;32m    849\u001b[0m \u001b[43m        \u001b[49m\u001b[43my\u001b[49m\u001b[43m,\u001b[49m\n\u001b[0;32m    850\u001b[0m \u001b[43m        \u001b[49m\u001b[43mtrain\u001b[49m\u001b[38;5;241;43m=\u001b[39;49m\u001b[43mtrain\u001b[49m\u001b[43m,\u001b[49m\n\u001b[0;32m    851\u001b[0m \u001b[43m        \u001b[49m\u001b[43mtest\u001b[49m\u001b[38;5;241;43m=\u001b[39;49m\u001b[43mtest\u001b[49m\u001b[43m,\u001b[49m\n\u001b[0;32m    852\u001b[0m \u001b[43m        \u001b[49m\u001b[43mparameters\u001b[49m\u001b[38;5;241;43m=\u001b[39;49m\u001b[43mparameters\u001b[49m\u001b[43m,\u001b[49m\n\u001b[0;32m    853\u001b[0m \u001b[43m        \u001b[49m\u001b[43msplit_progress\u001b[49m\u001b[38;5;241;43m=\u001b[39;49m\u001b[43m(\u001b[49m\u001b[43msplit_idx\u001b[49m\u001b[43m,\u001b[49m\u001b[43m \u001b[49m\u001b[43mn_splits\u001b[49m\u001b[43m)\u001b[49m\u001b[43m,\u001b[49m\n\u001b[0;32m    854\u001b[0m \u001b[43m        \u001b[49m\u001b[43mcandidate_progress\u001b[49m\u001b[38;5;241;43m=\u001b[39;49m\u001b[43m(\u001b[49m\u001b[43mcand_idx\u001b[49m\u001b[43m,\u001b[49m\u001b[43m \u001b[49m\u001b[43mn_candidates\u001b[49m\u001b[43m)\u001b[49m\u001b[43m,\u001b[49m\n\u001b[0;32m    855\u001b[0m \u001b[43m        \u001b[49m\u001b[38;5;241;43m*\u001b[39;49m\u001b[38;5;241;43m*\u001b[39;49m\u001b[43mfit_and_score_kwargs\u001b[49m\u001b[43m,\u001b[49m\n\u001b[0;32m    856\u001b[0m \u001b[43m    \u001b[49m\u001b[43m)\u001b[49m\n\u001b[0;32m    857\u001b[0m \u001b[43m    \u001b[49m\u001b[38;5;28;43;01mfor\u001b[39;49;00m\u001b[43m \u001b[49m\u001b[43m(\u001b[49m\u001b[43mcand_idx\u001b[49m\u001b[43m,\u001b[49m\u001b[43m \u001b[49m\u001b[43mparameters\u001b[49m\u001b[43m)\u001b[49m\u001b[43m,\u001b[49m\u001b[43m \u001b[49m\u001b[43m(\u001b[49m\u001b[43msplit_idx\u001b[49m\u001b[43m,\u001b[49m\u001b[43m \u001b[49m\u001b[43m(\u001b[49m\u001b[43mtrain\u001b[49m\u001b[43m,\u001b[49m\u001b[43m \u001b[49m\u001b[43mtest\u001b[49m\u001b[43m)\u001b[49m\u001b[43m)\u001b[49m\u001b[43m \u001b[49m\u001b[38;5;129;43;01min\u001b[39;49;00m\u001b[43m \u001b[49m\u001b[43mproduct\u001b[49m\u001b[43m(\u001b[49m\n\u001b[0;32m    858\u001b[0m \u001b[43m        \u001b[49m\u001b[38;5;28;43menumerate\u001b[39;49m\u001b[43m(\u001b[49m\u001b[43mcandidate_params\u001b[49m\u001b[43m)\u001b[49m\u001b[43m,\u001b[49m\u001b[43m \u001b[49m\u001b[38;5;28;43menumerate\u001b[39;49m\u001b[43m(\u001b[49m\u001b[43mcv\u001b[49m\u001b[38;5;241;43m.\u001b[39;49m\u001b[43msplit\u001b[49m\u001b[43m(\u001b[49m\u001b[43mX\u001b[49m\u001b[43m,\u001b[49m\u001b[43m \u001b[49m\u001b[43my\u001b[49m\u001b[43m,\u001b[49m\u001b[43m \u001b[49m\u001b[43mgroups\u001b[49m\u001b[43m)\u001b[49m\u001b[43m)\u001b[49m\n\u001b[0;32m    859\u001b[0m \u001b[43m    \u001b[49m\u001b[43m)\u001b[49m\n\u001b[0;32m    860\u001b[0m \u001b[43m\u001b[49m\u001b[43m)\u001b[49m\n\u001b[0;32m    862\u001b[0m \u001b[38;5;28;01mif\u001b[39;00m \u001b[38;5;28mlen\u001b[39m(out) \u001b[38;5;241m<\u001b[39m \u001b[38;5;241m1\u001b[39m:\n\u001b[0;32m    863\u001b[0m     \u001b[38;5;28;01mraise\u001b[39;00m \u001b[38;5;167;01mValueError\u001b[39;00m(\n\u001b[0;32m    864\u001b[0m         \u001b[38;5;124m\"\u001b[39m\u001b[38;5;124mNo fits were performed. \u001b[39m\u001b[38;5;124m\"\u001b[39m\n\u001b[0;32m    865\u001b[0m         \u001b[38;5;124m\"\u001b[39m\u001b[38;5;124mWas the CV iterator empty? \u001b[39m\u001b[38;5;124m\"\u001b[39m\n\u001b[0;32m    866\u001b[0m         \u001b[38;5;124m\"\u001b[39m\u001b[38;5;124mWere there no candidates?\u001b[39m\u001b[38;5;124m\"\u001b[39m\n\u001b[0;32m    867\u001b[0m     )\n",
      "File \u001b[1;32m~\\anaconda3\\envs\\nlp\\lib\\site-packages\\sklearn\\utils\\parallel.py:65\u001b[0m, in \u001b[0;36mParallel.__call__\u001b[1;34m(self, iterable)\u001b[0m\n\u001b[0;32m     60\u001b[0m config \u001b[38;5;241m=\u001b[39m get_config()\n\u001b[0;32m     61\u001b[0m iterable_with_config \u001b[38;5;241m=\u001b[39m (\n\u001b[0;32m     62\u001b[0m     (_with_config(delayed_func, config), args, kwargs)\n\u001b[0;32m     63\u001b[0m     \u001b[38;5;28;01mfor\u001b[39;00m delayed_func, args, kwargs \u001b[38;5;129;01min\u001b[39;00m iterable\n\u001b[0;32m     64\u001b[0m )\n\u001b[1;32m---> 65\u001b[0m \u001b[38;5;28;01mreturn\u001b[39;00m \u001b[38;5;28;43msuper\u001b[39;49m\u001b[43m(\u001b[49m\u001b[43m)\u001b[49m\u001b[38;5;241;43m.\u001b[39;49m\u001b[38;5;21;43m__call__\u001b[39;49m\u001b[43m(\u001b[49m\u001b[43miterable_with_config\u001b[49m\u001b[43m)\u001b[49m\n",
      "File \u001b[1;32m~\\AppData\\Roaming\\Python\\Python38\\site-packages\\joblib\\parallel.py:1863\u001b[0m, in \u001b[0;36mParallel.__call__\u001b[1;34m(self, iterable)\u001b[0m\n\u001b[0;32m   1861\u001b[0m     output \u001b[38;5;241m=\u001b[39m \u001b[38;5;28mself\u001b[39m\u001b[38;5;241m.\u001b[39m_get_sequential_output(iterable)\n\u001b[0;32m   1862\u001b[0m     \u001b[38;5;28mnext\u001b[39m(output)\n\u001b[1;32m-> 1863\u001b[0m     \u001b[38;5;28;01mreturn\u001b[39;00m output \u001b[38;5;28;01mif\u001b[39;00m \u001b[38;5;28mself\u001b[39m\u001b[38;5;241m.\u001b[39mreturn_generator \u001b[38;5;28;01melse\u001b[39;00m \u001b[38;5;28;43mlist\u001b[39;49m\u001b[43m(\u001b[49m\u001b[43moutput\u001b[49m\u001b[43m)\u001b[49m\n\u001b[0;32m   1865\u001b[0m \u001b[38;5;66;03m# Let's create an ID that uniquely identifies the current call. If the\u001b[39;00m\n\u001b[0;32m   1866\u001b[0m \u001b[38;5;66;03m# call is interrupted early and that the same instance is immediately\u001b[39;00m\n\u001b[0;32m   1867\u001b[0m \u001b[38;5;66;03m# re-used, this id will be used to prevent workers that were\u001b[39;00m\n\u001b[0;32m   1868\u001b[0m \u001b[38;5;66;03m# concurrently finalizing a task from the previous call to run the\u001b[39;00m\n\u001b[0;32m   1869\u001b[0m \u001b[38;5;66;03m# callback.\u001b[39;00m\n\u001b[0;32m   1870\u001b[0m \u001b[38;5;28;01mwith\u001b[39;00m \u001b[38;5;28mself\u001b[39m\u001b[38;5;241m.\u001b[39m_lock:\n",
      "File \u001b[1;32m~\\AppData\\Roaming\\Python\\Python38\\site-packages\\joblib\\parallel.py:1792\u001b[0m, in \u001b[0;36mParallel._get_sequential_output\u001b[1;34m(self, iterable)\u001b[0m\n\u001b[0;32m   1790\u001b[0m \u001b[38;5;28mself\u001b[39m\u001b[38;5;241m.\u001b[39mn_dispatched_batches \u001b[38;5;241m+\u001b[39m\u001b[38;5;241m=\u001b[39m \u001b[38;5;241m1\u001b[39m\n\u001b[0;32m   1791\u001b[0m \u001b[38;5;28mself\u001b[39m\u001b[38;5;241m.\u001b[39mn_dispatched_tasks \u001b[38;5;241m+\u001b[39m\u001b[38;5;241m=\u001b[39m \u001b[38;5;241m1\u001b[39m\n\u001b[1;32m-> 1792\u001b[0m res \u001b[38;5;241m=\u001b[39m \u001b[43mfunc\u001b[49m\u001b[43m(\u001b[49m\u001b[38;5;241;43m*\u001b[39;49m\u001b[43margs\u001b[49m\u001b[43m,\u001b[49m\u001b[43m \u001b[49m\u001b[38;5;241;43m*\u001b[39;49m\u001b[38;5;241;43m*\u001b[39;49m\u001b[43mkwargs\u001b[49m\u001b[43m)\u001b[49m\n\u001b[0;32m   1793\u001b[0m \u001b[38;5;28mself\u001b[39m\u001b[38;5;241m.\u001b[39mn_completed_tasks \u001b[38;5;241m+\u001b[39m\u001b[38;5;241m=\u001b[39m \u001b[38;5;241m1\u001b[39m\n\u001b[0;32m   1794\u001b[0m \u001b[38;5;28mself\u001b[39m\u001b[38;5;241m.\u001b[39mprint_progress()\n",
      "File \u001b[1;32m~\\anaconda3\\envs\\nlp\\lib\\site-packages\\sklearn\\utils\\parallel.py:127\u001b[0m, in \u001b[0;36m_FuncWrapper.__call__\u001b[1;34m(self, *args, **kwargs)\u001b[0m\n\u001b[0;32m    125\u001b[0m     config \u001b[38;5;241m=\u001b[39m {}\n\u001b[0;32m    126\u001b[0m \u001b[38;5;28;01mwith\u001b[39;00m config_context(\u001b[38;5;241m*\u001b[39m\u001b[38;5;241m*\u001b[39mconfig):\n\u001b[1;32m--> 127\u001b[0m     \u001b[38;5;28;01mreturn\u001b[39;00m \u001b[38;5;28;43mself\u001b[39;49m\u001b[38;5;241;43m.\u001b[39;49m\u001b[43mfunction\u001b[49m\u001b[43m(\u001b[49m\u001b[38;5;241;43m*\u001b[39;49m\u001b[43margs\u001b[49m\u001b[43m,\u001b[49m\u001b[43m \u001b[49m\u001b[38;5;241;43m*\u001b[39;49m\u001b[38;5;241;43m*\u001b[39;49m\u001b[43mkwargs\u001b[49m\u001b[43m)\u001b[49m\n",
      "File \u001b[1;32m~\\anaconda3\\envs\\nlp\\lib\\site-packages\\sklearn\\model_selection\\_validation.py:732\u001b[0m, in \u001b[0;36m_fit_and_score\u001b[1;34m(estimator, X, y, scorer, train, test, verbose, parameters, fit_params, return_train_score, return_parameters, return_n_test_samples, return_times, return_estimator, split_progress, candidate_progress, error_score)\u001b[0m\n\u001b[0;32m    730\u001b[0m         estimator\u001b[38;5;241m.\u001b[39mfit(X_train, \u001b[38;5;241m*\u001b[39m\u001b[38;5;241m*\u001b[39mfit_params)\n\u001b[0;32m    731\u001b[0m     \u001b[38;5;28;01melse\u001b[39;00m:\n\u001b[1;32m--> 732\u001b[0m         \u001b[43mestimator\u001b[49m\u001b[38;5;241;43m.\u001b[39;49m\u001b[43mfit\u001b[49m\u001b[43m(\u001b[49m\u001b[43mX_train\u001b[49m\u001b[43m,\u001b[49m\u001b[43m \u001b[49m\u001b[43my_train\u001b[49m\u001b[43m,\u001b[49m\u001b[43m \u001b[49m\u001b[38;5;241;43m*\u001b[39;49m\u001b[38;5;241;43m*\u001b[39;49m\u001b[43mfit_params\u001b[49m\u001b[43m)\u001b[49m\n\u001b[0;32m    734\u001b[0m \u001b[38;5;28;01mexcept\u001b[39;00m \u001b[38;5;167;01mException\u001b[39;00m:\n\u001b[0;32m    735\u001b[0m     \u001b[38;5;66;03m# Note fit time as time until error\u001b[39;00m\n\u001b[0;32m    736\u001b[0m     fit_time \u001b[38;5;241m=\u001b[39m time\u001b[38;5;241m.\u001b[39mtime() \u001b[38;5;241m-\u001b[39m start_time\n",
      "File \u001b[1;32m~\\anaconda3\\envs\\nlp\\lib\\site-packages\\xgboost\\core.py:729\u001b[0m, in \u001b[0;36mrequire_keyword_args.<locals>.throw_if.<locals>.inner_f\u001b[1;34m(*args, **kwargs)\u001b[0m\n\u001b[0;32m    727\u001b[0m \u001b[38;5;28;01mfor\u001b[39;00m k, arg \u001b[38;5;129;01min\u001b[39;00m \u001b[38;5;28mzip\u001b[39m(sig\u001b[38;5;241m.\u001b[39mparameters, args):\n\u001b[0;32m    728\u001b[0m     kwargs[k] \u001b[38;5;241m=\u001b[39m arg\n\u001b[1;32m--> 729\u001b[0m \u001b[38;5;28;01mreturn\u001b[39;00m \u001b[43mfunc\u001b[49m\u001b[43m(\u001b[49m\u001b[38;5;241;43m*\u001b[39;49m\u001b[38;5;241;43m*\u001b[39;49m\u001b[43mkwargs\u001b[49m\u001b[43m)\u001b[49m\n",
      "File \u001b[1;32m~\\anaconda3\\envs\\nlp\\lib\\site-packages\\xgboost\\sklearn.py:1515\u001b[0m, in \u001b[0;36mXGBClassifier.fit\u001b[1;34m(self, X, y, sample_weight, base_margin, eval_set, eval_metric, early_stopping_rounds, verbose, xgb_model, sample_weight_eval_set, base_margin_eval_set, feature_weights, callbacks)\u001b[0m\n\u001b[0;32m   1487\u001b[0m (\n\u001b[0;32m   1488\u001b[0m     model,\n\u001b[0;32m   1489\u001b[0m     metric,\n\u001b[1;32m   (...)\u001b[0m\n\u001b[0;32m   1494\u001b[0m     xgb_model, eval_metric, params, early_stopping_rounds, callbacks\n\u001b[0;32m   1495\u001b[0m )\n\u001b[0;32m   1496\u001b[0m train_dmatrix, evals \u001b[38;5;241m=\u001b[39m _wrap_evaluation_matrices(\n\u001b[0;32m   1497\u001b[0m     missing\u001b[38;5;241m=\u001b[39m\u001b[38;5;28mself\u001b[39m\u001b[38;5;241m.\u001b[39mmissing,\n\u001b[0;32m   1498\u001b[0m     X\u001b[38;5;241m=\u001b[39mX,\n\u001b[1;32m   (...)\u001b[0m\n\u001b[0;32m   1512\u001b[0m     feature_types\u001b[38;5;241m=\u001b[39m\u001b[38;5;28mself\u001b[39m\u001b[38;5;241m.\u001b[39mfeature_types,\n\u001b[0;32m   1513\u001b[0m )\n\u001b[1;32m-> 1515\u001b[0m \u001b[38;5;28mself\u001b[39m\u001b[38;5;241m.\u001b[39m_Booster \u001b[38;5;241m=\u001b[39m \u001b[43mtrain\u001b[49m\u001b[43m(\u001b[49m\n\u001b[0;32m   1516\u001b[0m \u001b[43m    \u001b[49m\u001b[43mparams\u001b[49m\u001b[43m,\u001b[49m\n\u001b[0;32m   1517\u001b[0m \u001b[43m    \u001b[49m\u001b[43mtrain_dmatrix\u001b[49m\u001b[43m,\u001b[49m\n\u001b[0;32m   1518\u001b[0m \u001b[43m    \u001b[49m\u001b[38;5;28;43mself\u001b[39;49m\u001b[38;5;241;43m.\u001b[39;49m\u001b[43mget_num_boosting_rounds\u001b[49m\u001b[43m(\u001b[49m\u001b[43m)\u001b[49m\u001b[43m,\u001b[49m\n\u001b[0;32m   1519\u001b[0m \u001b[43m    \u001b[49m\u001b[43mevals\u001b[49m\u001b[38;5;241;43m=\u001b[39;49m\u001b[43mevals\u001b[49m\u001b[43m,\u001b[49m\n\u001b[0;32m   1520\u001b[0m \u001b[43m    \u001b[49m\u001b[43mearly_stopping_rounds\u001b[49m\u001b[38;5;241;43m=\u001b[39;49m\u001b[43mearly_stopping_rounds\u001b[49m\u001b[43m,\u001b[49m\n\u001b[0;32m   1521\u001b[0m \u001b[43m    \u001b[49m\u001b[43mevals_result\u001b[49m\u001b[38;5;241;43m=\u001b[39;49m\u001b[43mevals_result\u001b[49m\u001b[43m,\u001b[49m\n\u001b[0;32m   1522\u001b[0m \u001b[43m    \u001b[49m\u001b[43mobj\u001b[49m\u001b[38;5;241;43m=\u001b[39;49m\u001b[43mobj\u001b[49m\u001b[43m,\u001b[49m\n\u001b[0;32m   1523\u001b[0m \u001b[43m    \u001b[49m\u001b[43mcustom_metric\u001b[49m\u001b[38;5;241;43m=\u001b[39;49m\u001b[43mmetric\u001b[49m\u001b[43m,\u001b[49m\n\u001b[0;32m   1524\u001b[0m \u001b[43m    \u001b[49m\u001b[43mverbose_eval\u001b[49m\u001b[38;5;241;43m=\u001b[39;49m\u001b[43mverbose\u001b[49m\u001b[43m,\u001b[49m\n\u001b[0;32m   1525\u001b[0m \u001b[43m    \u001b[49m\u001b[43mxgb_model\u001b[49m\u001b[38;5;241;43m=\u001b[39;49m\u001b[43mmodel\u001b[49m\u001b[43m,\u001b[49m\n\u001b[0;32m   1526\u001b[0m \u001b[43m    \u001b[49m\u001b[43mcallbacks\u001b[49m\u001b[38;5;241;43m=\u001b[39;49m\u001b[43mcallbacks\u001b[49m\u001b[43m,\u001b[49m\n\u001b[0;32m   1527\u001b[0m \u001b[43m\u001b[49m\u001b[43m)\u001b[49m\n\u001b[0;32m   1529\u001b[0m \u001b[38;5;28;01mif\u001b[39;00m \u001b[38;5;129;01mnot\u001b[39;00m \u001b[38;5;28mcallable\u001b[39m(\u001b[38;5;28mself\u001b[39m\u001b[38;5;241m.\u001b[39mobjective):\n\u001b[0;32m   1530\u001b[0m     \u001b[38;5;28mself\u001b[39m\u001b[38;5;241m.\u001b[39mobjective \u001b[38;5;241m=\u001b[39m params[\u001b[38;5;124m\"\u001b[39m\u001b[38;5;124mobjective\u001b[39m\u001b[38;5;124m\"\u001b[39m]\n",
      "File \u001b[1;32m~\\anaconda3\\envs\\nlp\\lib\\site-packages\\xgboost\\core.py:729\u001b[0m, in \u001b[0;36mrequire_keyword_args.<locals>.throw_if.<locals>.inner_f\u001b[1;34m(*args, **kwargs)\u001b[0m\n\u001b[0;32m    727\u001b[0m \u001b[38;5;28;01mfor\u001b[39;00m k, arg \u001b[38;5;129;01min\u001b[39;00m \u001b[38;5;28mzip\u001b[39m(sig\u001b[38;5;241m.\u001b[39mparameters, args):\n\u001b[0;32m    728\u001b[0m     kwargs[k] \u001b[38;5;241m=\u001b[39m arg\n\u001b[1;32m--> 729\u001b[0m \u001b[38;5;28;01mreturn\u001b[39;00m \u001b[43mfunc\u001b[49m\u001b[43m(\u001b[49m\u001b[38;5;241;43m*\u001b[39;49m\u001b[38;5;241;43m*\u001b[39;49m\u001b[43mkwargs\u001b[49m\u001b[43m)\u001b[49m\n",
      "File \u001b[1;32m~\\anaconda3\\envs\\nlp\\lib\\site-packages\\xgboost\\training.py:181\u001b[0m, in \u001b[0;36mtrain\u001b[1;34m(params, dtrain, num_boost_round, evals, obj, feval, maximize, early_stopping_rounds, evals_result, verbose_eval, xgb_model, callbacks, custom_metric)\u001b[0m\n\u001b[0;32m    179\u001b[0m \u001b[38;5;28;01mif\u001b[39;00m cb_container\u001b[38;5;241m.\u001b[39mbefore_iteration(bst, i, dtrain, evals):\n\u001b[0;32m    180\u001b[0m     \u001b[38;5;28;01mbreak\u001b[39;00m\n\u001b[1;32m--> 181\u001b[0m \u001b[43mbst\u001b[49m\u001b[38;5;241;43m.\u001b[39;49m\u001b[43mupdate\u001b[49m\u001b[43m(\u001b[49m\u001b[43mdtrain\u001b[49m\u001b[43m,\u001b[49m\u001b[43m \u001b[49m\u001b[43mi\u001b[49m\u001b[43m,\u001b[49m\u001b[43m \u001b[49m\u001b[43mobj\u001b[49m\u001b[43m)\u001b[49m\n\u001b[0;32m    182\u001b[0m \u001b[38;5;28;01mif\u001b[39;00m cb_container\u001b[38;5;241m.\u001b[39mafter_iteration(bst, i, dtrain, evals):\n\u001b[0;32m    183\u001b[0m     \u001b[38;5;28;01mbreak\u001b[39;00m\n",
      "File \u001b[1;32m~\\anaconda3\\envs\\nlp\\lib\\site-packages\\xgboost\\core.py:2050\u001b[0m, in \u001b[0;36mBooster.update\u001b[1;34m(self, dtrain, iteration, fobj)\u001b[0m\n\u001b[0;32m   2046\u001b[0m \u001b[38;5;28mself\u001b[39m\u001b[38;5;241m.\u001b[39m_assign_dmatrix_features(dtrain)\n\u001b[0;32m   2048\u001b[0m \u001b[38;5;28;01mif\u001b[39;00m fobj \u001b[38;5;129;01mis\u001b[39;00m \u001b[38;5;28;01mNone\u001b[39;00m:\n\u001b[0;32m   2049\u001b[0m     _check_call(\n\u001b[1;32m-> 2050\u001b[0m         \u001b[43m_LIB\u001b[49m\u001b[38;5;241;43m.\u001b[39;49m\u001b[43mXGBoosterUpdateOneIter\u001b[49m\u001b[43m(\u001b[49m\n\u001b[0;32m   2051\u001b[0m \u001b[43m            \u001b[49m\u001b[38;5;28;43mself\u001b[39;49m\u001b[38;5;241;43m.\u001b[39;49m\u001b[43mhandle\u001b[49m\u001b[43m,\u001b[49m\u001b[43m \u001b[49m\u001b[43mctypes\u001b[49m\u001b[38;5;241;43m.\u001b[39;49m\u001b[43mc_int\u001b[49m\u001b[43m(\u001b[49m\u001b[43miteration\u001b[49m\u001b[43m)\u001b[49m\u001b[43m,\u001b[49m\u001b[43m \u001b[49m\u001b[43mdtrain\u001b[49m\u001b[38;5;241;43m.\u001b[39;49m\u001b[43mhandle\u001b[49m\n\u001b[0;32m   2052\u001b[0m \u001b[43m        \u001b[49m\u001b[43m)\u001b[49m\n\u001b[0;32m   2053\u001b[0m     )\n\u001b[0;32m   2054\u001b[0m \u001b[38;5;28;01melse\u001b[39;00m:\n\u001b[0;32m   2055\u001b[0m     pred \u001b[38;5;241m=\u001b[39m \u001b[38;5;28mself\u001b[39m\u001b[38;5;241m.\u001b[39mpredict(dtrain, output_margin\u001b[38;5;241m=\u001b[39m\u001b[38;5;28;01mTrue\u001b[39;00m, training\u001b[38;5;241m=\u001b[39m\u001b[38;5;28;01mTrue\u001b[39;00m)\n",
      "\u001b[1;31mKeyboardInterrupt\u001b[0m: "
     ]
    }
   ],
   "source": [
    "# Ext\n",
    "xgb_model = xgb.XGBClassifier(objective='binary:hinge')\n",
    "\n",
    "params_dict = {'learning_rate': [0.01, 0.1, 0.2],\n",
    "               'gamma': [0.5, 1, 2.0],\n",
    "               'max_depth': [3, 6, 9],\n",
    "               'min_child_weight': [1, 5, 10],\n",
    "              }\n",
    "\n",
    "search = RandomizedSearchCV(xgb_model,\n",
    "         param_distributions=params_dict,\n",
    "         scoring = ['recall', 'precision', 'accuracy', 'f1'],\n",
    "         refit = 'f1', \n",
    "         cv= 5,\n",
    "         verbose=3)\n",
    "\n",
    "search.fit(X_train_ext_t,y_train_ext)\n",
    "opt_params_ext_t = search.best_params_\n",
    "opt_params_ext_t"
   ]
  },
  {
   "cell_type": "code",
   "execution_count": 7,
   "id": "41264247",
   "metadata": {},
   "outputs": [],
   "source": [
    "opt_params_ext_t = {'min_child_weight': 1, 'max_depth': 9, 'learning_rate': 0.01, 'gamma': 1}"
   ]
  },
  {
   "cell_type": "code",
   "execution_count": 22,
   "id": "19b15068",
   "metadata": {
    "scrolled": true
   },
   "outputs": [
    {
     "name": "stdout",
     "output_type": "stream",
     "text": [
      "Fitting 5 folds for each of 10 candidates, totalling 50 fits\n",
      "[CV 1/5] END gamma=0.5, learning_rate=0.01, max_depth=6, min_child_weight=10; accuracy: (test=0.483) f1: (test=0.630) precision: (test=0.485) recall: (test=0.901) total time=  12.8s\n",
      "[CV 2/5] END gamma=0.5, learning_rate=0.01, max_depth=6, min_child_weight=10; accuracy: (test=0.500) f1: (test=0.650) precision: (test=0.494) recall: (test=0.948) total time=  14.3s\n",
      "[CV 3/5] END gamma=0.5, learning_rate=0.01, max_depth=6, min_child_weight=10; accuracy: (test=0.494) f1: (test=0.656) precision: (test=0.491) recall: (test=0.987) total time=  14.9s\n",
      "[CV 4/5] END gamma=0.5, learning_rate=0.01, max_depth=6, min_child_weight=10; accuracy: (test=0.494) f1: (test=0.654) precision: (test=0.492) recall: (test=0.974) total time=  15.2s\n",
      "[CV 5/5] END gamma=0.5, learning_rate=0.01, max_depth=6, min_child_weight=10; accuracy: (test=0.489) f1: (test=0.654) precision: (test=0.490) recall: (test=0.983) total time=  19.2s\n",
      "[CV 1/5] END gamma=0.5, learning_rate=0.01, max_depth=6, min_child_weight=5; accuracy: (test=0.483) f1: (test=0.635) precision: (test=0.485) recall: (test=0.918) total time=  20.3s\n",
      "[CV 2/5] END gamma=0.5, learning_rate=0.01, max_depth=6, min_child_weight=5; accuracy: (test=0.483) f1: (test=0.637) precision: (test=0.485) recall: (test=0.927) total time=  16.8s\n",
      "[CV 3/5] END gamma=0.5, learning_rate=0.01, max_depth=6, min_child_weight=5; accuracy: (test=0.492) f1: (test=0.654) precision: (test=0.490) recall: (test=0.983) total time=  17.9s\n",
      "[CV 4/5] END gamma=0.5, learning_rate=0.01, max_depth=6, min_child_weight=5; accuracy: (test=0.502) f1: (test=0.653) precision: (test=0.497) recall: (test=0.953) total time=  17.7s\n",
      "[CV 5/5] END gamma=0.5, learning_rate=0.01, max_depth=6, min_child_weight=5; accuracy: (test=0.502) f1: (test=0.661) precision: (test=0.497) recall: (test=0.987) total time=  17.3s\n",
      "[CV 1/5] END gamma=0.5, learning_rate=0.2, max_depth=3, min_child_weight=5; accuracy: (test=0.574) f1: (test=0.563) precision: (test=0.565) recall: (test=0.560) total time=   4.7s\n",
      "[CV 2/5] END gamma=0.5, learning_rate=0.2, max_depth=3, min_child_weight=5; accuracy: (test=0.546) f1: (test=0.559) precision: (test=0.533) recall: (test=0.586) total time=   4.7s\n",
      "[CV 3/5] END gamma=0.5, learning_rate=0.2, max_depth=3, min_child_weight=5; accuracy: (test=0.557) f1: (test=0.533) precision: (test=0.550) recall: (test=0.517) total time=   6.2s\n",
      "[CV 4/5] END gamma=0.5, learning_rate=0.2, max_depth=3, min_child_weight=5; accuracy: (test=0.540) f1: (test=0.526) precision: (test=0.533) recall: (test=0.519) total time=   5.7s\n",
      "[CV 5/5] END gamma=0.5, learning_rate=0.2, max_depth=3, min_child_weight=5; accuracy: (test=0.536) f1: (test=0.505) precision: (test=0.531) recall: (test=0.481) total time=   5.8s\n",
      "[CV 1/5] END gamma=1, learning_rate=0.1, max_depth=3, min_child_weight=1; accuracy: (test=0.553) f1: (test=0.553) precision: (test=0.541) recall: (test=0.565) total time=   7.0s\n",
      "[CV 2/5] END gamma=1, learning_rate=0.1, max_depth=3, min_child_weight=1; accuracy: (test=0.519) f1: (test=0.617) precision: (test=0.505) recall: (test=0.793) total time=   7.6s\n",
      "[CV 3/5] END gamma=1, learning_rate=0.1, max_depth=3, min_child_weight=1; accuracy: (test=0.551) f1: (test=0.575) precision: (test=0.535) recall: (test=0.621) total time=   9.3s\n",
      "[CV 4/5] END gamma=1, learning_rate=0.1, max_depth=3, min_child_weight=1; accuracy: (test=0.551) f1: (test=0.530) precision: (test=0.545) recall: (test=0.515) total time=   8.7s\n",
      "[CV 5/5] END gamma=1, learning_rate=0.1, max_depth=3, min_child_weight=1; accuracy: (test=0.553) f1: (test=0.602) precision: (test=0.535) recall: (test=0.687) total time=   6.0s\n",
      "[CV 1/5] END gamma=1, learning_rate=0.01, max_depth=6, min_child_weight=10; accuracy: (test=0.483) f1: (test=0.630) precision: (test=0.485) recall: (test=0.901) total time=  21.8s\n",
      "[CV 2/5] END gamma=1, learning_rate=0.01, max_depth=6, min_child_weight=10; accuracy: (test=0.500) f1: (test=0.651) precision: (test=0.494) recall: (test=0.953) total time=  15.8s\n",
      "[CV 3/5] END gamma=1, learning_rate=0.01, max_depth=6, min_child_weight=10; accuracy: (test=0.492) f1: (test=0.655) precision: (test=0.490) recall: (test=0.987) total time=  15.8s\n",
      "[CV 4/5] END gamma=1, learning_rate=0.01, max_depth=6, min_child_weight=10; accuracy: (test=0.494) f1: (test=0.655) precision: (test=0.492) recall: (test=0.979) total time=  15.4s\n",
      "[CV 5/5] END gamma=1, learning_rate=0.01, max_depth=6, min_child_weight=10; accuracy: (test=0.487) f1: (test=0.651) precision: (test=0.489) recall: (test=0.974) total time=  15.8s\n",
      "[CV 1/5] END gamma=1, learning_rate=0.2, max_depth=3, min_child_weight=5; accuracy: (test=0.574) f1: (test=0.563) precision: (test=0.565) recall: (test=0.560) total time=   5.9s\n",
      "[CV 2/5] END gamma=1, learning_rate=0.2, max_depth=3, min_child_weight=5; accuracy: (test=0.546) f1: (test=0.559) precision: (test=0.533) recall: (test=0.586) total time=   5.7s\n",
      "[CV 3/5] END gamma=1, learning_rate=0.2, max_depth=3, min_child_weight=5; accuracy: (test=0.557) f1: (test=0.533) precision: (test=0.550) recall: (test=0.517) total time=   7.3s\n",
      "[CV 4/5] END gamma=1, learning_rate=0.2, max_depth=3, min_child_weight=5; accuracy: (test=0.540) f1: (test=0.526) precision: (test=0.533) recall: (test=0.519) total time=   6.6s\n",
      "[CV 5/5] END gamma=1, learning_rate=0.2, max_depth=3, min_child_weight=5; accuracy: (test=0.536) f1: (test=0.505) precision: (test=0.531) recall: (test=0.481) total time=   6.6s\n",
      "[CV 1/5] END gamma=1, learning_rate=0.01, max_depth=6, min_child_weight=1; accuracy: (test=0.481) f1: (test=0.634) precision: (test=0.484) recall: (test=0.918) total time=  26.5s\n",
      "[CV 2/5] END gamma=1, learning_rate=0.01, max_depth=6, min_child_weight=1; accuracy: (test=0.496) f1: (test=0.643) precision: (test=0.492) recall: (test=0.927) total time=  20.2s\n",
      "[CV 3/5] END gamma=1, learning_rate=0.01, max_depth=6, min_child_weight=1; accuracy: (test=0.498) f1: (test=0.653) precision: (test=0.493) recall: (test=0.966) total time=  24.6s\n",
      "[CV 4/5] END gamma=1, learning_rate=0.01, max_depth=6, min_child_weight=1; accuracy: (test=0.498) f1: (test=0.647) precision: (test=0.494) recall: (test=0.936) total time=  27.5s\n",
      "[CV 5/5] END gamma=1, learning_rate=0.01, max_depth=6, min_child_weight=1; accuracy: (test=0.487) f1: (test=0.649) precision: (test=0.489) recall: (test=0.966) total time=  35.2s\n",
      "[CV 1/5] END gamma=2.0, learning_rate=0.2, max_depth=9, min_child_weight=5; accuracy: (test=0.534) f1: (test=0.531) precision: (test=0.523) recall: (test=0.539) total time=  17.4s\n",
      "[CV 2/5] END gamma=2.0, learning_rate=0.2, max_depth=9, min_child_weight=5; accuracy: (test=0.523) f1: (test=0.489) precision: (test=0.514) recall: (test=0.466) total time=  23.7s\n",
      "[CV 3/5] END gamma=2.0, learning_rate=0.2, max_depth=9, min_child_weight=5; accuracy: (test=0.530) f1: (test=0.512) precision: (test=0.520) recall: (test=0.504) total time=  21.6s\n",
      "[CV 4/5] END gamma=2.0, learning_rate=0.2, max_depth=9, min_child_weight=5; accuracy: (test=0.527) f1: (test=0.517) precision: (test=0.519) recall: (test=0.515) total time=  16.0s\n",
      "[CV 5/5] END gamma=2.0, learning_rate=0.2, max_depth=9, min_child_weight=5; accuracy: (test=0.542) f1: (test=0.512) precision: (test=0.538) recall: (test=0.489) total time=  15.1s\n",
      "[CV 1/5] END gamma=0.5, learning_rate=0.2, max_depth=9, min_child_weight=10; accuracy: (test=0.538) f1: (test=0.519) precision: (test=0.529) recall: (test=0.509) total time=  23.9s\n",
      "[CV 2/5] END gamma=0.5, learning_rate=0.2, max_depth=9, min_child_weight=10; accuracy: (test=0.527) f1: (test=0.517) precision: (test=0.517) recall: (test=0.517) total time=  21.6s\n",
      "[CV 3/5] END gamma=0.5, learning_rate=0.2, max_depth=9, min_child_weight=10; accuracy: (test=0.544) f1: (test=0.530) precision: (test=0.535) recall: (test=0.526) total time=  13.8s\n",
      "[CV 4/5] END gamma=0.5, learning_rate=0.2, max_depth=9, min_child_weight=10; accuracy: (test=0.530) f1: (test=0.542) precision: (test=0.520) recall: (test=0.567) total time=  13.8s\n",
      "[CV 5/5] END gamma=0.5, learning_rate=0.2, max_depth=9, min_child_weight=10; accuracy: (test=0.515) f1: (test=0.504) precision: (test=0.506) recall: (test=0.502) total time=  15.6s\n",
      "[CV 1/5] END gamma=0.5, learning_rate=0.1, max_depth=3, min_child_weight=5; accuracy: (test=0.546) f1: (test=0.545) precision: (test=0.535) recall: (test=0.556) total time=   5.7s\n"
     ]
    },
    {
     "name": "stdout",
     "output_type": "stream",
     "text": [
      "[CV 2/5] END gamma=0.5, learning_rate=0.1, max_depth=3, min_child_weight=5; accuracy: (test=0.513) f1: (test=0.616) precision: (test=0.501) recall: (test=0.797) total time=   5.4s\n",
      "[CV 3/5] END gamma=0.5, learning_rate=0.1, max_depth=3, min_child_weight=5; accuracy: (test=0.563) f1: (test=0.593) precision: (test=0.545) recall: (test=0.651) total time=   5.6s\n",
      "[CV 4/5] END gamma=0.5, learning_rate=0.1, max_depth=3, min_child_weight=5; accuracy: (test=0.542) f1: (test=0.508) precision: (test=0.538) recall: (test=0.481) total time=   5.3s\n",
      "[CV 5/5] END gamma=0.5, learning_rate=0.1, max_depth=3, min_child_weight=5; accuracy: (test=0.498) f1: (test=0.556) precision: (test=0.492) recall: (test=0.639) total time=   4.8s\n"
     ]
    },
    {
     "data": {
      "text/plain": [
       "{'min_child_weight': 10, 'max_depth': 6, 'learning_rate': 0.01, 'gamma': 0.5}"
      ]
     },
     "execution_count": 22,
     "metadata": {},
     "output_type": "execute_result"
    }
   ],
   "source": [
    "# Neu\n",
    "xgb_model = xgb.XGBClassifier(objective='binary:hinge')\n",
    "\n",
    "params_dict = {'learning_rate': [0.01, 0.1, 0.2],\n",
    "               'gamma': [0.5, 1, 2.0],\n",
    "               'max_depth': [3, 6, 9],\n",
    "               'min_child_weight': [1, 5, 10],\n",
    "              }\n",
    "\n",
    "search = RandomizedSearchCV(xgb_model,\n",
    "         param_distributions=params_dict,\n",
    "         scoring = ['recall', 'precision', 'accuracy', 'f1'],\n",
    "         refit = 'f1', \n",
    "         cv= 5,\n",
    "         verbose=3)\n",
    "\n",
    "search.fit(X_train_neu_t,y_train_neu)\n",
    "search.best_params_"
   ]
  },
  {
   "cell_type": "code",
   "execution_count": 8,
   "id": "9fb836cd",
   "metadata": {},
   "outputs": [],
   "source": [
    "opt_params_neu_t = {'min_child_weight': 10, 'max_depth': 6, 'learning_rate': 0.01, 'gamma': 0.5}"
   ]
  },
  {
   "cell_type": "code",
   "execution_count": 23,
   "id": "914c3d14",
   "metadata": {
    "scrolled": true
   },
   "outputs": [
    {
     "name": "stdout",
     "output_type": "stream",
     "text": [
      "Fitting 5 folds for each of 10 candidates, totalling 50 fits\n",
      "[CV 1/5] END gamma=2.0, learning_rate=0.2, max_depth=3, min_child_weight=1; accuracy: (test=0.555) f1: (test=0.600) precision: (test=0.570) recall: (test=0.632) total time=   3.7s\n",
      "[CV 2/5] END gamma=2.0, learning_rate=0.2, max_depth=3, min_child_weight=1; accuracy: (test=0.540) f1: (test=0.627) precision: (test=0.546) recall: (test=0.735) total time=   3.8s\n",
      "[CV 3/5] END gamma=2.0, learning_rate=0.2, max_depth=3, min_child_weight=1; accuracy: (test=0.519) f1: (test=0.593) precision: (test=0.534) recall: (test=0.667) total time=   3.6s\n",
      "[CV 4/5] END gamma=2.0, learning_rate=0.2, max_depth=3, min_child_weight=1; accuracy: (test=0.527) f1: (test=0.571) precision: (test=0.546) recall: (test=0.598) total time=   5.2s\n",
      "[CV 5/5] END gamma=2.0, learning_rate=0.2, max_depth=3, min_child_weight=1; accuracy: (test=0.536) f1: (test=0.609) precision: (test=0.546) recall: (test=0.687) total time=   5.2s\n",
      "[CV 1/5] END gamma=0.5, learning_rate=0.2, max_depth=3, min_child_weight=1; accuracy: (test=0.532) f1: (test=0.589) precision: (test=0.548) recall: (test=0.636) total time=   5.2s\n",
      "[CV 2/5] END gamma=0.5, learning_rate=0.2, max_depth=3, min_child_weight=1; accuracy: (test=0.521) f1: (test=0.618) precision: (test=0.532) recall: (test=0.739) total time=   5.0s\n",
      "[CV 3/5] END gamma=0.5, learning_rate=0.2, max_depth=3, min_child_weight=1; accuracy: (test=0.508) f1: (test=0.593) precision: (test=0.525) recall: (test=0.683) total time=   5.0s\n",
      "[CV 4/5] END gamma=0.5, learning_rate=0.2, max_depth=3, min_child_weight=1; accuracy: (test=0.527) f1: (test=0.579) precision: (test=0.544) recall: (test=0.618) total time=   5.3s\n",
      "[CV 5/5] END gamma=0.5, learning_rate=0.2, max_depth=3, min_child_weight=1; accuracy: (test=0.538) f1: (test=0.608) precision: (test=0.548) recall: (test=0.683) total time=   4.9s\n",
      "[CV 1/5] END gamma=1, learning_rate=0.2, max_depth=3, min_child_weight=5; accuracy: (test=0.536) f1: (test=0.597) precision: (test=0.551) recall: (test=0.652) total time=   4.2s\n",
      "[CV 2/5] END gamma=1, learning_rate=0.2, max_depth=3, min_child_weight=5; accuracy: (test=0.551) f1: (test=0.632) precision: (test=0.555) recall: (test=0.735) total time=   4.5s\n",
      "[CV 3/5] END gamma=1, learning_rate=0.2, max_depth=3, min_child_weight=5; accuracy: (test=0.530) f1: (test=0.612) precision: (test=0.540) recall: (test=0.707) total time=   4.1s\n",
      "[CV 4/5] END gamma=1, learning_rate=0.2, max_depth=3, min_child_weight=5; accuracy: (test=0.538) f1: (test=0.592) precision: (test=0.552) recall: (test=0.639) total time=   4.3s\n",
      "[CV 5/5] END gamma=1, learning_rate=0.2, max_depth=3, min_child_weight=5; accuracy: (test=0.542) f1: (test=0.623) precision: (test=0.549) recall: (test=0.719) total time=   4.0s\n",
      "[CV 1/5] END gamma=2.0, learning_rate=0.01, max_depth=6, min_child_weight=10; accuracy: (test=0.540) f1: (test=0.686) precision: (test=0.536) recall: (test=0.952) total time=  14.0s\n",
      "[CV 2/5] END gamma=2.0, learning_rate=0.01, max_depth=6, min_child_weight=10; accuracy: (test=0.525) f1: (test=0.685) precision: (test=0.526) recall: (test=0.984) total time=  13.2s\n",
      "[CV 3/5] END gamma=2.0, learning_rate=0.01, max_depth=6, min_child_weight=10; accuracy: (test=0.521) f1: (test=0.677) precision: (test=0.524) recall: (test=0.956) total time=  17.4s\n",
      "[CV 4/5] END gamma=2.0, learning_rate=0.01, max_depth=6, min_child_weight=10; accuracy: (test=0.532) f1: (test=0.692) precision: (test=0.529) recall: (test=1.000) total time=  17.2s\n",
      "[CV 5/5] END gamma=2.0, learning_rate=0.01, max_depth=6, min_child_weight=10; accuracy: (test=0.542) f1: (test=0.688) precision: (test=0.536) recall: (test=0.960) total time=  19.4s\n",
      "[CV 1/5] END gamma=0.5, learning_rate=0.01, max_depth=6, min_child_weight=5; accuracy: (test=0.540) f1: (test=0.684) precision: (test=0.536) recall: (test=0.944) total time=  20.5s\n",
      "[CV 2/5] END gamma=0.5, learning_rate=0.01, max_depth=6, min_child_weight=5; accuracy: (test=0.532) f1: (test=0.682) precision: (test=0.530) recall: (test=0.956) total time=  18.0s\n",
      "[CV 3/5] END gamma=0.5, learning_rate=0.01, max_depth=6, min_child_weight=5; accuracy: (test=0.525) f1: (test=0.678) precision: (test=0.527) recall: (test=0.952) total time=  22.4s\n",
      "[CV 4/5] END gamma=0.5, learning_rate=0.01, max_depth=6, min_child_weight=5; accuracy: (test=0.530) f1: (test=0.691) precision: (test=0.528) recall: (test=1.000) total time=  23.1s\n",
      "[CV 5/5] END gamma=0.5, learning_rate=0.01, max_depth=6, min_child_weight=5; accuracy: (test=0.553) f1: (test=0.693) precision: (test=0.542) recall: (test=0.960) total time=  21.4s\n",
      "[CV 1/5] END gamma=0.5, learning_rate=0.2, max_depth=9, min_child_weight=1; accuracy: (test=0.494) f1: (test=0.514) precision: (test=0.520) recall: (test=0.508) total time=  18.2s\n",
      "[CV 2/5] END gamma=0.5, learning_rate=0.2, max_depth=9, min_child_weight=1; accuracy: (test=0.565) f1: (test=0.604) precision: (test=0.579) recall: (test=0.631) total time=  17.3s\n",
      "[CV 3/5] END gamma=0.5, learning_rate=0.2, max_depth=9, min_child_weight=1; accuracy: (test=0.536) f1: (test=0.588) precision: (test=0.551) recall: (test=0.631) total time=  17.3s\n",
      "[CV 4/5] END gamma=0.5, learning_rate=0.2, max_depth=9, min_child_weight=1; accuracy: (test=0.536) f1: (test=0.580) precision: (test=0.553) recall: (test=0.610) total time=  16.5s\n",
      "[CV 5/5] END gamma=0.5, learning_rate=0.2, max_depth=9, min_child_weight=1; accuracy: (test=0.508) f1: (test=0.544) precision: (test=0.531) recall: (test=0.558) total time=  21.1s\n",
      "[CV 1/5] END gamma=1, learning_rate=0.01, max_depth=9, min_child_weight=5; accuracy: (test=0.559) f1: (test=0.685) precision: (test=0.550) recall: (test=0.908) total time=  44.8s\n",
      "[CV 2/5] END gamma=1, learning_rate=0.01, max_depth=9, min_child_weight=5; accuracy: (test=0.523) f1: (test=0.673) precision: (test=0.526) recall: (test=0.936) total time=  28.0s\n",
      "[CV 3/5] END gamma=1, learning_rate=0.01, max_depth=9, min_child_weight=5; accuracy: (test=0.559) f1: (test=0.682) precision: (test=0.549) recall: (test=0.900) total time=  38.7s\n",
      "[CV 4/5] END gamma=1, learning_rate=0.01, max_depth=9, min_child_weight=5; accuracy: (test=0.538) f1: (test=0.688) precision: (test=0.533) recall: (test=0.972) total time=  38.3s\n",
      "[CV 5/5] END gamma=1, learning_rate=0.01, max_depth=9, min_child_weight=5; accuracy: (test=0.555) f1: (test=0.679) precision: (test=0.547) recall: (test=0.896) total time=  45.5s\n",
      "[CV 1/5] END gamma=2.0, learning_rate=0.1, max_depth=9, min_child_weight=1; accuracy: (test=0.511) f1: (test=0.532) precision: (test=0.537) recall: (test=0.528) total time=  31.0s\n",
      "[CV 2/5] END gamma=2.0, learning_rate=0.1, max_depth=9, min_child_weight=1; accuracy: (test=0.559) f1: (test=0.576) precision: (test=0.582) recall: (test=0.570) total time=  30.0s\n",
      "[CV 3/5] END gamma=2.0, learning_rate=0.1, max_depth=9, min_child_weight=1; accuracy: (test=0.519) f1: (test=0.565) precision: (test=0.538) recall: (test=0.594) total time=  30.8s\n",
      "[CV 4/5] END gamma=2.0, learning_rate=0.1, max_depth=9, min_child_weight=1; accuracy: (test=0.540) f1: (test=0.569) precision: (test=0.560) recall: (test=0.578) total time=  27.9s\n",
      "[CV 5/5] END gamma=2.0, learning_rate=0.1, max_depth=9, min_child_weight=1; accuracy: (test=0.519) f1: (test=0.562) precision: (test=0.539) recall: (test=0.586) total time=  29.5s\n",
      "[CV 1/5] END gamma=0.5, learning_rate=0.1, max_depth=6, min_child_weight=5; accuracy: (test=0.525) f1: (test=0.560) precision: (test=0.548) recall: (test=0.572) total time=  14.7s\n",
      "[CV 2/5] END gamma=0.5, learning_rate=0.1, max_depth=6, min_child_weight=5; accuracy: (test=0.572) f1: (test=0.629) precision: (test=0.577) recall: (test=0.691) total time=  15.3s\n",
      "[CV 3/5] END gamma=0.5, learning_rate=0.1, max_depth=6, min_child_weight=5; accuracy: (test=0.542) f1: (test=0.599) precision: (test=0.555) recall: (test=0.651) total time=  19.4s\n",
      "[CV 4/5] END gamma=0.5, learning_rate=0.1, max_depth=6, min_child_weight=5; accuracy: (test=0.540) f1: (test=0.573) precision: (test=0.559) recall: (test=0.586) total time=  16.5s\n",
      "[CV 5/5] END gamma=0.5, learning_rate=0.1, max_depth=6, min_child_weight=5; accuracy: (test=0.521) f1: (test=0.573) precision: (test=0.539) recall: (test=0.610) total time=  16.0s\n",
      "[CV 1/5] END gamma=0.5, learning_rate=0.01, max_depth=3, min_child_weight=5; accuracy: (test=0.532) f1: (test=0.689) precision: (test=0.530) recall: (test=0.984) total time=   6.1s\n"
     ]
    },
    {
     "name": "stdout",
     "output_type": "stream",
     "text": [
      "[CV 2/5] END gamma=0.5, learning_rate=0.01, max_depth=3, min_child_weight=5; accuracy: (test=0.525) f1: (test=0.682) precision: (test=0.526) recall: (test=0.968) total time=   6.1s\n",
      "[CV 3/5] END gamma=0.5, learning_rate=0.01, max_depth=3, min_child_weight=5; accuracy: (test=0.525) f1: (test=0.689) precision: (test=0.525) recall: (test=1.000) total time=   6.8s\n",
      "[CV 4/5] END gamma=0.5, learning_rate=0.01, max_depth=3, min_child_weight=5; accuracy: (test=0.521) f1: (test=0.685) precision: (test=0.523) recall: (test=0.992) total time=   6.3s\n",
      "[CV 5/5] END gamma=0.5, learning_rate=0.01, max_depth=3, min_child_weight=5; accuracy: (test=0.530) f1: (test=0.690) precision: (test=0.528) recall: (test=0.996) total time=   6.8s\n"
     ]
    },
    {
     "data": {
      "text/plain": [
       "{'min_child_weight': 5, 'max_depth': 3, 'learning_rate': 0.01, 'gamma': 0.5}"
      ]
     },
     "execution_count": 23,
     "metadata": {},
     "output_type": "execute_result"
    }
   ],
   "source": [
    "# Agr\n",
    "xgb_model = xgb.XGBClassifier(objective='binary:hinge')\n",
    "\n",
    "params_dict = {'learning_rate': [0.01, 0.1, 0.2],\n",
    "               'gamma': [0.5, 1, 2.0],\n",
    "               'max_depth': [3, 6, 9],\n",
    "               'min_child_weight': [1, 5, 10],\n",
    "              }\n",
    "\n",
    "search = RandomizedSearchCV(xgb_model,\n",
    "         param_distributions=params_dict,\n",
    "         scoring = ['recall', 'precision', 'accuracy', 'f1'],\n",
    "         refit = 'f1', \n",
    "         cv= 5,\n",
    "         verbose=3)\n",
    "\n",
    "search.fit(X_train_agr_t,y_train_agr)\n",
    "search.best_params_"
   ]
  },
  {
   "cell_type": "code",
   "execution_count": 9,
   "id": "8df8fe95",
   "metadata": {},
   "outputs": [],
   "source": [
    "opt_params_agr_t = {'min_child_weight': 5, 'max_depth': 3, 'learning_rate': 0.01, 'gamma': 0.5}"
   ]
  },
  {
   "cell_type": "code",
   "execution_count": 29,
   "id": "1fd7cc64",
   "metadata": {
    "scrolled": true
   },
   "outputs": [
    {
     "name": "stdout",
     "output_type": "stream",
     "text": [
      "Fitting 5 folds for each of 10 candidates, totalling 50 fits\n",
      "[CV 1/5] END gamma=2.0, learning_rate=0.2, max_depth=9, min_child_weight=5; accuracy: (test=0.506) f1: (test=0.526) precision: (test=0.516) recall: (test=0.537) total time=  15.8s\n",
      "[CV 2/5] END gamma=2.0, learning_rate=0.2, max_depth=9, min_child_weight=5; accuracy: (test=0.508) f1: (test=0.499) precision: (test=0.520) recall: (test=0.479) total time=  15.3s\n",
      "[CV 3/5] END gamma=2.0, learning_rate=0.2, max_depth=9, min_child_weight=5; accuracy: (test=0.544) f1: (test=0.544) precision: (test=0.554) recall: (test=0.535) total time=  13.8s\n",
      "[CV 4/5] END gamma=2.0, learning_rate=0.2, max_depth=9, min_child_weight=5; accuracy: (test=0.546) f1: (test=0.536) precision: (test=0.559) recall: (test=0.515) total time=  14.2s\n",
      "[CV 5/5] END gamma=2.0, learning_rate=0.2, max_depth=9, min_child_weight=5; accuracy: (test=0.536) f1: (test=0.555) precision: (test=0.542) recall: (test=0.568) total time=  14.4s\n",
      "[CV 1/5] END gamma=1, learning_rate=0.01, max_depth=9, min_child_weight=1; accuracy: (test=0.502) f1: (test=0.656) precision: (test=0.507) recall: (test=0.930) total time=  50.3s\n",
      "[CV 2/5] END gamma=1, learning_rate=0.01, max_depth=9, min_child_weight=1; accuracy: (test=0.515) f1: (test=0.636) precision: (test=0.515) recall: (test=0.831) total time= 1.2min\n",
      "[CV 3/5] END gamma=1, learning_rate=0.01, max_depth=9, min_child_weight=1; accuracy: (test=0.517) f1: (test=0.656) precision: (test=0.514) recall: (test=0.905) total time= 1.0min\n",
      "[CV 4/5] END gamma=1, learning_rate=0.01, max_depth=9, min_child_weight=1; accuracy: (test=0.504) f1: (test=0.654) precision: (test=0.507) recall: (test=0.921) total time=  53.1s\n",
      "[CV 5/5] END gamma=1, learning_rate=0.01, max_depth=9, min_child_weight=1; accuracy: (test=0.523) f1: (test=0.663) precision: (test=0.517) recall: (test=0.921) total time=  46.0s\n",
      "[CV 1/5] END gamma=0.5, learning_rate=0.01, max_depth=6, min_child_weight=10; accuracy: (test=0.515) f1: (test=0.674) precision: (test=0.513) recall: (test=0.983) total time=  13.6s\n",
      "[CV 2/5] END gamma=0.5, learning_rate=0.01, max_depth=6, min_child_weight=10; accuracy: (test=0.532) f1: (test=0.668) precision: (test=0.523) recall: (test=0.921) total time=  17.4s\n",
      "[CV 3/5] END gamma=0.5, learning_rate=0.01, max_depth=6, min_child_weight=10; accuracy: (test=0.515) f1: (test=0.670) precision: (test=0.512) recall: (test=0.971) total time=  21.6s\n",
      "[CV 4/5] END gamma=0.5, learning_rate=0.01, max_depth=6, min_child_weight=10; accuracy: (test=0.508) f1: (test=0.674) precision: (test=0.508) recall: (test=1.000) total time=  17.8s\n",
      "[CV 5/5] END gamma=0.5, learning_rate=0.01, max_depth=6, min_child_weight=10; accuracy: (test=0.530) f1: (test=0.682) precision: (test=0.520) recall: (test=0.992) total time=  18.2s\n",
      "[CV 1/5] END gamma=2.0, learning_rate=0.2, max_depth=3, min_child_weight=1; accuracy: (test=0.525) f1: (test=0.549) precision: (test=0.533) recall: (test=0.566) total time=   7.1s\n",
      "[CV 2/5] END gamma=2.0, learning_rate=0.2, max_depth=3, min_child_weight=1; accuracy: (test=0.555) f1: (test=0.585) precision: (test=0.558) recall: (test=0.616) total time=   6.9s\n",
      "[CV 3/5] END gamma=2.0, learning_rate=0.2, max_depth=3, min_child_weight=1; accuracy: (test=0.530) f1: (test=0.544) precision: (test=0.536) recall: (test=0.552) total time=   7.8s\n",
      "[CV 4/5] END gamma=2.0, learning_rate=0.2, max_depth=3, min_child_weight=1; accuracy: (test=0.521) f1: (test=0.541) precision: (test=0.528) recall: (test=0.556) total time=   7.1s\n",
      "[CV 5/5] END gamma=2.0, learning_rate=0.2, max_depth=3, min_child_weight=1; accuracy: (test=0.563) f1: (test=0.588) precision: (test=0.565) recall: (test=0.614) total time=   7.5s\n",
      "[CV 1/5] END gamma=1, learning_rate=0.1, max_depth=3, min_child_weight=1; accuracy: (test=0.513) f1: (test=0.632) precision: (test=0.514) recall: (test=0.818) total time=   6.6s\n",
      "[CV 2/5] END gamma=1, learning_rate=0.1, max_depth=3, min_child_weight=1; accuracy: (test=0.544) f1: (test=0.653) precision: (test=0.534) recall: (test=0.839) total time=   6.1s\n",
      "[CV 3/5] END gamma=1, learning_rate=0.1, max_depth=3, min_child_weight=1; accuracy: (test=0.551) f1: (test=0.611) precision: (test=0.546) recall: (test=0.693) total time=   7.0s\n",
      "[CV 4/5] END gamma=1, learning_rate=0.1, max_depth=3, min_child_weight=1; accuracy: (test=0.506) f1: (test=0.625) precision: (test=0.509) recall: (test=0.809) total time=   5.7s\n",
      "[CV 5/5] END gamma=1, learning_rate=0.1, max_depth=3, min_child_weight=1; accuracy: (test=0.532) f1: (test=0.628) precision: (test=0.527) recall: (test=0.776) total time=   6.2s\n",
      "[CV 1/5] END gamma=0.5, learning_rate=0.2, max_depth=6, min_child_weight=1; accuracy: (test=0.485) f1: (test=0.522) precision: (test=0.496) recall: (test=0.550) total time=  20.1s\n",
      "[CV 2/5] END gamma=0.5, learning_rate=0.2, max_depth=6, min_child_weight=1; accuracy: (test=0.534) f1: (test=0.529) precision: (test=0.546) recall: (test=0.512) total time=  18.7s\n",
      "[CV 3/5] END gamma=0.5, learning_rate=0.2, max_depth=6, min_child_weight=1; accuracy: (test=0.538) f1: (test=0.545) precision: (test=0.546) recall: (test=0.544) total time=  15.9s\n",
      "[CV 4/5] END gamma=0.5, learning_rate=0.2, max_depth=6, min_child_weight=1; accuracy: (test=0.525) f1: (test=0.549) precision: (test=0.531) recall: (test=0.568) total time=  15.1s\n",
      "[CV 5/5] END gamma=0.5, learning_rate=0.2, max_depth=6, min_child_weight=1; accuracy: (test=0.536) f1: (test=0.558) precision: (test=0.541) recall: (test=0.577) total time=  14.2s\n",
      "[CV 1/5] END gamma=2.0, learning_rate=0.2, max_depth=6, min_child_weight=1; accuracy: (test=0.500) f1: (test=0.513) precision: (test=0.510) recall: (test=0.517) total time=  14.8s\n",
      "[CV 2/5] END gamma=2.0, learning_rate=0.2, max_depth=6, min_child_weight=1; accuracy: (test=0.530) f1: (test=0.536) precision: (test=0.540) recall: (test=0.533) total time=  15.4s\n",
      "[CV 3/5] END gamma=2.0, learning_rate=0.2, max_depth=6, min_child_weight=1; accuracy: (test=0.525) f1: (test=0.536) precision: (test=0.533) recall: (test=0.539) total time=  15.5s\n",
      "[CV 4/5] END gamma=2.0, learning_rate=0.2, max_depth=6, min_child_weight=1; accuracy: (test=0.492) f1: (test=0.493) precision: (test=0.500) recall: (test=0.485) total time=  18.2s\n",
      "[CV 5/5] END gamma=2.0, learning_rate=0.2, max_depth=6, min_child_weight=1; accuracy: (test=0.570) f1: (test=0.570) precision: (test=0.579) recall: (test=0.560) total time=  18.9s\n",
      "[CV 1/5] END gamma=2.0, learning_rate=0.1, max_depth=3, min_child_weight=1; accuracy: (test=0.513) f1: (test=0.632) precision: (test=0.514) recall: (test=0.818) total time=   6.6s\n",
      "[CV 2/5] END gamma=2.0, learning_rate=0.1, max_depth=3, min_child_weight=1; accuracy: (test=0.544) f1: (test=0.653) precision: (test=0.534) recall: (test=0.839) total time=   6.5s\n",
      "[CV 3/5] END gamma=2.0, learning_rate=0.1, max_depth=3, min_child_weight=1; accuracy: (test=0.551) f1: (test=0.615) precision: (test=0.545) recall: (test=0.705) total time=   9.2s\n",
      "[CV 4/5] END gamma=2.0, learning_rate=0.1, max_depth=3, min_child_weight=1; accuracy: (test=0.515) f1: (test=0.630) precision: (test=0.514) recall: (test=0.813) total time=   7.5s\n",
      "[CV 5/5] END gamma=2.0, learning_rate=0.1, max_depth=3, min_child_weight=1; accuracy: (test=0.519) f1: (test=0.620) precision: (test=0.518) recall: (test=0.772) total time=   6.4s\n",
      "[CV 1/5] END gamma=1, learning_rate=0.01, max_depth=6, min_child_weight=1; accuracy: (test=0.504) f1: (test=0.669) precision: (test=0.507) recall: (test=0.983) total time=  25.4s\n",
      "[CV 2/5] END gamma=1, learning_rate=0.01, max_depth=6, min_child_weight=1; accuracy: (test=0.515) f1: (test=0.657) precision: (test=0.514) recall: (test=0.909) total time=  28.8s\n",
      "[CV 3/5] END gamma=1, learning_rate=0.01, max_depth=6, min_child_weight=1; accuracy: (test=0.517) f1: (test=0.667) precision: (test=0.513) recall: (test=0.950) total time=  32.1s\n",
      "[CV 4/5] END gamma=1, learning_rate=0.01, max_depth=6, min_child_weight=1; accuracy: (test=0.506) f1: (test=0.669) precision: (test=0.508) recall: (test=0.979) total time=  25.3s\n",
      "[CV 5/5] END gamma=1, learning_rate=0.01, max_depth=6, min_child_weight=1; accuracy: (test=0.525) f1: (test=0.675) precision: (test=0.518) recall: (test=0.971) total time=  22.9s\n",
      "[CV 1/5] END gamma=1, learning_rate=0.2, max_depth=9, min_child_weight=1; accuracy: (test=0.496) f1: (test=0.513) precision: (test=0.506) recall: (test=0.521) total time=  17.0s\n"
     ]
    },
    {
     "name": "stdout",
     "output_type": "stream",
     "text": [
      "[CV 2/5] END gamma=1, learning_rate=0.2, max_depth=9, min_child_weight=1; accuracy: (test=0.511) f1: (test=0.525) precision: (test=0.520) recall: (test=0.529) total time=  17.2s\n",
      "[CV 3/5] END gamma=1, learning_rate=0.2, max_depth=9, min_child_weight=1; accuracy: (test=0.525) f1: (test=0.534) precision: (test=0.533) recall: (test=0.535) total time=  20.3s\n",
      "[CV 4/5] END gamma=1, learning_rate=0.2, max_depth=9, min_child_weight=1; accuracy: (test=0.502) f1: (test=0.530) precision: (test=0.510) recall: (test=0.552) total time=  31.5s\n",
      "[CV 5/5] END gamma=1, learning_rate=0.2, max_depth=9, min_child_weight=1; accuracy: (test=0.565) f1: (test=0.576) precision: (test=0.571) recall: (test=0.581) total time=  22.4s\n"
     ]
    },
    {
     "data": {
      "text/plain": [
       "{'min_child_weight': 10, 'max_depth': 6, 'learning_rate': 0.01, 'gamma': 0.5}"
      ]
     },
     "execution_count": 29,
     "metadata": {},
     "output_type": "execute_result"
    }
   ],
   "source": [
    "# Con\n",
    "xgb_model = xgb.XGBClassifier(objective='binary:hinge')\n",
    "\n",
    "params_dict = {'learning_rate': [0.01, 0.1, 0.2],\n",
    "               'gamma': [0.5, 1, 2.0],\n",
    "               'max_depth': [3, 6, 9],\n",
    "               'min_child_weight': [1, 5, 10],\n",
    "              }\n",
    "\n",
    "search = RandomizedSearchCV(xgb_model,\n",
    "         param_distributions=params_dict,\n",
    "         scoring = ['recall', 'precision', 'accuracy', 'f1'],\n",
    "         refit = 'f1', \n",
    "         cv= 5,\n",
    "         verbose=3)\n",
    "\n",
    "search.fit(X_train_con_t,y_train_con)\n",
    "search.best_params_"
   ]
  },
  {
   "cell_type": "code",
   "execution_count": 10,
   "id": "c5b7c0d9",
   "metadata": {},
   "outputs": [],
   "source": [
    "opt_params_con_t = {'min_child_weight': 10, 'max_depth': 6, 'learning_rate': 0.01, 'gamma': 0.5}"
   ]
  },
  {
   "cell_type": "code",
   "execution_count": 31,
   "id": "b3e71521",
   "metadata": {
    "scrolled": true
   },
   "outputs": [
    {
     "name": "stdout",
     "output_type": "stream",
     "text": [
      "Fitting 5 folds for each of 10 candidates, totalling 50 fits\n",
      "[CV 1/5] END gamma=1, learning_rate=0.01, max_depth=9, min_child_weight=1; accuracy: (test=0.527) f1: (test=0.636) precision: (test=0.509) recall: (test=0.848) total time= 1.0min\n",
      "[CV 2/5] END gamma=1, learning_rate=0.01, max_depth=9, min_child_weight=1; accuracy: (test=0.525) f1: (test=0.651) precision: (test=0.506) recall: (test=0.913) total time=  55.5s\n",
      "[CV 3/5] END gamma=1, learning_rate=0.01, max_depth=9, min_child_weight=1; accuracy: (test=0.551) f1: (test=0.650) precision: (test=0.522) recall: (test=0.861) total time= 1.2min\n",
      "[CV 4/5] END gamma=1, learning_rate=0.01, max_depth=9, min_child_weight=1; accuracy: (test=0.521) f1: (test=0.645) precision: (test=0.504) recall: (test=0.896) total time= 1.0min\n",
      "[CV 5/5] END gamma=1, learning_rate=0.01, max_depth=9, min_child_weight=1; accuracy: (test=0.534) f1: (test=0.607) precision: (test=0.514) recall: (test=0.743) total time= 1.2min\n",
      "[CV 1/5] END gamma=0.5, learning_rate=0.1, max_depth=3, min_child_weight=10; accuracy: (test=0.553) f1: (test=0.579) precision: (test=0.535) recall: (test=0.632) total time=   5.4s\n",
      "[CV 2/5] END gamma=0.5, learning_rate=0.1, max_depth=3, min_child_weight=10; accuracy: (test=0.563) f1: (test=0.577) precision: (test=0.544) recall: (test=0.613) total time=   5.1s\n",
      "[CV 3/5] END gamma=0.5, learning_rate=0.1, max_depth=3, min_child_weight=10; accuracy: (test=0.614) f1: (test=0.592) precision: (test=0.607) recall: (test=0.578) total time=   5.3s\n",
      "[CV 4/5] END gamma=0.5, learning_rate=0.1, max_depth=3, min_child_weight=10; accuracy: (test=0.538) f1: (test=0.597) precision: (test=0.518) recall: (test=0.704) total time=   5.5s\n",
      "[CV 5/5] END gamma=0.5, learning_rate=0.1, max_depth=3, min_child_weight=10; accuracy: (test=0.555) f1: (test=0.597) precision: (test=0.532) recall: (test=0.678) total time=   4.7s\n",
      "[CV 1/5] END gamma=1, learning_rate=0.1, max_depth=3, min_child_weight=1; accuracy: (test=0.574) f1: (test=0.591) precision: (test=0.555) recall: (test=0.632) total time=   6.3s\n",
      "[CV 2/5] END gamma=1, learning_rate=0.1, max_depth=3, min_child_weight=1; accuracy: (test=0.551) f1: (test=0.544) precision: (test=0.536) recall: (test=0.552) total time=   7.1s\n",
      "[CV 3/5] END gamma=1, learning_rate=0.1, max_depth=3, min_child_weight=1; accuracy: (test=0.593) f1: (test=0.568) precision: (test=0.585) recall: (test=0.552) total time=   6.3s\n",
      "[CV 4/5] END gamma=1, learning_rate=0.1, max_depth=3, min_child_weight=1; accuracy: (test=0.534) f1: (test=0.594) precision: (test=0.514) recall: (test=0.704) total time=   6.8s\n",
      "[CV 5/5] END gamma=1, learning_rate=0.1, max_depth=3, min_child_weight=1; accuracy: (test=0.570) f1: (test=0.606) precision: (test=0.545) recall: (test=0.683) total time=   6.1s\n",
      "[CV 1/5] END gamma=0.5, learning_rate=0.2, max_depth=9, min_child_weight=5; accuracy: (test=0.551) f1: (test=0.546) precision: (test=0.538) recall: (test=0.554) total time=  13.8s\n",
      "[CV 2/5] END gamma=0.5, learning_rate=0.2, max_depth=9, min_child_weight=5; accuracy: (test=0.591) f1: (test=0.559) precision: (test=0.586) recall: (test=0.535) total time=  17.7s\n",
      "[CV 3/5] END gamma=0.5, learning_rate=0.2, max_depth=9, min_child_weight=5; accuracy: (test=0.580) f1: (test=0.559) precision: (test=0.570) recall: (test=0.548) total time=  17.9s\n",
      "[CV 4/5] END gamma=0.5, learning_rate=0.2, max_depth=9, min_child_weight=5; accuracy: (test=0.568) f1: (test=0.533) precision: (test=0.560) recall: (test=0.509) total time=  15.0s\n",
      "[CV 5/5] END gamma=0.5, learning_rate=0.2, max_depth=9, min_child_weight=5; accuracy: (test=0.570) f1: (test=0.545) precision: (test=0.560) recall: (test=0.530) total time=  15.9s\n",
      "[CV 1/5] END gamma=1, learning_rate=0.2, max_depth=3, min_child_weight=1; accuracy: (test=0.574) f1: (test=0.572) precision: (test=0.560) recall: (test=0.584) total time=   6.7s\n",
      "[CV 2/5] END gamma=1, learning_rate=0.2, max_depth=3, min_child_weight=1; accuracy: (test=0.578) f1: (test=0.543) precision: (test=0.572) recall: (test=0.517) total time=   6.5s\n",
      "[CV 3/5] END gamma=1, learning_rate=0.2, max_depth=3, min_child_weight=1; accuracy: (test=0.589) f1: (test=0.556) precision: (test=0.584) recall: (test=0.530) total time=   6.4s\n",
      "[CV 4/5] END gamma=1, learning_rate=0.2, max_depth=3, min_child_weight=1; accuracy: (test=0.549) f1: (test=0.549) precision: (test=0.533) recall: (test=0.565) total time=   6.0s\n",
      "[CV 5/5] END gamma=1, learning_rate=0.2, max_depth=3, min_child_weight=1; accuracy: (test=0.551) f1: (test=0.544) precision: (test=0.536) recall: (test=0.552) total time=   5.8s\n",
      "[CV 1/5] END gamma=0.5, learning_rate=0.2, max_depth=6, min_child_weight=5; accuracy: (test=0.570) f1: (test=0.557) precision: (test=0.559) recall: (test=0.554) total time=  11.6s\n",
      "[CV 2/5] END gamma=0.5, learning_rate=0.2, max_depth=6, min_child_weight=5; accuracy: (test=0.540) f1: (test=0.526) precision: (test=0.526) recall: (test=0.526) total time=  12.2s\n",
      "[CV 3/5] END gamma=0.5, learning_rate=0.2, max_depth=6, min_child_weight=5; accuracy: (test=0.523) f1: (test=0.517) precision: (test=0.508) recall: (test=0.526) total time=  12.2s\n",
      "[CV 4/5] END gamma=0.5, learning_rate=0.2, max_depth=6, min_child_weight=5; accuracy: (test=0.523) f1: (test=0.474) precision: (test=0.510) recall: (test=0.443) total time=  14.9s\n",
      "[CV 5/5] END gamma=0.5, learning_rate=0.2, max_depth=6, min_child_weight=5; accuracy: (test=0.551) f1: (test=0.534) precision: (test=0.537) recall: (test=0.530) total time=  13.1s\n",
      "[CV 1/5] END gamma=1, learning_rate=0.1, max_depth=9, min_child_weight=10; accuracy: (test=0.551) f1: (test=0.536) precision: (test=0.539) recall: (test=0.532) total time=  18.2s\n",
      "[CV 2/5] END gamma=1, learning_rate=0.1, max_depth=9, min_child_weight=10; accuracy: (test=0.559) f1: (test=0.551) precision: (test=0.545) recall: (test=0.557) total time=  18.9s\n",
      "[CV 3/5] END gamma=1, learning_rate=0.1, max_depth=9, min_child_weight=10; accuracy: (test=0.574) f1: (test=0.555) precision: (test=0.562) recall: (test=0.548) total time=  17.8s\n",
      "[CV 4/5] END gamma=1, learning_rate=0.1, max_depth=9, min_child_weight=10; accuracy: (test=0.561) f1: (test=0.548) precision: (test=0.548) recall: (test=0.548) total time=  19.3s\n",
      "[CV 5/5] END gamma=1, learning_rate=0.1, max_depth=9, min_child_weight=10; accuracy: (test=0.589) f1: (test=0.554) precision: (test=0.585) recall: (test=0.526) total time=  18.5s\n",
      "[CV 1/5] END gamma=1, learning_rate=0.2, max_depth=6, min_child_weight=10; accuracy: (test=0.563) f1: (test=0.553) precision: (test=0.552) recall: (test=0.554) total time=  13.1s\n",
      "[CV 2/5] END gamma=1, learning_rate=0.2, max_depth=6, min_child_weight=10; accuracy: (test=0.591) f1: (test=0.575) precision: (test=0.580) recall: (test=0.570) total time=  12.3s\n",
      "[CV 3/5] END gamma=1, learning_rate=0.2, max_depth=6, min_child_weight=10; accuracy: (test=0.561) f1: (test=0.561) precision: (test=0.545) recall: (test=0.578) total time=  10.8s\n",
      "[CV 4/5] END gamma=1, learning_rate=0.2, max_depth=6, min_child_weight=10; accuracy: (test=0.536) f1: (test=0.500) precision: (test=0.524) recall: (test=0.478) total time=  10.4s\n",
      "[CV 5/5] END gamma=1, learning_rate=0.2, max_depth=6, min_child_weight=10; accuracy: (test=0.584) f1: (test=0.559) precision: (test=0.576) recall: (test=0.543) total time=  10.5s\n",
      "[CV 1/5] END gamma=0.5, learning_rate=0.1, max_depth=9, min_child_weight=1; accuracy: (test=0.568) f1: (test=0.551) precision: (test=0.558) recall: (test=0.545) total time=  28.0s\n",
      "[CV 2/5] END gamma=0.5, learning_rate=0.1, max_depth=9, min_child_weight=1; accuracy: (test=0.595) f1: (test=0.598) precision: (test=0.577) recall: (test=0.622) total time=  25.5s\n",
      "[CV 3/5] END gamma=0.5, learning_rate=0.1, max_depth=9, min_child_weight=1; accuracy: (test=0.568) f1: (test=0.535) precision: (test=0.559) recall: (test=0.513) total time=  26.0s\n",
      "[CV 4/5] END gamma=0.5, learning_rate=0.1, max_depth=9, min_child_weight=1; accuracy: (test=0.536) f1: (test=0.520) precision: (test=0.522) recall: (test=0.517) total time=  29.6s\n",
      "[CV 5/5] END gamma=0.5, learning_rate=0.1, max_depth=9, min_child_weight=1; accuracy: (test=0.591) f1: (test=0.582) precision: (test=0.577) recall: (test=0.587) total time=  28.4s\n",
      "[CV 1/5] END gamma=2.0, learning_rate=0.01, max_depth=9, min_child_weight=5; accuracy: (test=0.532) f1: (test=0.650) precision: (test=0.511) recall: (test=0.892) total time=  39.4s\n"
     ]
    },
    {
     "name": "stdout",
     "output_type": "stream",
     "text": [
      "[CV 2/5] END gamma=2.0, learning_rate=0.01, max_depth=9, min_child_weight=5; accuracy: (test=0.521) f1: (test=0.647) precision: (test=0.504) recall: (test=0.904) total time=  39.5s\n",
      "[CV 3/5] END gamma=2.0, learning_rate=0.01, max_depth=9, min_child_weight=5; accuracy: (test=0.513) f1: (test=0.633) precision: (test=0.499) recall: (test=0.865) total time=  53.5s\n",
      "[CV 4/5] END gamma=2.0, learning_rate=0.01, max_depth=9, min_child_weight=5; accuracy: (test=0.492) f1: (test=0.630) precision: (test=0.487) recall: (test=0.891) total time=  37.4s\n",
      "[CV 5/5] END gamma=2.0, learning_rate=0.01, max_depth=9, min_child_weight=5; accuracy: (test=0.508) f1: (test=0.600) precision: (test=0.496) recall: (test=0.761) total time=  43.8s\n"
     ]
    },
    {
     "data": {
      "text/plain": [
       "{'min_child_weight': 1, 'max_depth': 9, 'learning_rate': 0.01, 'gamma': 1}"
      ]
     },
     "execution_count": 31,
     "metadata": {},
     "output_type": "execute_result"
    }
   ],
   "source": [
    "# Opn\n",
    "xgb_model = xgb.XGBClassifier(objective='binary:hinge')\n",
    "\n",
    "params_dict = {'learning_rate': [0.01, 0.1, 0.2],\n",
    "               'gamma': [0.5, 1, 2.0],\n",
    "               'max_depth': [3, 6, 9],\n",
    "               'min_child_weight': [1, 5, 10],\n",
    "              }\n",
    "\n",
    "search = RandomizedSearchCV(xgb_model,\n",
    "         param_distributions=params_dict,\n",
    "         scoring = ['recall', 'precision', 'accuracy', 'f1'],\n",
    "         refit = 'f1', \n",
    "         cv= 5,\n",
    "         verbose=3)\n",
    "\n",
    "search.fit(X_train_opn_t,y_train_opn)\n",
    "search.best_params_"
   ]
  },
  {
   "cell_type": "code",
   "execution_count": 11,
   "id": "cf25906a",
   "metadata": {},
   "outputs": [],
   "source": [
    "opt_params_opn_t = {'min_child_weight': 1, 'max_depth': 9, 'learning_rate': 0.01, 'gamma': 1}"
   ]
  },
  {
   "cell_type": "markdown",
   "id": "13ca1821",
   "metadata": {},
   "source": [
    "### Actual training and testing\n",
    "\n",
    "With the optimal parameters found, the XGBoost is trained on the training set and then tested for validation."
   ]
  },
  {
   "cell_type": "code",
   "execution_count": 12,
   "id": "93b7de1d",
   "metadata": {},
   "outputs": [],
   "source": [
    "def XGB_model(X_train, X_test, y_train, y_test, opt_params):\n",
    "    \n",
    "    xgb_model = xgb.XGBClassifier(objective = 'binary:hinge', \n",
    "                              min_child_weight = opt_params['min_child_weight'], \n",
    "                              max_depth = opt_params['max_depth'], \n",
    "                              learning_rate = opt_params['learning_rate'], \n",
    "                              gamma = opt_params['gamma'])\n",
    "    \n",
    "    xgb_model.fit(X_train, y_train)\n",
    "\n",
    "    predictions = xgb_model.predict(X_test)\n",
    "\n",
    "    accuracy = accuracy_score(y_test, predictions)\n",
    "    precision = precision_score(y_test, predictions)\n",
    "    recall = recall_score(y_test, predictions)\n",
    "    f1 = f1_score(y_test, predictions)\n",
    "\n",
    "    print(\"Accuracy: {:.2f}\".format(accuracy))\n",
    "    print(\"Precision: {:.2f}\".format(precision))\n",
    "    print(\"Recall: {:.2f}\".format(recall))\n",
    "    print(\"F1 Score: {:.2f}\".format(f1))\n",
    "    \n",
    "    return [f1, accuracy, precision, recall]\n"
   ]
  },
  {
   "cell_type": "code",
   "execution_count": 13,
   "id": "e7ee1a3e",
   "metadata": {},
   "outputs": [
    {
     "name": "stdout",
     "output_type": "stream",
     "text": [
      "Accuracy: 0.53\n",
      "Precision: 0.52\n",
      "Recall: 0.90\n",
      "F1 Score: 0.66\n"
     ]
    }
   ],
   "source": [
    "# Ext\n",
    "metrics_ext_t = XGB_model(X_train_ext_t, X_test_ext_t, y_train_ext, y_test_ext, opt_params_ext_t)"
   ]
  },
  {
   "cell_type": "code",
   "execution_count": 14,
   "id": "2ccc0478",
   "metadata": {},
   "outputs": [
    {
     "name": "stdout",
     "output_type": "stream",
     "text": [
      "Accuracy: 0.53\n",
      "Precision: 0.54\n",
      "Recall: 0.98\n",
      "F1 Score: 0.70\n"
     ]
    }
   ],
   "source": [
    "# Neu\n",
    "metrics_neu_t = XGB_model(X_train_neu_t, X_test_neu_t, y_train_neu, y_test_neu, opt_params_neu_t)"
   ]
  },
  {
   "cell_type": "code",
   "execution_count": 15,
   "id": "7d90e1dc",
   "metadata": {},
   "outputs": [
    {
     "name": "stdout",
     "output_type": "stream",
     "text": [
      "Accuracy: 0.49\n",
      "Precision: 0.49\n",
      "Recall: 1.00\n",
      "F1 Score: 0.66\n"
     ]
    }
   ],
   "source": [
    "# Agr\n",
    "metrics_agr_t = XGB_model(X_train_agr_t, X_test_agr_t, y_train_agr, y_test_agr, opt_params_agr_t)"
   ]
  },
  {
   "cell_type": "code",
   "execution_count": 16,
   "id": "0a21b84a",
   "metadata": {},
   "outputs": [
    {
     "name": "stdout",
     "output_type": "stream",
     "text": [
      "Accuracy: 0.53\n",
      "Precision: 0.53\n",
      "Recall: 0.97\n",
      "F1 Score: 0.68\n"
     ]
    }
   ],
   "source": [
    "# Con\n",
    "metrics_con_t = XGB_model(X_train_con_t, X_test_con_t, y_train_con, y_test_con, opt_params_con_t)"
   ]
  },
  {
   "cell_type": "code",
   "execution_count": 17,
   "id": "5803e1e7",
   "metadata": {},
   "outputs": [
    {
     "name": "stdout",
     "output_type": "stream",
     "text": [
      "Accuracy: 0.53\n",
      "Precision: 0.50\n",
      "Recall: 0.80\n",
      "F1 Score: 0.62\n"
     ]
    }
   ],
   "source": [
    "# Opn\n",
    "metrics_opn_t = XGB_model(X_train_opn_t, X_test_opn_t, y_train_opn, y_test_opn, opt_params_opn_t)"
   ]
  },
  {
   "cell_type": "markdown",
   "id": "eec463d5",
   "metadata": {},
   "source": [
    "## Using Part-of-Speech (PoS) tagging\n",
    "\n",
    "As second method to test, PoS tagging as used. To do so, first the text inputs are tagged."
   ]
  },
  {
   "cell_type": "code",
   "execution_count": 18,
   "id": "8d181a28",
   "metadata": {},
   "outputs": [
    {
     "name": "stderr",
     "output_type": "stream",
     "text": [
      "[nltk_data] Downloading package averaged_perceptron_tagger to\n",
      "[nltk_data]     C:\\Users\\maxma\\AppData\\Roaming\\nltk_data...\n",
      "[nltk_data]   Package averaged_perceptron_tagger is already up-to-\n",
      "[nltk_data]       date!\n"
     ]
    },
    {
     "data": {
      "text/plain": [
       "True"
      ]
     },
     "execution_count": 18,
     "metadata": {},
     "output_type": "execute_result"
    }
   ],
   "source": [
    "nltk.download('averaged_perceptron_tagger')"
   ]
  },
  {
   "cell_type": "code",
   "execution_count": 19,
   "id": "1daeae3a",
   "metadata": {},
   "outputs": [],
   "source": [
    "pos_df = df.copy()\n",
    "\n",
    "def pos_tagging(text):\n",
    "    tokens = nltk.word_tokenize(text)\n",
    "    pos_tags = nltk.pos_tag(tokens)\n",
    "    return [tag for word, tag in pos_tags]\n",
    "\n",
    "pos_df['pos_tags'] = pos_df['TEXT'].apply(pos_tagging)"
   ]
  },
  {
   "cell_type": "code",
   "execution_count": 20,
   "id": "ab42c5e8",
   "metadata": {},
   "outputs": [
    {
     "name": "stderr",
     "output_type": "stream",
     "text": [
      "C:\\Users\\maxma\\anaconda3\\envs\\nlp\\lib\\site-packages\\sklearn\\feature_extraction\\text.py:525: UserWarning: The parameter 'token_pattern' will not be used since 'tokenizer' is not None'\n",
      "  warnings.warn(\n"
     ]
    }
   ],
   "source": [
    "# Ext\n",
    "vectorizer = CountVectorizer(tokenizer=lambda x: x, lowercase=False)\n",
    "X = vectorizer.fit_transform(pos_df['pos_tags'])\n",
    "y_ext = pos_df['cEXT']\n",
    "\n",
    "X_train_ext_p, X_test_ext_p, y_train_ext_p, y_test_ext_p = train_test_split(X, y_ext, test_size=0.2, random_state=42)"
   ]
  },
  {
   "cell_type": "code",
   "execution_count": 21,
   "id": "bfa6b22f",
   "metadata": {},
   "outputs": [],
   "source": [
    "# Neu\n",
    "y_neu = pos_df['cNEU']\n",
    "\n",
    "X_train_neu_p, X_test_neu_p, y_train_neu_p, y_test_neu_p = train_test_split(X, y_neu, test_size=0.2, random_state=42)"
   ]
  },
  {
   "cell_type": "code",
   "execution_count": 22,
   "id": "ec3e7627",
   "metadata": {},
   "outputs": [],
   "source": [
    "# Agr\n",
    "y_agr = pos_df['cAGR']\n",
    "\n",
    "X_train_agr_p, X_test_agr_p, y_train_agr_p, y_test_agr_p = train_test_split(X, y_agr, test_size=0.2, random_state=42)"
   ]
  },
  {
   "cell_type": "code",
   "execution_count": 23,
   "id": "109bef86",
   "metadata": {},
   "outputs": [],
   "source": [
    "# Con\n",
    "y_con = pos_df['cCON']\n",
    "\n",
    "X_train_con_p, X_test_con_p, y_train_con_p, y_test_con_p = train_test_split(X, y_con, test_size=0.2, random_state=42)"
   ]
  },
  {
   "cell_type": "code",
   "execution_count": 24,
   "id": "b4b94325",
   "metadata": {},
   "outputs": [],
   "source": [
    "# Opn\n",
    "y_opn = pos_df['cOPN']\n",
    "\n",
    "X_train_opn_p, X_test_opn_p, y_train_opn_p, y_test_opn_p = train_test_split(X, y_opn, test_size=0.2, random_state=42)"
   ]
  },
  {
   "cell_type": "markdown",
   "id": "fca1c4de",
   "metadata": {},
   "source": [
    "### Hyperparameter tuning\n",
    "\n",
    "In order to have the optimal XGBoost model, a Randomized Search is done to find the 'learning rate', 'gamma', 'max depth' and 'min child weigt' parameters of the XGBoost that yield the highest F1 score. This is done per target variable."
   ]
  },
  {
   "cell_type": "code",
   "execution_count": 46,
   "id": "508602b8",
   "metadata": {
    "scrolled": true
   },
   "outputs": [
    {
     "name": "stdout",
     "output_type": "stream",
     "text": [
      "Fitting 5 folds for each of 10 candidates, totalling 50 fits\n",
      "[CV 1/5] END gamma=0.5, learning_rate=0.01, max_depth=6, min_child_weight=5; accuracy: (test=0.498) f1: (test=0.651) precision: (test=0.500) recall: (test=0.933) total time=   0.0s\n",
      "[CV 2/5] END gamma=0.5, learning_rate=0.01, max_depth=6, min_child_weight=5; accuracy: (test=0.517) f1: (test=0.671) precision: (test=0.510) recall: (test=0.983) total time=   0.0s\n",
      "[CV 3/5] END gamma=0.5, learning_rate=0.01, max_depth=6, min_child_weight=5; accuracy: (test=0.508) f1: (test=0.668) precision: (test=0.506) recall: (test=0.979) total time=   0.0s\n",
      "[CV 4/5] END gamma=0.5, learning_rate=0.01, max_depth=6, min_child_weight=5; accuracy: (test=0.506) f1: (test=0.662) precision: (test=0.506) recall: (test=0.958) total time=   0.0s\n",
      "[CV 5/5] END gamma=0.5, learning_rate=0.01, max_depth=6, min_child_weight=5; accuracy: (test=0.500) f1: (test=0.650) precision: (test=0.502) recall: (test=0.921) total time=   0.0s\n",
      "[CV 1/5] END gamma=1, learning_rate=0.01, max_depth=6, min_child_weight=1; accuracy: (test=0.498) f1: (test=0.646) precision: (test=0.500) recall: (test=0.912) total time=   0.0s\n",
      "[CV 2/5] END gamma=1, learning_rate=0.01, max_depth=6, min_child_weight=1; accuracy: (test=0.515) f1: (test=0.670) precision: (test=0.509) recall: (test=0.979) total time=   0.0s\n",
      "[CV 3/5] END gamma=1, learning_rate=0.01, max_depth=6, min_child_weight=1; accuracy: (test=0.519) f1: (test=0.667) precision: (test=0.512) recall: (test=0.954) total time=   0.1s\n",
      "[CV 4/5] END gamma=1, learning_rate=0.01, max_depth=6, min_child_weight=1; accuracy: (test=0.513) f1: (test=0.663) precision: (test=0.509) recall: (test=0.950) total time=   0.0s\n",
      "[CV 5/5] END gamma=1, learning_rate=0.01, max_depth=6, min_child_weight=1; accuracy: (test=0.477) f1: (test=0.631) precision: (test=0.490) recall: (test=0.887) total time=   0.1s\n",
      "[CV 1/5] END gamma=2.0, learning_rate=0.01, max_depth=6, min_child_weight=5; accuracy: (test=0.513) f1: (test=0.660) precision: (test=0.508) recall: (test=0.941) total time=   0.0s\n",
      "[CV 2/5] END gamma=2.0, learning_rate=0.01, max_depth=6, min_child_weight=5; accuracy: (test=0.517) f1: (test=0.673) precision: (test=0.510) recall: (test=0.992) total time=   0.0s\n",
      "[CV 3/5] END gamma=2.0, learning_rate=0.01, max_depth=6, min_child_weight=5; accuracy: (test=0.511) f1: (test=0.669) precision: (test=0.508) recall: (test=0.979) total time=   0.0s\n",
      "[CV 4/5] END gamma=2.0, learning_rate=0.01, max_depth=6, min_child_weight=5; accuracy: (test=0.506) f1: (test=0.661) precision: (test=0.506) recall: (test=0.954) total time=   0.1s\n",
      "[CV 5/5] END gamma=2.0, learning_rate=0.01, max_depth=6, min_child_weight=5; accuracy: (test=0.487) f1: (test=0.644) precision: (test=0.495) recall: (test=0.921) total time=   0.0s\n",
      "[CV 1/5] END gamma=0.5, learning_rate=0.01, max_depth=6, min_child_weight=10; accuracy: (test=0.508) f1: (test=0.662) precision: (test=0.506) recall: (test=0.958) total time=   0.0s\n",
      "[CV 2/5] END gamma=0.5, learning_rate=0.01, max_depth=6, min_child_weight=10; accuracy: (test=0.511) f1: (test=0.669) precision: (test=0.506) recall: (test=0.983) total time=   0.0s\n",
      "[CV 3/5] END gamma=0.5, learning_rate=0.01, max_depth=6, min_child_weight=10; accuracy: (test=0.515) f1: (test=0.671) precision: (test=0.510) recall: (test=0.983) total time=   0.0s\n",
      "[CV 4/5] END gamma=0.5, learning_rate=0.01, max_depth=6, min_child_weight=10; accuracy: (test=0.513) f1: (test=0.664) precision: (test=0.509) recall: (test=0.954) total time=   0.0s\n",
      "[CV 5/5] END gamma=0.5, learning_rate=0.01, max_depth=6, min_child_weight=10; accuracy: (test=0.489) f1: (test=0.645) precision: (test=0.497) recall: (test=0.921) total time=   0.0s\n",
      "[CV 1/5] END gamma=0.5, learning_rate=0.2, max_depth=6, min_child_weight=5; accuracy: (test=0.481) f1: (test=0.514) precision: (test=0.485) recall: (test=0.546) total time=   0.0s\n",
      "[CV 2/5] END gamma=0.5, learning_rate=0.2, max_depth=6, min_child_weight=5; accuracy: (test=0.521) f1: (test=0.573) precision: (test=0.519) recall: (test=0.639) total time=   0.0s\n",
      "[CV 3/5] END gamma=0.5, learning_rate=0.2, max_depth=6, min_child_weight=5; accuracy: (test=0.555) f1: (test=0.604) precision: (test=0.548) recall: (test=0.674) total time=   0.0s\n",
      "[CV 4/5] END gamma=0.5, learning_rate=0.2, max_depth=6, min_child_weight=5; accuracy: (test=0.489) f1: (test=0.510) precision: (test=0.494) recall: (test=0.527) total time=   0.0s\n",
      "[CV 5/5] END gamma=0.5, learning_rate=0.2, max_depth=6, min_child_weight=5; accuracy: (test=0.496) f1: (test=0.536) precision: (test=0.500) recall: (test=0.577) total time=   0.0s\n",
      "[CV 1/5] END gamma=2.0, learning_rate=0.01, max_depth=3, min_child_weight=5; accuracy: (test=0.504) f1: (test=0.662) precision: (test=0.503) recall: (test=0.966) total time=   0.0s\n",
      "[CV 2/5] END gamma=2.0, learning_rate=0.01, max_depth=3, min_child_weight=5; accuracy: (test=0.508) f1: (test=0.669) precision: (test=0.505) recall: (test=0.987) total time=   0.0s\n",
      "[CV 3/5] END gamma=2.0, learning_rate=0.01, max_depth=3, min_child_weight=5; accuracy: (test=0.508) f1: (test=0.670) precision: (test=0.506) recall: (test=0.987) total time=   0.0s\n",
      "[CV 4/5] END gamma=2.0, learning_rate=0.01, max_depth=3, min_child_weight=5; accuracy: (test=0.504) f1: (test=0.670) precision: (test=0.504) recall: (test=1.000) total time=   0.0s\n",
      "[CV 5/5] END gamma=2.0, learning_rate=0.01, max_depth=3, min_child_weight=5; accuracy: (test=0.504) f1: (test=0.670) precision: (test=0.504) recall: (test=1.000) total time=   0.0s\n",
      "[CV 1/5] END gamma=1, learning_rate=0.2, max_depth=6, min_child_weight=1; accuracy: (test=0.485) f1: (test=0.546) precision: (test=0.490) recall: (test=0.618) total time=   0.0s\n",
      "[CV 2/5] END gamma=1, learning_rate=0.2, max_depth=6, min_child_weight=1; accuracy: (test=0.500) f1: (test=0.570) precision: (test=0.502) recall: (test=0.660) total time=   0.0s\n",
      "[CV 3/5] END gamma=1, learning_rate=0.2, max_depth=6, min_child_weight=1; accuracy: (test=0.544) f1: (test=0.618) precision: (test=0.535) recall: (test=0.732) total time=   0.0s\n",
      "[CV 4/5] END gamma=1, learning_rate=0.2, max_depth=6, min_child_weight=1; accuracy: (test=0.532) f1: (test=0.586) precision: (test=0.529) recall: (test=0.657) total time=   0.0s\n",
      "[CV 5/5] END gamma=1, learning_rate=0.2, max_depth=6, min_child_weight=1; accuracy: (test=0.485) f1: (test=0.543) precision: (test=0.492) recall: (test=0.607) total time=   0.0s\n",
      "[CV 1/5] END gamma=2.0, learning_rate=0.1, max_depth=9, min_child_weight=1; accuracy: (test=0.477) f1: (test=0.500) precision: (test=0.481) recall: (test=0.521) total time=   0.0s\n",
      "[CV 2/5] END gamma=2.0, learning_rate=0.1, max_depth=9, min_child_weight=1; accuracy: (test=0.515) f1: (test=0.533) precision: (test=0.516) recall: (test=0.550) total time=   0.1s\n",
      "[CV 3/5] END gamma=2.0, learning_rate=0.1, max_depth=9, min_child_weight=1; accuracy: (test=0.525) f1: (test=0.551) precision: (test=0.527) recall: (test=0.577) total time=   0.1s\n",
      "[CV 4/5] END gamma=2.0, learning_rate=0.1, max_depth=9, min_child_weight=1; accuracy: (test=0.492) f1: (test=0.482) precision: (test=0.496) recall: (test=0.469) total time=   0.1s\n",
      "[CV 5/5] END gamma=2.0, learning_rate=0.1, max_depth=9, min_child_weight=1; accuracy: (test=0.449) f1: (test=0.441) precision: (test=0.452) recall: (test=0.431) total time=   0.2s\n",
      "[CV 1/5] END gamma=1, learning_rate=0.2, max_depth=9, min_child_weight=5; accuracy: (test=0.458) f1: (test=0.459) precision: (test=0.460) recall: (test=0.458) total time=   0.1s\n",
      "[CV 2/5] END gamma=1, learning_rate=0.2, max_depth=9, min_child_weight=5; accuracy: (test=0.532) f1: (test=0.543) precision: (test=0.532) recall: (test=0.555) total time=   0.1s\n",
      "[CV 3/5] END gamma=1, learning_rate=0.2, max_depth=9, min_child_weight=5; accuracy: (test=0.523) f1: (test=0.548) precision: (test=0.525) recall: (test=0.573) total time=   0.1s\n",
      "[CV 4/5] END gamma=1, learning_rate=0.2, max_depth=9, min_child_weight=5; accuracy: (test=0.508) f1: (test=0.501) precision: (test=0.513) recall: (test=0.490) total time=   0.1s\n",
      "[CV 5/5] END gamma=1, learning_rate=0.2, max_depth=9, min_child_weight=5; accuracy: (test=0.500) f1: (test=0.495) precision: (test=0.504) recall: (test=0.485) total time=   0.2s\n",
      "[CV 1/5] END gamma=2.0, learning_rate=0.01, max_depth=9, min_child_weight=1; accuracy: (test=0.494) f1: (test=0.625) precision: (test=0.498) recall: (test=0.840) total time=   0.4s\n"
     ]
    },
    {
     "name": "stdout",
     "output_type": "stream",
     "text": [
      "[CV 2/5] END gamma=2.0, learning_rate=0.01, max_depth=9, min_child_weight=1; accuracy: (test=0.542) f1: (test=0.669) precision: (test=0.525) recall: (test=0.920) total time=   0.4s\n",
      "[CV 3/5] END gamma=2.0, learning_rate=0.01, max_depth=9, min_child_weight=1; accuracy: (test=0.530) f1: (test=0.654) precision: (test=0.520) recall: (test=0.883) total time=   0.5s\n",
      "[CV 4/5] END gamma=2.0, learning_rate=0.01, max_depth=9, min_child_weight=1; accuracy: (test=0.508) f1: (test=0.639) precision: (test=0.507) recall: (test=0.862) total time=   0.4s\n",
      "[CV 5/5] END gamma=2.0, learning_rate=0.01, max_depth=9, min_child_weight=1; accuracy: (test=0.489) f1: (test=0.619) precision: (test=0.496) recall: (test=0.824) total time=   0.4s\n"
     ]
    },
    {
     "data": {
      "text/plain": [
       "{'min_child_weight': 5, 'max_depth': 3, 'learning_rate': 0.01, 'gamma': 2.0}"
      ]
     },
     "execution_count": 46,
     "metadata": {},
     "output_type": "execute_result"
    }
   ],
   "source": [
    "# Ext\n",
    "xgb_model = xgb.XGBClassifier(objective='binary:hinge')\n",
    "\n",
    "params_dict = {'learning_rate': [0.01, 0.1, 0.2],\n",
    "               'gamma': [0.5, 1, 2.0],\n",
    "               'max_depth': [3, 6, 9],\n",
    "               'min_child_weight': [1, 5, 10],\n",
    "              }\n",
    "\n",
    "search = RandomizedSearchCV(xgb_model,\n",
    "         param_distributions=params_dict,\n",
    "         scoring = ['recall', 'precision', 'accuracy', 'f1'],\n",
    "         refit = 'f1', \n",
    "         cv= 5,\n",
    "         verbose=3)\n",
    "\n",
    "search.fit(X_train_ext_p,y_train_ext)\n",
    "search.best_params_"
   ]
  },
  {
   "cell_type": "code",
   "execution_count": 25,
   "id": "00710488",
   "metadata": {},
   "outputs": [],
   "source": [
    "opt_params_ext_p = {'min_child_weight': 5, 'max_depth': 3, 'learning_rate': 0.01, 'gamma': 2.0}"
   ]
  },
  {
   "cell_type": "code",
   "execution_count": 47,
   "id": "26dbdfbe",
   "metadata": {
    "scrolled": true
   },
   "outputs": [
    {
     "name": "stdout",
     "output_type": "stream",
     "text": [
      "Fitting 5 folds for each of 10 candidates, totalling 50 fits\n",
      "[CV 1/5] END gamma=2.0, learning_rate=0.2, max_depth=3, min_child_weight=1; accuracy: (test=0.506) f1: (test=0.482) precision: (test=0.495) recall: (test=0.470) total time=   0.0s\n",
      "[CV 2/5] END gamma=2.0, learning_rate=0.2, max_depth=3, min_child_weight=1; accuracy: (test=0.496) f1: (test=0.477) precision: (test=0.484) recall: (test=0.470) total time=   0.0s\n",
      "[CV 3/5] END gamma=2.0, learning_rate=0.2, max_depth=3, min_child_weight=1; accuracy: (test=0.487) f1: (test=0.441) precision: (test=0.473) recall: (test=0.414) total time=   0.0s\n",
      "[CV 4/5] END gamma=2.0, learning_rate=0.2, max_depth=3, min_child_weight=1; accuracy: (test=0.532) f1: (test=0.439) precision: (test=0.534) recall: (test=0.373) total time=   0.0s\n",
      "[CV 5/5] END gamma=2.0, learning_rate=0.2, max_depth=3, min_child_weight=1; accuracy: (test=0.494) f1: (test=0.467) precision: (test=0.484) recall: (test=0.451) total time=   0.0s\n",
      "[CV 1/5] END gamma=0.5, learning_rate=0.1, max_depth=6, min_child_weight=10; accuracy: (test=0.519) f1: (test=0.523) precision: (test=0.508) recall: (test=0.539) total time=   0.0s\n",
      "[CV 2/5] END gamma=0.5, learning_rate=0.1, max_depth=6, min_child_weight=10; accuracy: (test=0.494) f1: (test=0.512) precision: (test=0.485) recall: (test=0.543) total time=   0.0s\n",
      "[CV 3/5] END gamma=0.5, learning_rate=0.1, max_depth=6, min_child_weight=10; accuracy: (test=0.479) f1: (test=0.411) precision: (test=0.460) recall: (test=0.371) total time=   0.0s\n",
      "[CV 4/5] END gamma=0.5, learning_rate=0.1, max_depth=6, min_child_weight=10; accuracy: (test=0.475) f1: (test=0.465) precision: (test=0.466) recall: (test=0.464) total time=   0.1s\n",
      "[CV 5/5] END gamma=0.5, learning_rate=0.1, max_depth=6, min_child_weight=10; accuracy: (test=0.475) f1: (test=0.480) precision: (test=0.467) recall: (test=0.494) total time=   0.0s\n",
      "[CV 1/5] END gamma=1, learning_rate=0.1, max_depth=9, min_child_weight=1; accuracy: (test=0.481) f1: (test=0.458) precision: (test=0.468) recall: (test=0.448) total time=   0.1s\n",
      "[CV 2/5] END gamma=1, learning_rate=0.1, max_depth=9, min_child_weight=1; accuracy: (test=0.513) f1: (test=0.499) precision: (test=0.502) recall: (test=0.496) total time=   0.1s\n",
      "[CV 3/5] END gamma=1, learning_rate=0.1, max_depth=9, min_child_weight=1; accuracy: (test=0.492) f1: (test=0.458) precision: (test=0.479) recall: (test=0.440) total time=   0.1s\n",
      "[CV 4/5] END gamma=1, learning_rate=0.1, max_depth=9, min_child_weight=1; accuracy: (test=0.479) f1: (test=0.455) precision: (test=0.468) recall: (test=0.442) total time=   0.1s\n",
      "[CV 5/5] END gamma=1, learning_rate=0.1, max_depth=9, min_child_weight=1; accuracy: (test=0.498) f1: (test=0.491) precision: (test=0.489) recall: (test=0.494) total time=   0.1s\n",
      "[CV 1/5] END gamma=0.5, learning_rate=0.01, max_depth=6, min_child_weight=1; accuracy: (test=0.489) f1: (test=0.650) precision: (test=0.489) recall: (test=0.970) total time=   0.1s\n",
      "[CV 2/5] END gamma=0.5, learning_rate=0.01, max_depth=6, min_child_weight=1; accuracy: (test=0.489) f1: (test=0.651) precision: (test=0.489) recall: (test=0.974) total time=   0.0s\n",
      "[CV 3/5] END gamma=0.5, learning_rate=0.01, max_depth=6, min_child_weight=1; accuracy: (test=0.485) f1: (test=0.647) precision: (test=0.487) recall: (test=0.966) total time=   0.0s\n",
      "[CV 4/5] END gamma=0.5, learning_rate=0.01, max_depth=6, min_child_weight=1; accuracy: (test=0.479) f1: (test=0.643) precision: (test=0.485) recall: (test=0.953) total time=   0.0s\n",
      "[CV 5/5] END gamma=0.5, learning_rate=0.01, max_depth=6, min_child_weight=1; accuracy: (test=0.489) f1: (test=0.653) precision: (test=0.490) recall: (test=0.979) total time=   0.1s\n",
      "[CV 1/5] END gamma=1, learning_rate=0.1, max_depth=3, min_child_weight=5; accuracy: (test=0.513) f1: (test=0.518) precision: (test=0.502) recall: (test=0.534) total time=   0.0s\n",
      "[CV 2/5] END gamma=1, learning_rate=0.1, max_depth=3, min_child_weight=5; accuracy: (test=0.517) f1: (test=0.512) precision: (test=0.506) recall: (test=0.517) total time=   0.0s\n",
      "[CV 3/5] END gamma=1, learning_rate=0.1, max_depth=3, min_child_weight=5; accuracy: (test=0.521) f1: (test=0.499) precision: (test=0.511) recall: (test=0.487) total time=   0.0s\n",
      "[CV 4/5] END gamma=1, learning_rate=0.1, max_depth=3, min_child_weight=5; accuracy: (test=0.517) f1: (test=0.514) precision: (test=0.508) recall: (test=0.519) total time=   0.0s\n",
      "[CV 5/5] END gamma=1, learning_rate=0.1, max_depth=3, min_child_weight=5; accuracy: (test=0.496) f1: (test=0.493) precision: (test=0.487) recall: (test=0.498) total time=   0.0s\n",
      "[CV 1/5] END gamma=0.5, learning_rate=0.01, max_depth=3, min_child_weight=1; accuracy: (test=0.487) f1: (test=0.654) precision: (test=0.488) recall: (test=0.991) total time=   0.0s\n",
      "[CV 2/5] END gamma=0.5, learning_rate=0.01, max_depth=3, min_child_weight=1; accuracy: (test=0.489) f1: (test=0.657) precision: (test=0.489) recall: (test=1.000) total time=   0.0s\n",
      "[CV 3/5] END gamma=0.5, learning_rate=0.01, max_depth=3, min_child_weight=1; accuracy: (test=0.489) f1: (test=0.657) precision: (test=0.489) recall: (test=1.000) total time=   0.0s\n",
      "[CV 4/5] END gamma=0.5, learning_rate=0.01, max_depth=3, min_child_weight=1; accuracy: (test=0.492) f1: (test=0.659) precision: (test=0.492) recall: (test=1.000) total time=   0.0s\n",
      "[CV 5/5] END gamma=0.5, learning_rate=0.01, max_depth=3, min_child_weight=1; accuracy: (test=0.492) f1: (test=0.657) precision: (test=0.491) recall: (test=0.991) total time=   0.0s\n",
      "[CV 1/5] END gamma=1, learning_rate=0.01, max_depth=3, min_child_weight=10; accuracy: (test=0.489) f1: (test=0.657) precision: (test=0.489) recall: (test=1.000) total time=   0.0s\n",
      "[CV 2/5] END gamma=1, learning_rate=0.01, max_depth=3, min_child_weight=10; accuracy: (test=0.489) f1: (test=0.657) precision: (test=0.489) recall: (test=1.000) total time=   0.0s\n",
      "[CV 3/5] END gamma=1, learning_rate=0.01, max_depth=3, min_child_weight=10; accuracy: (test=0.485) f1: (test=0.651) precision: (test=0.487) recall: (test=0.983) total time=   0.0s\n",
      "[CV 4/5] END gamma=1, learning_rate=0.01, max_depth=3, min_child_weight=10; accuracy: (test=0.492) f1: (test=0.659) precision: (test=0.492) recall: (test=1.000) total time=   0.0s\n",
      "[CV 5/5] END gamma=1, learning_rate=0.01, max_depth=3, min_child_weight=10; accuracy: (test=0.489) f1: (test=0.656) precision: (test=0.490) recall: (test=0.991) total time=   0.0s\n",
      "[CV 1/5] END gamma=0.5, learning_rate=0.1, max_depth=9, min_child_weight=10; accuracy: (test=0.492) f1: (test=0.484) precision: (test=0.481) recall: (test=0.487) total time=   0.1s\n",
      "[CV 2/5] END gamma=0.5, learning_rate=0.1, max_depth=9, min_child_weight=10; accuracy: (test=0.508) f1: (test=0.509) precision: (test=0.498) recall: (test=0.522) total time=   0.0s\n",
      "[CV 3/5] END gamma=0.5, learning_rate=0.1, max_depth=9, min_child_weight=10; accuracy: (test=0.492) f1: (test=0.456) precision: (test=0.479) recall: (test=0.435) total time=   0.1s\n",
      "[CV 4/5] END gamma=0.5, learning_rate=0.1, max_depth=9, min_child_weight=10; accuracy: (test=0.498) f1: (test=0.464) precision: (test=0.488) recall: (test=0.442) total time=   0.1s\n",
      "[CV 5/5] END gamma=0.5, learning_rate=0.1, max_depth=9, min_child_weight=10; accuracy: (test=0.500) f1: (test=0.493) precision: (test=0.491) recall: (test=0.494) total time=   0.1s\n",
      "[CV 1/5] END gamma=0.5, learning_rate=0.01, max_depth=3, min_child_weight=5; accuracy: (test=0.487) f1: (test=0.654) precision: (test=0.488) recall: (test=0.991) total time=   0.0s\n",
      "[CV 2/5] END gamma=0.5, learning_rate=0.01, max_depth=3, min_child_weight=5; accuracy: (test=0.489) f1: (test=0.657) precision: (test=0.489) recall: (test=1.000) total time=   0.0s\n",
      "[CV 3/5] END gamma=0.5, learning_rate=0.01, max_depth=3, min_child_weight=5; accuracy: (test=0.489) f1: (test=0.657) precision: (test=0.489) recall: (test=1.000) total time=   0.0s\n",
      "[CV 4/5] END gamma=0.5, learning_rate=0.01, max_depth=3, min_child_weight=5; accuracy: (test=0.492) f1: (test=0.659) precision: (test=0.492) recall: (test=1.000) total time=   0.0s\n",
      "[CV 5/5] END gamma=0.5, learning_rate=0.01, max_depth=3, min_child_weight=5; accuracy: (test=0.492) f1: (test=0.657) precision: (test=0.491) recall: (test=0.991) total time=   0.0s\n",
      "[CV 1/5] END gamma=2.0, learning_rate=0.01, max_depth=6, min_child_weight=5; accuracy: (test=0.487) f1: (test=0.647) precision: (test=0.488) recall: (test=0.961) total time=   0.0s\n"
     ]
    },
    {
     "name": "stdout",
     "output_type": "stream",
     "text": [
      "[CV 2/5] END gamma=2.0, learning_rate=0.01, max_depth=6, min_child_weight=5; accuracy: (test=0.485) f1: (test=0.648) precision: (test=0.487) recall: (test=0.970) total time=   0.0s\n",
      "[CV 3/5] END gamma=2.0, learning_rate=0.01, max_depth=6, min_child_weight=5; accuracy: (test=0.487) f1: (test=0.653) precision: (test=0.488) recall: (test=0.987) total time=   0.0s\n",
      "[CV 4/5] END gamma=2.0, learning_rate=0.01, max_depth=6, min_child_weight=5; accuracy: (test=0.492) f1: (test=0.652) precision: (test=0.491) recall: (test=0.970) total time=   0.0s\n",
      "[CV 5/5] END gamma=2.0, learning_rate=0.01, max_depth=6, min_child_weight=5; accuracy: (test=0.489) f1: (test=0.655) precision: (test=0.490) recall: (test=0.987) total time=   0.0s\n"
     ]
    },
    {
     "data": {
      "text/plain": [
       "{'min_child_weight': 1, 'max_depth': 3, 'learning_rate': 0.01, 'gamma': 0.5}"
      ]
     },
     "execution_count": 47,
     "metadata": {},
     "output_type": "execute_result"
    }
   ],
   "source": [
    "# Neu\n",
    "xgb_model = xgb.XGBClassifier(objective='binary:hinge')\n",
    "\n",
    "params_dict = {'learning_rate': [0.01, 0.1, 0.2],\n",
    "               'gamma': [0.5, 1, 2.0],\n",
    "               'max_depth': [3, 6, 9],\n",
    "               'min_child_weight': [1, 5, 10],\n",
    "              }\n",
    "\n",
    "search = RandomizedSearchCV(xgb_model,\n",
    "         param_distributions=params_dict,\n",
    "         scoring = ['recall', 'precision', 'accuracy', 'f1'],\n",
    "         refit = 'f1', \n",
    "         cv= 5,\n",
    "         verbose=3)\n",
    "\n",
    "search.fit(X_train_neu_p,y_train_neu)\n",
    "search.best_params_"
   ]
  },
  {
   "cell_type": "code",
   "execution_count": 26,
   "id": "22b4b066",
   "metadata": {},
   "outputs": [],
   "source": [
    "opt_params_neu_p = {'min_child_weight': 1, 'max_depth': 3, 'learning_rate': 0.01, 'gamma': 0.5}"
   ]
  },
  {
   "cell_type": "code",
   "execution_count": 48,
   "id": "9fbc9585",
   "metadata": {
    "scrolled": true
   },
   "outputs": [
    {
     "name": "stdout",
     "output_type": "stream",
     "text": [
      "Fitting 5 folds for each of 10 candidates, totalling 50 fits\n",
      "[CV 1/5] END gamma=2.0, learning_rate=0.2, max_depth=9, min_child_weight=5; accuracy: (test=0.555) f1: (test=0.581) precision: (test=0.577) recall: (test=0.584) total time=   0.1s\n",
      "[CV 2/5] END gamma=2.0, learning_rate=0.2, max_depth=9, min_child_weight=5; accuracy: (test=0.502) f1: (test=0.514) precision: (test=0.527) recall: (test=0.502) total time=   0.0s\n",
      "[CV 3/5] END gamma=2.0, learning_rate=0.2, max_depth=9, min_child_weight=5; accuracy: (test=0.496) f1: (test=0.546) precision: (test=0.518) recall: (test=0.578) total time=   0.0s\n",
      "[CV 4/5] END gamma=2.0, learning_rate=0.2, max_depth=9, min_child_weight=5; accuracy: (test=0.536) f1: (test=0.567) precision: (test=0.556) recall: (test=0.578) total time=   0.0s\n",
      "[CV 5/5] END gamma=2.0, learning_rate=0.2, max_depth=9, min_child_weight=5; accuracy: (test=0.504) f1: (test=0.547) precision: (test=0.526) recall: (test=0.570) total time=   0.1s\n",
      "[CV 1/5] END gamma=0.5, learning_rate=0.2, max_depth=3, min_child_weight=1; accuracy: (test=0.527) f1: (test=0.656) precision: (test=0.532) recall: (test=0.856) total time=   0.0s\n",
      "[CV 2/5] END gamma=0.5, learning_rate=0.2, max_depth=3, min_child_weight=1; accuracy: (test=0.540) f1: (test=0.658) precision: (test=0.540) recall: (test=0.843) total time=   0.0s\n",
      "[CV 3/5] END gamma=0.5, learning_rate=0.2, max_depth=3, min_child_weight=1; accuracy: (test=0.574) f1: (test=0.676) precision: (test=0.563) recall: (test=0.847) total time=   0.0s\n",
      "[CV 4/5] END gamma=0.5, learning_rate=0.2, max_depth=3, min_child_weight=1; accuracy: (test=0.576) f1: (test=0.687) precision: (test=0.561) recall: (test=0.888) total time=   0.0s\n",
      "[CV 5/5] END gamma=0.5, learning_rate=0.2, max_depth=3, min_child_weight=1; accuracy: (test=0.570) f1: (test=0.678) precision: (test=0.558) recall: (test=0.863) total time=   0.0s\n",
      "[CV 1/5] END gamma=1, learning_rate=0.01, max_depth=3, min_child_weight=5; accuracy: (test=0.532) f1: (test=0.687) precision: (test=0.530) recall: (test=0.976) total time=   0.0s\n",
      "[CV 2/5] END gamma=1, learning_rate=0.01, max_depth=3, min_child_weight=5; accuracy: (test=0.538) f1: (test=0.682) precision: (test=0.534) recall: (test=0.944) total time=   0.0s\n",
      "[CV 3/5] END gamma=1, learning_rate=0.01, max_depth=3, min_child_weight=5; accuracy: (test=0.546) f1: (test=0.697) precision: (test=0.537) recall: (test=0.992) total time=   0.0s\n",
      "[CV 4/5] END gamma=1, learning_rate=0.01, max_depth=3, min_child_weight=5; accuracy: (test=0.546) f1: (test=0.696) precision: (test=0.537) recall: (test=0.988) total time=   0.0s\n",
      "[CV 5/5] END gamma=1, learning_rate=0.01, max_depth=3, min_child_weight=5; accuracy: (test=0.540) f1: (test=0.696) precision: (test=0.533) recall: (test=1.000) total time=   0.0s\n",
      "[CV 1/5] END gamma=1, learning_rate=0.01, max_depth=9, min_child_weight=1; accuracy: (test=0.519) f1: (test=0.659) precision: (test=0.526) recall: (test=0.880) total time=   0.3s\n",
      "[CV 2/5] END gamma=1, learning_rate=0.01, max_depth=9, min_child_weight=1; accuracy: (test=0.563) f1: (test=0.685) precision: (test=0.551) recall: (test=0.904) total time=   0.2s\n",
      "[CV 3/5] END gamma=1, learning_rate=0.01, max_depth=9, min_child_weight=1; accuracy: (test=0.544) f1: (test=0.680) precision: (test=0.539) recall: (test=0.924) total time=   0.2s\n",
      "[CV 4/5] END gamma=1, learning_rate=0.01, max_depth=9, min_child_weight=1; accuracy: (test=0.561) f1: (test=0.690) precision: (test=0.548) recall: (test=0.932) total time=   0.2s\n",
      "[CV 5/5] END gamma=1, learning_rate=0.01, max_depth=9, min_child_weight=1; accuracy: (test=0.565) f1: (test=0.694) precision: (test=0.551) recall: (test=0.940) total time=   0.2s\n",
      "[CV 1/5] END gamma=0.5, learning_rate=0.1, max_depth=6, min_child_weight=1; accuracy: (test=0.519) f1: (test=0.621) precision: (test=0.531) recall: (test=0.748) total time=   0.0s\n",
      "[CV 2/5] END gamma=0.5, learning_rate=0.1, max_depth=6, min_child_weight=1; accuracy: (test=0.555) f1: (test=0.628) precision: (test=0.560) recall: (test=0.715) total time=   0.0s\n",
      "[CV 3/5] END gamma=0.5, learning_rate=0.1, max_depth=6, min_child_weight=1; accuracy: (test=0.551) f1: (test=0.648) precision: (test=0.551) recall: (test=0.787) total time=   0.0s\n",
      "[CV 4/5] END gamma=0.5, learning_rate=0.1, max_depth=6, min_child_weight=1; accuracy: (test=0.576) f1: (test=0.673) precision: (test=0.566) recall: (test=0.831) total time=   0.0s\n",
      "[CV 5/5] END gamma=0.5, learning_rate=0.1, max_depth=6, min_child_weight=1; accuracy: (test=0.557) f1: (test=0.644) precision: (test=0.557) recall: (test=0.763) total time=   0.0s\n",
      "[CV 1/5] END gamma=0.5, learning_rate=0.1, max_depth=3, min_child_weight=10; accuracy: (test=0.538) f1: (test=0.682) precision: (test=0.535) recall: (test=0.940) total time=   0.0s\n",
      "[CV 2/5] END gamma=0.5, learning_rate=0.1, max_depth=3, min_child_weight=10; accuracy: (test=0.530) f1: (test=0.667) precision: (test=0.531) recall: (test=0.896) total time=   0.0s\n",
      "[CV 3/5] END gamma=0.5, learning_rate=0.1, max_depth=3, min_child_weight=10; accuracy: (test=0.570) f1: (test=0.692) precision: (test=0.554) recall: (test=0.920) total time=   0.0s\n",
      "[CV 4/5] END gamma=0.5, learning_rate=0.1, max_depth=3, min_child_weight=10; accuracy: (test=0.574) f1: (test=0.699) precision: (test=0.556) recall: (test=0.944) total time=   0.0s\n",
      "[CV 5/5] END gamma=0.5, learning_rate=0.1, max_depth=3, min_child_weight=10; accuracy: (test=0.549) f1: (test=0.679) precision: (test=0.542) recall: (test=0.908) total time=   0.0s\n",
      "[CV 1/5] END gamma=2.0, learning_rate=0.01, max_depth=3, min_child_weight=1; accuracy: (test=0.532) f1: (test=0.687) precision: (test=0.530) recall: (test=0.976) total time=   0.1s\n",
      "[CV 2/5] END gamma=2.0, learning_rate=0.01, max_depth=3, min_child_weight=1; accuracy: (test=0.538) f1: (test=0.682) precision: (test=0.534) recall: (test=0.944) total time=   0.0s\n",
      "[CV 3/5] END gamma=2.0, learning_rate=0.01, max_depth=3, min_child_weight=1; accuracy: (test=0.546) f1: (test=0.697) precision: (test=0.537) recall: (test=0.992) total time=   0.0s\n",
      "[CV 4/5] END gamma=2.0, learning_rate=0.01, max_depth=3, min_child_weight=1; accuracy: (test=0.546) f1: (test=0.696) precision: (test=0.537) recall: (test=0.988) total time=   0.0s\n",
      "[CV 5/5] END gamma=2.0, learning_rate=0.01, max_depth=3, min_child_weight=1; accuracy: (test=0.540) f1: (test=0.696) precision: (test=0.533) recall: (test=1.000) total time=   0.0s\n",
      "[CV 1/5] END gamma=2.0, learning_rate=0.01, max_depth=9, min_child_weight=10; accuracy: (test=0.538) f1: (test=0.680) precision: (test=0.536) recall: (test=0.932) total time=   0.2s\n",
      "[CV 2/5] END gamma=2.0, learning_rate=0.01, max_depth=9, min_child_weight=10; accuracy: (test=0.549) f1: (test=0.689) precision: (test=0.540) recall: (test=0.952) total time=   0.3s\n",
      "[CV 3/5] END gamma=2.0, learning_rate=0.01, max_depth=9, min_child_weight=10; accuracy: (test=0.546) f1: (test=0.692) precision: (test=0.538) recall: (test=0.968) total time=   0.3s\n",
      "[CV 4/5] END gamma=2.0, learning_rate=0.01, max_depth=9, min_child_weight=10; accuracy: (test=0.555) f1: (test=0.698) precision: (test=0.542) recall: (test=0.980) total time=   0.3s\n",
      "[CV 5/5] END gamma=2.0, learning_rate=0.01, max_depth=9, min_child_weight=10; accuracy: (test=0.555) f1: (test=0.692) precision: (test=0.544) recall: (test=0.952) total time=   0.2s\n",
      "[CV 1/5] END gamma=2.0, learning_rate=0.2, max_depth=3, min_child_weight=10; accuracy: (test=0.530) f1: (test=0.643) precision: (test=0.536) recall: (test=0.804) total time=   0.1s\n",
      "[CV 2/5] END gamma=2.0, learning_rate=0.2, max_depth=3, min_child_weight=10; accuracy: (test=0.534) f1: (test=0.638) precision: (test=0.539) recall: (test=0.783) total time=   0.0s\n",
      "[CV 3/5] END gamma=2.0, learning_rate=0.2, max_depth=3, min_child_weight=10; accuracy: (test=0.576) f1: (test=0.673) precision: (test=0.566) recall: (test=0.831) total time=   0.0s\n",
      "[CV 4/5] END gamma=2.0, learning_rate=0.2, max_depth=3, min_child_weight=10; accuracy: (test=0.563) f1: (test=0.680) precision: (test=0.553) recall: (test=0.884) total time=   0.0s\n",
      "[CV 5/5] END gamma=2.0, learning_rate=0.2, max_depth=3, min_child_weight=10; accuracy: (test=0.578) f1: (test=0.677) precision: (test=0.566) recall: (test=0.843) total time=   0.0s\n",
      "[CV 1/5] END gamma=0.5, learning_rate=0.1, max_depth=9, min_child_weight=10; accuracy: (test=0.555) f1: (test=0.597) precision: (test=0.571) recall: (test=0.624) total time=   0.2s\n"
     ]
    },
    {
     "name": "stdout",
     "output_type": "stream",
     "text": [
      "[CV 2/5] END gamma=0.5, learning_rate=0.1, max_depth=9, min_child_weight=10; accuracy: (test=0.519) f1: (test=0.551) precision: (test=0.541) recall: (test=0.562) total time=   0.2s\n",
      "[CV 3/5] END gamma=0.5, learning_rate=0.1, max_depth=9, min_child_weight=10; accuracy: (test=0.551) f1: (test=0.591) precision: (test=0.566) recall: (test=0.618) total time=   0.2s\n",
      "[CV 4/5] END gamma=0.5, learning_rate=0.1, max_depth=9, min_child_weight=10; accuracy: (test=0.521) f1: (test=0.538) precision: (test=0.545) recall: (test=0.530) total time=   0.1s\n",
      "[CV 5/5] END gamma=0.5, learning_rate=0.1, max_depth=9, min_child_weight=10; accuracy: (test=0.561) f1: (test=0.595) precision: (test=0.577) recall: (test=0.614) total time=   0.2s\n"
     ]
    },
    {
     "data": {
      "text/plain": [
       "{'min_child_weight': 5, 'max_depth': 3, 'learning_rate': 0.01, 'gamma': 1}"
      ]
     },
     "execution_count": 48,
     "metadata": {},
     "output_type": "execute_result"
    }
   ],
   "source": [
    "# Agr\n",
    "xgb_model = xgb.XGBClassifier(objective='binary:hinge')\n",
    "\n",
    "params_dict = {'learning_rate': [0.01, 0.1, 0.2],\n",
    "               'gamma': [0.5, 1, 2.0],\n",
    "               'max_depth': [3, 6, 9],\n",
    "               'min_child_weight': [1, 5, 10],\n",
    "              }\n",
    "\n",
    "search = RandomizedSearchCV(xgb_model,\n",
    "         param_distributions=params_dict,\n",
    "         scoring = ['recall', 'precision', 'accuracy', 'f1'],\n",
    "         refit = 'f1', \n",
    "         cv= 5,\n",
    "         verbose=3)\n",
    "\n",
    "search.fit(X_train_agr_p,y_train_agr)\n",
    "search.best_params_"
   ]
  },
  {
   "cell_type": "code",
   "execution_count": 27,
   "id": "1ff8dd4a",
   "metadata": {},
   "outputs": [],
   "source": [
    "opt_params_agr_p = {'min_child_weight': 5, 'max_depth': 3, 'learning_rate': 0.01, 'gamma': 1}"
   ]
  },
  {
   "cell_type": "code",
   "execution_count": 49,
   "id": "bae3a693",
   "metadata": {
    "scrolled": true
   },
   "outputs": [
    {
     "name": "stdout",
     "output_type": "stream",
     "text": [
      "Fitting 5 folds for each of 10 candidates, totalling 50 fits\n",
      "[CV 1/5] END gamma=0.5, learning_rate=0.2, max_depth=9, min_child_weight=5; accuracy: (test=0.519) f1: (test=0.537) precision: (test=0.528) recall: (test=0.545) total time=   0.0s\n",
      "[CV 2/5] END gamma=0.5, learning_rate=0.2, max_depth=9, min_child_weight=5; accuracy: (test=0.515) f1: (test=0.509) precision: (test=0.527) recall: (test=0.492) total time=   0.0s\n",
      "[CV 3/5] END gamma=0.5, learning_rate=0.2, max_depth=9, min_child_weight=5; accuracy: (test=0.519) f1: (test=0.525) precision: (test=0.527) recall: (test=0.523) total time=   0.0s\n",
      "[CV 4/5] END gamma=0.5, learning_rate=0.2, max_depth=9, min_child_weight=5; accuracy: (test=0.515) f1: (test=0.547) precision: (test=0.521) recall: (test=0.577) total time=   0.0s\n",
      "[CV 5/5] END gamma=0.5, learning_rate=0.2, max_depth=9, min_child_weight=5; accuracy: (test=0.530) f1: (test=0.548) precision: (test=0.536) recall: (test=0.560) total time=   0.1s\n",
      "[CV 1/5] END gamma=1, learning_rate=0.2, max_depth=9, min_child_weight=5; accuracy: (test=0.565) f1: (test=0.583) precision: (test=0.571) recall: (test=0.595) total time=   0.0s\n",
      "[CV 2/5] END gamma=1, learning_rate=0.2, max_depth=9, min_child_weight=5; accuracy: (test=0.559) f1: (test=0.558) precision: (test=0.571) recall: (test=0.545) total time=   0.0s\n",
      "[CV 3/5] END gamma=1, learning_rate=0.2, max_depth=9, min_child_weight=5; accuracy: (test=0.515) f1: (test=0.517) precision: (test=0.523) recall: (test=0.510) total time=   0.0s\n",
      "[CV 4/5] END gamma=1, learning_rate=0.2, max_depth=9, min_child_weight=5; accuracy: (test=0.519) f1: (test=0.538) precision: (test=0.526) recall: (test=0.552) total time=   0.0s\n",
      "[CV 5/5] END gamma=1, learning_rate=0.2, max_depth=9, min_child_weight=5; accuracy: (test=0.538) f1: (test=0.535) precision: (test=0.548) recall: (test=0.523) total time=   0.0s\n",
      "[CV 1/5] END gamma=0.5, learning_rate=0.2, max_depth=3, min_child_weight=10; accuracy: (test=0.521) f1: (test=0.615) precision: (test=0.522) recall: (test=0.748) total time=   0.0s\n",
      "[CV 2/5] END gamma=0.5, learning_rate=0.2, max_depth=3, min_child_weight=10; accuracy: (test=0.527) f1: (test=0.624) precision: (test=0.525) recall: (test=0.769) total time=   0.0s\n",
      "[CV 3/5] END gamma=0.5, learning_rate=0.2, max_depth=3, min_child_weight=10; accuracy: (test=0.523) f1: (test=0.625) precision: (test=0.521) recall: (test=0.780) total time=   0.0s\n",
      "[CV 4/5] END gamma=0.5, learning_rate=0.2, max_depth=3, min_child_weight=10; accuracy: (test=0.532) f1: (test=0.620) precision: (test=0.528) recall: (test=0.751) total time=   0.0s\n",
      "[CV 5/5] END gamma=0.5, learning_rate=0.2, max_depth=3, min_child_weight=10; accuracy: (test=0.511) f1: (test=0.592) precision: (test=0.514) recall: (test=0.697) total time=   0.0s\n",
      "[CV 1/5] END gamma=0.5, learning_rate=0.1, max_depth=6, min_child_weight=5; accuracy: (test=0.544) f1: (test=0.618) precision: (test=0.540) recall: (test=0.723) total time=   0.1s\n",
      "[CV 2/5] END gamma=0.5, learning_rate=0.1, max_depth=6, min_child_weight=5; accuracy: (test=0.519) f1: (test=0.597) precision: (test=0.522) recall: (test=0.698) total time=   0.1s\n",
      "[CV 3/5] END gamma=0.5, learning_rate=0.1, max_depth=6, min_child_weight=5; accuracy: (test=0.513) f1: (test=0.585) precision: (test=0.516) recall: (test=0.676) total time=   0.1s\n",
      "[CV 4/5] END gamma=0.5, learning_rate=0.1, max_depth=6, min_child_weight=5; accuracy: (test=0.508) f1: (test=0.577) precision: (test=0.513) recall: (test=0.660) total time=   0.1s\n",
      "[CV 5/5] END gamma=0.5, learning_rate=0.1, max_depth=6, min_child_weight=5; accuracy: (test=0.530) f1: (test=0.612) precision: (test=0.527) recall: (test=0.730) total time=   0.2s\n",
      "[CV 1/5] END gamma=1, learning_rate=0.1, max_depth=9, min_child_weight=1; accuracy: (test=0.563) f1: (test=0.582) precision: (test=0.569) recall: (test=0.595) total time=   0.3s\n",
      "[CV 2/5] END gamma=1, learning_rate=0.1, max_depth=9, min_child_weight=1; accuracy: (test=0.530) f1: (test=0.549) precision: (test=0.538) recall: (test=0.562) total time=   0.2s\n",
      "[CV 3/5] END gamma=1, learning_rate=0.1, max_depth=9, min_child_weight=1; accuracy: (test=0.506) f1: (test=0.528) precision: (test=0.514) recall: (test=0.544) total time=   0.3s\n",
      "[CV 4/5] END gamma=1, learning_rate=0.1, max_depth=9, min_child_weight=1; accuracy: (test=0.508) f1: (test=0.524) precision: (test=0.516) recall: (test=0.531) total time=   0.2s\n",
      "[CV 5/5] END gamma=1, learning_rate=0.1, max_depth=9, min_child_weight=1; accuracy: (test=0.479) f1: (test=0.507) precision: (test=0.488) recall: (test=0.527) total time=   0.2s\n",
      "[CV 1/5] END gamma=1, learning_rate=0.01, max_depth=6, min_child_weight=5; accuracy: (test=0.513) f1: (test=0.673) precision: (test=0.512) recall: (test=0.983) total time=   0.1s\n",
      "[CV 2/5] END gamma=1, learning_rate=0.01, max_depth=6, min_child_weight=5; accuracy: (test=0.508) f1: (test=0.665) precision: (test=0.510) recall: (test=0.955) total time=   0.1s\n",
      "[CV 3/5] END gamma=1, learning_rate=0.01, max_depth=6, min_child_weight=5; accuracy: (test=0.515) f1: (test=0.667) precision: (test=0.512) recall: (test=0.954) total time=   0.2s\n",
      "[CV 4/5] END gamma=1, learning_rate=0.01, max_depth=6, min_child_weight=5; accuracy: (test=0.500) f1: (test=0.659) precision: (test=0.504) recall: (test=0.950) total time=   0.1s\n",
      "[CV 5/5] END gamma=1, learning_rate=0.01, max_depth=6, min_child_weight=5; accuracy: (test=0.502) f1: (test=0.663) precision: (test=0.505) recall: (test=0.963) total time=   0.1s\n",
      "[CV 1/5] END gamma=1, learning_rate=0.1, max_depth=9, min_child_weight=10; accuracy: (test=0.551) f1: (test=0.573) precision: (test=0.556) recall: (test=0.591) total time=   0.1s\n",
      "[CV 2/5] END gamma=1, learning_rate=0.1, max_depth=9, min_child_weight=10; accuracy: (test=0.515) f1: (test=0.538) precision: (test=0.523) recall: (test=0.554) total time=   0.2s\n",
      "[CV 3/5] END gamma=1, learning_rate=0.1, max_depth=9, min_child_weight=10; accuracy: (test=0.546) f1: (test=0.555) precision: (test=0.554) recall: (test=0.556) total time=   0.2s\n",
      "[CV 4/5] END gamma=1, learning_rate=0.1, max_depth=9, min_child_weight=10; accuracy: (test=0.525) f1: (test=0.556) precision: (test=0.530) recall: (test=0.585) total time=   0.2s\n",
      "[CV 5/5] END gamma=1, learning_rate=0.1, max_depth=9, min_child_weight=10; accuracy: (test=0.508) f1: (test=0.518) precision: (test=0.517) recall: (test=0.519) total time=   0.1s\n",
      "[CV 1/5] END gamma=1, learning_rate=0.01, max_depth=9, min_child_weight=10; accuracy: (test=0.523) f1: (test=0.678) precision: (test=0.517) recall: (test=0.983) total time=   0.4s\n",
      "[CV 2/5] END gamma=1, learning_rate=0.01, max_depth=9, min_child_weight=10; accuracy: (test=0.515) f1: (test=0.666) precision: (test=0.513) recall: (test=0.946) total time=   0.5s\n",
      "[CV 3/5] END gamma=1, learning_rate=0.01, max_depth=9, min_child_weight=10; accuracy: (test=0.525) f1: (test=0.667) precision: (test=0.518) recall: (test=0.934) total time=   0.3s\n",
      "[CV 4/5] END gamma=1, learning_rate=0.01, max_depth=9, min_child_weight=10; accuracy: (test=0.506) f1: (test=0.663) precision: (test=0.508) recall: (test=0.954) total time=   0.4s\n",
      "[CV 5/5] END gamma=1, learning_rate=0.01, max_depth=9, min_child_weight=10; accuracy: (test=0.519) f1: (test=0.671) precision: (test=0.514) recall: (test=0.967) total time=   0.4s\n",
      "[CV 1/5] END gamma=2.0, learning_rate=0.2, max_depth=9, min_child_weight=10; accuracy: (test=0.523) f1: (test=0.535) precision: (test=0.533) recall: (test=0.537) total time=   0.2s\n",
      "[CV 2/5] END gamma=2.0, learning_rate=0.2, max_depth=9, min_child_weight=10; accuracy: (test=0.527) f1: (test=0.556) precision: (test=0.534) recall: (test=0.579) total time=   0.2s\n",
      "[CV 3/5] END gamma=2.0, learning_rate=0.2, max_depth=9, min_child_weight=10; accuracy: (test=0.477) f1: (test=0.485) precision: (test=0.485) recall: (test=0.485) total time=   0.3s\n",
      "[CV 4/5] END gamma=2.0, learning_rate=0.2, max_depth=9, min_child_weight=10; accuracy: (test=0.506) f1: (test=0.530) precision: (test=0.514) recall: (test=0.548) total time=   0.2s\n",
      "[CV 5/5] END gamma=2.0, learning_rate=0.2, max_depth=9, min_child_weight=10; accuracy: (test=0.542) f1: (test=0.556) precision: (test=0.548) recall: (test=0.564) total time=   0.2s\n",
      "[CV 1/5] END gamma=2.0, learning_rate=0.01, max_depth=3, min_child_weight=10; accuracy: (test=0.508) f1: (test=0.670) precision: (test=0.510) recall: (test=0.979) total time=   0.0s\n"
     ]
    },
    {
     "name": "stdout",
     "output_type": "stream",
     "text": [
      "[CV 2/5] END gamma=2.0, learning_rate=0.01, max_depth=3, min_child_weight=10; accuracy: (test=0.502) f1: (test=0.663) precision: (test=0.507) recall: (test=0.959) total time=   0.0s\n",
      "[CV 3/5] END gamma=2.0, learning_rate=0.01, max_depth=3, min_child_weight=10; accuracy: (test=0.504) f1: (test=0.661) precision: (test=0.507) recall: (test=0.950) total time=   0.0s\n",
      "[CV 4/5] END gamma=2.0, learning_rate=0.01, max_depth=3, min_child_weight=10; accuracy: (test=0.504) f1: (test=0.669) precision: (test=0.506) recall: (test=0.983) total time=   0.1s\n",
      "[CV 5/5] END gamma=2.0, learning_rate=0.01, max_depth=3, min_child_weight=10; accuracy: (test=0.506) f1: (test=0.669) precision: (test=0.507) recall: (test=0.983) total time=   0.0s\n"
     ]
    },
    {
     "data": {
      "text/plain": [
       "{'min_child_weight': 10, 'max_depth': 9, 'learning_rate': 0.01, 'gamma': 1}"
      ]
     },
     "execution_count": 49,
     "metadata": {},
     "output_type": "execute_result"
    }
   ],
   "source": [
    "# Con\n",
    "xgb_model = xgb.XGBClassifier(objective='binary:hinge')\n",
    "\n",
    "params_dict = {'learning_rate': [0.01, 0.1, 0.2],\n",
    "               'gamma': [0.5, 1, 2.0],\n",
    "               'max_depth': [3, 6, 9],\n",
    "               'min_child_weight': [1, 5, 10],\n",
    "              }\n",
    "\n",
    "search = RandomizedSearchCV(xgb_model,\n",
    "         param_distributions=params_dict,\n",
    "         scoring = ['recall', 'precision', 'accuracy', 'f1'],\n",
    "         refit = 'f1', \n",
    "         cv= 5,\n",
    "         verbose=3)\n",
    "\n",
    "search.fit(X_train_con_p,y_train_con)\n",
    "search.best_params_"
   ]
  },
  {
   "cell_type": "code",
   "execution_count": 28,
   "id": "600fa02c",
   "metadata": {},
   "outputs": [],
   "source": [
    "opt_params_con_p = {'min_child_weight': 10, 'max_depth': 9, 'learning_rate': 0.01, 'gamma': 1}"
   ]
  },
  {
   "cell_type": "code",
   "execution_count": 50,
   "id": "269dbc7e",
   "metadata": {
    "scrolled": true
   },
   "outputs": [
    {
     "name": "stdout",
     "output_type": "stream",
     "text": [
      "Fitting 5 folds for each of 10 candidates, totalling 50 fits\n",
      "[CV 1/5] END gamma=1, learning_rate=0.2, max_depth=9, min_child_weight=5; accuracy: (test=0.557) f1: (test=0.545) precision: (test=0.545) recall: (test=0.545) total time=   0.1s\n",
      "[CV 2/5] END gamma=1, learning_rate=0.2, max_depth=9, min_child_weight=5; accuracy: (test=0.532) f1: (test=0.515) precision: (test=0.518) recall: (test=0.513) total time=   0.1s\n",
      "[CV 3/5] END gamma=1, learning_rate=0.2, max_depth=9, min_child_weight=5; accuracy: (test=0.542) f1: (test=0.525) precision: (test=0.529) recall: (test=0.522) total time=   0.1s\n",
      "[CV 4/5] END gamma=1, learning_rate=0.2, max_depth=9, min_child_weight=5; accuracy: (test=0.506) f1: (test=0.498) precision: (test=0.492) recall: (test=0.504) total time=   0.2s\n",
      "[CV 5/5] END gamma=1, learning_rate=0.2, max_depth=9, min_child_weight=5; accuracy: (test=0.525) f1: (test=0.518) precision: (test=0.511) recall: (test=0.526) total time=   0.2s\n",
      "[CV 1/5] END gamma=2.0, learning_rate=0.01, max_depth=6, min_child_weight=5; accuracy: (test=0.521) f1: (test=0.662) precision: (test=0.505) recall: (test=0.961) total time=   0.2s\n",
      "[CV 2/5] END gamma=2.0, learning_rate=0.01, max_depth=6, min_child_weight=5; accuracy: (test=0.521) f1: (test=0.657) precision: (test=0.503) recall: (test=0.943) total time=   0.2s\n",
      "[CV 3/5] END gamma=2.0, learning_rate=0.01, max_depth=6, min_child_weight=5; accuracy: (test=0.527) f1: (test=0.667) precision: (test=0.507) recall: (test=0.974) total time=   0.2s\n",
      "[CV 4/5] END gamma=2.0, learning_rate=0.01, max_depth=6, min_child_weight=5; accuracy: (test=0.494) f1: (test=0.649) precision: (test=0.489) recall: (test=0.965) total time=   0.1s\n",
      "[CV 5/5] END gamma=2.0, learning_rate=0.01, max_depth=6, min_child_weight=5; accuracy: (test=0.519) f1: (test=0.663) precision: (test=0.502) recall: (test=0.974) total time=   0.1s\n",
      "[CV 1/5] END gamma=2.0, learning_rate=0.1, max_depth=6, min_child_weight=1; accuracy: (test=0.572) f1: (test=0.595) precision: (test=0.552) recall: (test=0.645) total time=   0.1s\n",
      "[CV 2/5] END gamma=2.0, learning_rate=0.1, max_depth=6, min_child_weight=1; accuracy: (test=0.555) f1: (test=0.589) precision: (test=0.534) recall: (test=0.657) total time=   0.1s\n",
      "[CV 3/5] END gamma=2.0, learning_rate=0.1, max_depth=6, min_child_weight=1; accuracy: (test=0.538) f1: (test=0.571) precision: (test=0.520) recall: (test=0.635) total time=   0.1s\n",
      "[CV 4/5] END gamma=2.0, learning_rate=0.1, max_depth=6, min_child_weight=1; accuracy: (test=0.513) f1: (test=0.585) precision: (test=0.498) recall: (test=0.709) total time=   0.2s\n",
      "[CV 5/5] END gamma=2.0, learning_rate=0.1, max_depth=6, min_child_weight=1; accuracy: (test=0.544) f1: (test=0.563) precision: (test=0.527) recall: (test=0.604) total time=   0.2s\n",
      "[CV 1/5] END gamma=1, learning_rate=0.01, max_depth=9, min_child_weight=1; accuracy: (test=0.519) f1: (test=0.644) precision: (test=0.504) recall: (test=0.892) total time=   0.8s\n",
      "[CV 2/5] END gamma=1, learning_rate=0.01, max_depth=9, min_child_weight=1; accuracy: (test=0.521) f1: (test=0.641) precision: (test=0.504) recall: (test=0.883) total time=   0.5s\n",
      "[CV 3/5] END gamma=1, learning_rate=0.01, max_depth=9, min_child_weight=1; accuracy: (test=0.500) f1: (test=0.635) precision: (test=0.492) recall: (test=0.896) total time=   0.2s\n",
      "[CV 4/5] END gamma=1, learning_rate=0.01, max_depth=9, min_child_weight=1; accuracy: (test=0.483) f1: (test=0.626) precision: (test=0.482) recall: (test=0.891) total time=   0.2s\n",
      "[CV 5/5] END gamma=1, learning_rate=0.01, max_depth=9, min_child_weight=1; accuracy: (test=0.534) f1: (test=0.654) precision: (test=0.511) recall: (test=0.909) total time=   0.2s\n",
      "[CV 1/5] END gamma=1, learning_rate=0.2, max_depth=6, min_child_weight=1; accuracy: (test=0.542) f1: (test=0.553) precision: (test=0.528) recall: (test=0.580) total time=   0.1s\n",
      "[CV 2/5] END gamma=1, learning_rate=0.2, max_depth=6, min_child_weight=1; accuracy: (test=0.551) f1: (test=0.544) precision: (test=0.536) recall: (test=0.552) total time=   0.1s\n",
      "[CV 3/5] END gamma=1, learning_rate=0.2, max_depth=6, min_child_weight=1; accuracy: (test=0.553) f1: (test=0.527) precision: (test=0.541) recall: (test=0.513) total time=   0.0s\n",
      "[CV 4/5] END gamma=1, learning_rate=0.2, max_depth=6, min_child_weight=1; accuracy: (test=0.511) f1: (test=0.519) precision: (test=0.496) recall: (test=0.543) total time=   0.0s\n",
      "[CV 5/5] END gamma=1, learning_rate=0.2, max_depth=6, min_child_weight=1; accuracy: (test=0.519) f1: (test=0.493) precision: (test=0.505) recall: (test=0.483) total time=   0.0s\n",
      "[CV 1/5] END gamma=2.0, learning_rate=0.01, max_depth=9, min_child_weight=1; accuracy: (test=0.511) f1: (test=0.641) precision: (test=0.499) recall: (test=0.896) total time=   0.2s\n",
      "[CV 2/5] END gamma=2.0, learning_rate=0.01, max_depth=9, min_child_weight=1; accuracy: (test=0.523) f1: (test=0.639) precision: (test=0.505) recall: (test=0.870) total time=   0.2s\n",
      "[CV 3/5] END gamma=2.0, learning_rate=0.01, max_depth=9, min_child_weight=1; accuracy: (test=0.502) f1: (test=0.637) precision: (test=0.493) recall: (test=0.900) total time=   0.2s\n",
      "[CV 4/5] END gamma=2.0, learning_rate=0.01, max_depth=9, min_child_weight=1; accuracy: (test=0.487) f1: (test=0.629) precision: (test=0.485) recall: (test=0.896) total time=   0.2s\n",
      "[CV 5/5] END gamma=2.0, learning_rate=0.01, max_depth=9, min_child_weight=1; accuracy: (test=0.527) f1: (test=0.651) precision: (test=0.507) recall: (test=0.909) total time=   0.2s\n",
      "[CV 1/5] END gamma=2.0, learning_rate=0.01, max_depth=6, min_child_weight=1; accuracy: (test=0.517) f1: (test=0.659) precision: (test=0.502) recall: (test=0.957) total time=   0.1s\n",
      "[CV 2/5] END gamma=2.0, learning_rate=0.01, max_depth=6, min_child_weight=1; accuracy: (test=0.521) f1: (test=0.656) precision: (test=0.503) recall: (test=0.939) total time=   0.1s\n",
      "[CV 3/5] END gamma=2.0, learning_rate=0.01, max_depth=6, min_child_weight=1; accuracy: (test=0.517) f1: (test=0.661) precision: (test=0.501) recall: (test=0.970) total time=   0.1s\n",
      "[CV 4/5] END gamma=2.0, learning_rate=0.01, max_depth=6, min_child_weight=1; accuracy: (test=0.494) f1: (test=0.648) precision: (test=0.489) recall: (test=0.961) total time=   0.1s\n",
      "[CV 5/5] END gamma=2.0, learning_rate=0.01, max_depth=6, min_child_weight=1; accuracy: (test=0.519) f1: (test=0.658) precision: (test=0.502) recall: (test=0.952) total time=   0.1s\n",
      "[CV 1/5] END gamma=1, learning_rate=0.01, max_depth=9, min_child_weight=10; accuracy: (test=0.523) f1: (test=0.658) precision: (test=0.506) recall: (test=0.939) total time=   0.1s\n",
      "[CV 2/5] END gamma=1, learning_rate=0.01, max_depth=9, min_child_weight=10; accuracy: (test=0.527) f1: (test=0.651) precision: (test=0.507) recall: (test=0.909) total time=   0.1s\n",
      "[CV 3/5] END gamma=1, learning_rate=0.01, max_depth=9, min_child_weight=10; accuracy: (test=0.519) f1: (test=0.661) precision: (test=0.502) recall: (test=0.965) total time=   0.2s\n",
      "[CV 4/5] END gamma=1, learning_rate=0.01, max_depth=9, min_child_weight=10; accuracy: (test=0.483) f1: (test=0.640) precision: (test=0.483) recall: (test=0.948) total time=   0.1s\n",
      "[CV 5/5] END gamma=1, learning_rate=0.01, max_depth=9, min_child_weight=10; accuracy: (test=0.525) f1: (test=0.663) precision: (test=0.506) recall: (test=0.961) total time=   0.1s\n",
      "[CV 1/5] END gamma=0.5, learning_rate=0.2, max_depth=6, min_child_weight=10; accuracy: (test=0.534) f1: (test=0.510) precision: (test=0.523) recall: (test=0.498) total time=   0.0s\n",
      "[CV 2/5] END gamma=0.5, learning_rate=0.2, max_depth=6, min_child_weight=10; accuracy: (test=0.527) f1: (test=0.519) precision: (test=0.513) recall: (test=0.526) total time=   0.0s\n",
      "[CV 3/5] END gamma=0.5, learning_rate=0.2, max_depth=6, min_child_weight=10; accuracy: (test=0.570) f1: (test=0.549) precision: (test=0.559) recall: (test=0.539) total time=   0.0s\n",
      "[CV 4/5] END gamma=0.5, learning_rate=0.2, max_depth=6, min_child_weight=10; accuracy: (test=0.523) f1: (test=0.517) precision: (test=0.508) recall: (test=0.526) total time=   0.0s\n",
      "[CV 5/5] END gamma=0.5, learning_rate=0.2, max_depth=6, min_child_weight=10; accuracy: (test=0.572) f1: (test=0.544) precision: (test=0.563) recall: (test=0.526) total time=   0.0s\n",
      "[CV 1/5] END gamma=0.5, learning_rate=0.2, max_depth=3, min_child_weight=10; accuracy: (test=0.584) f1: (test=0.584) precision: (test=0.570) recall: (test=0.597) total time=   0.0s\n",
      "[CV 2/5] END gamma=0.5, learning_rate=0.2, max_depth=3, min_child_weight=10; accuracy: (test=0.538) f1: (test=0.559) precision: (test=0.521) recall: (test=0.604) total time=   0.0s\n"
     ]
    },
    {
     "name": "stdout",
     "output_type": "stream",
     "text": [
      "[CV 3/5] END gamma=0.5, learning_rate=0.2, max_depth=3, min_child_weight=10; accuracy: (test=0.542) f1: (test=0.551) precision: (test=0.526) recall: (test=0.578) total time=   0.0s\n",
      "[CV 4/5] END gamma=0.5, learning_rate=0.2, max_depth=3, min_child_weight=10; accuracy: (test=0.536) f1: (test=0.567) precision: (test=0.518) recall: (test=0.626) total time=   0.0s\n",
      "[CV 5/5] END gamma=0.5, learning_rate=0.2, max_depth=3, min_child_weight=10; accuracy: (test=0.589) f1: (test=0.621) precision: (test=0.561) recall: (test=0.696) total time=   0.0s\n"
     ]
    },
    {
     "data": {
      "text/plain": [
       "{'min_child_weight': 5, 'max_depth': 6, 'learning_rate': 0.01, 'gamma': 2.0}"
      ]
     },
     "execution_count": 50,
     "metadata": {},
     "output_type": "execute_result"
    }
   ],
   "source": [
    "# Opn\n",
    "xgb_model = xgb.XGBClassifier(objective='binary:hinge')\n",
    "\n",
    "params_dict = {'learning_rate': [0.01, 0.1, 0.2],\n",
    "               'gamma': [0.5, 1, 2.0],\n",
    "               'max_depth': [3, 6, 9],\n",
    "               'min_child_weight': [1, 5, 10],\n",
    "              }\n",
    "\n",
    "search = RandomizedSearchCV(xgb_model,\n",
    "         param_distributions=params_dict,\n",
    "         scoring = ['recall', 'precision', 'accuracy', 'f1'],\n",
    "         refit = 'f1', \n",
    "         cv= 5,\n",
    "         verbose=3)\n",
    "\n",
    "search.fit(X_train_opn_p,y_train_opn)\n",
    "search.best_params_"
   ]
  },
  {
   "cell_type": "code",
   "execution_count": 29,
   "id": "34639e61",
   "metadata": {},
   "outputs": [],
   "source": [
    "opt_params_opn_p = {'min_child_weight': 5, 'max_depth': 6, 'learning_rate': 0.01, 'gamma': 2.0}"
   ]
  },
  {
   "cell_type": "markdown",
   "id": "e5da4e68",
   "metadata": {},
   "source": [
    "### Actual training and testing\n",
    "\n",
    "With the optimal parameters found, the XGBoost is trained on the training set and then tested for validation."
   ]
  },
  {
   "cell_type": "code",
   "execution_count": 30,
   "id": "cdcc577b",
   "metadata": {},
   "outputs": [
    {
     "name": "stdout",
     "output_type": "stream",
     "text": [
      "Accuracy: 0.50\n",
      "Precision: 0.50\n",
      "Recall: 0.97\n",
      "F1 Score: 0.66\n"
     ]
    }
   ],
   "source": [
    "# Ext\n",
    "metrics_ext_p = XGB_model(X_train_ext_p, X_test_ext_p, y_train_ext, y_test_ext, opt_params_ext_p)"
   ]
  },
  {
   "cell_type": "code",
   "execution_count": 31,
   "id": "73d78493",
   "metadata": {},
   "outputs": [
    {
     "name": "stdout",
     "output_type": "stream",
     "text": [
      "Accuracy: 0.54\n",
      "Precision: 0.54\n",
      "Recall: 1.00\n",
      "F1 Score: 0.70\n"
     ]
    }
   ],
   "source": [
    "# Neu\n",
    "metrics_neu_p = XGB_model(X_train_neu_p, X_test_neu_p, y_train_neu, y_test_neu, opt_params_neu_p)"
   ]
  },
  {
   "cell_type": "code",
   "execution_count": 32,
   "id": "3959a626",
   "metadata": {},
   "outputs": [
    {
     "name": "stdout",
     "output_type": "stream",
     "text": [
      "Accuracy: 0.49\n",
      "Precision: 0.49\n",
      "Recall: 0.97\n",
      "F1 Score: 0.65\n"
     ]
    }
   ],
   "source": [
    "# Agr\n",
    "metrics_agr_p = XGB_model(X_train_agr_p, X_test_agr_p, y_train_agr, y_test_agr, opt_params_agr_p)"
   ]
  },
  {
   "cell_type": "code",
   "execution_count": 33,
   "id": "42371ca6",
   "metadata": {},
   "outputs": [
    {
     "name": "stdout",
     "output_type": "stream",
     "text": [
      "Accuracy: 0.51\n",
      "Precision: 0.52\n",
      "Recall: 0.94\n",
      "F1 Score: 0.67\n"
     ]
    }
   ],
   "source": [
    "# Con\n",
    "metrics_con_p = XGB_model(X_train_con_p, X_test_con_p, y_train_con, y_test_con, opt_params_con_p)"
   ]
  },
  {
   "cell_type": "code",
   "execution_count": 34,
   "id": "7dd05006",
   "metadata": {},
   "outputs": [
    {
     "name": "stdout",
     "output_type": "stream",
     "text": [
      "Accuracy: 0.50\n",
      "Precision: 0.48\n",
      "Recall: 0.97\n",
      "F1 Score: 0.65\n"
     ]
    }
   ],
   "source": [
    "# Opn\n",
    "metrics_opn_p = XGB_model(X_train_opn_p, X_test_opn_p, y_train_opn, y_test_opn, opt_params_opn_p)"
   ]
  },
  {
   "cell_type": "markdown",
   "id": "86a6d540",
   "metadata": {},
   "source": [
    "## Using Bag-of-Words (BoW)\n",
    "\n",
    "Firstly Converts the texts into Bag-of-Words representation and determine the train-test splits"
   ]
  },
  {
   "cell_type": "code",
   "execution_count": 35,
   "id": "06fe8874",
   "metadata": {},
   "outputs": [],
   "source": [
    "vectorizer = CountVectorizer()\n",
    "X_b = vectorizer.fit_transform(df['TEXT'])"
   ]
  },
  {
   "cell_type": "code",
   "execution_count": 36,
   "id": "04bd5216",
   "metadata": {},
   "outputs": [],
   "source": [
    "# Ext\n",
    "X_train_ext_b, X_test_ext_b, y_train_ext_b, y_test_ext_b = train_test_split(X_b, y_ext, test_size=0.2, random_state=42)\n",
    "\n",
    "# Neu\n",
    "X_train_neu_b, X_test_neu_b, y_train_neu_b, y_test_neu_b = train_test_split(X_b, y_neu, test_size=0.2, random_state=42)\n",
    "\n",
    "# Agr\n",
    "X_train_agr_b, X_test_agr_b, y_train_agr_b, y_test_agr_b = train_test_split(X_b, y_agr, test_size=0.2, random_state=42)\n",
    "\n",
    "# Con\n",
    "X_train_con_b, X_test_con_b, y_train_con_b, y_test_con_b = train_test_split(X_b, y_con, test_size=0.2, random_state=42)\n",
    "\n",
    "# Opn\n",
    "X_train_opn_b, X_test_opn_b, y_train_opn_b, y_test_opn_b = train_test_split(X_b, y_opn, test_size=0.2, random_state=42)"
   ]
  },
  {
   "cell_type": "markdown",
   "id": "4a89b534",
   "metadata": {},
   "source": [
    "### Hyperparameter tuning\n",
    "\n",
    "In order to have the optimal XGBoost model, a Randomized Search is done to find the 'learning rate', 'gamma', 'max depth' and 'min child weigt' parameters of the XGBoost that yield the highest F1 score. This is done per target variable."
   ]
  },
  {
   "cell_type": "code",
   "execution_count": 63,
   "id": "5ff11d99",
   "metadata": {
    "scrolled": true
   },
   "outputs": [
    {
     "name": "stdout",
     "output_type": "stream",
     "text": [
      "Fitting 5 folds for each of 10 candidates, totalling 50 fits\n",
      "[CV 1/5] END gamma=2.0, learning_rate=0.1, max_depth=6, min_child_weight=5; accuracy: (test=0.555) f1: (test=0.577) precision: (test=0.552) recall: (test=0.605) total time=   2.5s\n",
      "[CV 2/5] END gamma=2.0, learning_rate=0.1, max_depth=6, min_child_weight=5; accuracy: (test=0.527) f1: (test=0.574) precision: (test=0.524) recall: (test=0.634) total time=   2.5s\n",
      "[CV 3/5] END gamma=2.0, learning_rate=0.1, max_depth=6, min_child_weight=5; accuracy: (test=0.551) f1: (test=0.609) precision: (test=0.542) recall: (test=0.695) total time=   2.5s\n",
      "[CV 4/5] END gamma=2.0, learning_rate=0.1, max_depth=6, min_child_weight=5; accuracy: (test=0.572) f1: (test=0.625) precision: (test=0.560) recall: (test=0.707) total time=   3.8s\n",
      "[CV 5/5] END gamma=2.0, learning_rate=0.1, max_depth=6, min_child_weight=5; accuracy: (test=0.559) f1: (test=0.584) precision: (test=0.557) recall: (test=0.615) total time=   5.1s\n",
      "[CV 1/5] END gamma=0.5, learning_rate=0.01, max_depth=3, min_child_weight=1; accuracy: (test=0.504) f1: (test=0.669) precision: (test=0.503) recall: (test=1.000) total time=   1.7s\n",
      "[CV 2/5] END gamma=0.5, learning_rate=0.01, max_depth=3, min_child_weight=1; accuracy: (test=0.500) f1: (test=0.667) precision: (test=0.501) recall: (test=0.996) total time=   1.6s\n",
      "[CV 3/5] END gamma=0.5, learning_rate=0.01, max_depth=3, min_child_weight=1; accuracy: (test=0.504) f1: (test=0.670) precision: (test=0.504) recall: (test=1.000) total time=   1.5s\n",
      "[CV 4/5] END gamma=0.5, learning_rate=0.01, max_depth=3, min_child_weight=1; accuracy: (test=0.523) f1: (test=0.670) precision: (test=0.515) recall: (test=0.958) total time=   1.8s\n",
      "[CV 5/5] END gamma=0.5, learning_rate=0.01, max_depth=3, min_child_weight=1; accuracy: (test=0.511) f1: (test=0.669) precision: (test=0.508) recall: (test=0.979) total time=   1.8s\n",
      "[CV 1/5] END gamma=1, learning_rate=0.1, max_depth=3, min_child_weight=10; accuracy: (test=0.523) f1: (test=0.622) precision: (test=0.517) recall: (test=0.782) total time=   1.1s\n",
      "[CV 2/5] END gamma=1, learning_rate=0.1, max_depth=3, min_child_weight=10; accuracy: (test=0.534) f1: (test=0.648) precision: (test=0.522) recall: (test=0.853) total time=   1.3s\n",
      "[CV 3/5] END gamma=1, learning_rate=0.1, max_depth=3, min_child_weight=10; accuracy: (test=0.557) f1: (test=0.666) precision: (test=0.537) recall: (test=0.874) total time=   1.3s\n",
      "[CV 4/5] END gamma=1, learning_rate=0.1, max_depth=3, min_child_weight=10; accuracy: (test=0.546) f1: (test=0.658) precision: (test=0.531) recall: (test=0.866) total time=   1.8s\n",
      "[CV 5/5] END gamma=1, learning_rate=0.1, max_depth=3, min_child_weight=10; accuracy: (test=0.561) f1: (test=0.667) precision: (test=0.540) recall: (test=0.870) total time=   1.2s\n",
      "[CV 1/5] END gamma=2.0, learning_rate=0.1, max_depth=9, min_child_weight=5; accuracy: (test=0.546) f1: (test=0.547) precision: (test=0.549) recall: (test=0.546) total time=   7.4s\n",
      "[CV 2/5] END gamma=2.0, learning_rate=0.1, max_depth=9, min_child_weight=5; accuracy: (test=0.496) f1: (test=0.484) precision: (test=0.498) recall: (test=0.471) total time=   8.2s\n",
      "[CV 3/5] END gamma=2.0, learning_rate=0.1, max_depth=9, min_child_weight=5; accuracy: (test=0.521) f1: (test=0.526) precision: (test=0.525) recall: (test=0.527) total time=   7.5s\n",
      "[CV 4/5] END gamma=2.0, learning_rate=0.1, max_depth=9, min_child_weight=5; accuracy: (test=0.557) f1: (test=0.570) precision: (test=0.558) recall: (test=0.582) total time=   8.3s\n",
      "[CV 5/5] END gamma=2.0, learning_rate=0.1, max_depth=9, min_child_weight=5; accuracy: (test=0.530) f1: (test=0.525) precision: (test=0.535) recall: (test=0.515) total time=   7.7s\n",
      "[CV 1/5] END gamma=1, learning_rate=0.1, max_depth=6, min_child_weight=1; accuracy: (test=0.546) f1: (test=0.549) precision: (test=0.548) recall: (test=0.550) total time=   5.7s\n",
      "[CV 2/5] END gamma=1, learning_rate=0.1, max_depth=6, min_child_weight=1; accuracy: (test=0.540) f1: (test=0.571) precision: (test=0.537) recall: (test=0.609) total time=   6.9s\n",
      "[CV 3/5] END gamma=1, learning_rate=0.1, max_depth=6, min_child_weight=1; accuracy: (test=0.544) f1: (test=0.589) precision: (test=0.540) recall: (test=0.649) total time=   6.3s\n",
      "[CV 4/5] END gamma=1, learning_rate=0.1, max_depth=6, min_child_weight=1; accuracy: (test=0.542) f1: (test=0.600) precision: (test=0.536) recall: (test=0.682) total time=   6.8s\n",
      "[CV 5/5] END gamma=1, learning_rate=0.1, max_depth=6, min_child_weight=1; accuracy: (test=0.589) f1: (test=0.591) precision: (test=0.592) recall: (test=0.590) total time=   6.5s\n",
      "[CV 1/5] END gamma=2.0, learning_rate=0.2, max_depth=9, min_child_weight=1; accuracy: (test=0.496) f1: (test=0.505) precision: (test=0.498) recall: (test=0.513) total time=   6.5s\n",
      "[CV 2/5] END gamma=2.0, learning_rate=0.2, max_depth=9, min_child_weight=1; accuracy: (test=0.523) f1: (test=0.519) precision: (test=0.526) recall: (test=0.513) total time=   6.4s\n",
      "[CV 3/5] END gamma=2.0, learning_rate=0.2, max_depth=9, min_child_weight=1; accuracy: (test=0.544) f1: (test=0.544) precision: (test=0.549) recall: (test=0.540) total time=   6.4s\n",
      "[CV 4/5] END gamma=2.0, learning_rate=0.2, max_depth=9, min_child_weight=1; accuracy: (test=0.540) f1: (test=0.555) precision: (test=0.542) recall: (test=0.569) total time=   7.1s\n",
      "[CV 5/5] END gamma=2.0, learning_rate=0.2, max_depth=9, min_child_weight=1; accuracy: (test=0.544) f1: (test=0.520) precision: (test=0.555) recall: (test=0.490) total time=   5.6s\n",
      "[CV 1/5] END gamma=2.0, learning_rate=0.01, max_depth=9, min_child_weight=1; accuracy: (test=0.530) f1: (test=0.664) precision: (test=0.518) recall: (test=0.924) total time=  15.1s\n",
      "[CV 2/5] END gamma=2.0, learning_rate=0.01, max_depth=9, min_child_weight=1; accuracy: (test=0.517) f1: (test=0.644) precision: (test=0.511) recall: (test=0.870) total time=  14.4s\n",
      "[CV 3/5] END gamma=2.0, learning_rate=0.01, max_depth=9, min_child_weight=1; accuracy: (test=0.525) f1: (test=0.663) precision: (test=0.516) recall: (test=0.925) total time=  11.9s\n",
      "[CV 4/5] END gamma=2.0, learning_rate=0.01, max_depth=9, min_child_weight=1; accuracy: (test=0.542) f1: (test=0.674) precision: (test=0.526) recall: (test=0.937) total time=  14.5s\n",
      "[CV 5/5] END gamma=2.0, learning_rate=0.01, max_depth=9, min_child_weight=1; accuracy: (test=0.525) f1: (test=0.667) precision: (test=0.516) recall: (test=0.941) total time=  17.4s\n",
      "[CV 1/5] END gamma=0.5, learning_rate=0.01, max_depth=3, min_child_weight=10; accuracy: (test=0.502) f1: (test=0.669) precision: (test=0.502) recall: (test=1.000) total time=   1.5s\n",
      "[CV 2/5] END gamma=0.5, learning_rate=0.01, max_depth=3, min_child_weight=10; accuracy: (test=0.536) f1: (test=0.680) precision: (test=0.520) recall: (test=0.983) total time=   1.3s\n",
      "[CV 3/5] END gamma=0.5, learning_rate=0.01, max_depth=3, min_child_weight=10; accuracy: (test=0.504) f1: (test=0.670) precision: (test=0.504) recall: (test=1.000) total time=   1.4s\n",
      "[CV 4/5] END gamma=0.5, learning_rate=0.01, max_depth=3, min_child_weight=10; accuracy: (test=0.527) f1: (test=0.676) precision: (test=0.517) recall: (test=0.979) total time=   1.3s\n",
      "[CV 5/5] END gamma=0.5, learning_rate=0.01, max_depth=3, min_child_weight=10; accuracy: (test=0.504) f1: (test=0.666) precision: (test=0.504) recall: (test=0.979) total time=   1.4s\n",
      "[CV 1/5] END gamma=1, learning_rate=0.2, max_depth=6, min_child_weight=5; accuracy: (test=0.551) f1: (test=0.540) precision: (test=0.556) recall: (test=0.525) total time=   5.5s\n",
      "[CV 2/5] END gamma=1, learning_rate=0.2, max_depth=6, min_child_weight=5; accuracy: (test=0.544) f1: (test=0.530) precision: (test=0.550) recall: (test=0.513) total time=   4.7s\n",
      "[CV 3/5] END gamma=1, learning_rate=0.2, max_depth=6, min_child_weight=5; accuracy: (test=0.515) f1: (test=0.536) precision: (test=0.518) recall: (test=0.556) total time=   4.1s\n",
      "[CV 4/5] END gamma=1, learning_rate=0.2, max_depth=6, min_child_weight=5; accuracy: (test=0.546) f1: (test=0.574) precision: (test=0.545) recall: (test=0.607) total time=   3.8s\n",
      "[CV 5/5] END gamma=1, learning_rate=0.2, max_depth=6, min_child_weight=5; accuracy: (test=0.563) f1: (test=0.543) precision: (test=0.575) recall: (test=0.515) total time=   4.3s\n",
      "[CV 1/5] END gamma=1, learning_rate=0.2, max_depth=6, min_child_weight=1; accuracy: (test=0.553) f1: (test=0.549) precision: (test=0.556) recall: (test=0.542) total time=   4.1s\n"
     ]
    },
    {
     "name": "stdout",
     "output_type": "stream",
     "text": [
      "[CV 2/5] END gamma=1, learning_rate=0.2, max_depth=6, min_child_weight=1; accuracy: (test=0.517) f1: (test=0.508) precision: (test=0.520) recall: (test=0.496) total time=   4.6s\n",
      "[CV 3/5] END gamma=1, learning_rate=0.2, max_depth=6, min_child_weight=1; accuracy: (test=0.544) f1: (test=0.552) precision: (test=0.547) recall: (test=0.556) total time=   4.8s\n",
      "[CV 4/5] END gamma=1, learning_rate=0.2, max_depth=6, min_child_weight=1; accuracy: (test=0.580) f1: (test=0.595) precision: (test=0.579) recall: (test=0.611) total time=   4.2s\n",
      "[CV 5/5] END gamma=1, learning_rate=0.2, max_depth=6, min_child_weight=1; accuracy: (test=0.530) f1: (test=0.536) precision: (test=0.533) recall: (test=0.540) total time=   4.4s\n"
     ]
    },
    {
     "data": {
      "text/plain": [
       "{'min_child_weight': 10, 'max_depth': 3, 'learning_rate': 0.01, 'gamma': 0.5}"
      ]
     },
     "execution_count": 63,
     "metadata": {},
     "output_type": "execute_result"
    }
   ],
   "source": [
    "# Ext\n",
    "xgb_model = xgb.XGBClassifier(objective='binary:hinge')\n",
    "\n",
    "params_dict = {'learning_rate': [0.01, 0.1, 0.2],\n",
    "               'gamma': [0.5, 1, 2.0],\n",
    "               'max_depth': [3, 6, 9],\n",
    "               'min_child_weight': [1, 5, 10],\n",
    "              }\n",
    "\n",
    "search = RandomizedSearchCV(xgb_model,\n",
    "         param_distributions=params_dict,\n",
    "         scoring = ['recall', 'precision', 'accuracy', 'f1'],\n",
    "         refit = 'f1', \n",
    "         cv= 5,\n",
    "         verbose=3)\n",
    "\n",
    "search.fit(X_train_ext_b,y_train_ext)\n",
    "search.best_params_"
   ]
  },
  {
   "cell_type": "code",
   "execution_count": 37,
   "id": "b9120e4a",
   "metadata": {},
   "outputs": [],
   "source": [
    "opt_params_ext_b = {'min_child_weight': 10, 'max_depth': 3, 'learning_rate': 0.01, 'gamma': 0.5}"
   ]
  },
  {
   "cell_type": "code",
   "execution_count": 64,
   "id": "3c828ebc",
   "metadata": {
    "scrolled": true
   },
   "outputs": [
    {
     "name": "stdout",
     "output_type": "stream",
     "text": [
      "Fitting 5 folds for each of 10 candidates, totalling 50 fits\n",
      "[CV 1/5] END gamma=0.5, learning_rate=0.1, max_depth=6, min_child_weight=5; accuracy: (test=0.578) f1: (test=0.580) precision: (test=0.566) recall: (test=0.595) total time=   3.4s\n",
      "[CV 2/5] END gamma=0.5, learning_rate=0.1, max_depth=6, min_child_weight=5; accuracy: (test=0.563) f1: (test=0.580) precision: (test=0.548) recall: (test=0.616) total time=   4.7s\n",
      "[CV 3/5] END gamma=0.5, learning_rate=0.1, max_depth=6, min_child_weight=5; accuracy: (test=0.536) f1: (test=0.520) precision: (test=0.527) recall: (test=0.513) total time=   4.3s\n",
      "[CV 4/5] END gamma=0.5, learning_rate=0.1, max_depth=6, min_child_weight=5; accuracy: (test=0.555) f1: (test=0.524) precision: (test=0.552) recall: (test=0.498) total time=   4.4s\n",
      "[CV 5/5] END gamma=0.5, learning_rate=0.1, max_depth=6, min_child_weight=5; accuracy: (test=0.532) f1: (test=0.522) precision: (test=0.524) recall: (test=0.519) total time=   3.7s\n",
      "[CV 1/5] END gamma=0.5, learning_rate=0.1, max_depth=3, min_child_weight=5; accuracy: (test=0.517) f1: (test=0.607) precision: (test=0.504) recall: (test=0.763) total time=   1.2s\n",
      "[CV 2/5] END gamma=0.5, learning_rate=0.1, max_depth=3, min_child_weight=5; accuracy: (test=0.525) f1: (test=0.609) precision: (test=0.510) recall: (test=0.754) total time=   1.2s\n",
      "[CV 3/5] END gamma=0.5, learning_rate=0.1, max_depth=3, min_child_weight=5; accuracy: (test=0.546) f1: (test=0.587) precision: (test=0.529) recall: (test=0.659) total time=   1.2s\n",
      "[CV 4/5] END gamma=0.5, learning_rate=0.1, max_depth=3, min_child_weight=5; accuracy: (test=0.534) f1: (test=0.494) precision: (test=0.529) recall: (test=0.464) total time=   1.3s\n",
      "[CV 5/5] END gamma=0.5, learning_rate=0.1, max_depth=3, min_child_weight=5; accuracy: (test=0.496) f1: (test=0.532) precision: (test=0.489) recall: (test=0.584) total time=   1.1s\n",
      "[CV 1/5] END gamma=2.0, learning_rate=0.01, max_depth=9, min_child_weight=1; accuracy: (test=0.504) f1: (test=0.649) precision: (test=0.497) recall: (test=0.935) total time=  15.4s\n",
      "[CV 2/5] END gamma=2.0, learning_rate=0.01, max_depth=9, min_child_weight=1; accuracy: (test=0.494) f1: (test=0.646) precision: (test=0.491) recall: (test=0.944) total time=  15.0s\n",
      "[CV 3/5] END gamma=2.0, learning_rate=0.01, max_depth=9, min_child_weight=1; accuracy: (test=0.506) f1: (test=0.638) precision: (test=0.498) recall: (test=0.888) total time=  16.8s\n",
      "[CV 4/5] END gamma=2.0, learning_rate=0.01, max_depth=9, min_child_weight=1; accuracy: (test=0.500) f1: (test=0.640) precision: (test=0.495) recall: (test=0.906) total time=  16.9s\n",
      "[CV 5/5] END gamma=2.0, learning_rate=0.01, max_depth=9, min_child_weight=1; accuracy: (test=0.515) f1: (test=0.648) precision: (test=0.504) recall: (test=0.910) total time=  19.6s\n",
      "[CV 1/5] END gamma=0.5, learning_rate=0.01, max_depth=6, min_child_weight=5; accuracy: (test=0.498) f1: (test=0.659) precision: (test=0.494) recall: (test=0.991) total time=   4.9s\n",
      "[CV 2/5] END gamma=0.5, learning_rate=0.01, max_depth=6, min_child_weight=5; accuracy: (test=0.485) f1: (test=0.641) precision: (test=0.487) recall: (test=0.940) total time=   5.1s\n",
      "[CV 3/5] END gamma=0.5, learning_rate=0.01, max_depth=6, min_child_weight=5; accuracy: (test=0.485) f1: (test=0.636) precision: (test=0.486) recall: (test=0.918) total time=   6.3s\n",
      "[CV 4/5] END gamma=0.5, learning_rate=0.01, max_depth=6, min_child_weight=5; accuracy: (test=0.494) f1: (test=0.658) precision: (test=0.493) recall: (test=0.991) total time=   7.0s\n",
      "[CV 5/5] END gamma=0.5, learning_rate=0.01, max_depth=6, min_child_weight=5; accuracy: (test=0.500) f1: (test=0.661) precision: (test=0.496) recall: (test=0.991) total time=   6.1s\n",
      "[CV 1/5] END gamma=2.0, learning_rate=0.01, max_depth=3, min_child_weight=1; accuracy: (test=0.487) f1: (test=0.654) precision: (test=0.488) recall: (test=0.991) total time=   1.9s\n",
      "[CV 2/5] END gamma=2.0, learning_rate=0.01, max_depth=3, min_child_weight=1; accuracy: (test=0.494) f1: (test=0.652) precision: (test=0.491) recall: (test=0.970) total time=   1.3s\n",
      "[CV 3/5] END gamma=2.0, learning_rate=0.01, max_depth=3, min_child_weight=1; accuracy: (test=0.489) f1: (test=0.655) precision: (test=0.489) recall: (test=0.991) total time=   1.5s\n",
      "[CV 4/5] END gamma=2.0, learning_rate=0.01, max_depth=3, min_child_weight=1; accuracy: (test=0.489) f1: (test=0.656) precision: (test=0.490) recall: (test=0.991) total time=   1.4s\n",
      "[CV 5/5] END gamma=2.0, learning_rate=0.01, max_depth=3, min_child_weight=1; accuracy: (test=0.494) f1: (test=0.660) precision: (test=0.493) recall: (test=1.000) total time=   1.5s\n",
      "[CV 1/5] END gamma=2.0, learning_rate=0.2, max_depth=3, min_child_weight=5; accuracy: (test=0.559) f1: (test=0.564) precision: (test=0.547) recall: (test=0.582) total time=   1.1s\n",
      "[CV 2/5] END gamma=2.0, learning_rate=0.2, max_depth=3, min_child_weight=5; accuracy: (test=0.549) f1: (test=0.529) precision: (test=0.541) recall: (test=0.517) total time=   1.1s\n",
      "[CV 3/5] END gamma=2.0, learning_rate=0.2, max_depth=3, min_child_weight=5; accuracy: (test=0.538) f1: (test=0.556) precision: (test=0.525) recall: (test=0.591) total time=   1.3s\n",
      "[CV 4/5] END gamma=2.0, learning_rate=0.2, max_depth=3, min_child_weight=5; accuracy: (test=0.544) f1: (test=0.483) precision: (test=0.546) recall: (test=0.433) total time=   1.2s\n",
      "[CV 5/5] END gamma=2.0, learning_rate=0.2, max_depth=3, min_child_weight=5; accuracy: (test=0.542) f1: (test=0.515) precision: (test=0.537) recall: (test=0.494) total time=   1.2s\n",
      "[CV 1/5] END gamma=1, learning_rate=0.1, max_depth=3, min_child_weight=1; accuracy: (test=0.494) f1: (test=0.601) precision: (test=0.489) recall: (test=0.780) total time=   1.9s\n",
      "[CV 2/5] END gamma=1, learning_rate=0.1, max_depth=3, min_child_weight=1; accuracy: (test=0.546) f1: (test=0.584) precision: (test=0.530) recall: (test=0.651) total time=   3.2s\n",
      "[CV 3/5] END gamma=1, learning_rate=0.1, max_depth=3, min_child_weight=1; accuracy: (test=0.496) f1: (test=0.571) precision: (test=0.489) recall: (test=0.685) total time=   1.5s\n",
      "[CV 4/5] END gamma=1, learning_rate=0.1, max_depth=3, min_child_weight=1; accuracy: (test=0.517) f1: (test=0.476) precision: (test=0.510) recall: (test=0.446) total time=   1.5s\n",
      "[CV 5/5] END gamma=1, learning_rate=0.1, max_depth=3, min_child_weight=1; accuracy: (test=0.521) f1: (test=0.552) precision: (test=0.511) recall: (test=0.601) total time=   1.5s\n",
      "[CV 1/5] END gamma=1, learning_rate=0.2, max_depth=6, min_child_weight=1; accuracy: (test=0.557) f1: (test=0.537) precision: (test=0.550) recall: (test=0.526) total time=   4.8s\n",
      "[CV 2/5] END gamma=1, learning_rate=0.2, max_depth=6, min_child_weight=1; accuracy: (test=0.485) f1: (test=0.500) precision: (test=0.477) recall: (test=0.526) total time=   5.8s\n",
      "[CV 3/5] END gamma=1, learning_rate=0.2, max_depth=6, min_child_weight=1; accuracy: (test=0.525) f1: (test=0.528) precision: (test=0.514) recall: (test=0.543) total time=   5.3s\n",
      "[CV 4/5] END gamma=1, learning_rate=0.2, max_depth=6, min_child_weight=1; accuracy: (test=0.492) f1: (test=0.456) precision: (test=0.481) recall: (test=0.433) total time=   5.6s\n",
      "[CV 5/5] END gamma=1, learning_rate=0.2, max_depth=6, min_child_weight=1; accuracy: (test=0.534) f1: (test=0.531) precision: (test=0.525) recall: (test=0.536) total time=   5.5s\n",
      "[CV 1/5] END gamma=0.5, learning_rate=0.1, max_depth=3, min_child_weight=1; accuracy: (test=0.494) f1: (test=0.601) precision: (test=0.489) recall: (test=0.780) total time=   1.8s\n",
      "[CV 2/5] END gamma=0.5, learning_rate=0.1, max_depth=3, min_child_weight=1; accuracy: (test=0.546) f1: (test=0.584) precision: (test=0.530) recall: (test=0.651) total time=   1.8s\n",
      "[CV 3/5] END gamma=0.5, learning_rate=0.1, max_depth=3, min_child_weight=1; accuracy: (test=0.496) f1: (test=0.571) precision: (test=0.489) recall: (test=0.685) total time=   1.8s\n",
      "[CV 4/5] END gamma=0.5, learning_rate=0.1, max_depth=3, min_child_weight=1; accuracy: (test=0.517) f1: (test=0.476) precision: (test=0.510) recall: (test=0.446) total time=   1.8s\n",
      "[CV 5/5] END gamma=0.5, learning_rate=0.1, max_depth=3, min_child_weight=1; accuracy: (test=0.521) f1: (test=0.552) precision: (test=0.511) recall: (test=0.601) total time=   1.8s\n",
      "[CV 1/5] END gamma=0.5, learning_rate=0.2, max_depth=9, min_child_weight=5; accuracy: (test=0.502) f1: (test=0.476) precision: (test=0.491) recall: (test=0.461) total time=   6.3s\n"
     ]
    },
    {
     "name": "stdout",
     "output_type": "stream",
     "text": [
      "[CV 2/5] END gamma=0.5, learning_rate=0.2, max_depth=9, min_child_weight=5; accuracy: (test=0.508) f1: (test=0.512) precision: (test=0.498) recall: (test=0.526) total time=   5.6s\n",
      "[CV 3/5] END gamma=0.5, learning_rate=0.2, max_depth=9, min_child_weight=5; accuracy: (test=0.565) f1: (test=0.554) precision: (test=0.557) recall: (test=0.552) total time=   6.1s\n",
      "[CV 4/5] END gamma=0.5, learning_rate=0.2, max_depth=9, min_child_weight=5; accuracy: (test=0.536) f1: (test=0.509) precision: (test=0.530) recall: (test=0.489) total time=   5.9s\n",
      "[CV 5/5] END gamma=0.5, learning_rate=0.2, max_depth=9, min_child_weight=5; accuracy: (test=0.513) f1: (test=0.499) precision: (test=0.504) recall: (test=0.494) total time=   5.6s\n"
     ]
    },
    {
     "data": {
      "text/plain": [
       "{'min_child_weight': 1, 'max_depth': 3, 'learning_rate': 0.01, 'gamma': 2.0}"
      ]
     },
     "execution_count": 64,
     "metadata": {},
     "output_type": "execute_result"
    }
   ],
   "source": [
    "# Neu\n",
    "xgb_model = xgb.XGBClassifier(objective='binary:hinge')\n",
    "\n",
    "params_dict = {'learning_rate': [0.01, 0.1, 0.2],\n",
    "               'gamma': [0.5, 1, 2.0],\n",
    "               'max_depth': [3, 6, 9],\n",
    "               'min_child_weight': [1, 5, 10],\n",
    "              }\n",
    "\n",
    "search = RandomizedSearchCV(xgb_model,\n",
    "         param_distributions=params_dict,\n",
    "         scoring = ['recall', 'precision', 'accuracy', 'f1'],\n",
    "         refit = 'f1', \n",
    "         cv= 5,\n",
    "         verbose=3)\n",
    "\n",
    "search.fit(X_train_neu_b,y_train_neu)\n",
    "search.best_params_"
   ]
  },
  {
   "cell_type": "code",
   "execution_count": 38,
   "id": "9bf99ff2",
   "metadata": {},
   "outputs": [],
   "source": [
    "opt_params_neu_b = {'min_child_weight': 1, 'max_depth': 3, 'learning_rate': 0.01, 'gamma': 2.0}"
   ]
  },
  {
   "cell_type": "code",
   "execution_count": 65,
   "id": "0c6404e5",
   "metadata": {
    "scrolled": true
   },
   "outputs": [
    {
     "name": "stdout",
     "output_type": "stream",
     "text": [
      "Fitting 5 folds for each of 10 candidates, totalling 50 fits\n",
      "[CV 1/5] END gamma=2.0, learning_rate=0.2, max_depth=3, min_child_weight=1; accuracy: (test=0.538) f1: (test=0.645) precision: (test=0.542) recall: (test=0.796) total time=   0.9s\n",
      "[CV 2/5] END gamma=2.0, learning_rate=0.2, max_depth=3, min_child_weight=1; accuracy: (test=0.536) f1: (test=0.632) precision: (test=0.542) recall: (test=0.759) total time=   1.4s\n",
      "[CV 3/5] END gamma=2.0, learning_rate=0.2, max_depth=3, min_child_weight=1; accuracy: (test=0.521) f1: (test=0.633) precision: (test=0.530) recall: (test=0.787) total time=   1.4s\n",
      "[CV 4/5] END gamma=2.0, learning_rate=0.2, max_depth=3, min_child_weight=1; accuracy: (test=0.555) f1: (test=0.659) precision: (test=0.551) recall: (test=0.819) total time=   1.5s\n",
      "[CV 5/5] END gamma=2.0, learning_rate=0.2, max_depth=3, min_child_weight=1; accuracy: (test=0.523) f1: (test=0.620) precision: (test=0.533) recall: (test=0.739) total time=   1.4s\n",
      "[CV 1/5] END gamma=0.5, learning_rate=0.1, max_depth=9, min_child_weight=1; accuracy: (test=0.568) f1: (test=0.596) precision: (test=0.588) recall: (test=0.604) total time=   9.4s\n",
      "[CV 2/5] END gamma=0.5, learning_rate=0.1, max_depth=9, min_child_weight=1; accuracy: (test=0.521) f1: (test=0.545) precision: (test=0.544) recall: (test=0.546) total time=   9.3s\n",
      "[CV 3/5] END gamma=0.5, learning_rate=0.1, max_depth=9, min_child_weight=1; accuracy: (test=0.515) f1: (test=0.531) precision: (test=0.539) recall: (test=0.522) total time=   9.2s\n",
      "[CV 4/5] END gamma=0.5, learning_rate=0.1, max_depth=9, min_child_weight=1; accuracy: (test=0.494) f1: (test=0.538) precision: (test=0.517) recall: (test=0.562) total time=   8.8s\n",
      "[CV 5/5] END gamma=0.5, learning_rate=0.1, max_depth=9, min_child_weight=1; accuracy: (test=0.534) f1: (test=0.561) precision: (test=0.555) recall: (test=0.566) total time=   9.1s\n",
      "[CV 1/5] END gamma=1, learning_rate=0.1, max_depth=3, min_child_weight=10; accuracy: (test=0.536) f1: (test=0.679) precision: (test=0.534) recall: (test=0.932) total time=   1.2s\n",
      "[CV 2/5] END gamma=1, learning_rate=0.1, max_depth=3, min_child_weight=10; accuracy: (test=0.519) f1: (test=0.647) precision: (test=0.526) recall: (test=0.839) total time=   1.4s\n",
      "[CV 3/5] END gamma=1, learning_rate=0.1, max_depth=3, min_child_weight=10; accuracy: (test=0.527) f1: (test=0.668) precision: (test=0.529) recall: (test=0.904) total time=   1.3s\n",
      "[CV 4/5] END gamma=1, learning_rate=0.1, max_depth=3, min_child_weight=10; accuracy: (test=0.534) f1: (test=0.675) precision: (test=0.533) recall: (test=0.920) total time=   1.3s\n",
      "[CV 5/5] END gamma=1, learning_rate=0.1, max_depth=3, min_child_weight=10; accuracy: (test=0.530) f1: (test=0.647) precision: (test=0.534) recall: (test=0.819) total time=   1.7s\n",
      "[CV 1/5] END gamma=1, learning_rate=0.2, max_depth=6, min_child_weight=5; accuracy: (test=0.565) f1: (test=0.581) precision: (test=0.591) recall: (test=0.572) total time=   5.1s\n",
      "[CV 2/5] END gamma=1, learning_rate=0.2, max_depth=6, min_child_weight=5; accuracy: (test=0.544) f1: (test=0.559) precision: (test=0.568) recall: (test=0.550) total time=   5.0s\n",
      "[CV 3/5] END gamma=1, learning_rate=0.2, max_depth=6, min_child_weight=5; accuracy: (test=0.517) f1: (test=0.541) precision: (test=0.540) recall: (test=0.542) total time=   4.8s\n",
      "[CV 4/5] END gamma=1, learning_rate=0.2, max_depth=6, min_child_weight=5; accuracy: (test=0.485) f1: (test=0.500) precision: (test=0.510) recall: (test=0.490) total time=   5.3s\n",
      "[CV 5/5] END gamma=1, learning_rate=0.2, max_depth=6, min_child_weight=5; accuracy: (test=0.536) f1: (test=0.540) precision: (test=0.563) recall: (test=0.518) total time=   4.8s\n",
      "[CV 1/5] END gamma=1, learning_rate=0.2, max_depth=9, min_child_weight=5; accuracy: (test=0.523) f1: (test=0.569) precision: (test=0.544) recall: (test=0.596) total time=   6.0s\n",
      "[CV 2/5] END gamma=1, learning_rate=0.2, max_depth=9, min_child_weight=5; accuracy: (test=0.568) f1: (test=0.581) precision: (test=0.592) recall: (test=0.570) total time=   6.4s\n",
      "[CV 3/5] END gamma=1, learning_rate=0.2, max_depth=9, min_child_weight=5; accuracy: (test=0.498) f1: (test=0.528) precision: (test=0.522) recall: (test=0.534) total time=   5.5s\n",
      "[CV 4/5] END gamma=1, learning_rate=0.2, max_depth=9, min_child_weight=5; accuracy: (test=0.523) f1: (test=0.564) precision: (test=0.543) recall: (test=0.586) total time=   6.0s\n",
      "[CV 5/5] END gamma=1, learning_rate=0.2, max_depth=9, min_child_weight=5; accuracy: (test=0.517) f1: (test=0.535) precision: (test=0.541) recall: (test=0.530) total time=   6.0s\n",
      "[CV 1/5] END gamma=2.0, learning_rate=0.1, max_depth=3, min_child_weight=1; accuracy: (test=0.542) f1: (test=0.679) precision: (test=0.539) recall: (test=0.920) total time=   1.3s\n",
      "[CV 2/5] END gamma=2.0, learning_rate=0.1, max_depth=3, min_child_weight=1; accuracy: (test=0.525) f1: (test=0.655) precision: (test=0.530) recall: (test=0.859) total time=   1.5s\n",
      "[CV 3/5] END gamma=2.0, learning_rate=0.1, max_depth=3, min_child_weight=1; accuracy: (test=0.523) f1: (test=0.665) precision: (test=0.527) recall: (test=0.900) total time=   1.3s\n",
      "[CV 4/5] END gamma=2.0, learning_rate=0.1, max_depth=3, min_child_weight=1; accuracy: (test=0.538) f1: (test=0.668) precision: (test=0.537) recall: (test=0.884) total time=   1.4s\n",
      "[CV 5/5] END gamma=2.0, learning_rate=0.1, max_depth=3, min_child_weight=1; accuracy: (test=0.536) f1: (test=0.656) precision: (test=0.537) recall: (test=0.843) total time=   1.4s\n",
      "[CV 1/5] END gamma=2.0, learning_rate=0.01, max_depth=9, min_child_weight=1; accuracy: (test=0.536) f1: (test=0.681) precision: (test=0.534) recall: (test=0.940) total time=  15.2s\n",
      "[CV 2/5] END gamma=2.0, learning_rate=0.01, max_depth=9, min_child_weight=1; accuracy: (test=0.534) f1: (test=0.665) precision: (test=0.534) recall: (test=0.880) total time=  18.0s\n",
      "[CV 3/5] END gamma=2.0, learning_rate=0.01, max_depth=9, min_child_weight=1; accuracy: (test=0.521) f1: (test=0.652) precision: (test=0.527) recall: (test=0.855) total time=  17.6s\n",
      "[CV 4/5] END gamma=2.0, learning_rate=0.01, max_depth=9, min_child_weight=1; accuracy: (test=0.546) f1: (test=0.679) precision: (test=0.540) recall: (test=0.912) total time=  14.0s\n",
      "[CV 5/5] END gamma=2.0, learning_rate=0.01, max_depth=9, min_child_weight=1; accuracy: (test=0.521) f1: (test=0.651) precision: (test=0.527) recall: (test=0.851) total time=  22.5s\n",
      "[CV 1/5] END gamma=2.0, learning_rate=0.2, max_depth=6, min_child_weight=1; accuracy: (test=0.523) f1: (test=0.535) precision: (test=0.551) recall: (test=0.520) total time=   4.3s\n",
      "[CV 2/5] END gamma=2.0, learning_rate=0.2, max_depth=6, min_child_weight=1; accuracy: (test=0.555) f1: (test=0.556) precision: (test=0.584) recall: (test=0.530) total time=   4.7s\n",
      "[CV 3/5] END gamma=2.0, learning_rate=0.2, max_depth=6, min_child_weight=1; accuracy: (test=0.534) f1: (test=0.561) precision: (test=0.555) recall: (test=0.566) total time=   4.4s\n",
      "[CV 4/5] END gamma=2.0, learning_rate=0.2, max_depth=6, min_child_weight=1; accuracy: (test=0.521) f1: (test=0.573) precision: (test=0.539) recall: (test=0.610) total time=   4.3s\n",
      "[CV 5/5] END gamma=2.0, learning_rate=0.2, max_depth=6, min_child_weight=1; accuracy: (test=0.530) f1: (test=0.538) precision: (test=0.556) recall: (test=0.522) total time=   4.4s\n",
      "[CV 1/5] END gamma=1, learning_rate=0.2, max_depth=3, min_child_weight=1; accuracy: (test=0.530) f1: (test=0.634) precision: (test=0.538) recall: (test=0.772) total time=   1.3s\n",
      "[CV 2/5] END gamma=1, learning_rate=0.2, max_depth=3, min_child_weight=1; accuracy: (test=0.542) f1: (test=0.638) precision: (test=0.546) recall: (test=0.767) total time=   1.5s\n",
      "[CV 3/5] END gamma=1, learning_rate=0.2, max_depth=3, min_child_weight=1; accuracy: (test=0.532) f1: (test=0.641) precision: (test=0.537) recall: (test=0.795) total time=   1.7s\n",
      "[CV 4/5] END gamma=1, learning_rate=0.2, max_depth=3, min_child_weight=1; accuracy: (test=0.525) f1: (test=0.632) precision: (test=0.533) recall: (test=0.775) total time=   1.4s\n",
      "[CV 5/5] END gamma=1, learning_rate=0.2, max_depth=3, min_child_weight=1; accuracy: (test=0.546) f1: (test=0.641) precision: (test=0.549) recall: (test=0.771) total time=   1.3s\n",
      "[CV 1/5] END gamma=0.5, learning_rate=0.01, max_depth=6, min_child_weight=10; accuracy: (test=0.523) f1: (test=0.683) precision: (test=0.526) recall: (test=0.972) total time=   3.8s\n"
     ]
    },
    {
     "name": "stdout",
     "output_type": "stream",
     "text": [
      "[CV 2/5] END gamma=0.5, learning_rate=0.01, max_depth=6, min_child_weight=10; accuracy: (test=0.534) f1: (test=0.687) precision: (test=0.531) recall: (test=0.972) total time=   4.9s\n",
      "[CV 3/5] END gamma=0.5, learning_rate=0.01, max_depth=6, min_child_weight=10; accuracy: (test=0.540) f1: (test=0.687) precision: (test=0.535) recall: (test=0.960) total time=   4.5s\n",
      "[CV 4/5] END gamma=0.5, learning_rate=0.01, max_depth=6, min_child_weight=10; accuracy: (test=0.536) f1: (test=0.686) precision: (test=0.532) recall: (test=0.964) total time=   3.8s\n",
      "[CV 5/5] END gamma=0.5, learning_rate=0.01, max_depth=6, min_child_weight=10; accuracy: (test=0.538) f1: (test=0.691) precision: (test=0.533) recall: (test=0.984) total time=   4.7s\n"
     ]
    },
    {
     "data": {
      "text/plain": [
       "{'min_child_weight': 10, 'max_depth': 6, 'learning_rate': 0.01, 'gamma': 0.5}"
      ]
     },
     "execution_count": 65,
     "metadata": {},
     "output_type": "execute_result"
    }
   ],
   "source": [
    "# Agr\n",
    "xgb_model = xgb.XGBClassifier(objective='binary:hinge')\n",
    "\n",
    "params_dict = {'learning_rate': [0.01, 0.1, 0.2],\n",
    "               'gamma': [0.5, 1, 2.0],\n",
    "               'max_depth': [3, 6, 9],\n",
    "               'min_child_weight': [1, 5, 10],\n",
    "              }\n",
    "\n",
    "search = RandomizedSearchCV(xgb_model,\n",
    "         param_distributions=params_dict,\n",
    "         scoring = ['recall', 'precision', 'accuracy', 'f1'],\n",
    "         refit = 'f1', \n",
    "         cv= 5,\n",
    "         verbose=3)\n",
    "\n",
    "search.fit(X_train_agr_b,y_train_agr)\n",
    "search.best_params_"
   ]
  },
  {
   "cell_type": "code",
   "execution_count": 39,
   "id": "3e206c1f",
   "metadata": {},
   "outputs": [],
   "source": [
    "opt_params_agr_b = {'min_child_weight': 10, 'max_depth': 6, 'learning_rate': 0.01, 'gamma': 0.5}"
   ]
  },
  {
   "cell_type": "code",
   "execution_count": 66,
   "id": "78416124",
   "metadata": {
    "scrolled": true
   },
   "outputs": [
    {
     "name": "stdout",
     "output_type": "stream",
     "text": [
      "Fitting 5 folds for each of 10 candidates, totalling 50 fits\n",
      "[CV 1/5] END gamma=1, learning_rate=0.2, max_depth=6, min_child_weight=10; accuracy: (test=0.525) f1: (test=0.534) precision: (test=0.535) recall: (test=0.533) total time=   2.9s\n",
      "[CV 2/5] END gamma=1, learning_rate=0.2, max_depth=6, min_child_weight=10; accuracy: (test=0.498) f1: (test=0.520) precision: (test=0.508) recall: (test=0.533) total time=   3.9s\n",
      "[CV 3/5] END gamma=1, learning_rate=0.2, max_depth=6, min_child_weight=10; accuracy: (test=0.546) f1: (test=0.545) precision: (test=0.556) recall: (test=0.535) total time=   3.6s\n",
      "[CV 4/5] END gamma=1, learning_rate=0.2, max_depth=6, min_child_weight=10; accuracy: (test=0.536) f1: (test=0.555) precision: (test=0.542) recall: (test=0.568) total time=   3.3s\n",
      "[CV 5/5] END gamma=1, learning_rate=0.2, max_depth=6, min_child_weight=10; accuracy: (test=0.544) f1: (test=0.546) precision: (test=0.553) recall: (test=0.539) total time=   3.6s\n",
      "[CV 1/5] END gamma=2.0, learning_rate=0.01, max_depth=9, min_child_weight=1; accuracy: (test=0.536) f1: (test=0.676) precision: (test=0.525) recall: (test=0.950) total time=  20.5s\n",
      "[CV 2/5] END gamma=2.0, learning_rate=0.01, max_depth=9, min_child_weight=1; accuracy: (test=0.517) f1: (test=0.626) precision: (test=0.518) recall: (test=0.793) total time=  18.3s\n",
      "[CV 3/5] END gamma=2.0, learning_rate=0.01, max_depth=9, min_child_weight=1; accuracy: (test=0.536) f1: (test=0.662) precision: (test=0.526) recall: (test=0.892) total time=  15.9s\n",
      "[CV 4/5] END gamma=2.0, learning_rate=0.01, max_depth=9, min_child_weight=1; accuracy: (test=0.494) f1: (test=0.648) precision: (test=0.501) recall: (test=0.917) total time=  16.0s\n",
      "[CV 5/5] END gamma=2.0, learning_rate=0.01, max_depth=9, min_child_weight=1; accuracy: (test=0.532) f1: (test=0.674) precision: (test=0.522) recall: (test=0.950) total time=  13.1s\n",
      "[CV 1/5] END gamma=2.0, learning_rate=0.2, max_depth=3, min_child_weight=5; accuracy: (test=0.534) f1: (test=0.576) precision: (test=0.538) recall: (test=0.620) total time=   1.1s\n",
      "[CV 2/5] END gamma=2.0, learning_rate=0.2, max_depth=3, min_child_weight=5; accuracy: (test=0.521) f1: (test=0.613) precision: (test=0.522) recall: (test=0.744) total time=   1.1s\n",
      "[CV 3/5] END gamma=2.0, learning_rate=0.2, max_depth=3, min_child_weight=5; accuracy: (test=0.546) f1: (test=0.621) precision: (test=0.540) recall: (test=0.730) total time=   1.0s\n",
      "[CV 4/5] END gamma=2.0, learning_rate=0.2, max_depth=3, min_child_weight=5; accuracy: (test=0.568) f1: (test=0.586) precision: (test=0.571) recall: (test=0.602) total time=   1.0s\n",
      "[CV 5/5] END gamma=2.0, learning_rate=0.2, max_depth=3, min_child_weight=5; accuracy: (test=0.563) f1: (test=0.612) precision: (test=0.558) recall: (test=0.676) total time=   1.0s\n",
      "[CV 1/5] END gamma=0.5, learning_rate=0.01, max_depth=9, min_child_weight=1; accuracy: (test=0.532) f1: (test=0.674) precision: (test=0.523) recall: (test=0.946) total time=  14.7s\n",
      "[CV 2/5] END gamma=0.5, learning_rate=0.01, max_depth=9, min_child_weight=1; accuracy: (test=0.515) f1: (test=0.624) precision: (test=0.516) recall: (test=0.789) total time=  15.1s\n",
      "[CV 3/5] END gamma=0.5, learning_rate=0.01, max_depth=9, min_child_weight=1; accuracy: (test=0.530) f1: (test=0.656) precision: (test=0.522) recall: (test=0.884) total time=  15.2s\n",
      "[CV 4/5] END gamma=0.5, learning_rate=0.01, max_depth=9, min_child_weight=1; accuracy: (test=0.500) f1: (test=0.653) precision: (test=0.505) recall: (test=0.925) total time=  18.1s\n",
      "[CV 5/5] END gamma=0.5, learning_rate=0.01, max_depth=9, min_child_weight=1; accuracy: (test=0.519) f1: (test=0.666) precision: (test=0.515) recall: (test=0.942) total time=  16.5s\n",
      "[CV 1/5] END gamma=2.0, learning_rate=0.01, max_depth=9, min_child_weight=5; accuracy: (test=0.521) f1: (test=0.674) precision: (test=0.516) recall: (test=0.971) total time=  10.4s\n",
      "[CV 2/5] END gamma=2.0, learning_rate=0.01, max_depth=9, min_child_weight=5; accuracy: (test=0.544) f1: (test=0.661) precision: (test=0.533) recall: (test=0.872) total time=  11.1s\n",
      "[CV 3/5] END gamma=2.0, learning_rate=0.01, max_depth=9, min_child_weight=5; accuracy: (test=0.523) f1: (test=0.660) precision: (test=0.518) recall: (test=0.909) total time=  10.4s\n",
      "[CV 4/5] END gamma=2.0, learning_rate=0.01, max_depth=9, min_child_weight=5; accuracy: (test=0.498) f1: (test=0.658) precision: (test=0.503) recall: (test=0.950) total time=  11.5s\n",
      "[CV 5/5] END gamma=2.0, learning_rate=0.01, max_depth=9, min_child_weight=5; accuracy: (test=0.517) f1: (test=0.670) precision: (test=0.513) recall: (test=0.963) total time=   9.4s\n",
      "[CV 1/5] END gamma=0.5, learning_rate=0.1, max_depth=6, min_child_weight=10; accuracy: (test=0.530) f1: (test=0.544) precision: (test=0.538) recall: (test=0.550) total time=   3.3s\n",
      "[CV 2/5] END gamma=0.5, learning_rate=0.1, max_depth=6, min_child_weight=10; accuracy: (test=0.527) f1: (test=0.616) precision: (test=0.526) recall: (test=0.744) total time=   3.9s\n",
      "[CV 3/5] END gamma=0.5, learning_rate=0.1, max_depth=6, min_child_weight=10; accuracy: (test=0.557) f1: (test=0.630) precision: (test=0.547) recall: (test=0.743) total time=   3.2s\n",
      "[CV 4/5] END gamma=0.5, learning_rate=0.1, max_depth=6, min_child_weight=10; accuracy: (test=0.565) f1: (test=0.594) precision: (test=0.566) recall: (test=0.627) total time=   3.6s\n",
      "[CV 5/5] END gamma=0.5, learning_rate=0.1, max_depth=6, min_child_weight=10; accuracy: (test=0.555) f1: (test=0.607) precision: (test=0.551) recall: (test=0.676) total time=   3.4s\n",
      "[CV 1/5] END gamma=0.5, learning_rate=0.2, max_depth=9, min_child_weight=5; accuracy: (test=0.504) f1: (test=0.521) precision: (test=0.514) recall: (test=0.529) total time=   5.0s\n",
      "[CV 2/5] END gamma=0.5, learning_rate=0.2, max_depth=9, min_child_weight=5; accuracy: (test=0.515) f1: (test=0.534) precision: (test=0.524) recall: (test=0.545) total time=   5.6s\n",
      "[CV 3/5] END gamma=0.5, learning_rate=0.2, max_depth=9, min_child_weight=5; accuracy: (test=0.515) f1: (test=0.519) precision: (test=0.523) recall: (test=0.515) total time=   6.0s\n",
      "[CV 4/5] END gamma=0.5, learning_rate=0.2, max_depth=9, min_child_weight=5; accuracy: (test=0.527) f1: (test=0.531) precision: (test=0.536) recall: (test=0.527) total time=   6.6s\n",
      "[CV 5/5] END gamma=0.5, learning_rate=0.2, max_depth=9, min_child_weight=5; accuracy: (test=0.527) f1: (test=0.550) precision: (test=0.533) recall: (test=0.568) total time=   6.9s\n",
      "[CV 1/5] END gamma=2.0, learning_rate=0.1, max_depth=3, min_child_weight=10; accuracy: (test=0.538) f1: (test=0.652) precision: (test=0.530) recall: (test=0.847) total time=   1.4s\n",
      "[CV 2/5] END gamma=2.0, learning_rate=0.1, max_depth=3, min_child_weight=10; accuracy: (test=0.517) f1: (test=0.631) precision: (test=0.517) recall: (test=0.810) total time=   1.3s\n",
      "[CV 3/5] END gamma=2.0, learning_rate=0.1, max_depth=3, min_child_weight=10; accuracy: (test=0.525) f1: (test=0.654) precision: (test=0.520) recall: (test=0.884) total time=   1.3s\n",
      "[CV 4/5] END gamma=2.0, learning_rate=0.1, max_depth=3, min_child_weight=10; accuracy: (test=0.549) f1: (test=0.656) precision: (test=0.535) recall: (test=0.846) total time=   1.3s\n",
      "[CV 5/5] END gamma=2.0, learning_rate=0.1, max_depth=3, min_child_weight=10; accuracy: (test=0.523) f1: (test=0.648) precision: (test=0.519) recall: (test=0.863) total time=   1.4s\n",
      "[CV 1/5] END gamma=2.0, learning_rate=0.2, max_depth=9, min_child_weight=5; accuracy: (test=0.500) f1: (test=0.513) precision: (test=0.510) recall: (test=0.517) total time=   7.5s\n",
      "[CV 2/5] END gamma=2.0, learning_rate=0.2, max_depth=9, min_child_weight=5; accuracy: (test=0.521) f1: (test=0.549) precision: (test=0.529) recall: (test=0.570) total time=   6.0s\n",
      "[CV 3/5] END gamma=2.0, learning_rate=0.2, max_depth=9, min_child_weight=5; accuracy: (test=0.525) f1: (test=0.516) precision: (test=0.536) recall: (test=0.498) total time=   5.1s\n",
      "[CV 4/5] END gamma=2.0, learning_rate=0.2, max_depth=9, min_child_weight=5; accuracy: (test=0.521) f1: (test=0.540) precision: (test=0.528) recall: (test=0.552) total time=   5.6s\n",
      "[CV 5/5] END gamma=2.0, learning_rate=0.2, max_depth=9, min_child_weight=5; accuracy: (test=0.532) f1: (test=0.536) precision: (test=0.540) recall: (test=0.531) total time=   4.9s\n",
      "[CV 1/5] END gamma=2.0, learning_rate=0.1, max_depth=3, min_child_weight=5; accuracy: (test=0.553) f1: (test=0.668) precision: (test=0.538) recall: (test=0.880) total time=   1.0s\n"
     ]
    },
    {
     "name": "stdout",
     "output_type": "stream",
     "text": [
      "[CV 2/5] END gamma=2.0, learning_rate=0.1, max_depth=3, min_child_weight=5; accuracy: (test=0.521) f1: (test=0.633) precision: (test=0.520) recall: (test=0.810) total time=   1.1s\n",
      "[CV 3/5] END gamma=2.0, learning_rate=0.1, max_depth=3, min_child_weight=5; accuracy: (test=0.521) f1: (test=0.648) precision: (test=0.517) recall: (test=0.867) total time=   1.1s\n",
      "[CV 4/5] END gamma=2.0, learning_rate=0.1, max_depth=3, min_child_weight=5; accuracy: (test=0.544) f1: (test=0.649) precision: (test=0.533) recall: (test=0.830) total time=   1.0s\n",
      "[CV 5/5] END gamma=2.0, learning_rate=0.1, max_depth=3, min_child_weight=5; accuracy: (test=0.540) f1: (test=0.669) precision: (test=0.528) recall: (test=0.913) total time=   1.1s\n"
     ]
    },
    {
     "data": {
      "text/plain": [
       "{'min_child_weight': 5, 'max_depth': 9, 'learning_rate': 0.01, 'gamma': 2.0}"
      ]
     },
     "execution_count": 66,
     "metadata": {},
     "output_type": "execute_result"
    }
   ],
   "source": [
    "# Con\n",
    "xgb_model = xgb.XGBClassifier(objective='binary:hinge')\n",
    "\n",
    "params_dict = {'learning_rate': [0.01, 0.1, 0.2],\n",
    "               'gamma': [0.5, 1, 2.0],\n",
    "               'max_depth': [3, 6, 9],\n",
    "               'min_child_weight': [1, 5, 10],\n",
    "              }\n",
    "\n",
    "search = RandomizedSearchCV(xgb_model,\n",
    "         param_distributions=params_dict,\n",
    "         scoring = ['recall', 'precision', 'accuracy', 'f1'],\n",
    "         refit = 'f1', \n",
    "         cv= 5,\n",
    "         verbose=3)\n",
    "\n",
    "search.fit(X_train_con_b,y_train_con)\n",
    "search.best_params_"
   ]
  },
  {
   "cell_type": "code",
   "execution_count": 40,
   "id": "80abf4db",
   "metadata": {},
   "outputs": [],
   "source": [
    "opt_params_con_b = {'min_child_weight': 5, 'max_depth': 9, 'learning_rate': 0.01, 'gamma': 2.0}"
   ]
  },
  {
   "cell_type": "code",
   "execution_count": 67,
   "id": "bcc15e80",
   "metadata": {
    "scrolled": true
   },
   "outputs": [
    {
     "name": "stdout",
     "output_type": "stream",
     "text": [
      "Fitting 5 folds for each of 10 candidates, totalling 50 fits\n",
      "[CV 1/5] END gamma=0.5, learning_rate=0.2, max_depth=9, min_child_weight=10; accuracy: (test=0.546) f1: (test=0.523) precision: (test=0.536) recall: (test=0.511) total time=   3.6s\n",
      "[CV 2/5] END gamma=0.5, learning_rate=0.2, max_depth=9, min_child_weight=10; accuracy: (test=0.572) f1: (test=0.563) precision: (test=0.557) recall: (test=0.570) total time=   5.4s\n",
      "[CV 3/5] END gamma=0.5, learning_rate=0.2, max_depth=9, min_child_weight=10; accuracy: (test=0.538) f1: (test=0.510) precision: (test=0.525) recall: (test=0.496) total time=   5.9s\n",
      "[CV 4/5] END gamma=0.5, learning_rate=0.2, max_depth=9, min_child_weight=10; accuracy: (test=0.559) f1: (test=0.554) precision: (test=0.544) recall: (test=0.565) total time=   5.1s\n",
      "[CV 5/5] END gamma=0.5, learning_rate=0.2, max_depth=9, min_child_weight=10; accuracy: (test=0.565) f1: (test=0.556) precision: (test=0.551) recall: (test=0.561) total time=   5.1s\n",
      "[CV 1/5] END gamma=0.5, learning_rate=0.1, max_depth=3, min_child_weight=10; accuracy: (test=0.538) f1: (test=0.541) precision: (test=0.524) recall: (test=0.558) total time=   1.6s\n",
      "[CV 2/5] END gamma=0.5, learning_rate=0.1, max_depth=3, min_child_weight=10; accuracy: (test=0.557) f1: (test=0.531) precision: (test=0.546) recall: (test=0.517) total time=   1.1s\n",
      "[CV 3/5] END gamma=0.5, learning_rate=0.1, max_depth=3, min_child_weight=10; accuracy: (test=0.572) f1: (test=0.531) precision: (test=0.567) recall: (test=0.500) total time=   1.1s\n",
      "[CV 4/5] END gamma=0.5, learning_rate=0.1, max_depth=3, min_child_weight=10; accuracy: (test=0.582) f1: (test=0.599) precision: (test=0.561) recall: (test=0.643) total time=   1.2s\n",
      "[CV 5/5] END gamma=0.5, learning_rate=0.1, max_depth=3, min_child_weight=10; accuracy: (test=0.549) f1: (test=0.590) precision: (test=0.527) recall: (test=0.670) total time=   1.4s\n",
      "[CV 1/5] END gamma=2.0, learning_rate=0.1, max_depth=9, min_child_weight=5; accuracy: (test=0.580) f1: (test=0.572) precision: (test=0.568) recall: (test=0.576) total time=   8.3s\n",
      "[CV 2/5] END gamma=2.0, learning_rate=0.1, max_depth=9, min_child_weight=5; accuracy: (test=0.582) f1: (test=0.573) precision: (test=0.568) recall: (test=0.578) total time=   8.9s\n",
      "[CV 3/5] END gamma=2.0, learning_rate=0.1, max_depth=9, min_child_weight=5; accuracy: (test=0.544) f1: (test=0.534) precision: (test=0.530) recall: (test=0.539) total time=   8.2s\n",
      "[CV 4/5] END gamma=2.0, learning_rate=0.1, max_depth=9, min_child_weight=5; accuracy: (test=0.605) f1: (test=0.616) precision: (test=0.584) recall: (test=0.652) total time=   7.4s\n",
      "[CV 5/5] END gamma=2.0, learning_rate=0.1, max_depth=9, min_child_weight=5; accuracy: (test=0.542) f1: (test=0.531) precision: (test=0.528) recall: (test=0.535) total time=   7.3s\n",
      "[CV 1/5] END gamma=0.5, learning_rate=0.1, max_depth=3, min_child_weight=1; accuracy: (test=0.521) f1: (test=0.573) precision: (test=0.507) recall: (test=0.658) total time=   1.9s\n",
      "[CV 2/5] END gamma=0.5, learning_rate=0.1, max_depth=3, min_child_weight=1; accuracy: (test=0.559) f1: (test=0.543) precision: (test=0.546) recall: (test=0.539) total time=   1.5s\n",
      "[CV 3/5] END gamma=0.5, learning_rate=0.1, max_depth=3, min_child_weight=1; accuracy: (test=0.551) f1: (test=0.542) precision: (test=0.536) recall: (test=0.548) total time=   1.3s\n",
      "[CV 4/5] END gamma=0.5, learning_rate=0.1, max_depth=3, min_child_weight=1; accuracy: (test=0.586) f1: (test=0.586) precision: (test=0.570) recall: (test=0.604) total time=   1.4s\n",
      "[CV 5/5] END gamma=0.5, learning_rate=0.1, max_depth=3, min_child_weight=1; accuracy: (test=0.559) f1: (test=0.594) precision: (test=0.537) recall: (test=0.665) total time=   1.3s\n",
      "[CV 1/5] END gamma=2.0, learning_rate=0.01, max_depth=9, min_child_weight=1; accuracy: (test=0.506) f1: (test=0.637) precision: (test=0.496) recall: (test=0.887) total time=  16.4s\n",
      "[CV 2/5] END gamma=2.0, learning_rate=0.01, max_depth=9, min_child_weight=1; accuracy: (test=0.544) f1: (test=0.650) precision: (test=0.518) recall: (test=0.874) total time=  16.9s\n",
      "[CV 3/5] END gamma=2.0, learning_rate=0.01, max_depth=9, min_child_weight=1; accuracy: (test=0.513) f1: (test=0.646) precision: (test=0.499) recall: (test=0.917) total time=  18.5s\n",
      "[CV 4/5] END gamma=2.0, learning_rate=0.01, max_depth=9, min_child_weight=1; accuracy: (test=0.521) f1: (test=0.634) precision: (test=0.504) recall: (test=0.857) total time=  20.5s\n",
      "[CV 5/5] END gamma=2.0, learning_rate=0.01, max_depth=9, min_child_weight=1; accuracy: (test=0.525) f1: (test=0.619) precision: (test=0.507) recall: (test=0.796) total time=  21.8s\n",
      "[CV 1/5] END gamma=0.5, learning_rate=0.2, max_depth=6, min_child_weight=10; accuracy: (test=0.572) f1: (test=0.550) precision: (test=0.564) recall: (test=0.537) total time=   4.3s\n",
      "[CV 2/5] END gamma=0.5, learning_rate=0.2, max_depth=6, min_child_weight=10; accuracy: (test=0.572) f1: (test=0.542) precision: (test=0.563) recall: (test=0.522) total time=   3.5s\n",
      "[CV 3/5] END gamma=0.5, learning_rate=0.2, max_depth=6, min_child_weight=10; accuracy: (test=0.534) f1: (test=0.525) precision: (test=0.519) recall: (test=0.530) total time=   3.8s\n",
      "[CV 4/5] END gamma=0.5, learning_rate=0.2, max_depth=6, min_child_weight=10; accuracy: (test=0.574) f1: (test=0.555) precision: (test=0.562) recall: (test=0.548) total time=   3.5s\n",
      "[CV 5/5] END gamma=0.5, learning_rate=0.2, max_depth=6, min_child_weight=10; accuracy: (test=0.551) f1: (test=0.534) precision: (test=0.537) recall: (test=0.530) total time=   3.4s\n",
      "[CV 1/5] END gamma=2.0, learning_rate=0.2, max_depth=6, min_child_weight=10; accuracy: (test=0.544) f1: (test=0.546) precision: (test=0.531) recall: (test=0.563) total time=   3.9s\n",
      "[CV 2/5] END gamma=2.0, learning_rate=0.2, max_depth=6, min_child_weight=10; accuracy: (test=0.582) f1: (test=0.550) precision: (test=0.576) recall: (test=0.526) total time=   4.1s\n",
      "[CV 3/5] END gamma=2.0, learning_rate=0.2, max_depth=6, min_child_weight=10; accuracy: (test=0.555) f1: (test=0.528) precision: (test=0.544) recall: (test=0.513) total time=   4.2s\n",
      "[CV 4/5] END gamma=2.0, learning_rate=0.2, max_depth=6, min_child_weight=10; accuracy: (test=0.568) f1: (test=0.561) precision: (test=0.553) recall: (test=0.570) total time=   3.8s\n",
      "[CV 5/5] END gamma=2.0, learning_rate=0.2, max_depth=6, min_child_weight=10; accuracy: (test=0.540) f1: (test=0.524) precision: (test=0.526) recall: (test=0.522) total time=   3.6s\n",
      "[CV 1/5] END gamma=2.0, learning_rate=0.01, max_depth=3, min_child_weight=5; accuracy: (test=0.487) f1: (test=0.654) precision: (test=0.487) recall: (test=0.996) total time=   1.2s\n",
      "[CV 2/5] END gamma=2.0, learning_rate=0.01, max_depth=3, min_child_weight=5; accuracy: (test=0.481) f1: (test=0.649) precision: (test=0.483) recall: (test=0.987) total time=   1.4s\n",
      "[CV 3/5] END gamma=2.0, learning_rate=0.01, max_depth=3, min_child_weight=5; accuracy: (test=0.487) f1: (test=0.652) precision: (test=0.486) recall: (test=0.991) total time=   1.8s\n",
      "[CV 4/5] END gamma=2.0, learning_rate=0.01, max_depth=3, min_child_weight=5; accuracy: (test=0.485) f1: (test=0.651) precision: (test=0.485) recall: (test=0.991) total time=   1.4s\n",
      "[CV 5/5] END gamma=2.0, learning_rate=0.01, max_depth=3, min_child_weight=5; accuracy: (test=0.485) f1: (test=0.651) precision: (test=0.485) recall: (test=0.991) total time=   1.4s\n",
      "[CV 1/5] END gamma=1, learning_rate=0.01, max_depth=9, min_child_weight=5; accuracy: (test=0.517) f1: (test=0.649) precision: (test=0.502) recall: (test=0.918) total time=  14.3s\n",
      "[CV 2/5] END gamma=1, learning_rate=0.01, max_depth=9, min_child_weight=5; accuracy: (test=0.527) f1: (test=0.651) precision: (test=0.507) recall: (test=0.909) total time=  15.7s\n",
      "[CV 3/5] END gamma=1, learning_rate=0.01, max_depth=9, min_child_weight=5; accuracy: (test=0.500) f1: (test=0.644) precision: (test=0.492) recall: (test=0.930) total time=  13.3s\n",
      "[CV 4/5] END gamma=1, learning_rate=0.01, max_depth=9, min_child_weight=5; accuracy: (test=0.498) f1: (test=0.633) precision: (test=0.490) recall: (test=0.891) total time=  16.6s\n",
      "[CV 5/5] END gamma=1, learning_rate=0.01, max_depth=9, min_child_weight=5; accuracy: (test=0.532) f1: (test=0.634) precision: (test=0.511) recall: (test=0.835) total time=  17.3s\n",
      "[CV 1/5] END gamma=1, learning_rate=0.1, max_depth=9, min_child_weight=5; accuracy: (test=0.542) f1: (test=0.543) precision: (test=0.529) recall: (test=0.558) total time=   8.6s\n"
     ]
    },
    {
     "name": "stdout",
     "output_type": "stream",
     "text": [
      "[CV 2/5] END gamma=1, learning_rate=0.1, max_depth=9, min_child_weight=5; accuracy: (test=0.586) f1: (test=0.561) precision: (test=0.579) recall: (test=0.543) total time=   7.9s\n",
      "[CV 3/5] END gamma=1, learning_rate=0.1, max_depth=9, min_child_weight=5; accuracy: (test=0.568) f1: (test=0.563) precision: (test=0.552) recall: (test=0.574) total time=   7.0s\n",
      "[CV 4/5] END gamma=1, learning_rate=0.1, max_depth=9, min_child_weight=5; accuracy: (test=0.565) f1: (test=0.576) precision: (test=0.547) recall: (test=0.609) total time=   7.6s\n",
      "[CV 5/5] END gamma=1, learning_rate=0.1, max_depth=9, min_child_weight=5; accuracy: (test=0.542) f1: (test=0.519) precision: (test=0.529) recall: (test=0.509) total time=   7.1s\n"
     ]
    },
    {
     "data": {
      "text/plain": [
       "{'min_child_weight': 5, 'max_depth': 3, 'learning_rate': 0.01, 'gamma': 2.0}"
      ]
     },
     "execution_count": 67,
     "metadata": {},
     "output_type": "execute_result"
    }
   ],
   "source": [
    "# Opn\n",
    "xgb_model = xgb.XGBClassifier(objective='binary:hinge')\n",
    "\n",
    "params_dict = {'learning_rate': [0.01, 0.1, 0.2],\n",
    "               'gamma': [0.5, 1, 2.0],\n",
    "               'max_depth': [3, 6, 9],\n",
    "               'min_child_weight': [1, 5, 10],\n",
    "              }\n",
    "\n",
    "search = RandomizedSearchCV(xgb_model,\n",
    "         param_distributions=params_dict,\n",
    "         scoring = ['recall', 'precision', 'accuracy', 'f1'],\n",
    "         refit = 'f1', \n",
    "         cv= 5,\n",
    "         verbose=3)\n",
    "\n",
    "search.fit(X_train_opn_b,y_train_opn)\n",
    "search.best_params_"
   ]
  },
  {
   "cell_type": "code",
   "execution_count": 41,
   "id": "7f2a7746",
   "metadata": {},
   "outputs": [],
   "source": [
    "opt_params_opn_b = {'min_child_weight': 5, 'max_depth': 3, 'learning_rate': 0.01, 'gamma': 2.0}"
   ]
  },
  {
   "cell_type": "markdown",
   "id": "94145c93",
   "metadata": {},
   "source": [
    "### Training and testing\n",
    "\n",
    "With the optimal parameters found, the XGBoost is trained on the training set and then tested for validation."
   ]
  },
  {
   "cell_type": "code",
   "execution_count": 42,
   "id": "eab75efc",
   "metadata": {},
   "outputs": [
    {
     "name": "stdout",
     "output_type": "stream",
     "text": [
      "Accuracy: 0.52\n",
      "Precision: 0.51\n",
      "Recall: 0.95\n",
      "F1 Score: 0.67\n"
     ]
    }
   ],
   "source": [
    "# Ext\n",
    "metrics_ext_b = XGB_model(X_train_ext_b, X_test_ext_b, y_train_ext, y_test_ext, opt_params_ext_b)"
   ]
  },
  {
   "cell_type": "code",
   "execution_count": 43,
   "id": "0b474997",
   "metadata": {},
   "outputs": [
    {
     "name": "stdout",
     "output_type": "stream",
     "text": [
      "Accuracy: 0.53\n",
      "Precision: 0.54\n",
      "Recall: 0.98\n",
      "F1 Score: 0.69\n"
     ]
    }
   ],
   "source": [
    "# Neu\n",
    "metrics_neu_b = XGB_model(X_train_neu_b, X_test_neu_b, y_train_neu, y_test_neu, opt_params_neu_b)"
   ]
  },
  {
   "cell_type": "code",
   "execution_count": 44,
   "id": "12d81638",
   "metadata": {},
   "outputs": [
    {
     "name": "stdout",
     "output_type": "stream",
     "text": [
      "Accuracy: 0.51\n",
      "Precision: 0.50\n",
      "Recall: 0.98\n",
      "F1 Score: 0.66\n"
     ]
    }
   ],
   "source": [
    "# Agr\n",
    "metrics_agr_b = XGB_model(X_train_agr_b, X_test_agr_b, y_train_agr, y_test_agr, opt_params_agr_b)"
   ]
  },
  {
   "cell_type": "code",
   "execution_count": 45,
   "id": "9889372b",
   "metadata": {},
   "outputs": [
    {
     "name": "stdout",
     "output_type": "stream",
     "text": [
      "Accuracy: 0.51\n",
      "Precision: 0.52\n",
      "Recall: 0.92\n",
      "F1 Score: 0.66\n"
     ]
    }
   ],
   "source": [
    "# Con\n",
    "metrics_con_b = XGB_model(X_train_con_b, X_test_con_b, y_train_con, y_test_con, opt_params_con_b)"
   ]
  },
  {
   "cell_type": "code",
   "execution_count": 46,
   "id": "468c4d17",
   "metadata": {},
   "outputs": [
    {
     "name": "stdout",
     "output_type": "stream",
     "text": [
      "Accuracy: 0.47\n",
      "Precision: 0.47\n",
      "Recall: 1.00\n",
      "F1 Score: 0.64\n"
     ]
    }
   ],
   "source": [
    "# Opn\n",
    "metrics_opn_b = XGB_model(X_train_opn_b, X_test_opn_b, y_train_opn, y_test_opn, opt_params_opn_b)"
   ]
  },
  {
   "cell_type": "markdown",
   "id": "3c3baa15",
   "metadata": {},
   "source": [
    "# Comparison of the different techniques per target variable\n",
    "\n",
    "With the different feeding techniques done, the metrics can be identified. These are used to compare the methods to see what method would work best."
   ]
  },
  {
   "cell_type": "code",
   "execution_count": 47,
   "id": "9d2b7035",
   "metadata": {},
   "outputs": [
    {
     "data": {
      "text/html": [
       "<div>\n",
       "<style scoped>\n",
       "    .dataframe tbody tr th:only-of-type {\n",
       "        vertical-align: middle;\n",
       "    }\n",
       "\n",
       "    .dataframe tbody tr th {\n",
       "        vertical-align: top;\n",
       "    }\n",
       "\n",
       "    .dataframe thead th {\n",
       "        text-align: right;\n",
       "    }\n",
       "</style>\n",
       "<table border=\"1\" class=\"dataframe\">\n",
       "  <thead>\n",
       "    <tr style=\"text-align: right;\">\n",
       "      <th></th>\n",
       "      <th>f1</th>\n",
       "      <th>accuracy</th>\n",
       "      <th>precision</th>\n",
       "      <th>recall</th>\n",
       "    </tr>\n",
       "  </thead>\n",
       "  <tbody>\n",
       "    <tr>\n",
       "      <th>TF-IDF</th>\n",
       "      <td>0.655215</td>\n",
       "      <td>0.526138</td>\n",
       "      <td>0.516441</td>\n",
       "      <td>0.895973</td>\n",
       "    </tr>\n",
       "    <tr>\n",
       "      <th>PoS</th>\n",
       "      <td>0.662085</td>\n",
       "      <td>0.502530</td>\n",
       "      <td>0.502609</td>\n",
       "      <td>0.969799</td>\n",
       "    </tr>\n",
       "    <tr>\n",
       "      <th>BoW</th>\n",
       "      <td>0.668235</td>\n",
       "      <td>0.524452</td>\n",
       "      <td>0.514493</td>\n",
       "      <td>0.953020</td>\n",
       "    </tr>\n",
       "  </tbody>\n",
       "</table>\n",
       "</div>"
      ],
      "text/plain": [
       "              f1  accuracy  precision    recall\n",
       "TF-IDF  0.655215  0.526138   0.516441  0.895973\n",
       "PoS     0.662085  0.502530   0.502609  0.969799\n",
       "BoW     0.668235  0.524452   0.514493  0.953020"
      ]
     },
     "execution_count": 47,
     "metadata": {},
     "output_type": "execute_result"
    }
   ],
   "source": [
    "# Ext\n",
    "metrics_ext = pd.DataFrame([metrics_ext_t, metrics_ext_p, metrics_ext_b], columns=['f1', 'accuracy', 'precision', 'recall'])\n",
    "metrics_ext = metrics_ext.transpose()\n",
    "metrics_ext.columns = ['TF-IDF', 'PoS', 'BoW']\n",
    "metrics_ext = metrics_ext.transpose()\n",
    "metrics_ext"
   ]
  },
  {
   "cell_type": "code",
   "execution_count": 48,
   "id": "1b855e26",
   "metadata": {},
   "outputs": [
    {
     "data": {
      "text/html": [
       "<div>\n",
       "<style scoped>\n",
       "    .dataframe tbody tr th:only-of-type {\n",
       "        vertical-align: middle;\n",
       "    }\n",
       "\n",
       "    .dataframe tbody tr th {\n",
       "        vertical-align: top;\n",
       "    }\n",
       "\n",
       "    .dataframe thead th {\n",
       "        text-align: right;\n",
       "    }\n",
       "</style>\n",
       "<table border=\"1\" class=\"dataframe\">\n",
       "  <thead>\n",
       "    <tr style=\"text-align: right;\">\n",
       "      <th></th>\n",
       "      <th>f1</th>\n",
       "      <th>accuracy</th>\n",
       "      <th>precision</th>\n",
       "      <th>recall</th>\n",
       "    </tr>\n",
       "  </thead>\n",
       "  <tbody>\n",
       "    <tr>\n",
       "      <th>TF-IDF</th>\n",
       "      <td>0.695364</td>\n",
       "      <td>0.534570</td>\n",
       "      <td>0.537543</td>\n",
       "      <td>0.984375</td>\n",
       "    </tr>\n",
       "    <tr>\n",
       "      <th>PoS</th>\n",
       "      <td>0.700986</td>\n",
       "      <td>0.539629</td>\n",
       "      <td>0.539629</td>\n",
       "      <td>1.000000</td>\n",
       "    </tr>\n",
       "    <tr>\n",
       "      <th>BoW</th>\n",
       "      <td>0.694598</td>\n",
       "      <td>0.532884</td>\n",
       "      <td>0.536627</td>\n",
       "      <td>0.984375</td>\n",
       "    </tr>\n",
       "  </tbody>\n",
       "</table>\n",
       "</div>"
      ],
      "text/plain": [
       "              f1  accuracy  precision    recall\n",
       "TF-IDF  0.695364  0.534570   0.537543  0.984375\n",
       "PoS     0.700986  0.539629   0.539629  1.000000\n",
       "BoW     0.694598  0.532884   0.536627  0.984375"
      ]
     },
     "execution_count": 48,
     "metadata": {},
     "output_type": "execute_result"
    }
   ],
   "source": [
    "# Neu\n",
    "metrics_neu = pd.DataFrame([metrics_neu_t, metrics_neu_p, metrics_neu_b], columns=['f1', 'accuracy', 'precision', 'recall'])\n",
    "metrics_neu = metrics_neu.transpose()\n",
    "metrics_neu.columns = ['TF-IDF', 'PoS', 'BoW']\n",
    "metrics_neu = metrics_neu.transpose()\n",
    "metrics_neu"
   ]
  },
  {
   "cell_type": "code",
   "execution_count": 49,
   "id": "243986e3",
   "metadata": {},
   "outputs": [
    {
     "data": {
      "text/html": [
       "<div>\n",
       "<style scoped>\n",
       "    .dataframe tbody tr th:only-of-type {\n",
       "        vertical-align: middle;\n",
       "    }\n",
       "\n",
       "    .dataframe tbody tr th {\n",
       "        vertical-align: top;\n",
       "    }\n",
       "\n",
       "    .dataframe thead th {\n",
       "        text-align: right;\n",
       "    }\n",
       "</style>\n",
       "<table border=\"1\" class=\"dataframe\">\n",
       "  <thead>\n",
       "    <tr style=\"text-align: right;\">\n",
       "      <th></th>\n",
       "      <th>f1</th>\n",
       "      <th>accuracy</th>\n",
       "      <th>precision</th>\n",
       "      <th>recall</th>\n",
       "    </tr>\n",
       "  </thead>\n",
       "  <tbody>\n",
       "    <tr>\n",
       "      <th>TF-IDF</th>\n",
       "      <td>0.658371</td>\n",
       "      <td>0.490725</td>\n",
       "      <td>0.490725</td>\n",
       "      <td>1.000000</td>\n",
       "    </tr>\n",
       "    <tr>\n",
       "      <th>PoS</th>\n",
       "      <td>0.651323</td>\n",
       "      <td>0.489039</td>\n",
       "      <td>0.489619</td>\n",
       "      <td>0.972509</td>\n",
       "    </tr>\n",
       "    <tr>\n",
       "      <th>BoW</th>\n",
       "      <td>0.660487</td>\n",
       "      <td>0.505902</td>\n",
       "      <td>0.498252</td>\n",
       "      <td>0.979381</td>\n",
       "    </tr>\n",
       "  </tbody>\n",
       "</table>\n",
       "</div>"
      ],
      "text/plain": [
       "              f1  accuracy  precision    recall\n",
       "TF-IDF  0.658371  0.490725   0.490725  1.000000\n",
       "PoS     0.651323  0.489039   0.489619  0.972509\n",
       "BoW     0.660487  0.505902   0.498252  0.979381"
      ]
     },
     "execution_count": 49,
     "metadata": {},
     "output_type": "execute_result"
    }
   ],
   "source": [
    "# Agr\n",
    "metrics_agr = pd.DataFrame([metrics_agr_t, metrics_agr_p, metrics_agr_b], columns=['f1', 'accuracy', 'precision', 'recall'])\n",
    "metrics_agr = metrics_agr.transpose()\n",
    "metrics_agr.columns = ['TF-IDF', 'PoS', 'BoW']\n",
    "metrics_agr = metrics_agr.transpose()\n",
    "metrics_agr"
   ]
  },
  {
   "cell_type": "code",
   "execution_count": 50,
   "id": "526c3a66",
   "metadata": {},
   "outputs": [
    {
     "data": {
      "text/html": [
       "<div>\n",
       "<style scoped>\n",
       "    .dataframe tbody tr th:only-of-type {\n",
       "        vertical-align: middle;\n",
       "    }\n",
       "\n",
       "    .dataframe tbody tr th {\n",
       "        vertical-align: top;\n",
       "    }\n",
       "\n",
       "    .dataframe thead th {\n",
       "        text-align: right;\n",
       "    }\n",
       "</style>\n",
       "<table border=\"1\" class=\"dataframe\">\n",
       "  <thead>\n",
       "    <tr style=\"text-align: right;\">\n",
       "      <th></th>\n",
       "      <th>f1</th>\n",
       "      <th>accuracy</th>\n",
       "      <th>precision</th>\n",
       "      <th>recall</th>\n",
       "    </tr>\n",
       "  </thead>\n",
       "  <tbody>\n",
       "    <tr>\n",
       "      <th>TF-IDF</th>\n",
       "      <td>0.683202</td>\n",
       "      <td>0.526138</td>\n",
       "      <td>0.526042</td>\n",
       "      <td>0.974277</td>\n",
       "    </tr>\n",
       "    <tr>\n",
       "      <th>PoS</th>\n",
       "      <td>0.668187</td>\n",
       "      <td>0.509275</td>\n",
       "      <td>0.517668</td>\n",
       "      <td>0.942122</td>\n",
       "    </tr>\n",
       "    <tr>\n",
       "      <th>BoW</th>\n",
       "      <td>0.661272</td>\n",
       "      <td>0.505902</td>\n",
       "      <td>0.516245</td>\n",
       "      <td>0.919614</td>\n",
       "    </tr>\n",
       "  </tbody>\n",
       "</table>\n",
       "</div>"
      ],
      "text/plain": [
       "              f1  accuracy  precision    recall\n",
       "TF-IDF  0.683202  0.526138   0.526042  0.974277\n",
       "PoS     0.668187  0.509275   0.517668  0.942122\n",
       "BoW     0.661272  0.505902   0.516245  0.919614"
      ]
     },
     "execution_count": 50,
     "metadata": {},
     "output_type": "execute_result"
    }
   ],
   "source": [
    "# Con\n",
    "metrics_con = pd.DataFrame([metrics_con_t, metrics_con_p, metrics_con_b], columns=['f1', 'accuracy', 'precision', 'recall'])\n",
    "metrics_con = metrics_con.transpose()\n",
    "metrics_con.columns = ['TF-IDF', 'PoS', 'BoW']\n",
    "metrics_con = metrics_con.transpose()\n",
    "metrics_con"
   ]
  },
  {
   "cell_type": "code",
   "execution_count": 51,
   "id": "17c8c3e1",
   "metadata": {},
   "outputs": [
    {
     "data": {
      "text/html": [
       "<div>\n",
       "<style scoped>\n",
       "    .dataframe tbody tr th:only-of-type {\n",
       "        vertical-align: middle;\n",
       "    }\n",
       "\n",
       "    .dataframe tbody tr th {\n",
       "        vertical-align: top;\n",
       "    }\n",
       "\n",
       "    .dataframe thead th {\n",
       "        text-align: right;\n",
       "    }\n",
       "</style>\n",
       "<table border=\"1\" class=\"dataframe\">\n",
       "  <thead>\n",
       "    <tr style=\"text-align: right;\">\n",
       "      <th></th>\n",
       "      <th>f1</th>\n",
       "      <th>accuracy</th>\n",
       "      <th>precision</th>\n",
       "      <th>recall</th>\n",
       "    </tr>\n",
       "  </thead>\n",
       "  <tbody>\n",
       "    <tr>\n",
       "      <th>TF-IDF</th>\n",
       "      <td>0.616874</td>\n",
       "      <td>0.532884</td>\n",
       "      <td>0.503386</td>\n",
       "      <td>0.796429</td>\n",
       "    </tr>\n",
       "    <tr>\n",
       "      <th>PoS</th>\n",
       "      <td>0.645314</td>\n",
       "      <td>0.495784</td>\n",
       "      <td>0.483126</td>\n",
       "      <td>0.971429</td>\n",
       "    </tr>\n",
       "    <tr>\n",
       "      <th>BoW</th>\n",
       "      <td>0.639908</td>\n",
       "      <td>0.470489</td>\n",
       "      <td>0.471284</td>\n",
       "      <td>0.996429</td>\n",
       "    </tr>\n",
       "  </tbody>\n",
       "</table>\n",
       "</div>"
      ],
      "text/plain": [
       "              f1  accuracy  precision    recall\n",
       "TF-IDF  0.616874  0.532884   0.503386  0.796429\n",
       "PoS     0.645314  0.495784   0.483126  0.971429\n",
       "BoW     0.639908  0.470489   0.471284  0.996429"
      ]
     },
     "execution_count": 51,
     "metadata": {},
     "output_type": "execute_result"
    }
   ],
   "source": [
    "# Opn\n",
    "metrics_opn = pd.DataFrame([metrics_opn_t, metrics_opn_p, metrics_opn_b], columns=['f1', 'accuracy', 'precision', 'recall'])\n",
    "metrics_opn = metrics_opn.transpose()\n",
    "metrics_opn.columns = ['TF-IDF', 'PoS', 'BoW']\n",
    "metrics_opn = metrics_opn.transpose()\n",
    "metrics_opn"
   ]
  },
  {
   "cell_type": "markdown",
   "id": "0eb2c5d6",
   "metadata": {},
   "source": [
    "Macro Average for the different techniques"
   ]
  },
  {
   "cell_type": "code",
   "execution_count": 53,
   "id": "f974c01d",
   "metadata": {},
   "outputs": [
    {
     "data": {
      "text/html": [
       "<div>\n",
       "<style scoped>\n",
       "    .dataframe tbody tr th:only-of-type {\n",
       "        vertical-align: middle;\n",
       "    }\n",
       "\n",
       "    .dataframe tbody tr th {\n",
       "        vertical-align: top;\n",
       "    }\n",
       "\n",
       "    .dataframe thead th {\n",
       "        text-align: right;\n",
       "    }\n",
       "</style>\n",
       "<table border=\"1\" class=\"dataframe\">\n",
       "  <thead>\n",
       "    <tr style=\"text-align: right;\">\n",
       "      <th></th>\n",
       "      <th>f1</th>\n",
       "      <th>accuracy</th>\n",
       "      <th>precision</th>\n",
       "      <th>recall</th>\n",
       "    </tr>\n",
       "  </thead>\n",
       "  <tbody>\n",
       "    <tr>\n",
       "      <th>TF-IDF</th>\n",
       "      <td>0.661805</td>\n",
       "      <td>0.522091</td>\n",
       "      <td>0.514827</td>\n",
       "      <td>0.930211</td>\n",
       "    </tr>\n",
       "    <tr>\n",
       "      <th>PoS</th>\n",
       "      <td>0.665579</td>\n",
       "      <td>0.507251</td>\n",
       "      <td>0.506530</td>\n",
       "      <td>0.971172</td>\n",
       "    </tr>\n",
       "    <tr>\n",
       "      <th>BoW</th>\n",
       "      <td>0.664900</td>\n",
       "      <td>0.507926</td>\n",
       "      <td>0.507380</td>\n",
       "      <td>0.966564</td>\n",
       "    </tr>\n",
       "  </tbody>\n",
       "</table>\n",
       "</div>"
      ],
      "text/plain": [
       "              f1  accuracy  precision    recall\n",
       "TF-IDF  0.661805  0.522091   0.514827  0.930211\n",
       "PoS     0.665579  0.507251   0.506530  0.971172\n",
       "BoW     0.664900  0.507926   0.507380  0.966564"
      ]
     },
     "execution_count": 53,
     "metadata": {},
     "output_type": "execute_result"
    }
   ],
   "source": [
    "dfs = [metrics_ext, metrics_neu, metrics_agr, metrics_con, metrics_opn]\n",
    "df_avg = pd.DataFrame(np.mean([df.values for df in dfs], axis=0), columns=metrics_ext.columns)\n",
    "new_index_values = ['TF-IDF', 'PoS', 'BoW']\n",
    "df_avg = df_avg.set_index(pd.Index(new_index_values))\n",
    "df_avg"
   ]
  },
  {
   "cell_type": "markdown",
   "id": "9258517a",
   "metadata": {},
   "source": [
    "# Conclusions and Implications\n",
    "\n",
    "Inspecting the metrics, we can say something about XGBoost and compare it to SVM. First of all, the recall is now high on all traits, implying the model's ability to correctly predict that the text indeed implies a certain trait. Again, due to the mediocre precision, the model is not very able to predict a model negatively, as it clearly predicts cases often as having that trait while they actually do not. Concludingly, the F1 and accuracy are not very high. Also, the XGBoost thus is not very good at predicting these traits separately. \n",
    "\n",
    "As with the SVM, the 'best' vectorization technique still is dependent on the trait.\n",
    "\n",
    "Comparing it however to SVM, XGBoost shows some increase in performance for recall. More importantly, the F1 score increased across all traits. Although XGBoost outperforms SVM, traditional machine learners in general are not great predictors of text, even when they only need to predict one personality trait.\n",
    "\n",
    "Concludingly, the XGBoost is better than the SVM, so XGBoost will be used for the remainder of this assignment to compare against the deep learners. Moreover, the traditional machine learners are not very good at successfully predicting the right trait separately. The vectorization technique does not matter as it gives mixed results based on the trait. Some techniques work better for some traits than others.\n"
   ]
  }
 ],
 "metadata": {
  "kernelspec": {
   "display_name": "Python 3 (ipykernel)",
   "language": "python",
   "name": "python3"
  },
  "language_info": {
   "codemirror_mode": {
    "name": "ipython",
    "version": 3
   },
   "file_extension": ".py",
   "mimetype": "text/x-python",
   "name": "python",
   "nbconvert_exporter": "python",
   "pygments_lexer": "ipython3",
   "version": "3.8.18"
  }
 },
 "nbformat": 4,
 "nbformat_minor": 5
}
