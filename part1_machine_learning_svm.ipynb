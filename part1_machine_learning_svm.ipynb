{
 "cells": [
  {
   "cell_type": "markdown",
   "id": "c5c2b6e6",
   "metadata": {},
   "source": [
    "#  Assignment 3 Natural Language Processing - Part 1: traditional machine learning approach: SVM\n",
    "\n",
    "For the preprocessing, we constructed another notebook which explains the preprocessing steps as well as the reasoning behind it.\n",
    "\n",
    "The purpose of this notebook is to construct a traditional machine learner which can be compared to in the remainder of the assignment\n",
    "\n",
    "For the traditional approaches, we first considered SVM. SVMs are very effective in high-dimensional spaces. To use mathematical models for text, the text needs to be vectorized into high-dimensional space. This might imply a good performance of SVM. Besides, SVM are considered good classifiers. As such, we chose SVM.\n",
    "\n",
    "To give the machine learner something to work with, the text needs to be vectorized. For this, multiple techniques exist. Therefore, we want to investigate the performance of TF-IDF, Part-of-Speech and Bag-of-Words to see how these would perform and if there would be a clear optimal solution. In the remainder of this notebook, we test these techniques separately. As such, for the SVM, we will investigate in total 3 different machine learning approaches. For all three methods, first, convert the data according to the method. Afterwards, we do a hyperparameter for all target variables and finally evaluate the model's performance. \n",
    "\n",
    "With the performances done, we can conclude how SVM performs per target variable as well as how the methods affect the performance.\n"
   ]
  },
  {
   "cell_type": "code",
   "execution_count": 1,
   "id": "3db65f1e",
   "metadata": {},
   "outputs": [
    {
     "name": "stderr",
     "output_type": "stream",
     "text": [
      "C:\\Users\\maxma\\anaconda3\\envs\\nlp\\lib\\site-packages\\paramiko\\transport.py:219: CryptographyDeprecationWarning: Blowfish has been deprecated\n",
      "  \"class\": algorithms.Blowfish,\n"
     ]
    }
   ],
   "source": [
    "import pandas as pd\n",
    "import nltk\n",
    "from nltk.tokenize import word_tokenize\n",
    "from gensim.models import Word2Vec\n",
    "from sklearn.model_selection import train_test_split, RandomizedSearchCV, RepeatedKFold\n",
    "import numpy as np\n",
    "from sklearn.feature_extraction.text import TfidfVectorizer\n",
    "from sklearn.model_selection import cross_val_score, StratifiedKFold\n",
    "from sklearn.metrics import make_scorer, accuracy_score, precision_score, recall_score, f1_score\n",
    "from sklearn.feature_extraction.text import CountVectorizer\n",
    "from sklearn.svm import SVC\n",
    "from gensim.models import Word2Vec"
   ]
  },
  {
   "cell_type": "markdown",
   "id": "94998c4c",
   "metadata": {},
   "source": [
    "# Reading the data"
   ]
  },
  {
   "cell_type": "code",
   "execution_count": 2,
   "id": "792ee6f3",
   "metadata": {},
   "outputs": [
    {
     "data": {
      "text/html": [
       "<div>\n",
       "<style scoped>\n",
       "    .dataframe tbody tr th:only-of-type {\n",
       "        vertical-align: middle;\n",
       "    }\n",
       "\n",
       "    .dataframe tbody tr th {\n",
       "        vertical-align: top;\n",
       "    }\n",
       "\n",
       "    .dataframe thead th {\n",
       "        text-align: right;\n",
       "    }\n",
       "</style>\n",
       "<table border=\"1\" class=\"dataframe\">\n",
       "  <thead>\n",
       "    <tr style=\"text-align: right;\">\n",
       "      <th></th>\n",
       "      <th>TEXT</th>\n",
       "      <th>cEXT</th>\n",
       "      <th>cNEU</th>\n",
       "      <th>cAGR</th>\n",
       "      <th>cCON</th>\n",
       "      <th>cOPN</th>\n",
       "    </tr>\n",
       "  </thead>\n",
       "  <tbody>\n",
       "    <tr>\n",
       "      <th>0</th>\n",
       "      <td>Well right woke midday nap Its sort weird ever...</td>\n",
       "      <td>0</td>\n",
       "      <td>1</td>\n",
       "      <td>1</td>\n",
       "      <td>0</td>\n",
       "      <td>1</td>\n",
       "    </tr>\n",
       "    <tr>\n",
       "      <th>1</th>\n",
       "      <td>Well stream consciousness essay used thing lik...</td>\n",
       "      <td>0</td>\n",
       "      <td>0</td>\n",
       "      <td>1</td>\n",
       "      <td>0</td>\n",
       "      <td>0</td>\n",
       "    </tr>\n",
       "    <tr>\n",
       "      <th>2</th>\n",
       "      <td>open keyboard button push The thing finally wo...</td>\n",
       "      <td>0</td>\n",
       "      <td>1</td>\n",
       "      <td>0</td>\n",
       "      <td>1</td>\n",
       "      <td>1</td>\n",
       "    </tr>\n",
       "    <tr>\n",
       "      <th>3</th>\n",
       "      <td>cant believe Its really happening pulse racing...</td>\n",
       "      <td>1</td>\n",
       "      <td>0</td>\n",
       "      <td>1</td>\n",
       "      <td>1</td>\n",
       "      <td>0</td>\n",
       "    </tr>\n",
       "    <tr>\n",
       "      <th>4</th>\n",
       "      <td>Well good old stream consciousness assignment ...</td>\n",
       "      <td>1</td>\n",
       "      <td>0</td>\n",
       "      <td>1</td>\n",
       "      <td>0</td>\n",
       "      <td>1</td>\n",
       "    </tr>\n",
       "    <tr>\n",
       "      <th>...</th>\n",
       "      <td>...</td>\n",
       "      <td>...</td>\n",
       "      <td>...</td>\n",
       "      <td>...</td>\n",
       "      <td>...</td>\n",
       "      <td>...</td>\n",
       "    </tr>\n",
       "    <tr>\n",
       "      <th>2958</th>\n",
       "      <td>motivated day day basis need provide little fa...</td>\n",
       "      <td>1</td>\n",
       "      <td>0</td>\n",
       "      <td>0</td>\n",
       "      <td>1</td>\n",
       "      <td>1</td>\n",
       "    </tr>\n",
       "    <tr>\n",
       "      <th>2959</th>\n",
       "      <td>son biggest part life without reckless person ...</td>\n",
       "      <td>1</td>\n",
       "      <td>1</td>\n",
       "      <td>0</td>\n",
       "      <td>0</td>\n",
       "      <td>0</td>\n",
       "    </tr>\n",
       "    <tr>\n",
       "      <th>2960</th>\n",
       "      <td>kid grandkids keep motivated everyday inspire ...</td>\n",
       "      <td>1</td>\n",
       "      <td>0</td>\n",
       "      <td>1</td>\n",
       "      <td>1</td>\n",
       "      <td>0</td>\n",
       "    </tr>\n",
       "    <tr>\n",
       "      <th>2961</th>\n",
       "      <td>biggest drive earn money retire beach schedule...</td>\n",
       "      <td>0</td>\n",
       "      <td>0</td>\n",
       "      <td>0</td>\n",
       "      <td>0</td>\n",
       "      <td>0</td>\n",
       "    </tr>\n",
       "    <tr>\n",
       "      <th>2962</th>\n",
       "      <td>People never give cause life cruel strong enem...</td>\n",
       "      <td>1</td>\n",
       "      <td>1</td>\n",
       "      <td>0</td>\n",
       "      <td>0</td>\n",
       "      <td>0</td>\n",
       "    </tr>\n",
       "  </tbody>\n",
       "</table>\n",
       "<p>2963 rows × 6 columns</p>\n",
       "</div>"
      ],
      "text/plain": [
       "                                                   TEXT  cEXT  cNEU  cAGR  \\\n",
       "0     Well right woke midday nap Its sort weird ever...     0     1     1   \n",
       "1     Well stream consciousness essay used thing lik...     0     0     1   \n",
       "2     open keyboard button push The thing finally wo...     0     1     0   \n",
       "3     cant believe Its really happening pulse racing...     1     0     1   \n",
       "4     Well good old stream consciousness assignment ...     1     0     1   \n",
       "...                                                 ...   ...   ...   ...   \n",
       "2958  motivated day day basis need provide little fa...     1     0     0   \n",
       "2959  son biggest part life without reckless person ...     1     1     0   \n",
       "2960  kid grandkids keep motivated everyday inspire ...     1     0     1   \n",
       "2961  biggest drive earn money retire beach schedule...     0     0     0   \n",
       "2962  People never give cause life cruel strong enem...     1     1     0   \n",
       "\n",
       "      cCON  cOPN  \n",
       "0        0     1  \n",
       "1        0     0  \n",
       "2        1     1  \n",
       "3        1     0  \n",
       "4        0     1  \n",
       "...    ...   ...  \n",
       "2958     1     1  \n",
       "2959     0     0  \n",
       "2960     1     0  \n",
       "2961     0     0  \n",
       "2962     0     0  \n",
       "\n",
       "[2963 rows x 6 columns]"
      ]
     },
     "execution_count": 2,
     "metadata": {},
     "output_type": "execute_result"
    }
   ],
   "source": [
    "df = pd.read_csv('processed_data_english_no_lowercasing.csv')\n",
    "df"
   ]
  },
  {
   "cell_type": "code",
   "execution_count": 3,
   "id": "0a5f22c1",
   "metadata": {},
   "outputs": [],
   "source": [
    "corpus = df['TEXT'].tolist()"
   ]
  },
  {
   "cell_type": "markdown",
   "id": "f93fb906",
   "metadata": {},
   "source": [
    "# Modelling "
   ]
  },
  {
   "cell_type": "markdown",
   "id": "5985bbd6",
   "metadata": {},
   "source": [
    "For part 1, it was decided to use an SVM as traditional machine learning approach. The corpus however can be fed using vectorisation into the SVM in various ways. Therefore, 3 different feeding techniques were considered: TF-IDF, Part-of-Speech (PoS) Tagging and Bag-of-Words (BoW). In the remainder of the notebook, each method will be used and will be compared at the end of the notebook. "
   ]
  },
  {
   "cell_type": "markdown",
   "id": "ed738de5",
   "metadata": {},
   "source": [
    "## Using TF-IDF "
   ]
  },
  {
   "cell_type": "markdown",
   "id": "9a0cc66f",
   "metadata": {},
   "source": [
    "First, train-test splits are made per target variable. Afterwards, X_train and X_test are transformed using TF-IDF"
   ]
  },
  {
   "cell_type": "code",
   "execution_count": 4,
   "id": "feb04095",
   "metadata": {},
   "outputs": [],
   "source": [
    "# Ext split\n",
    "X_train_ext, X_test_ext, y_train_ext, y_test_ext = train_test_split(corpus, df['cEXT'].tolist(), test_size=0.2, random_state=42)\n",
    "\n",
    "# Neu split\n",
    "X_train_neu, X_test_neu, y_train_neu, y_test_neu = train_test_split(corpus, df['cNEU'].tolist(), test_size=0.2, random_state=42)\n",
    "\n",
    "# Agr split\n",
    "X_train_agr, X_test_agr, y_train_agr, y_test_agr = train_test_split(corpus, df['cAGR'].tolist(), test_size=0.2, random_state=42)\n",
    "\n",
    "# Con split\n",
    "X_train_con, X_test_con, y_train_con, y_test_con = train_test_split(corpus, df['cCON'].tolist(), test_size=0.2, random_state=42)\n",
    "\n",
    "# Opn split\n",
    "X_train_opn, X_test_opn, y_train_opn, y_test_opn = train_test_split(corpus, df['cOPN'].tolist(), test_size=0.2, random_state=42)"
   ]
  },
  {
   "cell_type": "code",
   "execution_count": 5,
   "id": "87c17af4",
   "metadata": {},
   "outputs": [],
   "source": [
    "tfidf = TfidfVectorizer()  \n",
    "\n",
    "# for Ext\n",
    "X_train_ext_t = tfidf.fit_transform(X_train_ext)\n",
    "X_test_ext_t = tfidf.transform(X_test_ext)\n",
    "\n",
    "# for Neu\n",
    "X_train_neu_t = tfidf.fit_transform(X_train_neu)\n",
    "X_test_neu_t = tfidf.transform(X_test_neu)\n",
    "\n",
    "# for Agr\n",
    "X_train_agr_t = tfidf.fit_transform(X_train_agr)\n",
    "X_test_agr_t = tfidf.transform(X_test_agr)\n",
    "\n",
    "# for Con\n",
    "X_train_con_t = tfidf.fit_transform(X_train_con)\n",
    "X_test_con_t = tfidf.transform(X_test_con)\n",
    "\n",
    "# for Opn\n",
    "X_train_opn_t = tfidf.fit_transform(X_train_opn)\n",
    "X_test_opn_t = tfidf.transform(X_test_opn)"
   ]
  },
  {
   "cell_type": "markdown",
   "id": "bbcc00e1",
   "metadata": {},
   "source": [
    "### Hyperparameter tuning\n",
    "\n",
    "In order to have the optimal SVM, a Randomized Search is done to find the 'C' and 'kernel' parameters of the SVM that yield the highest F1 score. This is done per target variable "
   ]
  },
  {
   "cell_type": "code",
   "execution_count": 8,
   "id": "7b1e4184",
   "metadata": {},
   "outputs": [
    {
     "name": "stdout",
     "output_type": "stream",
     "text": [
      "Fitting 5 folds for each of 10 candidates, totalling 50 fits\n",
      "[CV 1/5] END C=2.0, kernel=sigmoid; accuracy: (test=0.553) f1: (test=0.562) precision: (test=0.553) recall: (test=0.571) total time=   8.4s\n",
      "[CV 2/5] END C=2.0, kernel=sigmoid; accuracy: (test=0.561) f1: (test=0.570) precision: (test=0.561) recall: (test=0.580) total time=   9.0s\n",
      "[CV 3/5] END C=2.0, kernel=sigmoid; accuracy: (test=0.544) f1: (test=0.548) precision: (test=0.548) recall: (test=0.548) total time=   7.7s\n",
      "[CV 4/5] END C=2.0, kernel=sigmoid; accuracy: (test=0.586) f1: (test=0.585) precision: (test=0.592) recall: (test=0.577) total time=   8.9s\n",
      "[CV 5/5] END C=2.0, kernel=sigmoid; accuracy: (test=0.559) f1: (test=0.552) precision: (test=0.566) recall: (test=0.540) total time=   9.5s\n",
      "[CV 1/5] END C=1.5, kernel=sigmoid; accuracy: (test=0.574) f1: (test=0.576) precision: (test=0.576) recall: (test=0.576) total time=  11.1s\n",
      "[CV 2/5] END C=1.5, kernel=sigmoid; accuracy: (test=0.549) f1: (test=0.560) precision: (test=0.548) recall: (test=0.571) total time=   7.5s\n",
      "[CV 3/5] END C=1.5, kernel=sigmoid; accuracy: (test=0.555) f1: (test=0.559) precision: (test=0.558) recall: (test=0.561) total time=   7.6s\n",
      "[CV 4/5] END C=1.5, kernel=sigmoid; accuracy: (test=0.591) f1: (test=0.591) precision: (test=0.596) recall: (test=0.586) total time=   7.6s\n",
      "[CV 5/5] END C=1.5, kernel=sigmoid; accuracy: (test=0.553) f1: (test=0.541) precision: (test=0.561) recall: (test=0.523) total time=   7.6s\n",
      "[CV 1/5] END C=0.5, kernel=sigmoid; accuracy: (test=0.584) f1: (test=0.565) precision: (test=0.595) recall: (test=0.538) total time=   8.2s\n",
      "[CV 2/5] END C=0.5, kernel=sigmoid; accuracy: (test=0.580) f1: (test=0.561) precision: (test=0.591) recall: (test=0.534) total time=   9.2s\n",
      "[CV 3/5] END C=0.5, kernel=sigmoid; accuracy: (test=0.563) f1: (test=0.559) precision: (test=0.570) recall: (test=0.548) total time=   9.6s\n",
      "[CV 4/5] END C=0.5, kernel=sigmoid; accuracy: (test=0.591) f1: (test=0.578) precision: (test=0.602) recall: (test=0.556) total time=   6.5s\n",
      "[CV 5/5] END C=0.5, kernel=sigmoid; accuracy: (test=0.570) f1: (test=0.532) precision: (test=0.589) recall: (test=0.485) total time=   5.8s\n",
      "[CV 1/5] END C=1.0, kernel=sigmoid; accuracy: (test=0.574) f1: (test=0.570) precision: (test=0.578) recall: (test=0.563) total time=   7.0s\n",
      "[CV 2/5] END C=1.0, kernel=sigmoid; accuracy: (test=0.549) f1: (test=0.550) precision: (test=0.550) recall: (test=0.550) total time=   6.6s\n",
      "[CV 3/5] END C=1.0, kernel=sigmoid; accuracy: (test=0.568) f1: (test=0.574) precision: (test=0.570) recall: (test=0.577) total time=   5.7s\n",
      "[CV 4/5] END C=1.0, kernel=sigmoid; accuracy: (test=0.576) f1: (test=0.573) precision: (test=0.582) recall: (test=0.565) total time=   5.8s\n",
      "[CV 5/5] END C=1.0, kernel=sigmoid; accuracy: (test=0.572) f1: (test=0.552) precision: (test=0.584) recall: (test=0.523) total time=   5.7s\n",
      "[CV 1/5] END C=0.5, kernel=rbf; accuracy: (test=0.555) f1: (test=0.587) precision: (test=0.549) recall: (test=0.630) total time=   6.2s\n",
      "[CV 2/5] END C=0.5, kernel=rbf; accuracy: (test=0.578) f1: (test=0.578) precision: (test=0.581) recall: (test=0.576) total time=   6.3s\n",
      "[CV 3/5] END C=0.5, kernel=rbf; accuracy: (test=0.576) f1: (test=0.592) precision: (test=0.575) recall: (test=0.611) total time=   6.1s\n",
      "[CV 4/5] END C=0.5, kernel=rbf; accuracy: (test=0.578) f1: (test=0.603) precision: (test=0.574) recall: (test=0.636) total time=   8.2s\n",
      "[CV 5/5] END C=0.5, kernel=rbf; accuracy: (test=0.605) f1: (test=0.630) precision: (test=0.598) recall: (test=0.665) total time=   9.6s\n",
      "[CV 1/5] END C=0.5, kernel=linear; accuracy: (test=0.591) f1: (test=0.576) precision: (test=0.600) recall: (test=0.555) total time=   8.9s\n",
      "[CV 2/5] END C=0.5, kernel=linear; accuracy: (test=0.563) f1: (test=0.549) precision: (test=0.570) recall: (test=0.529) total time=   8.7s\n",
      "[CV 3/5] END C=0.5, kernel=linear; accuracy: (test=0.557) f1: (test=0.557) precision: (test=0.562) recall: (test=0.552) total time=  10.5s\n",
      "[CV 4/5] END C=0.5, kernel=linear; accuracy: (test=0.589) f1: (test=0.586) precision: (test=0.595) recall: (test=0.577) total time=  11.0s\n",
      "[CV 5/5] END C=0.5, kernel=linear; accuracy: (test=0.570) f1: (test=0.536) precision: (test=0.587) recall: (test=0.494) total time=  10.1s\n",
      "[CV 1/5] END C=2.0, kernel=linear; accuracy: (test=0.557) f1: (test=0.559) precision: (test=0.559) recall: (test=0.559) total time=   7.9s\n",
      "[CV 2/5] END C=2.0, kernel=linear; accuracy: (test=0.551) f1: (test=0.563) precision: (test=0.550) recall: (test=0.576) total time=   7.5s\n",
      "[CV 3/5] END C=2.0, kernel=linear; accuracy: (test=0.538) f1: (test=0.539) precision: (test=0.542) recall: (test=0.536) total time=   7.6s\n",
      "[CV 4/5] END C=2.0, kernel=linear; accuracy: (test=0.589) f1: (test=0.586) precision: (test=0.595) recall: (test=0.577) total time=   7.5s\n",
      "[CV 5/5] END C=2.0, kernel=linear; accuracy: (test=0.559) f1: (test=0.551) precision: (test=0.566) recall: (test=0.536) total time=   6.6s\n",
      "[CV 1/5] END C=1.5, kernel=rbf; accuracy: (test=0.580) f1: (test=0.574) precision: (test=0.585) recall: (test=0.563) total time=   7.6s\n",
      "[CV 2/5] END C=1.5, kernel=rbf; accuracy: (test=0.553) f1: (test=0.556) precision: (test=0.554) recall: (test=0.559) total time=   7.0s\n",
      "[CV 3/5] END C=1.5, kernel=rbf; accuracy: (test=0.568) f1: (test=0.574) precision: (test=0.570) recall: (test=0.577) total time=   9.4s\n",
      "[CV 4/5] END C=1.5, kernel=rbf; accuracy: (test=0.584) f1: (test=0.589) precision: (test=0.588) recall: (test=0.590) total time=   9.6s\n",
      "[CV 5/5] END C=1.5, kernel=rbf; accuracy: (test=0.576) f1: (test=0.566) precision: (test=0.585) recall: (test=0.548) total time=   9.1s\n",
      "[CV 1/5] END C=0.5, kernel=poly; accuracy: (test=0.506) f1: (test=0.670) precision: (test=0.504) recall: (test=1.000) total time=   9.3s\n",
      "[CV 2/5] END C=0.5, kernel=poly; accuracy: (test=0.506) f1: (test=0.670) precision: (test=0.504) recall: (test=1.000) total time=   9.6s\n",
      "[CV 3/5] END C=0.5, kernel=poly; accuracy: (test=0.506) f1: (test=0.671) precision: (test=0.505) recall: (test=1.000) total time=  10.6s\n",
      "[CV 4/5] END C=0.5, kernel=poly; accuracy: (test=0.502) f1: (test=0.669) precision: (test=0.503) recall: (test=0.996) total time=   7.2s\n",
      "[CV 5/5] END C=0.5, kernel=poly; accuracy: (test=0.504) f1: (test=0.669) precision: (test=0.504) recall: (test=0.992) total time=   6.6s\n",
      "[CV 1/5] END C=0.0, kernel=rbf; accuracy: (test=nan) f1: (test=nan) precision: (test=nan) recall: (test=nan) total time=   0.0s\n",
      "[CV 2/5] END C=0.0, kernel=rbf; accuracy: (test=nan) f1: (test=nan) precision: (test=nan) recall: (test=nan) total time=   0.0s\n",
      "[CV 3/5] END C=0.0, kernel=rbf; accuracy: (test=nan) f1: (test=nan) precision: (test=nan) recall: (test=nan) total time=   0.0s\n",
      "[CV 4/5] END C=0.0, kernel=rbf; accuracy: (test=nan) f1: (test=nan) precision: (test=nan) recall: (test=nan) total time=   0.0s\n",
      "[CV 5/5] END C=0.0, kernel=rbf; accuracy: (test=nan) f1: (test=nan) precision: (test=nan) recall: (test=nan) total time=   0.0s\n"
     ]
    },
    {
     "name": "stderr",
     "output_type": "stream",
     "text": [
      "C:\\Users\\maxma\\anaconda3\\envs\\nlp\\lib\\site-packages\\sklearn\\model_selection\\_validation.py:425: FitFailedWarning: \n",
      "5 fits failed out of a total of 50.\n",
      "The score on these train-test partitions for these parameters will be set to nan.\n",
      "If these failures are not expected, you can try to debug them by setting error_score='raise'.\n",
      "\n",
      "Below are more details about the failures:\n",
      "--------------------------------------------------------------------------------\n",
      "5 fits failed with the following error:\n",
      "Traceback (most recent call last):\n",
      "  File \"C:\\Users\\maxma\\anaconda3\\envs\\nlp\\lib\\site-packages\\sklearn\\model_selection\\_validation.py\", line 732, in _fit_and_score\n",
      "    estimator.fit(X_train, y_train, **fit_params)\n",
      "  File \"C:\\Users\\maxma\\anaconda3\\envs\\nlp\\lib\\site-packages\\sklearn\\base.py\", line 1144, in wrapper\n",
      "    estimator._validate_params()\n",
      "  File \"C:\\Users\\maxma\\anaconda3\\envs\\nlp\\lib\\site-packages\\sklearn\\base.py\", line 637, in _validate_params\n",
      "    validate_parameter_constraints(\n",
      "  File \"C:\\Users\\maxma\\anaconda3\\envs\\nlp\\lib\\site-packages\\sklearn\\utils\\_param_validation.py\", line 95, in validate_parameter_constraints\n",
      "    raise InvalidParameterError(\n",
      "sklearn.utils._param_validation.InvalidParameterError: The 'C' parameter of SVC must be a float in the range (0.0, inf). Got 0.0 instead.\n",
      "\n",
      "  warnings.warn(some_fits_failed_message, FitFailedWarning)\n",
      "C:\\Users\\maxma\\anaconda3\\envs\\nlp\\lib\\site-packages\\sklearn\\model_selection\\_search.py:976: UserWarning: One or more of the test scores are non-finite: [0.56330649 0.56330298 0.53227735 0.55574347 0.62360325 0.54149292\n",
      " 0.55659787 0.56746598 0.99748954        nan]\n",
      "  warnings.warn(\n",
      "C:\\Users\\maxma\\anaconda3\\envs\\nlp\\lib\\site-packages\\sklearn\\model_selection\\_search.py:976: UserWarning: One or more of the test scores are non-finite: [0.56400049 0.5677267  0.58925083 0.5728526  0.57521829 0.58274603\n",
      " 0.5625193  0.57637777 0.50423731        nan]\n",
      "  warnings.warn(\n",
      "C:\\Users\\maxma\\anaconda3\\envs\\nlp\\lib\\site-packages\\sklearn\\model_selection\\_search.py:976: UserWarning: One or more of the test scores are non-finite: [0.56075949 0.56413502 0.57763713 0.56751055 0.57848101 0.57383966\n",
      " 0.55864979 0.5721519  0.50506329        nan]\n",
      "  warnings.warn(\n",
      "C:\\Users\\maxma\\anaconda3\\envs\\nlp\\lib\\site-packages\\sklearn\\model_selection\\_search.py:976: UserWarning: One or more of the test scores are non-finite: [0.56351137 0.56532857 0.55896683 0.56391246 0.59806258 0.56095035\n",
      " 0.55938483 0.5717534  0.66985599        nan]\n",
      "  warnings.warn(\n"
     ]
    },
    {
     "data": {
      "text/plain": [
       "{'kernel': 'poly', 'C': 0.5}"
      ]
     },
     "execution_count": 8,
     "metadata": {},
     "output_type": "execute_result"
    }
   ],
   "source": [
    "# Ext\n",
    "svc = SVC()\n",
    "\n",
    "params_dict = { 'C': np.linspace(start=0, stop=2, num=5),\n",
    "                'kernel':['linear', 'poly', 'rbf', 'sigmoid']\n",
    "              }\n",
    "\n",
    "search = RandomizedSearchCV(\n",
    "         estimator=svc,\n",
    "         param_distributions=params_dict,\n",
    "         scoring = ['recall', 'precision', 'accuracy', 'f1'],\n",
    "         refit = 'f1', \n",
    "         cv= 5,\n",
    "         verbose=3)\n",
    "\n",
    "search.fit(X_train_ext_t,y_train_ext)\n",
    "search.best_params_"
   ]
  },
  {
   "cell_type": "code",
   "execution_count": 9,
   "id": "c6d2a90b",
   "metadata": {},
   "outputs": [
    {
     "name": "stdout",
     "output_type": "stream",
     "text": [
      "Fitting 5 folds for each of 10 candidates, totalling 50 fits\n",
      "[CV 1/5] END C=2.0, kernel=rbf; accuracy: (test=0.589) f1: (test=0.566) precision: (test=0.585) recall: (test=0.547) total time=   7.0s\n",
      "[CV 2/5] END C=2.0, kernel=rbf; accuracy: (test=0.527) f1: (test=0.513) precision: (test=0.518) recall: (test=0.509) total time=   7.7s\n",
      "[CV 3/5] END C=2.0, kernel=rbf; accuracy: (test=0.576) f1: (test=0.560) precision: (test=0.569) recall: (test=0.552) total time=   9.0s\n",
      "[CV 4/5] END C=2.0, kernel=rbf; accuracy: (test=0.574) f1: (test=0.545) precision: (test=0.573) recall: (test=0.519) total time=   8.1s\n",
      "[CV 5/5] END C=2.0, kernel=rbf; accuracy: (test=0.561) f1: (test=0.536) precision: (test=0.558) recall: (test=0.515) total time=   8.5s\n",
      "[CV 1/5] END C=0.0, kernel=linear; accuracy: (test=nan) f1: (test=nan) precision: (test=nan) recall: (test=nan) total time=   0.0s\n",
      "[CV 2/5] END C=0.0, kernel=linear; accuracy: (test=nan) f1: (test=nan) precision: (test=nan) recall: (test=nan) total time=   0.0s\n",
      "[CV 3/5] END C=0.0, kernel=linear; accuracy: (test=nan) f1: (test=nan) precision: (test=nan) recall: (test=nan) total time=   0.0s\n",
      "[CV 4/5] END C=0.0, kernel=linear; accuracy: (test=nan) f1: (test=nan) precision: (test=nan) recall: (test=nan) total time=   0.0s\n",
      "[CV 5/5] END C=0.0, kernel=linear; accuracy: (test=nan) f1: (test=nan) precision: (test=nan) recall: (test=nan) total time=   0.0s\n",
      "[CV 1/5] END C=1.0, kernel=linear; accuracy: (test=0.576) f1: (test=0.558) precision: (test=0.570) recall: (test=0.547) total time=  10.1s\n",
      "[CV 2/5] END C=1.0, kernel=linear; accuracy: (test=0.519) f1: (test=0.502) precision: (test=0.509) recall: (test=0.496) total time=  10.6s\n",
      "[CV 3/5] END C=1.0, kernel=linear; accuracy: (test=0.574) f1: (test=0.565) precision: (test=0.565) recall: (test=0.565) total time=   9.1s\n",
      "[CV 4/5] END C=1.0, kernel=linear; accuracy: (test=0.574) f1: (test=0.545) precision: (test=0.573) recall: (test=0.519) total time=  10.1s\n",
      "[CV 5/5] END C=1.0, kernel=linear; accuracy: (test=0.565) f1: (test=0.548) precision: (test=0.561) recall: (test=0.536) total time=   9.6s\n",
      "[CV 1/5] END C=2.0, kernel=sigmoid; accuracy: (test=0.551) f1: (test=0.544) precision: (test=0.540) recall: (test=0.547) total time=   9.5s\n",
      "[CV 2/5] END C=2.0, kernel=sigmoid; accuracy: (test=0.546) f1: (test=0.536) precision: (test=0.537) recall: (test=0.534) total time=   8.7s\n",
      "[CV 3/5] END C=2.0, kernel=sigmoid; accuracy: (test=0.568) f1: (test=0.563) precision: (test=0.557) recall: (test=0.569) total time=   6.7s\n",
      "[CV 4/5] END C=2.0, kernel=sigmoid; accuracy: (test=0.568) f1: (test=0.551) precision: (test=0.562) recall: (test=0.541) total time=   6.8s\n",
      "[CV 5/5] END C=2.0, kernel=sigmoid; accuracy: (test=0.557) f1: (test=0.541) precision: (test=0.551) recall: (test=0.532) total time=   7.2s\n"
     ]
    },
    {
     "name": "stderr",
     "output_type": "stream",
     "text": [
      "C:\\Users\\maxma\\anaconda3\\envs\\nlp\\lib\\site-packages\\sklearn\\metrics\\_classification.py:1469: UndefinedMetricWarning: Precision is ill-defined and being set to 0.0 due to no predicted samples. Use `zero_division` parameter to control this behavior.\n",
      "  _warn_prf(average, modifier, msg_start, len(result))\n"
     ]
    },
    {
     "name": "stdout",
     "output_type": "stream",
     "text": [
      "[CV 1/5] END C=0.5, kernel=poly; accuracy: (test=0.511) f1: (test=0.000) precision: (test=0.000) recall: (test=0.000) total time=   7.7s\n",
      "[CV 2/5] END C=0.5, kernel=poly; accuracy: (test=0.508) f1: (test=0.000) precision: (test=0.000) recall: (test=0.000) total time=   8.3s\n"
     ]
    },
    {
     "name": "stderr",
     "output_type": "stream",
     "text": [
      "C:\\Users\\maxma\\anaconda3\\envs\\nlp\\lib\\site-packages\\sklearn\\metrics\\_classification.py:1469: UndefinedMetricWarning: Precision is ill-defined and being set to 0.0 due to no predicted samples. Use `zero_division` parameter to control this behavior.\n",
      "  _warn_prf(average, modifier, msg_start, len(result))\n"
     ]
    },
    {
     "name": "stdout",
     "output_type": "stream",
     "text": [
      "[CV 3/5] END C=0.5, kernel=poly; accuracy: (test=0.511) f1: (test=0.000) precision: (test=0.000) recall: (test=0.000) total time=   7.0s\n",
      "[CV 4/5] END C=0.5, kernel=poly; accuracy: (test=0.511) f1: (test=0.009) precision: (test=1.000) recall: (test=0.004) total time=   6.6s\n"
     ]
    },
    {
     "name": "stderr",
     "output_type": "stream",
     "text": [
      "C:\\Users\\maxma\\anaconda3\\envs\\nlp\\lib\\site-packages\\sklearn\\metrics\\_classification.py:1469: UndefinedMetricWarning: Precision is ill-defined and being set to 0.0 due to no predicted samples. Use `zero_division` parameter to control this behavior.\n",
      "  _warn_prf(average, modifier, msg_start, len(result))\n"
     ]
    },
    {
     "name": "stdout",
     "output_type": "stream",
     "text": [
      "[CV 5/5] END C=0.5, kernel=poly; accuracy: (test=0.508) f1: (test=0.000) precision: (test=0.000) recall: (test=0.000) total time=   5.8s\n",
      "[CV 1/5] END C=0.0, kernel=sigmoid; accuracy: (test=nan) f1: (test=nan) precision: (test=nan) recall: (test=nan) total time=   0.0s\n",
      "[CV 2/5] END C=0.0, kernel=sigmoid; accuracy: (test=nan) f1: (test=nan) precision: (test=nan) recall: (test=nan) total time=   0.0s\n",
      "[CV 3/5] END C=0.0, kernel=sigmoid; accuracy: (test=nan) f1: (test=nan) precision: (test=nan) recall: (test=nan) total time=   0.0s\n",
      "[CV 4/5] END C=0.0, kernel=sigmoid; accuracy: (test=nan) f1: (test=nan) precision: (test=nan) recall: (test=nan) total time=   0.0s\n",
      "[CV 5/5] END C=0.0, kernel=sigmoid; accuracy: (test=nan) f1: (test=nan) precision: (test=nan) recall: (test=nan) total time=   0.0s\n",
      "[CV 1/5] END C=1.5, kernel=linear; accuracy: (test=0.553) f1: (test=0.537) precision: (test=0.544) recall: (test=0.530) total time=   5.8s\n",
      "[CV 2/5] END C=1.5, kernel=linear; accuracy: (test=0.538) f1: (test=0.525) precision: (test=0.528) recall: (test=0.522) total time=   6.0s\n",
      "[CV 3/5] END C=1.5, kernel=linear; accuracy: (test=0.563) f1: (test=0.561) precision: (test=0.552) recall: (test=0.569) total time=   5.9s\n",
      "[CV 4/5] END C=1.5, kernel=linear; accuracy: (test=0.568) f1: (test=0.551) precision: (test=0.562) recall: (test=0.541) total time=   5.9s\n",
      "[CV 5/5] END C=1.5, kernel=linear; accuracy: (test=0.553) f1: (test=0.537) precision: (test=0.547) recall: (test=0.528) total time=   5.8s\n",
      "[CV 1/5] END C=0.0, kernel=poly; accuracy: (test=nan) f1: (test=nan) precision: (test=nan) recall: (test=nan) total time=   0.0s\n",
      "[CV 2/5] END C=0.0, kernel=poly; accuracy: (test=nan) f1: (test=nan) precision: (test=nan) recall: (test=nan) total time=   0.0s\n",
      "[CV 3/5] END C=0.0, kernel=poly; accuracy: (test=nan) f1: (test=nan) precision: (test=nan) recall: (test=nan) total time=   0.0s\n",
      "[CV 4/5] END C=0.0, kernel=poly; accuracy: (test=nan) f1: (test=nan) precision: (test=nan) recall: (test=nan) total time=   0.0s\n",
      "[CV 5/5] END C=0.0, kernel=poly; accuracy: (test=nan) f1: (test=nan) precision: (test=nan) recall: (test=nan) total time=   0.0s\n",
      "[CV 1/5] END C=1.5, kernel=sigmoid; accuracy: (test=0.570) f1: (test=0.558) precision: (test=0.561) recall: (test=0.556) total time=   5.6s\n",
      "[CV 2/5] END C=1.5, kernel=sigmoid; accuracy: (test=0.536) f1: (test=0.522) precision: (test=0.526) recall: (test=0.517) total time=   7.3s\n",
      "[CV 3/5] END C=1.5, kernel=sigmoid; accuracy: (test=0.565) f1: (test=0.558) precision: (test=0.556) recall: (test=0.560) total time=   7.8s\n",
      "[CV 4/5] END C=1.5, kernel=sigmoid; accuracy: (test=0.574) f1: (test=0.551) precision: (test=0.571) recall: (test=0.532) total time=   7.6s\n",
      "[CV 5/5] END C=1.5, kernel=sigmoid; accuracy: (test=0.549) f1: (test=0.535) precision: (test=0.542) recall: (test=0.528) total time=   7.6s\n",
      "[CV 1/5] END C=1.0, kernel=sigmoid; accuracy: (test=0.576) f1: (test=0.548) precision: (test=0.573) recall: (test=0.526) total time=   7.8s\n",
      "[CV 2/5] END C=1.0, kernel=sigmoid; accuracy: (test=0.530) f1: (test=0.512) precision: (test=0.520) recall: (test=0.504) total time=   9.1s\n",
      "[CV 3/5] END C=1.0, kernel=sigmoid; accuracy: (test=0.568) f1: (test=0.551) precision: (test=0.560) recall: (test=0.543) total time=   9.2s\n",
      "[CV 4/5] END C=1.0, kernel=sigmoid; accuracy: (test=0.580) f1: (test=0.547) precision: (test=0.583) recall: (test=0.515) total time=   6.0s\n",
      "[CV 5/5] END C=1.0, kernel=sigmoid; accuracy: (test=0.559) f1: (test=0.543) precision: (test=0.554) recall: (test=0.532) total time=   6.1s\n"
     ]
    },
    {
     "name": "stderr",
     "output_type": "stream",
     "text": [
      "C:\\Users\\maxma\\anaconda3\\envs\\nlp\\lib\\site-packages\\sklearn\\model_selection\\_validation.py:425: FitFailedWarning: \n",
      "15 fits failed out of a total of 50.\n",
      "The score on these train-test partitions for these parameters will be set to nan.\n",
      "If these failures are not expected, you can try to debug them by setting error_score='raise'.\n",
      "\n",
      "Below are more details about the failures:\n",
      "--------------------------------------------------------------------------------\n",
      "15 fits failed with the following error:\n",
      "Traceback (most recent call last):\n",
      "  File \"C:\\Users\\maxma\\anaconda3\\envs\\nlp\\lib\\site-packages\\sklearn\\model_selection\\_validation.py\", line 732, in _fit_and_score\n",
      "    estimator.fit(X_train, y_train, **fit_params)\n",
      "  File \"C:\\Users\\maxma\\anaconda3\\envs\\nlp\\lib\\site-packages\\sklearn\\base.py\", line 1144, in wrapper\n",
      "    estimator._validate_params()\n",
      "  File \"C:\\Users\\maxma\\anaconda3\\envs\\nlp\\lib\\site-packages\\sklearn\\base.py\", line 637, in _validate_params\n",
      "    validate_parameter_constraints(\n",
      "  File \"C:\\Users\\maxma\\anaconda3\\envs\\nlp\\lib\\site-packages\\sklearn\\utils\\_param_validation.py\", line 95, in validate_parameter_constraints\n",
      "    raise InvalidParameterError(\n",
      "sklearn.utils._param_validation.InvalidParameterError: The 'C' parameter of SVC must be a float in the range (0.0, inf). Got 0.0 instead.\n",
      "\n",
      "  warnings.warn(some_fits_failed_message, FitFailedWarning)\n",
      "C:\\Users\\maxma\\anaconda3\\envs\\nlp\\lib\\site-packages\\sklearn\\model_selection\\_search.py:976: UserWarning: One or more of the test scores are non-finite: [0.52841868        nan 0.53271052 0.54476469 0.00085837        nan\n",
      " 0.53787184        nan 0.53874131 0.52409723]\n",
      "  warnings.warn(\n",
      "C:\\Users\\maxma\\anaconda3\\envs\\nlp\\lib\\site-packages\\sklearn\\model_selection\\_search.py:976: UserWarning: One or more of the test scores are non-finite: [0.56065709        nan 0.55540186 0.54955904 0.2               nan\n",
      " 0.54682           nan 0.55120394 0.55777313]\n",
      "  warnings.warn(\n",
      "C:\\Users\\maxma\\anaconda3\\envs\\nlp\\lib\\site-packages\\sklearn\\model_selection\\_search.py:976: UserWarning: One or more of the test scores are non-finite: [0.56540084        nan 0.56160338 0.55780591 0.50970464        nan\n",
      " 0.55485232        nan 0.55864979 0.56244726]\n",
      "  warnings.warn(\n",
      "C:\\Users\\maxma\\anaconda3\\envs\\nlp\\lib\\site-packages\\sklearn\\model_selection\\_search.py:976: UserWarning: One or more of the test scores are non-finite: [0.54393588        nan 0.5436742  0.54706824 0.0017094         nan\n",
      " 0.54222269        nan 0.54480286 0.54022771]\n",
      "  warnings.warn(\n"
     ]
    },
    {
     "data": {
      "text/plain": [
       "{'kernel': 'sigmoid', 'C': 2.0}"
      ]
     },
     "execution_count": 9,
     "metadata": {},
     "output_type": "execute_result"
    }
   ],
   "source": [
    "# Neu\n",
    "svc = SVC()\n",
    "\n",
    "params_dict = { 'C': np.linspace(start=0, stop=2, num=5),\n",
    "                'kernel':['linear', 'poly', 'rbf', 'sigmoid']\n",
    "              }\n",
    "\n",
    "search = RandomizedSearchCV(\n",
    "         estimator=svc,\n",
    "         param_distributions=params_dict,\n",
    "         scoring = ['recall', 'precision', 'accuracy', 'f1'],\n",
    "         refit = 'f1', \n",
    "         cv= 5,\n",
    "         verbose=3)\n",
    "\n",
    "search.fit(X_train_neu_t, y_train_neu)\n",
    "search.best_params_"
   ]
  },
  {
   "cell_type": "code",
   "execution_count": 10,
   "id": "b53a2e48",
   "metadata": {},
   "outputs": [
    {
     "name": "stdout",
     "output_type": "stream",
     "text": [
      "Fitting 5 folds for each of 10 candidates, totalling 50 fits\n",
      "[CV 1/5] END C=1.5, kernel=linear; accuracy: (test=0.582) f1: (test=0.610) precision: (test=0.601) recall: (test=0.620) total time=   7.2s\n",
      "[CV 2/5] END C=1.5, kernel=linear; accuracy: (test=0.601) f1: (test=0.644) precision: (test=0.606) recall: (test=0.687) total time=   8.2s\n",
      "[CV 3/5] END C=1.5, kernel=linear; accuracy: (test=0.546) f1: (test=0.589) precision: (test=0.562) recall: (test=0.618) total time=   8.0s\n",
      "[CV 4/5] END C=1.5, kernel=linear; accuracy: (test=0.561) f1: (test=0.605) precision: (test=0.574) recall: (test=0.639) total time=   7.7s\n",
      "[CV 5/5] END C=1.5, kernel=linear; accuracy: (test=0.582) f1: (test=0.629) precision: (test=0.589) recall: (test=0.675) total time=   8.1s\n",
      "[CV 1/5] END C=2.0, kernel=linear; accuracy: (test=0.576) f1: (test=0.594) precision: (test=0.600) recall: (test=0.588) total time=   8.9s\n",
      "[CV 2/5] END C=2.0, kernel=linear; accuracy: (test=0.599) f1: (test=0.632) precision: (test=0.610) recall: (test=0.655) total time=   9.6s\n",
      "[CV 3/5] END C=2.0, kernel=linear; accuracy: (test=0.559) f1: (test=0.594) precision: (test=0.575) recall: (test=0.614) total time=   6.1s\n",
      "[CV 4/5] END C=2.0, kernel=linear; accuracy: (test=0.576) f1: (test=0.611) precision: (test=0.590) recall: (test=0.635) total time=   6.0s\n",
      "[CV 5/5] END C=2.0, kernel=linear; accuracy: (test=0.563) f1: (test=0.610) precision: (test=0.574) recall: (test=0.651) total time=   6.0s\n",
      "[CV 1/5] END C=1.5, kernel=poly; accuracy: (test=0.568) f1: (test=0.663) precision: (test=0.563) recall: (test=0.808) total time=   5.9s\n",
      "[CV 2/5] END C=1.5, kernel=poly; accuracy: (test=0.578) f1: (test=0.690) precision: (test=0.562) recall: (test=0.896) total time=   6.4s\n",
      "[CV 3/5] END C=1.5, kernel=poly; accuracy: (test=0.553) f1: (test=0.667) precision: (test=0.548) recall: (test=0.851) total time=   5.9s\n",
      "[CV 4/5] END C=1.5, kernel=poly; accuracy: (test=0.574) f1: (test=0.678) precision: (test=0.562) recall: (test=0.855) total time=   6.0s\n",
      "[CV 5/5] END C=1.5, kernel=poly; accuracy: (test=0.578) f1: (test=0.673) precision: (test=0.567) recall: (test=0.827) total time=   6.1s\n",
      "[CV 1/5] END C=0.0, kernel=rbf; accuracy: (test=nan) f1: (test=nan) precision: (test=nan) recall: (test=nan) total time=   0.0s\n",
      "[CV 2/5] END C=0.0, kernel=rbf; accuracy: (test=nan) f1: (test=nan) precision: (test=nan) recall: (test=nan) total time=   0.0s\n",
      "[CV 3/5] END C=0.0, kernel=rbf; accuracy: (test=nan) f1: (test=nan) precision: (test=nan) recall: (test=nan) total time=   0.0s\n",
      "[CV 4/5] END C=0.0, kernel=rbf; accuracy: (test=nan) f1: (test=nan) precision: (test=nan) recall: (test=nan) total time=   0.0s\n",
      "[CV 5/5] END C=0.0, kernel=rbf; accuracy: (test=nan) f1: (test=nan) precision: (test=nan) recall: (test=nan) total time=   0.0s\n",
      "[CV 1/5] END C=0.5, kernel=linear; accuracy: (test=0.597) f1: (test=0.663) precision: (test=0.593) recall: (test=0.752) total time=   5.7s\n",
      "[CV 2/5] END C=0.5, kernel=linear; accuracy: (test=0.608) f1: (test=0.679) precision: (test=0.595) recall: (test=0.791) total time=   6.0s\n",
      "[CV 3/5] END C=0.5, kernel=linear; accuracy: (test=0.572) f1: (test=0.653) precision: (test=0.568) recall: (test=0.767) total time=   5.7s\n",
      "[CV 4/5] END C=0.5, kernel=linear; accuracy: (test=0.565) f1: (test=0.633) precision: (test=0.569) recall: (test=0.715) total time=   5.7s\n",
      "[CV 5/5] END C=0.5, kernel=linear; accuracy: (test=0.605) f1: (test=0.676) precision: (test=0.595) recall: (test=0.783) total time=   6.1s\n",
      "[CV 1/5] END C=1.0, kernel=linear; accuracy: (test=0.578) f1: (test=0.615) precision: (test=0.593) recall: (test=0.640) total time=   5.7s\n",
      "[CV 2/5] END C=1.0, kernel=linear; accuracy: (test=0.620) f1: (test=0.665) precision: (test=0.619) recall: (test=0.719) total time=   5.7s\n",
      "[CV 3/5] END C=1.0, kernel=linear; accuracy: (test=0.565) f1: (test=0.620) precision: (test=0.573) recall: (test=0.675) total time=   5.8s\n",
      "[CV 4/5] END C=1.0, kernel=linear; accuracy: (test=0.553) f1: (test=0.602) precision: (test=0.565) recall: (test=0.643) total time=   5.8s\n",
      "[CV 5/5] END C=1.0, kernel=linear; accuracy: (test=0.608) f1: (test=0.661) precision: (test=0.605) recall: (test=0.727) total time=   6.8s\n",
      "[CV 1/5] END C=1.5, kernel=rbf; accuracy: (test=0.595) f1: (test=0.628) precision: (test=0.609) recall: (test=0.648) total time=   8.1s\n",
      "[CV 2/5] END C=1.5, kernel=rbf; accuracy: (test=0.605) f1: (test=0.656) precision: (test=0.605) recall: (test=0.715) total time=   8.3s\n",
      "[CV 3/5] END C=1.5, kernel=rbf; accuracy: (test=0.563) f1: (test=0.619) precision: (test=0.571) recall: (test=0.675) total time=   8.1s\n",
      "[CV 4/5] END C=1.5, kernel=rbf; accuracy: (test=0.553) f1: (test=0.604) precision: (test=0.564) recall: (test=0.651) total time=   8.3s\n",
      "[CV 5/5] END C=1.5, kernel=rbf; accuracy: (test=0.620) f1: (test=0.669) precision: (test=0.617) recall: (test=0.731) total time=   9.3s\n",
      "[CV 1/5] END C=2.0, kernel=poly; accuracy: (test=0.568) f1: (test=0.663) precision: (test=0.563) recall: (test=0.808) total time=  10.6s\n",
      "[CV 2/5] END C=2.0, kernel=poly; accuracy: (test=0.578) f1: (test=0.690) precision: (test=0.562) recall: (test=0.896) total time=   9.5s\n",
      "[CV 3/5] END C=2.0, kernel=poly; accuracy: (test=0.553) f1: (test=0.667) precision: (test=0.548) recall: (test=0.851) total time=   9.1s\n",
      "[CV 4/5] END C=2.0, kernel=poly; accuracy: (test=0.574) f1: (test=0.678) precision: (test=0.562) recall: (test=0.855) total time=   8.1s\n",
      "[CV 5/5] END C=2.0, kernel=poly; accuracy: (test=0.578) f1: (test=0.673) precision: (test=0.567) recall: (test=0.827) total time=   6.2s\n",
      "[CV 1/5] END C=0.0, kernel=sigmoid; accuracy: (test=nan) f1: (test=nan) precision: (test=nan) recall: (test=nan) total time=   0.0s\n",
      "[CV 2/5] END C=0.0, kernel=sigmoid; accuracy: (test=nan) f1: (test=nan) precision: (test=nan) recall: (test=nan) total time=   0.0s\n",
      "[CV 3/5] END C=0.0, kernel=sigmoid; accuracy: (test=nan) f1: (test=nan) precision: (test=nan) recall: (test=nan) total time=   0.0s\n",
      "[CV 4/5] END C=0.0, kernel=sigmoid; accuracy: (test=nan) f1: (test=nan) precision: (test=nan) recall: (test=nan) total time=   0.0s\n",
      "[CV 5/5] END C=0.0, kernel=sigmoid; accuracy: (test=nan) f1: (test=nan) precision: (test=nan) recall: (test=nan) total time=   0.0s\n",
      "[CV 1/5] END C=1.0, kernel=rbf; accuracy: (test=0.595) f1: (test=0.658) precision: (test=0.593) recall: (test=0.740) total time=   7.0s\n",
      "[CV 2/5] END C=1.0, kernel=rbf; accuracy: (test=0.597) f1: (test=0.668) precision: (test=0.589) recall: (test=0.771) total time=   6.2s\n",
      "[CV 3/5] END C=1.0, kernel=rbf; accuracy: (test=0.568) f1: (test=0.642) precision: (test=0.568) recall: (test=0.739) total time=   5.9s\n",
      "[CV 4/5] END C=1.0, kernel=rbf; accuracy: (test=0.561) f1: (test=0.631) precision: (test=0.565) recall: (test=0.715) total time=   6.7s\n",
      "[CV 5/5] END C=1.0, kernel=rbf; accuracy: (test=0.614) f1: (test=0.680) precision: (test=0.602) recall: (test=0.779) total time=   6.3s\n"
     ]
    },
    {
     "name": "stderr",
     "output_type": "stream",
     "text": [
      "C:\\Users\\maxma\\anaconda3\\envs\\nlp\\lib\\site-packages\\sklearn\\model_selection\\_validation.py:425: FitFailedWarning: \n",
      "10 fits failed out of a total of 50.\n",
      "The score on these train-test partitions for these parameters will be set to nan.\n",
      "If these failures are not expected, you can try to debug them by setting error_score='raise'.\n",
      "\n",
      "Below are more details about the failures:\n",
      "--------------------------------------------------------------------------------\n",
      "10 fits failed with the following error:\n",
      "Traceback (most recent call last):\n",
      "  File \"C:\\Users\\maxma\\anaconda3\\envs\\nlp\\lib\\site-packages\\sklearn\\model_selection\\_validation.py\", line 732, in _fit_and_score\n",
      "    estimator.fit(X_train, y_train, **fit_params)\n",
      "  File \"C:\\Users\\maxma\\anaconda3\\envs\\nlp\\lib\\site-packages\\sklearn\\base.py\", line 1144, in wrapper\n",
      "    estimator._validate_params()\n",
      "  File \"C:\\Users\\maxma\\anaconda3\\envs\\nlp\\lib\\site-packages\\sklearn\\base.py\", line 637, in _validate_params\n",
      "    validate_parameter_constraints(\n",
      "  File \"C:\\Users\\maxma\\anaconda3\\envs\\nlp\\lib\\site-packages\\sklearn\\utils\\_param_validation.py\", line 95, in validate_parameter_constraints\n",
      "    raise InvalidParameterError(\n",
      "sklearn.utils._param_validation.InvalidParameterError: The 'C' parameter of SVC must be a float in the range (0.0, inf). Got 0.0 instead.\n",
      "\n",
      "  warnings.warn(some_fits_failed_message, FitFailedWarning)\n",
      "C:\\Users\\maxma\\anaconda3\\envs\\nlp\\lib\\site-packages\\sklearn\\model_selection\\_search.py:976: UserWarning: One or more of the test scores are non-finite: [0.64769478 0.62844337 0.84754378        nan 0.76164498 0.68061044\n",
      " 0.68381687 0.84754378        nan 0.74880321]\n",
      "  warnings.warn(\n",
      "C:\\Users\\maxma\\anaconda3\\envs\\nlp\\lib\\site-packages\\sklearn\\model_selection\\_search.py:976: UserWarning: One or more of the test scores are non-finite: [0.58653657 0.58993904 0.56033779        nan 0.58397615 0.59121416\n",
      " 0.59346048 0.56033779        nan 0.58347417]\n",
      "  warnings.warn(\n",
      "C:\\Users\\maxma\\anaconda3\\envs\\nlp\\lib\\site-packages\\sklearn\\model_selection\\_search.py:976: UserWarning: One or more of the test scores are non-finite: [0.57468354 0.57468354 0.57004219        nan 0.58945148 0.58481013\n",
      " 0.58734177 0.57004219        nan 0.58691983]\n",
      "  warnings.warn(\n",
      "C:\\Users\\maxma\\anaconda3\\envs\\nlp\\lib\\site-packages\\sklearn\\model_selection\\_search.py:976: UserWarning: One or more of the test scores are non-finite: [0.61539807 0.60825703 0.67439966        nan 0.66096059 0.6325652\n",
      " 0.63518074 0.67439966        nan 0.65582765]\n",
      "  warnings.warn(\n"
     ]
    },
    {
     "data": {
      "text/plain": [
       "{'kernel': 'poly', 'C': 1.5}"
      ]
     },
     "execution_count": 10,
     "metadata": {},
     "output_type": "execute_result"
    }
   ],
   "source": [
    "# Agr\n",
    "svc = SVC()\n",
    "\n",
    "params_dict = { 'C': np.linspace(start=0, stop=2, num=5),\n",
    "                'kernel':['linear', 'poly', 'rbf', 'sigmoid']\n",
    "              }\n",
    "\n",
    "search = RandomizedSearchCV(\n",
    "         estimator=svc,\n",
    "         param_distributions=params_dict,\n",
    "         scoring = ['recall', 'precision', 'accuracy', 'f1'],\n",
    "         refit = 'f1', \n",
    "         cv= 5,\n",
    "         verbose=3)\n",
    "\n",
    "search.fit(X_train_agr_t, y_train_agr)\n",
    "search.best_params_"
   ]
  },
  {
   "cell_type": "code",
   "execution_count": 11,
   "id": "4e28c006",
   "metadata": {},
   "outputs": [
    {
     "name": "stdout",
     "output_type": "stream",
     "text": [
      "Fitting 5 folds for each of 10 candidates, totalling 50 fits\n",
      "[CV 1/5] END C=1.5, kernel=linear; accuracy: (test=0.568) f1: (test=0.579) precision: (test=0.576) recall: (test=0.583) total time=   6.3s\n",
      "[CV 2/5] END C=1.5, kernel=linear; accuracy: (test=0.551) f1: (test=0.564) precision: (test=0.559) recall: (test=0.570) total time=   7.7s\n",
      "[CV 3/5] END C=1.5, kernel=linear; accuracy: (test=0.568) f1: (test=0.561) precision: (test=0.580) recall: (test=0.544) total time=   8.8s\n",
      "[CV 4/5] END C=1.5, kernel=linear; accuracy: (test=0.589) f1: (test=0.611) precision: (test=0.588) recall: (test=0.635) total time=  10.1s\n",
      "[CV 5/5] END C=1.5, kernel=linear; accuracy: (test=0.589) f1: (test=0.612) precision: (test=0.588) recall: (test=0.639) total time=   9.8s\n",
      "[CV 1/5] END C=1.0, kernel=rbf; accuracy: (test=0.589) f1: (test=0.609) precision: (test=0.591) recall: (test=0.628) total time=   9.0s\n",
      "[CV 2/5] END C=1.0, kernel=rbf; accuracy: (test=0.580) f1: (test=0.600) precision: (test=0.584) recall: (test=0.616) total time=   7.8s\n",
      "[CV 3/5] END C=1.0, kernel=rbf; accuracy: (test=0.561) f1: (test=0.572) precision: (test=0.567) recall: (test=0.577) total time=   6.9s\n",
      "[CV 4/5] END C=1.0, kernel=rbf; accuracy: (test=0.610) f1: (test=0.634) precision: (test=0.606) recall: (test=0.664) total time=   7.0s\n",
      "[CV 5/5] END C=1.0, kernel=rbf; accuracy: (test=0.589) f1: (test=0.611) precision: (test=0.588) recall: (test=0.635) total time=   7.2s\n",
      "[CV 1/5] END C=1.0, kernel=sigmoid; accuracy: (test=0.559) f1: (test=0.579) precision: (test=0.565) recall: (test=0.595) total time=   5.9s\n",
      "[CV 2/5] END C=1.0, kernel=sigmoid; accuracy: (test=0.565) f1: (test=0.578) precision: (test=0.573) recall: (test=0.583) total time=   7.2s\n",
      "[CV 3/5] END C=1.0, kernel=sigmoid; accuracy: (test=0.584) f1: (test=0.582) precision: (test=0.596) recall: (test=0.568) total time=   7.0s\n",
      "[CV 4/5] END C=1.0, kernel=sigmoid; accuracy: (test=0.595) f1: (test=0.622) precision: (test=0.592) recall: (test=0.656) total time=   6.0s\n",
      "[CV 5/5] END C=1.0, kernel=sigmoid; accuracy: (test=0.580) f1: (test=0.598) precision: (test=0.583) recall: (test=0.614) total time=   6.9s\n",
      "[CV 1/5] END C=0.0, kernel=linear; accuracy: (test=nan) f1: (test=nan) precision: (test=nan) recall: (test=nan) total time=   0.0s\n",
      "[CV 2/5] END C=0.0, kernel=linear; accuracy: (test=nan) f1: (test=nan) precision: (test=nan) recall: (test=nan) total time=   0.0s\n",
      "[CV 3/5] END C=0.0, kernel=linear; accuracy: (test=nan) f1: (test=nan) precision: (test=nan) recall: (test=nan) total time=   0.0s\n",
      "[CV 4/5] END C=0.0, kernel=linear; accuracy: (test=nan) f1: (test=nan) precision: (test=nan) recall: (test=nan) total time=   0.0s\n",
      "[CV 5/5] END C=0.0, kernel=linear; accuracy: (test=nan) f1: (test=nan) precision: (test=nan) recall: (test=nan) total time=   0.0s\n",
      "[CV 1/5] END C=0.5, kernel=poly; accuracy: (test=0.515) f1: (test=0.678) precision: (test=0.513) recall: (test=1.000) total time=   7.2s\n",
      "[CV 2/5] END C=0.5, kernel=poly; accuracy: (test=0.517) f1: (test=0.679) precision: (test=0.514) recall: (test=1.000) total time=   6.8s\n",
      "[CV 3/5] END C=0.5, kernel=poly; accuracy: (test=0.517) f1: (test=0.678) precision: (test=0.513) recall: (test=1.000) total time=   7.3s\n",
      "[CV 4/5] END C=0.5, kernel=poly; accuracy: (test=0.511) f1: (test=0.675) precision: (test=0.510) recall: (test=1.000) total time=   7.0s\n",
      "[CV 5/5] END C=0.5, kernel=poly; accuracy: (test=0.517) f1: (test=0.678) precision: (test=0.513) recall: (test=1.000) total time=   8.6s\n",
      "[CV 1/5] END C=1.5, kernel=rbf; accuracy: (test=0.563) f1: (test=0.570) precision: (test=0.573) recall: (test=0.566) total time=   8.0s\n",
      "[CV 2/5] END C=1.5, kernel=rbf; accuracy: (test=0.563) f1: (test=0.578) precision: (test=0.570) recall: (test=0.587) total time=   6.6s\n",
      "[CV 3/5] END C=1.5, kernel=rbf; accuracy: (test=0.570) f1: (test=0.575) precision: (test=0.577) recall: (test=0.573) total time=   6.2s\n",
      "[CV 4/5] END C=1.5, kernel=rbf; accuracy: (test=0.572) f1: (test=0.598) precision: (test=0.572) recall: (test=0.627) total time=   6.2s\n",
      "[CV 5/5] END C=1.5, kernel=rbf; accuracy: (test=0.593) f1: (test=0.618) precision: (test=0.591) recall: (test=0.647) total time=   6.5s\n",
      "[CV 1/5] END C=2.0, kernel=sigmoid; accuracy: (test=0.572) f1: (test=0.583) precision: (test=0.580) recall: (test=0.587) total time=   6.4s\n",
      "[CV 2/5] END C=2.0, kernel=sigmoid; accuracy: (test=0.546) f1: (test=0.557) precision: (test=0.556) recall: (test=0.558) total time=   6.4s\n",
      "[CV 3/5] END C=2.0, kernel=sigmoid; accuracy: (test=0.574) f1: (test=0.570) precision: (test=0.585) recall: (test=0.556) total time=   5.8s\n",
      "[CV 4/5] END C=2.0, kernel=sigmoid; accuracy: (test=0.582) f1: (test=0.599) precision: (test=0.585) recall: (test=0.614) total time=   6.2s\n",
      "[CV 5/5] END C=2.0, kernel=sigmoid; accuracy: (test=0.582) f1: (test=0.606) precision: (test=0.582) recall: (test=0.631) total time=   6.6s\n",
      "[CV 1/5] END C=0.0, kernel=rbf; accuracy: (test=nan) f1: (test=nan) precision: (test=nan) recall: (test=nan) total time=   0.0s\n",
      "[CV 2/5] END C=0.0, kernel=rbf; accuracy: (test=nan) f1: (test=nan) precision: (test=nan) recall: (test=nan) total time=   0.0s\n",
      "[CV 3/5] END C=0.0, kernel=rbf; accuracy: (test=nan) f1: (test=nan) precision: (test=nan) recall: (test=nan) total time=   0.0s\n",
      "[CV 4/5] END C=0.0, kernel=rbf; accuracy: (test=nan) f1: (test=nan) precision: (test=nan) recall: (test=nan) total time=   0.0s\n",
      "[CV 5/5] END C=0.0, kernel=rbf; accuracy: (test=nan) f1: (test=nan) precision: (test=nan) recall: (test=nan) total time=   0.0s\n",
      "[CV 1/5] END C=0.0, kernel=sigmoid; accuracy: (test=nan) f1: (test=nan) precision: (test=nan) recall: (test=nan) total time=   0.0s\n",
      "[CV 2/5] END C=0.0, kernel=sigmoid; accuracy: (test=nan) f1: (test=nan) precision: (test=nan) recall: (test=nan) total time=   0.0s\n",
      "[CV 3/5] END C=0.0, kernel=sigmoid; accuracy: (test=nan) f1: (test=nan) precision: (test=nan) recall: (test=nan) total time=   0.0s\n",
      "[CV 4/5] END C=0.0, kernel=sigmoid; accuracy: (test=nan) f1: (test=nan) precision: (test=nan) recall: (test=nan) total time=   0.0s\n",
      "[CV 5/5] END C=0.0, kernel=sigmoid; accuracy: (test=nan) f1: (test=nan) precision: (test=nan) recall: (test=nan) total time=   0.0s\n",
      "[CV 1/5] END C=1.0, kernel=poly; accuracy: (test=0.589) f1: (test=0.627) precision: (test=0.584) recall: (test=0.678) total time=   6.5s\n",
      "[CV 2/5] END C=1.0, kernel=poly; accuracy: (test=0.610) f1: (test=0.653) precision: (test=0.598) recall: (test=0.719) total time=   7.1s\n",
      "[CV 3/5] END C=1.0, kernel=poly; accuracy: (test=0.570) f1: (test=0.608) precision: (test=0.566) recall: (test=0.656) total time=   8.0s\n",
      "[CV 4/5] END C=1.0, kernel=poly; accuracy: (test=0.593) f1: (test=0.648) precision: (test=0.578) recall: (test=0.739) total time=   8.7s\n",
      "[CV 5/5] END C=1.0, kernel=poly; accuracy: (test=0.584) f1: (test=0.642) precision: (test=0.571) recall: (test=0.734) total time=   8.7s\n"
     ]
    },
    {
     "name": "stderr",
     "output_type": "stream",
     "text": [
      "C:\\Users\\maxma\\anaconda3\\envs\\nlp\\lib\\site-packages\\sklearn\\model_selection\\_validation.py:425: FitFailedWarning: \n",
      "15 fits failed out of a total of 50.\n",
      "The score on these train-test partitions for these parameters will be set to nan.\n",
      "If these failures are not expected, you can try to debug them by setting error_score='raise'.\n",
      "\n",
      "Below are more details about the failures:\n",
      "--------------------------------------------------------------------------------\n",
      "15 fits failed with the following error:\n",
      "Traceback (most recent call last):\n",
      "  File \"C:\\Users\\maxma\\anaconda3\\envs\\nlp\\lib\\site-packages\\sklearn\\model_selection\\_validation.py\", line 732, in _fit_and_score\n",
      "    estimator.fit(X_train, y_train, **fit_params)\n",
      "  File \"C:\\Users\\maxma\\anaconda3\\envs\\nlp\\lib\\site-packages\\sklearn\\base.py\", line 1144, in wrapper\n",
      "    estimator._validate_params()\n",
      "  File \"C:\\Users\\maxma\\anaconda3\\envs\\nlp\\lib\\site-packages\\sklearn\\base.py\", line 637, in _validate_params\n",
      "    validate_parameter_constraints(\n",
      "  File \"C:\\Users\\maxma\\anaconda3\\envs\\nlp\\lib\\site-packages\\sklearn\\utils\\_param_validation.py\", line 95, in validate_parameter_constraints\n",
      "    raise InvalidParameterError(\n",
      "sklearn.utils._param_validation.InvalidParameterError: The 'C' parameter of SVC must be a float in the range (0.0, inf). Got 0.0 instead.\n",
      "\n",
      "  warnings.warn(some_fits_failed_message, FitFailedWarning)\n",
      "C:\\Users\\maxma\\anaconda3\\envs\\nlp\\lib\\site-packages\\sklearn\\model_selection\\_search.py:976: UserWarning: One or more of the test scores are non-finite: [0.59406399 0.62386407 0.60317204        nan 1.         0.59987312\n",
      " 0.58909159        nan        nan 0.70506498]\n",
      "  warnings.warn(\n",
      "C:\\Users\\maxma\\anaconda3\\envs\\nlp\\lib\\site-packages\\sklearn\\model_selection\\_search.py:976: UserWarning: One or more of the test scores are non-finite: [0.57802169 0.5875245  0.58159325        nan 0.51231159 0.57675751\n",
      " 0.57753119        nan        nan 0.57935322]\n",
      "  warnings.warn(\n",
      "C:\\Users\\maxma\\anaconda3\\envs\\nlp\\lib\\site-packages\\sklearn\\model_selection\\_search.py:976: UserWarning: One or more of the test scores are non-finite: [0.57257384 0.58565401 0.57679325        nan 0.51518987 0.5721519\n",
      " 0.57130802        nan        nan 0.58902954]\n",
      "  warnings.warn(\n",
      "C:\\Users\\maxma\\anaconda3\\envs\\nlp\\lib\\site-packages\\sklearn\\model_selection\\_search.py:976: UserWarning: One or more of the test scores are non-finite: [0.58552099 0.60505486 0.59182275        nan 0.67751998 0.58777991\n",
      " 0.5829688         nan        nan 0.63573428]\n",
      "  warnings.warn(\n"
     ]
    },
    {
     "data": {
      "text/plain": [
       "{'kernel': 'poly', 'C': 0.5}"
      ]
     },
     "execution_count": 11,
     "metadata": {},
     "output_type": "execute_result"
    }
   ],
   "source": [
    "# Con\n",
    "svc = SVC()\n",
    "\n",
    "params_dict = { 'C': np.linspace(start=0, stop=2, num=5),\n",
    "                'kernel':['linear', 'poly', 'rbf', 'sigmoid']\n",
    "              }\n",
    "\n",
    "search = RandomizedSearchCV(\n",
    "         estimator=svc,\n",
    "         param_distributions=params_dict,\n",
    "         scoring = ['recall', 'precision', 'accuracy', 'f1'],\n",
    "         refit = 'f1', \n",
    "         cv= 5,\n",
    "         verbose=3)\n",
    "\n",
    "search.fit(X_train_con_t, y_train_con)\n",
    "search.best_params_"
   ]
  },
  {
   "cell_type": "code",
   "execution_count": 12,
   "id": "2e8e1bfc",
   "metadata": {},
   "outputs": [
    {
     "name": "stdout",
     "output_type": "stream",
     "text": [
      "Fitting 5 folds for each of 10 candidates, totalling 50 fits\n",
      "[CV 1/5] END C=2.0, kernel=sigmoid; accuracy: (test=0.551) f1: (test=0.544) precision: (test=0.540) recall: (test=0.547) total time=   7.6s\n",
      "[CV 2/5] END C=2.0, kernel=sigmoid; accuracy: (test=0.546) f1: (test=0.536) precision: (test=0.537) recall: (test=0.534) total time=   6.9s\n",
      "[CV 3/5] END C=2.0, kernel=sigmoid; accuracy: (test=0.568) f1: (test=0.563) precision: (test=0.557) recall: (test=0.569) total time=   5.5s\n",
      "[CV 4/5] END C=2.0, kernel=sigmoid; accuracy: (test=0.568) f1: (test=0.551) precision: (test=0.562) recall: (test=0.541) total time=   5.4s\n",
      "[CV 5/5] END C=2.0, kernel=sigmoid; accuracy: (test=0.557) f1: (test=0.541) precision: (test=0.551) recall: (test=0.532) total time=   5.4s\n",
      "[CV 1/5] END C=1.5, kernel=sigmoid; accuracy: (test=0.570) f1: (test=0.558) precision: (test=0.561) recall: (test=0.556) total time=   5.5s\n",
      "[CV 2/5] END C=1.5, kernel=sigmoid; accuracy: (test=0.536) f1: (test=0.522) precision: (test=0.526) recall: (test=0.517) total time=   5.4s\n",
      "[CV 3/5] END C=1.5, kernel=sigmoid; accuracy: (test=0.565) f1: (test=0.558) precision: (test=0.556) recall: (test=0.560) total time=   5.4s\n",
      "[CV 4/5] END C=1.5, kernel=sigmoid; accuracy: (test=0.574) f1: (test=0.551) precision: (test=0.571) recall: (test=0.532) total time=   5.6s\n",
      "[CV 5/5] END C=1.5, kernel=sigmoid; accuracy: (test=0.549) f1: (test=0.535) precision: (test=0.542) recall: (test=0.528) total time=   6.4s\n",
      "[CV 1/5] END C=0.0, kernel=linear; accuracy: (test=nan) f1: (test=nan) precision: (test=nan) recall: (test=nan) total time=   0.0s\n",
      "[CV 2/5] END C=0.0, kernel=linear; accuracy: (test=nan) f1: (test=nan) precision: (test=nan) recall: (test=nan) total time=   0.0s\n",
      "[CV 3/5] END C=0.0, kernel=linear; accuracy: (test=nan) f1: (test=nan) precision: (test=nan) recall: (test=nan) total time=   0.0s\n",
      "[CV 4/5] END C=0.0, kernel=linear; accuracy: (test=nan) f1: (test=nan) precision: (test=nan) recall: (test=nan) total time=   0.0s\n",
      "[CV 5/5] END C=0.0, kernel=linear; accuracy: (test=nan) f1: (test=nan) precision: (test=nan) recall: (test=nan) total time=   0.0s\n",
      "[CV 1/5] END C=0.0, kernel=sigmoid; accuracy: (test=nan) f1: (test=nan) precision: (test=nan) recall: (test=nan) total time=   0.0s\n",
      "[CV 2/5] END C=0.0, kernel=sigmoid; accuracy: (test=nan) f1: (test=nan) precision: (test=nan) recall: (test=nan) total time=   0.0s\n",
      "[CV 3/5] END C=0.0, kernel=sigmoid; accuracy: (test=nan) f1: (test=nan) precision: (test=nan) recall: (test=nan) total time=   0.0s\n",
      "[CV 4/5] END C=0.0, kernel=sigmoid; accuracy: (test=nan) f1: (test=nan) precision: (test=nan) recall: (test=nan) total time=   0.0s\n",
      "[CV 5/5] END C=0.0, kernel=sigmoid; accuracy: (test=nan) f1: (test=nan) precision: (test=nan) recall: (test=nan) total time=   0.0s\n",
      "[CV 1/5] END C=2.0, kernel=linear; accuracy: (test=0.549) f1: (test=0.545) precision: (test=0.538) recall: (test=0.552) total time=   7.0s\n",
      "[CV 2/5] END C=2.0, kernel=linear; accuracy: (test=0.546) f1: (test=0.534) precision: (test=0.537) recall: (test=0.530) total time=   7.1s\n",
      "[CV 3/5] END C=2.0, kernel=linear; accuracy: (test=0.565) f1: (test=0.565) precision: (test=0.554) recall: (test=0.578) total time=   7.2s\n",
      "[CV 4/5] END C=2.0, kernel=linear; accuracy: (test=0.572) f1: (test=0.562) precision: (test=0.565) recall: (test=0.558) total time=   8.1s\n",
      "[CV 5/5] END C=2.0, kernel=linear; accuracy: (test=0.555) f1: (test=0.536) precision: (test=0.550) recall: (test=0.524) total time=  10.0s\n",
      "[CV 1/5] END C=0.0, kernel=rbf; accuracy: (test=nan) f1: (test=nan) precision: (test=nan) recall: (test=nan) total time=   0.0s\n",
      "[CV 2/5] END C=0.0, kernel=rbf; accuracy: (test=nan) f1: (test=nan) precision: (test=nan) recall: (test=nan) total time=   0.0s\n",
      "[CV 3/5] END C=0.0, kernel=rbf; accuracy: (test=nan) f1: (test=nan) precision: (test=nan) recall: (test=nan) total time=   0.0s\n",
      "[CV 4/5] END C=0.0, kernel=rbf; accuracy: (test=nan) f1: (test=nan) precision: (test=nan) recall: (test=nan) total time=   0.0s\n",
      "[CV 5/5] END C=0.0, kernel=rbf; accuracy: (test=nan) f1: (test=nan) precision: (test=nan) recall: (test=nan) total time=   0.0s\n",
      "[CV 1/5] END C=1.5, kernel=rbf; accuracy: (test=0.593) f1: (test=0.570) precision: (test=0.590) recall: (test=0.552) total time=  10.6s\n",
      "[CV 2/5] END C=1.5, kernel=rbf; accuracy: (test=0.519) f1: (test=0.502) precision: (test=0.509) recall: (test=0.496) total time=   7.8s\n",
      "[CV 3/5] END C=1.5, kernel=rbf; accuracy: (test=0.574) f1: (test=0.555) precision: (test=0.568) recall: (test=0.543) total time=   7.5s\n",
      "[CV 4/5] END C=1.5, kernel=rbf; accuracy: (test=0.576) f1: (test=0.548) precision: (test=0.575) recall: (test=0.524) total time=   7.2s\n",
      "[CV 5/5] END C=1.5, kernel=rbf; accuracy: (test=0.555) f1: (test=0.530) precision: (test=0.551) recall: (test=0.511) total time=   7.0s\n",
      "[CV 1/5] END C=0.5, kernel=sigmoid; accuracy: (test=0.576) f1: (test=0.483) precision: (test=0.599) recall: (test=0.405) total time=   6.7s\n",
      "[CV 2/5] END C=0.5, kernel=sigmoid; accuracy: (test=0.532) f1: (test=0.456) precision: (test=0.528) recall: (test=0.401) total time=   7.1s\n",
      "[CV 3/5] END C=0.5, kernel=sigmoid; accuracy: (test=0.574) f1: (test=0.500) precision: (test=0.587) recall: (test=0.435) total time=   7.6s\n",
      "[CV 4/5] END C=0.5, kernel=sigmoid; accuracy: (test=0.559) f1: (test=0.468) precision: (test=0.575) recall: (test=0.395) total time=   8.6s\n",
      "[CV 5/5] END C=0.5, kernel=sigmoid; accuracy: (test=0.553) f1: (test=0.467) precision: (test=0.564) recall: (test=0.399) total time=   8.2s\n",
      "[CV 1/5] END C=1.0, kernel=sigmoid; accuracy: (test=0.576) f1: (test=0.548) precision: (test=0.573) recall: (test=0.526) total time=   8.2s\n",
      "[CV 2/5] END C=1.0, kernel=sigmoid; accuracy: (test=0.530) f1: (test=0.512) precision: (test=0.520) recall: (test=0.504) total time=   7.9s\n",
      "[CV 3/5] END C=1.0, kernel=sigmoid; accuracy: (test=0.568) f1: (test=0.551) precision: (test=0.560) recall: (test=0.543) total time=   8.6s\n",
      "[CV 4/5] END C=1.0, kernel=sigmoid; accuracy: (test=0.580) f1: (test=0.547) precision: (test=0.583) recall: (test=0.515) total time=   9.7s\n",
      "[CV 5/5] END C=1.0, kernel=sigmoid; accuracy: (test=0.559) f1: (test=0.543) precision: (test=0.554) recall: (test=0.532) total time=   7.1s\n",
      "[CV 1/5] END C=0.0, kernel=poly; accuracy: (test=nan) f1: (test=nan) precision: (test=nan) recall: (test=nan) total time=   0.0s\n",
      "[CV 2/5] END C=0.0, kernel=poly; accuracy: (test=nan) f1: (test=nan) precision: (test=nan) recall: (test=nan) total time=   0.0s\n",
      "[CV 3/5] END C=0.0, kernel=poly; accuracy: (test=nan) f1: (test=nan) precision: (test=nan) recall: (test=nan) total time=   0.0s\n",
      "[CV 4/5] END C=0.0, kernel=poly; accuracy: (test=nan) f1: (test=nan) precision: (test=nan) recall: (test=nan) total time=   0.0s\n",
      "[CV 5/5] END C=0.0, kernel=poly; accuracy: (test=nan) f1: (test=nan) precision: (test=nan) recall: (test=nan) total time=   0.0s\n"
     ]
    },
    {
     "name": "stderr",
     "output_type": "stream",
     "text": [
      "C:\\Users\\maxma\\anaconda3\\envs\\nlp\\lib\\site-packages\\sklearn\\model_selection\\_validation.py:425: FitFailedWarning: \n",
      "20 fits failed out of a total of 50.\n",
      "The score on these train-test partitions for these parameters will be set to nan.\n",
      "If these failures are not expected, you can try to debug them by setting error_score='raise'.\n",
      "\n",
      "Below are more details about the failures:\n",
      "--------------------------------------------------------------------------------\n",
      "20 fits failed with the following error:\n",
      "Traceback (most recent call last):\n",
      "  File \"C:\\Users\\maxma\\anaconda3\\envs\\nlp\\lib\\site-packages\\sklearn\\model_selection\\_validation.py\", line 732, in _fit_and_score\n",
      "    estimator.fit(X_train, y_train, **fit_params)\n",
      "  File \"C:\\Users\\maxma\\anaconda3\\envs\\nlp\\lib\\site-packages\\sklearn\\base.py\", line 1144, in wrapper\n",
      "    estimator._validate_params()\n",
      "  File \"C:\\Users\\maxma\\anaconda3\\envs\\nlp\\lib\\site-packages\\sklearn\\base.py\", line 637, in _validate_params\n",
      "    validate_parameter_constraints(\n",
      "  File \"C:\\Users\\maxma\\anaconda3\\envs\\nlp\\lib\\site-packages\\sklearn\\utils\\_param_validation.py\", line 95, in validate_parameter_constraints\n",
      "    raise InvalidParameterError(\n",
      "sklearn.utils._param_validation.InvalidParameterError: The 'C' parameter of SVC must be a float in the range (0.0, inf). Got 0.0 instead.\n",
      "\n",
      "  warnings.warn(some_fits_failed_message, FitFailedWarning)\n",
      "C:\\Users\\maxma\\anaconda3\\envs\\nlp\\lib\\site-packages\\sklearn\\model_selection\\_search.py:976: UserWarning: One or more of the test scores are non-finite: [0.54476469 0.53874131        nan        nan 0.54820556        nan\n",
      " 0.5249704  0.40707415 0.52409723        nan]\n",
      "  warnings.warn(\n",
      "C:\\Users\\maxma\\anaconda3\\envs\\nlp\\lib\\site-packages\\sklearn\\model_selection\\_search.py:976: UserWarning: One or more of the test scores are non-finite: [0.54955904 0.55120394        nan        nan 0.5486838         nan\n",
      " 0.5585353  0.57059617 0.55777313        nan]\n",
      "  warnings.warn(\n",
      "C:\\Users\\maxma\\anaconda3\\envs\\nlp\\lib\\site-packages\\sklearn\\model_selection\\_search.py:976: UserWarning: One or more of the test scores are non-finite: [0.55780591 0.55864979        nan        nan 0.55738397        nan\n",
      " 0.56329114 0.55864979 0.56244726        nan]\n",
      "  warnings.warn(\n",
      "C:\\Users\\maxma\\anaconda3\\envs\\nlp\\lib\\site-packages\\sklearn\\model_selection\\_search.py:976: UserWarning: One or more of the test scores are non-finite: [0.54706824 0.54480286        nan        nan 0.54830461        nan\n",
      " 0.54115736 0.47494058 0.54022771        nan]\n",
      "  warnings.warn(\n"
     ]
    },
    {
     "data": {
      "text/plain": [
       "{'kernel': 'linear', 'C': 2.0}"
      ]
     },
     "execution_count": 12,
     "metadata": {},
     "output_type": "execute_result"
    }
   ],
   "source": [
    "# Opn\n",
    "svc = SVC()\n",
    "\n",
    "params_dict = { 'C': np.linspace(start=0, stop=2, num=5),\n",
    "                'kernel':['linear', 'poly', 'rbf', 'sigmoid']\n",
    "              }\n",
    "\n",
    "search = RandomizedSearchCV(\n",
    "         estimator=svc,\n",
    "         param_distributions=params_dict,\n",
    "         scoring = ['recall', 'precision', 'accuracy', 'f1'],\n",
    "         refit = 'f1', \n",
    "         cv= 5,\n",
    "         verbose=3)\n",
    "\n",
    "search.fit(X_train_neu_t, y_train_neu)\n",
    "search.best_params_"
   ]
  },
  {
   "cell_type": "markdown",
   "id": "bb6e9184",
   "metadata": {},
   "source": [
    "### Actual training and testing\n",
    "\n",
    "With the optimal parameters found, the SVM is trained on the training set and then tested for validation."
   ]
  },
  {
   "cell_type": "code",
   "execution_count": 6,
   "id": "9df532e6",
   "metadata": {},
   "outputs": [],
   "source": [
    "def SVM_model(X_train, X_test, y_train, y_test, krnl, c):\n",
    "    \n",
    "    svm_model = SVC(kernel= krnl, C=c)\n",
    "    svm_model.fit(X_train, y_train)\n",
    "\n",
    "    predictions = svm_model.predict(X_test)\n",
    "\n",
    "    accuracy = accuracy_score(y_test, predictions)\n",
    "    precision = precision_score(y_test, predictions)\n",
    "    recall = recall_score(y_test, predictions)\n",
    "    f1 = f1_score(y_test, predictions)\n",
    "\n",
    "    print(\"Accuracy: {:.2f}\".format(accuracy))\n",
    "    print(\"Precision: {:.2f}\".format(precision))\n",
    "    print(\"Recall: {:.2f}\".format(recall))\n",
    "    print(\"F1 Score: {:.2f}\".format(f1))\n",
    "    \n",
    "    return [f1, accuracy, precision, recall]\n"
   ]
  },
  {
   "cell_type": "code",
   "execution_count": 7,
   "id": "65f9ac16",
   "metadata": {},
   "outputs": [
    {
     "name": "stdout",
     "output_type": "stream",
     "text": [
      "Accuracy: 0.50\n",
      "Precision: 0.50\n",
      "Recall: 1.00\n",
      "F1 Score: 0.67\n"
     ]
    }
   ],
   "source": [
    "# Ext\n",
    "metrics_ext_t = SVM_model(X_train_ext_t, X_test_ext_t, y_train_ext, y_test_ext, 'poly', 0.5)"
   ]
  },
  {
   "cell_type": "code",
   "execution_count": 8,
   "id": "6c361a98",
   "metadata": {},
   "outputs": [
    {
     "name": "stdout",
     "output_type": "stream",
     "text": [
      "Accuracy: 0.52\n",
      "Precision: 0.56\n",
      "Recall: 0.52\n",
      "F1 Score: 0.54\n"
     ]
    }
   ],
   "source": [
    "# Neu\n",
    "metrics_neu_t = SVM_model(X_train_neu_t, X_test_neu_t, y_train_neu, y_test_neu, 'sigmoid', 2.0)"
   ]
  },
  {
   "cell_type": "code",
   "execution_count": 9,
   "id": "c46811e4",
   "metadata": {},
   "outputs": [
    {
     "name": "stdout",
     "output_type": "stream",
     "text": [
      "Accuracy: 0.52\n",
      "Precision: 0.51\n",
      "Recall: 0.79\n",
      "F1 Score: 0.62\n"
     ]
    }
   ],
   "source": [
    "# Agr\n",
    "metrics_agr_t = SVM_model(X_train_agr_t, X_test_agr_t, y_train_agr, y_test_agr, 'poly', 1.5)"
   ]
  },
  {
   "cell_type": "code",
   "execution_count": 10,
   "id": "a3ac32b0",
   "metadata": {},
   "outputs": [
    {
     "name": "stdout",
     "output_type": "stream",
     "text": [
      "Accuracy: 0.53\n",
      "Precision: 0.53\n",
      "Recall: 1.00\n",
      "F1 Score: 0.69\n"
     ]
    }
   ],
   "source": [
    "# Con\n",
    "metrics_con_t = SVM_model(X_train_con_t, X_test_con_t, y_train_con, y_test_con, 'poly', 0.5)"
   ]
  },
  {
   "cell_type": "code",
   "execution_count": 11,
   "id": "339ebce3",
   "metadata": {},
   "outputs": [
    {
     "name": "stdout",
     "output_type": "stream",
     "text": [
      "Accuracy: 0.60\n",
      "Precision: 0.57\n",
      "Recall: 0.58\n",
      "F1 Score: 0.58\n"
     ]
    }
   ],
   "source": [
    "# Opn\n",
    "metrics_opn_t = SVM_model(X_train_opn_t, X_test_opn_t, y_train_opn, y_test_opn, 'linear', 2.0)"
   ]
  },
  {
   "cell_type": "markdown",
   "id": "425c85eb",
   "metadata": {},
   "source": [
    "## Using Part-of-Speech (PoS) tagging\n",
    "\n",
    "As second method to test, PoS tagging as used. To do so, first the text inputs are tagged."
   ]
  },
  {
   "cell_type": "code",
   "execution_count": 12,
   "id": "ff83eb0b",
   "metadata": {},
   "outputs": [
    {
     "name": "stderr",
     "output_type": "stream",
     "text": [
      "[nltk_data] Downloading package averaged_perceptron_tagger to\n",
      "[nltk_data]     C:\\Users\\maxma\\AppData\\Roaming\\nltk_data...\n",
      "[nltk_data]   Package averaged_perceptron_tagger is already up-to-\n",
      "[nltk_data]       date!\n"
     ]
    },
    {
     "data": {
      "text/plain": [
       "True"
      ]
     },
     "execution_count": 12,
     "metadata": {},
     "output_type": "execute_result"
    }
   ],
   "source": [
    "# Download NLTK data if not already downloaded\n",
    "nltk.download('averaged_perceptron_tagger')"
   ]
  },
  {
   "cell_type": "code",
   "execution_count": 13,
   "id": "c4669d6a",
   "metadata": {},
   "outputs": [],
   "source": [
    "pos_df = df.copy()\n",
    "\n",
    "def pos_tagging(text):\n",
    "    tokens = nltk.word_tokenize(text)\n",
    "    pos_tags = nltk.pos_tag(tokens)\n",
    "    return [tag for word, tag in pos_tags]\n",
    "\n",
    "pos_df['pos_tags'] = pos_df['TEXT'].apply(pos_tagging)"
   ]
  },
  {
   "cell_type": "markdown",
   "id": "9af59abe",
   "metadata": {},
   "source": [
    "With the PoS tagging done, the train and test splits are determined per target variable"
   ]
  },
  {
   "cell_type": "code",
   "execution_count": 14,
   "id": "b35dffe6",
   "metadata": {},
   "outputs": [
    {
     "name": "stderr",
     "output_type": "stream",
     "text": [
      "C:\\Users\\maxma\\anaconda3\\envs\\nlp\\lib\\site-packages\\sklearn\\feature_extraction\\text.py:525: UserWarning: The parameter 'token_pattern' will not be used since 'tokenizer' is not None'\n",
      "  warnings.warn(\n"
     ]
    }
   ],
   "source": [
    "# Ext\n",
    "vectorizer = CountVectorizer(tokenizer=lambda x: x, lowercase=False)\n",
    "X = vectorizer.fit_transform(pos_df['pos_tags'])\n",
    "y_ext = pos_df['cEXT']\n",
    "\n",
    "X_train_ext_p, X_test_ext_p, y_train_ext_p, y_test_ext_p = train_test_split(X, y_ext, test_size=0.2, random_state=42)"
   ]
  },
  {
   "cell_type": "code",
   "execution_count": 15,
   "id": "01842f58",
   "metadata": {},
   "outputs": [],
   "source": [
    "# Neu\n",
    "y_neu = pos_df['cNEU']\n",
    "\n",
    "X_train_neu_p, X_test_neu_p, y_train_neu_p, y_test_neu_p = train_test_split(X, y_neu, test_size=0.2, random_state=42)"
   ]
  },
  {
   "cell_type": "code",
   "execution_count": 16,
   "id": "5592c5c0",
   "metadata": {},
   "outputs": [],
   "source": [
    "# Agr\n",
    "y_agr = pos_df['cAGR']\n",
    "\n",
    "X_train_agr_p, X_test_agr_p, y_train_agr_p, y_test_agr_p = train_test_split(X, y_agr, test_size=0.2, random_state=42)"
   ]
  },
  {
   "cell_type": "code",
   "execution_count": 17,
   "id": "822d7241",
   "metadata": {},
   "outputs": [],
   "source": [
    "# Con\n",
    "y_con = pos_df['cCON']\n",
    "\n",
    "X_train_con_p, X_test_con_p, y_train_con_p, y_test_con_p = train_test_split(X, y_con, test_size=0.2, random_state=42)"
   ]
  },
  {
   "cell_type": "code",
   "execution_count": 18,
   "id": "3357f23d",
   "metadata": {},
   "outputs": [],
   "source": [
    "# Opn\n",
    "y_opn = pos_df['cOPN']\n",
    "\n",
    "X_train_opn_p, X_test_opn_p, y_train_opn_p, y_test_opn_p = train_test_split(X, y_opn, test_size=0.2, random_state=42)"
   ]
  },
  {
   "cell_type": "markdown",
   "id": "99f81a26",
   "metadata": {},
   "source": [
    "### Hyperparameter tuning\n",
    "\n",
    "In order to have the optimal SVM, a Randomized Search is done to find the 'C' and 'kernel' parameters of the SVM that yield the highest F1 score. This is done per target variable "
   ]
  },
  {
   "cell_type": "code",
   "execution_count": 26,
   "id": "00247af2",
   "metadata": {},
   "outputs": [
    {
     "name": "stdout",
     "output_type": "stream",
     "text": [
      "Fitting 5 folds for each of 10 candidates, totalling 50 fits\n",
      "[CV 1/5] END C=0.5, kernel=linear; accuracy: (test=0.538) f1: (test=0.588) precision: (test=0.532) recall: (test=0.655) total time=   7.8s\n",
      "[CV 2/5] END C=0.5, kernel=linear; accuracy: (test=0.523) f1: (test=0.555) precision: (test=0.522) recall: (test=0.592) total time=   6.8s\n",
      "[CV 3/5] END C=0.5, kernel=linear; accuracy: (test=0.532) f1: (test=0.581) precision: (test=0.529) recall: (test=0.644) total time=   7.9s\n",
      "[CV 4/5] END C=0.5, kernel=linear; accuracy: (test=0.521) f1: (test=0.538) precision: (test=0.524) recall: (test=0.552) total time=   6.4s\n",
      "[CV 5/5] END C=0.5, kernel=linear; accuracy: (test=0.489) f1: (test=0.496) precision: (test=0.494) recall: (test=0.498) total time=   6.7s\n",
      "[CV 1/5] END C=2.0, kernel=sigmoid; accuracy: (test=0.508) f1: (test=0.499) precision: (test=0.511) recall: (test=0.487) total time=   0.2s\n",
      "[CV 2/5] END C=2.0, kernel=sigmoid; accuracy: (test=0.513) f1: (test=0.528) precision: (test=0.514) recall: (test=0.542) total time=   0.2s\n",
      "[CV 3/5] END C=2.0, kernel=sigmoid; accuracy: (test=0.519) f1: (test=0.525) precision: (test=0.523) recall: (test=0.527) total time=   0.2s\n",
      "[CV 4/5] END C=2.0, kernel=sigmoid; accuracy: (test=0.525) f1: (test=0.516) precision: (test=0.531) recall: (test=0.502) total time=   0.2s\n",
      "[CV 5/5] END C=2.0, kernel=sigmoid; accuracy: (test=0.460) f1: (test=0.446) precision: (test=0.462) recall: (test=0.431) total time=   0.3s\n",
      "[CV 1/5] END C=1.0, kernel=poly; accuracy: (test=0.494) f1: (test=0.642) precision: (test=0.498) recall: (test=0.903) total time=   0.5s\n",
      "[CV 2/5] END C=1.0, kernel=poly; accuracy: (test=0.502) f1: (test=0.653) precision: (test=0.502) recall: (test=0.933) total time=   0.4s\n",
      "[CV 3/5] END C=1.0, kernel=poly; accuracy: (test=0.513) f1: (test=0.670) precision: (test=0.509) recall: (test=0.979) total time=   0.5s\n",
      "[CV 4/5] END C=1.0, kernel=poly; accuracy: (test=0.536) f1: (test=0.669) precision: (test=0.522) recall: (test=0.929) total time=   0.4s\n",
      "[CV 5/5] END C=1.0, kernel=poly; accuracy: (test=0.508) f1: (test=0.654) precision: (test=0.507) recall: (test=0.921) total time=   0.5s\n",
      "[CV 1/5] END C=1.5, kernel=linear; accuracy: (test=0.542) f1: (test=0.591) precision: (test=0.536) recall: (test=0.660) total time=  21.3s\n",
      "[CV 2/5] END C=1.5, kernel=linear; accuracy: (test=0.521) f1: (test=0.554) precision: (test=0.520) recall: (test=0.592) total time=  21.9s\n",
      "[CV 3/5] END C=1.5, kernel=linear; accuracy: (test=0.532) f1: (test=0.581) precision: (test=0.529) recall: (test=0.644) total time=  23.5s\n",
      "[CV 4/5] END C=1.5, kernel=linear; accuracy: (test=0.519) f1: (test=0.540) precision: (test=0.521) recall: (test=0.561) total time=  20.1s\n",
      "[CV 5/5] END C=1.5, kernel=linear; accuracy: (test=0.485) f1: (test=0.492) precision: (test=0.490) recall: (test=0.494) total time=  16.9s\n",
      "[CV 1/5] END C=1.5, kernel=poly; accuracy: (test=0.496) f1: (test=0.642) precision: (test=0.499) recall: (test=0.899) total time=   0.5s\n",
      "[CV 2/5] END C=1.5, kernel=poly; accuracy: (test=0.504) f1: (test=0.654) precision: (test=0.503) recall: (test=0.933) total time=   0.5s\n",
      "[CV 3/5] END C=1.5, kernel=poly; accuracy: (test=0.523) f1: (test=0.672) precision: (test=0.514) recall: (test=0.971) total time=   0.5s\n",
      "[CV 4/5] END C=1.5, kernel=poly; accuracy: (test=0.530) f1: (test=0.662) precision: (test=0.519) recall: (test=0.912) total time=   0.5s\n",
      "[CV 5/5] END C=1.5, kernel=poly; accuracy: (test=0.515) f1: (test=0.656) precision: (test=0.510) recall: (test=0.916) total time=   0.4s\n",
      "[CV 1/5] END C=0.0, kernel=linear; accuracy: (test=nan) f1: (test=nan) precision: (test=nan) recall: (test=nan) total time=   0.0s\n",
      "[CV 2/5] END C=0.0, kernel=linear; accuracy: (test=nan) f1: (test=nan) precision: (test=nan) recall: (test=nan) total time=   0.0s\n",
      "[CV 3/5] END C=0.0, kernel=linear; accuracy: (test=nan) f1: (test=nan) precision: (test=nan) recall: (test=nan) total time=   0.0s\n",
      "[CV 4/5] END C=0.0, kernel=linear; accuracy: (test=nan) f1: (test=nan) precision: (test=nan) recall: (test=nan) total time=   0.0s\n",
      "[CV 5/5] END C=0.0, kernel=linear; accuracy: (test=nan) f1: (test=nan) precision: (test=nan) recall: (test=nan) total time=   0.0s\n",
      "[CV 1/5] END C=1.5, kernel=rbf; accuracy: (test=0.511) f1: (test=0.583) precision: (test=0.509) recall: (test=0.681) total time=   0.4s\n",
      "[CV 2/5] END C=1.5, kernel=rbf; accuracy: (test=0.483) f1: (test=0.605) precision: (test=0.491) recall: (test=0.790) total time=   0.4s\n",
      "[CV 3/5] END C=1.5, kernel=rbf; accuracy: (test=0.525) f1: (test=0.623) precision: (test=0.520) recall: (test=0.778) total time=   0.4s\n",
      "[CV 4/5] END C=1.5, kernel=rbf; accuracy: (test=0.513) f1: (test=0.548) precision: (test=0.515) recall: (test=0.586) total time=   0.4s\n",
      "[CV 5/5] END C=1.5, kernel=rbf; accuracy: (test=0.525) f1: (test=0.628) precision: (test=0.519) recall: (test=0.795) total time=   0.4s\n",
      "[CV 1/5] END C=1.0, kernel=rbf; accuracy: (test=0.502) f1: (test=0.587) precision: (test=0.503) recall: (test=0.706) total time=   0.4s\n",
      "[CV 2/5] END C=1.0, kernel=rbf; accuracy: (test=0.479) f1: (test=0.605) precision: (test=0.488) recall: (test=0.794) total time=   0.3s\n",
      "[CV 3/5] END C=1.0, kernel=rbf; accuracy: (test=0.515) f1: (test=0.620) precision: (test=0.512) recall: (test=0.787) total time=   0.3s\n",
      "[CV 4/5] END C=1.0, kernel=rbf; accuracy: (test=0.500) f1: (test=0.534) precision: (test=0.504) recall: (test=0.569) total time=   0.3s\n",
      "[CV 5/5] END C=1.0, kernel=rbf; accuracy: (test=0.523) f1: (test=0.630) precision: (test=0.518) recall: (test=0.803) total time=   0.3s\n",
      "[CV 1/5] END C=1.5, kernel=sigmoid; accuracy: (test=0.513) f1: (test=0.503) precision: (test=0.515) recall: (test=0.492) total time=   0.1s\n",
      "[CV 2/5] END C=1.5, kernel=sigmoid; accuracy: (test=0.511) f1: (test=0.527) precision: (test=0.512) recall: (test=0.542) total time=   0.1s\n",
      "[CV 3/5] END C=1.5, kernel=sigmoid; accuracy: (test=0.519) f1: (test=0.525) precision: (test=0.523) recall: (test=0.527) total time=   0.1s\n",
      "[CV 4/5] END C=1.5, kernel=sigmoid; accuracy: (test=0.527) f1: (test=0.517) precision: (test=0.533) recall: (test=0.502) total time=   0.1s\n",
      "[CV 5/5] END C=1.5, kernel=sigmoid; accuracy: (test=0.460) f1: (test=0.446) precision: (test=0.462) recall: (test=0.431) total time=   0.2s\n",
      "[CV 1/5] END C=2.0, kernel=rbf; accuracy: (test=0.517) f1: (test=0.581) precision: (test=0.515) recall: (test=0.668) total time=   0.3s\n",
      "[CV 2/5] END C=2.0, kernel=rbf; accuracy: (test=0.494) f1: (test=0.610) precision: (test=0.497) recall: (test=0.790) total time=   0.3s\n",
      "[CV 3/5] END C=2.0, kernel=rbf; accuracy: (test=0.536) f1: (test=0.626) precision: (test=0.527) recall: (test=0.770) total time=   0.4s\n",
      "[CV 4/5] END C=2.0, kernel=rbf; accuracy: (test=0.511) f1: (test=0.547) precision: (test=0.513) recall: (test=0.586) total time=   0.4s\n",
      "[CV 5/5] END C=2.0, kernel=rbf; accuracy: (test=0.530) f1: (test=0.621) precision: (test=0.523) recall: (test=0.766) total time=   0.5s\n"
     ]
    },
    {
     "name": "stderr",
     "output_type": "stream",
     "text": [
      "C:\\Users\\maxma\\anaconda3\\envs\\nlp\\lib\\site-packages\\sklearn\\model_selection\\_validation.py:425: FitFailedWarning: \n",
      "5 fits failed out of a total of 50.\n",
      "The score on these train-test partitions for these parameters will be set to nan.\n",
      "If these failures are not expected, you can try to debug them by setting error_score='raise'.\n",
      "\n",
      "Below are more details about the failures:\n",
      "--------------------------------------------------------------------------------\n",
      "5 fits failed with the following error:\n",
      "Traceback (most recent call last):\n",
      "  File \"C:\\Users\\maxma\\anaconda3\\envs\\nlp\\lib\\site-packages\\sklearn\\model_selection\\_validation.py\", line 732, in _fit_and_score\n",
      "    estimator.fit(X_train, y_train, **fit_params)\n",
      "  File \"C:\\Users\\maxma\\anaconda3\\envs\\nlp\\lib\\site-packages\\sklearn\\base.py\", line 1144, in wrapper\n",
      "    estimator._validate_params()\n",
      "  File \"C:\\Users\\maxma\\anaconda3\\envs\\nlp\\lib\\site-packages\\sklearn\\base.py\", line 637, in _validate_params\n",
      "    validate_parameter_constraints(\n",
      "  File \"C:\\Users\\maxma\\anaconda3\\envs\\nlp\\lib\\site-packages\\sklearn\\utils\\_param_validation.py\", line 95, in validate_parameter_constraints\n",
      "    raise InvalidParameterError(\n",
      "sklearn.utils._param_validation.InvalidParameterError: The 'C' parameter of SVC must be a float in the range (0.0, inf). Got 0.0 instead.\n",
      "\n",
      "  warnings.warn(some_fits_failed_message, FitFailedWarning)\n",
      "C:\\Users\\maxma\\anaconda3\\envs\\nlp\\lib\\site-packages\\sklearn\\model_selection\\_search.py:976: UserWarning: One or more of the test scores are non-finite: [0.58849197 0.49793256 0.93291727 0.59016912 0.92621919        nan\n",
      " 0.72591681 0.73179916 0.4987729  0.71586442]\n",
      "  warnings.warn(\n",
      "C:\\Users\\maxma\\anaconda3\\envs\\nlp\\lib\\site-packages\\sklearn\\model_selection\\_search.py:976: UserWarning: One or more of the test scores are non-finite: [0.5202881  0.50812718 0.50758173 0.51927367 0.50923708        nan\n",
      " 0.51073604 0.50497032 0.50907232 0.51496318]\n",
      "  warnings.warn(\n",
      "C:\\Users\\maxma\\anaconda3\\envs\\nlp\\lib\\site-packages\\sklearn\\model_selection\\_search.py:976: UserWarning: One or more of the test scores are non-finite: [0.52067511 0.50506329 0.51054852 0.51983122 0.51350211        nan\n",
      " 0.51139241 0.50379747 0.50590717 0.51729958]\n",
      "  warnings.warn(\n",
      "C:\\Users\\maxma\\anaconda3\\envs\\nlp\\lib\\site-packages\\sklearn\\model_selection\\_search.py:976: UserWarning: One or more of the test scores are non-finite: [0.55146647 0.50270971 0.65734476 0.55169719 0.65706857        nan\n",
      " 0.59747376 0.59531279 0.50357705 0.59717199]\n",
      "  warnings.warn(\n"
     ]
    },
    {
     "data": {
      "text/plain": [
       "{'kernel': 'poly', 'C': 1.0}"
      ]
     },
     "execution_count": 26,
     "metadata": {},
     "output_type": "execute_result"
    }
   ],
   "source": [
    "# Ext\n",
    "svc = SVC()\n",
    "\n",
    "params_dict = { 'C': np.linspace(start=0, stop=2, num=5),\n",
    "                'kernel':['linear', 'poly', 'rbf', 'sigmoid']\n",
    "              }\n",
    "\n",
    "search = RandomizedSearchCV(\n",
    "         estimator=svc,\n",
    "         param_distributions=params_dict,\n",
    "         scoring = ['recall', 'precision', 'accuracy', 'f1'],\n",
    "         refit = 'f1', \n",
    "         cv= 5,\n",
    "         verbose=3)\n",
    "\n",
    "search.fit(X_train_ext_p,y_train_ext_p)\n",
    "search.best_params_"
   ]
  },
  {
   "cell_type": "code",
   "execution_count": 27,
   "id": "c89bdc28",
   "metadata": {},
   "outputs": [
    {
     "name": "stdout",
     "output_type": "stream",
     "text": [
      "Fitting 5 folds for each of 10 candidates, totalling 50 fits\n",
      "[CV 1/5] END C=1.5, kernel=rbf; accuracy: (test=0.544) f1: (test=0.376) precision: (test=0.570) recall: (test=0.280) total time=   0.4s\n",
      "[CV 2/5] END C=1.5, kernel=rbf; accuracy: (test=0.504) f1: (test=0.402) precision: (test=0.491) recall: (test=0.341) total time=   0.3s\n",
      "[CV 3/5] END C=1.5, kernel=rbf; accuracy: (test=0.534) f1: (test=0.324) precision: (test=0.558) recall: (test=0.228) total time=   0.3s\n",
      "[CV 4/5] END C=1.5, kernel=rbf; accuracy: (test=0.504) f1: (test=0.319) precision: (test=0.491) recall: (test=0.236) total time=   0.4s\n",
      "[CV 5/5] END C=1.5, kernel=rbf; accuracy: (test=0.542) f1: (test=0.348) precision: (test=0.580) recall: (test=0.249) total time=   0.4s\n",
      "[CV 1/5] END C=0.5, kernel=rbf; accuracy: (test=0.549) f1: (test=0.272) precision: (test=0.645) recall: (test=0.172) total time=   0.4s\n",
      "[CV 2/5] END C=0.5, kernel=rbf; accuracy: (test=0.517) f1: (test=0.295) precision: (test=0.516) recall: (test=0.207) total time=   0.4s\n",
      "[CV 3/5] END C=0.5, kernel=rbf; accuracy: (test=0.525) f1: (test=0.232) precision: (test=0.557) recall: (test=0.147) total time=   0.4s\n",
      "[CV 4/5] END C=0.5, kernel=rbf; accuracy: (test=0.506) f1: (test=0.295) precision: (test=0.495) recall: (test=0.210) total time=   0.5s\n",
      "[CV 5/5] END C=0.5, kernel=rbf; accuracy: (test=0.525) f1: (test=0.286) precision: (test=0.549) recall: (test=0.193) total time=   0.4s\n",
      "[CV 1/5] END C=0.5, kernel=poly; accuracy: (test=0.536) f1: (test=0.167) precision: (test=0.688) recall: (test=0.095) total time=   0.4s\n",
      "[CV 2/5] END C=0.5, kernel=poly; accuracy: (test=0.517) f1: (test=0.116) precision: (test=0.556) recall: (test=0.065) total time=   0.5s\n",
      "[CV 3/5] END C=0.5, kernel=poly; accuracy: (test=0.504) f1: (test=0.071) precision: (test=0.429) recall: (test=0.039) total time=   0.5s\n",
      "[CV 4/5] END C=0.5, kernel=poly; accuracy: (test=0.525) f1: (test=0.205) precision: (test=0.580) recall: (test=0.124) total time=   0.4s\n",
      "[CV 5/5] END C=0.5, kernel=poly; accuracy: (test=0.525) f1: (test=0.164) precision: (test=0.611) recall: (test=0.094) total time=   0.4s\n",
      "[CV 1/5] END C=2.0, kernel=sigmoid; accuracy: (test=0.574) f1: (test=0.568) precision: (test=0.564) recall: (test=0.573) total time=   0.2s\n",
      "[CV 2/5] END C=2.0, kernel=sigmoid; accuracy: (test=0.500) f1: (test=0.472) precision: (test=0.488) recall: (test=0.457) total time=   0.2s\n",
      "[CV 3/5] END C=2.0, kernel=sigmoid; accuracy: (test=0.498) f1: (test=0.491) precision: (test=0.487) recall: (test=0.496) total time=   0.2s\n",
      "[CV 4/5] END C=2.0, kernel=sigmoid; accuracy: (test=0.511) f1: (test=0.498) precision: (test=0.502) recall: (test=0.494) total time=   0.2s\n",
      "[CV 5/5] END C=2.0, kernel=sigmoid; accuracy: (test=0.519) f1: (test=0.519) precision: (test=0.510) recall: (test=0.528) total time=   0.2s\n",
      "[CV 1/5] END C=1.5, kernel=poly; accuracy: (test=0.538) f1: (test=0.198) precision: (test=0.659) recall: (test=0.116) total time=   0.5s\n",
      "[CV 2/5] END C=1.5, kernel=poly; accuracy: (test=0.519) f1: (test=0.156) precision: (test=0.553) recall: (test=0.091) total time=   0.5s\n",
      "[CV 3/5] END C=1.5, kernel=poly; accuracy: (test=0.500) f1: (test=0.099) precision: (test=0.419) recall: (test=0.056) total time=   0.4s\n",
      "[CV 4/5] END C=1.5, kernel=poly; accuracy: (test=0.536) f1: (test=0.252) precision: (test=0.607) recall: (test=0.159) total time=   0.4s\n",
      "[CV 5/5] END C=1.5, kernel=poly; accuracy: (test=0.523) f1: (test=0.181) precision: (test=0.581) recall: (test=0.107) total time=   0.5s\n",
      "[CV 1/5] END C=0.5, kernel=sigmoid; accuracy: (test=0.563) f1: (test=0.553) precision: (test=0.554) recall: (test=0.552) total time=   0.2s\n",
      "[CV 2/5] END C=0.5, kernel=sigmoid; accuracy: (test=0.500) f1: (test=0.470) precision: (test=0.488) recall: (test=0.453) total time=   0.2s\n",
      "[CV 3/5] END C=0.5, kernel=sigmoid; accuracy: (test=0.498) f1: (test=0.487) precision: (test=0.487) recall: (test=0.487) total time=   0.3s\n",
      "[CV 4/5] END C=0.5, kernel=sigmoid; accuracy: (test=0.500) f1: (test=0.481) precision: (test=0.491) recall: (test=0.472) total time=   0.3s\n",
      "[CV 5/5] END C=0.5, kernel=sigmoid; accuracy: (test=0.521) f1: (test=0.522) precision: (test=0.512) recall: (test=0.532) total time=   0.3s\n",
      "[CV 1/5] END C=1.0, kernel=linear; accuracy: (test=0.551) f1: (test=0.444) precision: (test=0.563) recall: (test=0.366) total time=  11.7s\n",
      "[CV 2/5] END C=1.0, kernel=linear; accuracy: (test=0.534) f1: (test=0.452) precision: (test=0.532) recall: (test=0.392) total time=  14.1s\n",
      "[CV 3/5] END C=1.0, kernel=linear; accuracy: (test=0.515) f1: (test=0.368) precision: (test=0.508) recall: (test=0.289) total time=  15.2s\n",
      "[CV 4/5] END C=1.0, kernel=linear; accuracy: (test=0.504) f1: (test=0.363) precision: (test=0.493) recall: (test=0.288) total time=  17.7s\n",
      "[CV 5/5] END C=1.0, kernel=linear; accuracy: (test=0.515) f1: (test=0.365) precision: (test=0.512) recall: (test=0.283) total time=   7.5s\n",
      "[CV 1/5] END C=0.0, kernel=sigmoid; accuracy: (test=nan) f1: (test=nan) precision: (test=nan) recall: (test=nan) total time=   0.0s\n",
      "[CV 2/5] END C=0.0, kernel=sigmoid; accuracy: (test=nan) f1: (test=nan) precision: (test=nan) recall: (test=nan) total time=   0.0s\n",
      "[CV 3/5] END C=0.0, kernel=sigmoid; accuracy: (test=nan) f1: (test=nan) precision: (test=nan) recall: (test=nan) total time=   0.0s\n",
      "[CV 4/5] END C=0.0, kernel=sigmoid; accuracy: (test=nan) f1: (test=nan) precision: (test=nan) recall: (test=nan) total time=   0.0s\n",
      "[CV 5/5] END C=0.0, kernel=sigmoid; accuracy: (test=nan) f1: (test=nan) precision: (test=nan) recall: (test=nan) total time=   0.0s\n",
      "[CV 1/5] END C=1.5, kernel=linear; accuracy: (test=0.551) f1: (test=0.444) precision: (test=0.563) recall: (test=0.366) total time=  15.9s\n",
      "[CV 2/5] END C=1.5, kernel=linear; accuracy: (test=0.534) f1: (test=0.452) precision: (test=0.532) recall: (test=0.392) total time=  21.2s\n",
      "[CV 3/5] END C=1.5, kernel=linear; accuracy: (test=0.515) f1: (test=0.368) precision: (test=0.508) recall: (test=0.289) total time=  24.5s\n",
      "[CV 4/5] END C=1.5, kernel=linear; accuracy: (test=0.498) f1: (test=0.364) precision: (test=0.482) recall: (test=0.292) total time=  21.1s\n",
      "[CV 5/5] END C=1.5, kernel=linear; accuracy: (test=0.517) f1: (test=0.369) precision: (test=0.515) recall: (test=0.288) total time=  16.6s\n",
      "[CV 1/5] END C=1.0, kernel=rbf; accuracy: (test=0.555) f1: (test=0.363) precision: (test=0.606) recall: (test=0.259) total time=   0.5s\n",
      "[CV 2/5] END C=1.0, kernel=rbf; accuracy: (test=0.513) f1: (test=0.364) precision: (test=0.504) recall: (test=0.284) total time=   0.5s\n",
      "[CV 3/5] END C=1.0, kernel=rbf; accuracy: (test=0.530) f1: (test=0.259) precision: (test=0.565) recall: (test=0.168) total time=   0.5s\n",
      "[CV 4/5] END C=1.0, kernel=rbf; accuracy: (test=0.502) f1: (test=0.310) precision: (test=0.486) recall: (test=0.227) total time=   0.5s\n",
      "[CV 5/5] END C=1.0, kernel=rbf; accuracy: (test=0.534) f1: (test=0.312) precision: (test=0.568) recall: (test=0.215) total time=   0.5s\n"
     ]
    },
    {
     "name": "stderr",
     "output_type": "stream",
     "text": [
      "C:\\Users\\maxma\\anaconda3\\envs\\nlp\\lib\\site-packages\\sklearn\\model_selection\\_validation.py:425: FitFailedWarning: \n",
      "5 fits failed out of a total of 50.\n",
      "The score on these train-test partitions for these parameters will be set to nan.\n",
      "If these failures are not expected, you can try to debug them by setting error_score='raise'.\n",
      "\n",
      "Below are more details about the failures:\n",
      "--------------------------------------------------------------------------------\n",
      "5 fits failed with the following error:\n",
      "Traceback (most recent call last):\n",
      "  File \"C:\\Users\\maxma\\anaconda3\\envs\\nlp\\lib\\site-packages\\sklearn\\model_selection\\_validation.py\", line 732, in _fit_and_score\n",
      "    estimator.fit(X_train, y_train, **fit_params)\n",
      "  File \"C:\\Users\\maxma\\anaconda3\\envs\\nlp\\lib\\site-packages\\sklearn\\base.py\", line 1144, in wrapper\n",
      "    estimator._validate_params()\n",
      "  File \"C:\\Users\\maxma\\anaconda3\\envs\\nlp\\lib\\site-packages\\sklearn\\base.py\", line 637, in _validate_params\n",
      "    validate_parameter_constraints(\n",
      "  File \"C:\\Users\\maxma\\anaconda3\\envs\\nlp\\lib\\site-packages\\sklearn\\utils\\_param_validation.py\", line 95, in validate_parameter_constraints\n",
      "    raise InvalidParameterError(\n",
      "sklearn.utils._param_validation.InvalidParameterError: The 'C' parameter of SVC must be a float in the range (0.0, inf). Got 0.0 instead.\n",
      "\n",
      "  warnings.warn(some_fits_failed_message, FitFailedWarning)\n",
      "C:\\Users\\maxma\\anaconda3\\envs\\nlp\\lib\\site-packages\\sklearn\\model_selection\\_search.py:976: UserWarning: One or more of the test scores are non-finite: [0.26682329 0.18585911 0.083432   0.50946426 0.10580509 0.49913423\n",
      " 0.32364585        nan 0.32536259 0.2306534 ]\n",
      "  warnings.warn(\n",
      "C:\\Users\\maxma\\anaconda3\\envs\\nlp\\lib\\site-packages\\sklearn\\model_selection\\_search.py:976: UserWarning: One or more of the test scores are non-finite: [0.53796497 0.55247947 0.57254762 0.51037671 0.56369515 0.50660435\n",
      " 0.52138567        nan 0.52006151 0.54590303]\n",
      "  warnings.warn(\n",
      "C:\\Users\\maxma\\anaconda3\\envs\\nlp\\lib\\site-packages\\sklearn\\model_selection\\_search.py:976: UserWarning: One or more of the test scores are non-finite: [0.5257384  0.52447257 0.52151899 0.52025316 0.52320675 0.5164557\n",
      " 0.52362869        nan 0.52278481 0.52658228]\n",
      "  warnings.warn(\n",
      "C:\\Users\\maxma\\anaconda3\\envs\\nlp\\lib\\site-packages\\sklearn\\model_selection\\_search.py:976: UserWarning: One or more of the test scores are non-finite: [0.35382122 0.27609408 0.14443176 0.50976245 0.17701543 0.50265782\n",
      " 0.3982787         nan 0.39927827 0.32135567]\n",
      "  warnings.warn(\n"
     ]
    },
    {
     "data": {
      "text/plain": [
       "{'kernel': 'sigmoid', 'C': 2.0}"
      ]
     },
     "execution_count": 27,
     "metadata": {},
     "output_type": "execute_result"
    }
   ],
   "source": [
    "# Neu\n",
    "svc = SVC()\n",
    "\n",
    "params_dict = { 'C': np.linspace(start=0, stop=2, num=5),\n",
    "                'kernel':['linear', 'poly', 'rbf', 'sigmoid']\n",
    "              }\n",
    "\n",
    "search = RandomizedSearchCV(\n",
    "         estimator=svc,\n",
    "         param_distributions=params_dict,\n",
    "         scoring = ['recall', 'precision', 'accuracy', 'f1'],\n",
    "         refit = 'f1', \n",
    "         cv= 5,\n",
    "         verbose=3)\n",
    "\n",
    "search.fit(X_train_neu_p,y_train_neu_p)\n",
    "search.best_params_"
   ]
  },
  {
   "cell_type": "code",
   "execution_count": 28,
   "id": "2cc2b146",
   "metadata": {},
   "outputs": [
    {
     "name": "stdout",
     "output_type": "stream",
     "text": [
      "Fitting 5 folds for each of 10 candidates, totalling 50 fits\n",
      "[CV 1/5] END C=0.0, kernel=sigmoid; accuracy: (test=nan) f1: (test=nan) precision: (test=nan) recall: (test=nan) total time=   0.0s\n",
      "[CV 2/5] END C=0.0, kernel=sigmoid; accuracy: (test=nan) f1: (test=nan) precision: (test=nan) recall: (test=nan) total time=   0.0s\n",
      "[CV 3/5] END C=0.0, kernel=sigmoid; accuracy: (test=nan) f1: (test=nan) precision: (test=nan) recall: (test=nan) total time=   0.0s\n",
      "[CV 4/5] END C=0.0, kernel=sigmoid; accuracy: (test=nan) f1: (test=nan) precision: (test=nan) recall: (test=nan) total time=   0.0s\n",
      "[CV 5/5] END C=0.0, kernel=sigmoid; accuracy: (test=nan) f1: (test=nan) precision: (test=nan) recall: (test=nan) total time=   0.0s\n",
      "[CV 1/5] END C=2.0, kernel=poly; accuracy: (test=0.532) f1: (test=0.685) precision: (test=0.531) recall: (test=0.964) total time=   0.6s\n",
      "[CV 2/5] END C=2.0, kernel=poly; accuracy: (test=0.513) f1: (test=0.671) precision: (test=0.520) recall: (test=0.948) total time=   0.6s\n",
      "[CV 3/5] END C=2.0, kernel=poly; accuracy: (test=0.544) f1: (test=0.694) precision: (test=0.536) recall: (test=0.984) total time=   0.6s\n",
      "[CV 4/5] END C=2.0, kernel=poly; accuracy: (test=0.551) f1: (test=0.697) precision: (test=0.540) recall: (test=0.984) total time=   0.6s\n",
      "[CV 5/5] END C=2.0, kernel=poly; accuracy: (test=0.538) f1: (test=0.690) precision: (test=0.533) recall: (test=0.980) total time=   0.6s\n",
      "[CV 1/5] END C=0.5, kernel=rbf; accuracy: (test=0.544) f1: (test=0.692) precision: (test=0.538) recall: (test=0.972) total time=   0.5s\n",
      "[CV 2/5] END C=0.5, kernel=rbf; accuracy: (test=0.530) f1: (test=0.677) precision: (test=0.529) recall: (test=0.940) total time=   0.4s\n",
      "[CV 3/5] END C=0.5, kernel=rbf; accuracy: (test=0.532) f1: (test=0.691) precision: (test=0.529) recall: (test=0.996) total time=   0.4s\n",
      "[CV 4/5] END C=0.5, kernel=rbf; accuracy: (test=0.534) f1: (test=0.687) precision: (test=0.531) recall: (test=0.976) total time=   0.5s\n",
      "[CV 5/5] END C=0.5, kernel=rbf; accuracy: (test=0.544) f1: (test=0.691) precision: (test=0.537) recall: (test=0.972) total time=   0.5s\n",
      "[CV 1/5] END C=2.0, kernel=sigmoid; accuracy: (test=0.536) f1: (test=0.556) precision: (test=0.561) recall: (test=0.552) total time=   0.2s\n",
      "[CV 2/5] END C=2.0, kernel=sigmoid; accuracy: (test=0.487) f1: (test=0.521) precision: (test=0.512) recall: (test=0.530) total time=   0.1s\n",
      "[CV 3/5] END C=2.0, kernel=sigmoid; accuracy: (test=0.502) f1: (test=0.528) precision: (test=0.526) recall: (test=0.530) total time=   0.2s\n",
      "[CV 4/5] END C=2.0, kernel=sigmoid; accuracy: (test=0.515) f1: (test=0.521) precision: (test=0.541) recall: (test=0.502) total time=   0.2s\n",
      "[CV 5/5] END C=2.0, kernel=sigmoid; accuracy: (test=0.506) f1: (test=0.547) precision: (test=0.528) recall: (test=0.566) total time=   0.2s\n",
      "[CV 1/5] END C=1.5, kernel=rbf; accuracy: (test=0.549) f1: (test=0.693) precision: (test=0.540) recall: (test=0.968) total time=   0.4s\n",
      "[CV 2/5] END C=1.5, kernel=rbf; accuracy: (test=0.521) f1: (test=0.669) precision: (test=0.525) recall: (test=0.920) total time=   0.4s\n",
      "[CV 3/5] END C=1.5, kernel=rbf; accuracy: (test=0.544) f1: (test=0.695) precision: (test=0.536) recall: (test=0.988) total time=   0.4s\n",
      "[CV 4/5] END C=1.5, kernel=rbf; accuracy: (test=0.538) f1: (test=0.688) precision: (test=0.533) recall: (test=0.968) total time=   0.4s\n",
      "[CV 5/5] END C=1.5, kernel=rbf; accuracy: (test=0.549) f1: (test=0.691) precision: (test=0.540) recall: (test=0.960) total time=   0.4s\n",
      "[CV 1/5] END C=0.5, kernel=linear; accuracy: (test=0.553) f1: (test=0.644) precision: (test=0.555) recall: (test=0.768) total time=   7.1s\n",
      "[CV 2/5] END C=0.5, kernel=linear; accuracy: (test=0.536) f1: (test=0.646) precision: (test=0.539) recall: (test=0.807) total time=   8.3s\n",
      "[CV 3/5] END C=0.5, kernel=linear; accuracy: (test=0.538) f1: (test=0.611) precision: (test=0.548) recall: (test=0.691) total time=   6.9s\n",
      "[CV 4/5] END C=0.5, kernel=linear; accuracy: (test=0.534) f1: (test=0.626) precision: (test=0.541) recall: (test=0.743) total time=   6.8s\n",
      "[CV 5/5] END C=0.5, kernel=linear; accuracy: (test=0.538) f1: (test=0.612) precision: (test=0.547) recall: (test=0.695) total time=   7.1s\n",
      "[CV 1/5] END C=0.5, kernel=sigmoid; accuracy: (test=0.540) f1: (test=0.564) precision: (test=0.564) recall: (test=0.564) total time=   0.2s\n",
      "[CV 2/5] END C=0.5, kernel=sigmoid; accuracy: (test=0.494) f1: (test=0.531) precision: (test=0.517) recall: (test=0.546) total time=   0.2s\n",
      "[CV 3/5] END C=0.5, kernel=sigmoid; accuracy: (test=0.504) f1: (test=0.531) precision: (test=0.528) recall: (test=0.534) total time=   0.2s\n",
      "[CV 4/5] END C=0.5, kernel=sigmoid; accuracy: (test=0.515) f1: (test=0.523) precision: (test=0.541) recall: (test=0.506) total time=   0.2s\n",
      "[CV 5/5] END C=0.5, kernel=sigmoid; accuracy: (test=0.504) f1: (test=0.545) precision: (test=0.526) recall: (test=0.566) total time=   0.3s\n",
      "[CV 1/5] END C=2.0, kernel=linear; accuracy: (test=0.542) f1: (test=0.638) precision: (test=0.547) recall: (test=0.764) total time=  28.8s\n",
      "[CV 2/5] END C=2.0, kernel=linear; accuracy: (test=0.530) f1: (test=0.640) precision: (test=0.535) recall: (test=0.795) total time=  32.7s\n",
      "[CV 3/5] END C=2.0, kernel=linear; accuracy: (test=0.538) f1: (test=0.610) precision: (test=0.548) recall: (test=0.687) total time=  25.3s\n",
      "[CV 4/5] END C=2.0, kernel=linear; accuracy: (test=0.532) f1: (test=0.626) precision: (test=0.539) recall: (test=0.747) total time=  22.8s\n",
      "[CV 5/5] END C=2.0, kernel=linear; accuracy: (test=0.536) f1: (test=0.613) precision: (test=0.545) recall: (test=0.699) total time=  38.5s\n",
      "[CV 1/5] END C=0.0, kernel=rbf; accuracy: (test=nan) f1: (test=nan) precision: (test=nan) recall: (test=nan) total time=   0.0s\n",
      "[CV 2/5] END C=0.0, kernel=rbf; accuracy: (test=nan) f1: (test=nan) precision: (test=nan) recall: (test=nan) total time=   0.0s\n",
      "[CV 3/5] END C=0.0, kernel=rbf; accuracy: (test=nan) f1: (test=nan) precision: (test=nan) recall: (test=nan) total time=   0.0s\n",
      "[CV 4/5] END C=0.0, kernel=rbf; accuracy: (test=nan) f1: (test=nan) precision: (test=nan) recall: (test=nan) total time=   0.0s\n",
      "[CV 5/5] END C=0.0, kernel=rbf; accuracy: (test=nan) f1: (test=nan) precision: (test=nan) recall: (test=nan) total time=   0.0s\n",
      "[CV 1/5] END C=1.0, kernel=poly; accuracy: (test=0.536) f1: (test=0.688) precision: (test=0.533) recall: (test=0.968) total time=   0.5s\n",
      "[CV 2/5] END C=1.0, kernel=poly; accuracy: (test=0.517) f1: (test=0.674) precision: (test=0.522) recall: (test=0.952) total time=   0.5s\n",
      "[CV 3/5] END C=1.0, kernel=poly; accuracy: (test=0.538) f1: (test=0.693) precision: (test=0.532) recall: (test=0.992) total time=   0.4s\n",
      "[CV 4/5] END C=1.0, kernel=poly; accuracy: (test=0.544) f1: (test=0.694) precision: (test=0.536) recall: (test=0.984) total time=   0.5s\n",
      "[CV 5/5] END C=1.0, kernel=poly; accuracy: (test=0.534) f1: (test=0.688) precision: (test=0.530) recall: (test=0.980) total time=   0.5s\n"
     ]
    },
    {
     "name": "stderr",
     "output_type": "stream",
     "text": [
      "C:\\Users\\maxma\\anaconda3\\envs\\nlp\\lib\\site-packages\\sklearn\\model_selection\\_validation.py:425: FitFailedWarning: \n",
      "10 fits failed out of a total of 50.\n",
      "The score on these train-test partitions for these parameters will be set to nan.\n",
      "If these failures are not expected, you can try to debug them by setting error_score='raise'.\n",
      "\n",
      "Below are more details about the failures:\n",
      "--------------------------------------------------------------------------------\n",
      "10 fits failed with the following error:\n",
      "Traceback (most recent call last):\n",
      "  File \"C:\\Users\\maxma\\anaconda3\\envs\\nlp\\lib\\site-packages\\sklearn\\model_selection\\_validation.py\", line 732, in _fit_and_score\n",
      "    estimator.fit(X_train, y_train, **fit_params)\n",
      "  File \"C:\\Users\\maxma\\anaconda3\\envs\\nlp\\lib\\site-packages\\sklearn\\base.py\", line 1144, in wrapper\n",
      "    estimator._validate_params()\n",
      "  File \"C:\\Users\\maxma\\anaconda3\\envs\\nlp\\lib\\site-packages\\sklearn\\base.py\", line 637, in _validate_params\n",
      "    validate_parameter_constraints(\n",
      "  File \"C:\\Users\\maxma\\anaconda3\\envs\\nlp\\lib\\site-packages\\sklearn\\utils\\_param_validation.py\", line 95, in validate_parameter_constraints\n",
      "    raise InvalidParameterError(\n",
      "sklearn.utils._param_validation.InvalidParameterError: The 'C' parameter of SVC must be a float in the range (0.0, inf). Got 0.0 instead.\n",
      "\n",
      "  warnings.warn(some_fits_failed_message, FitFailedWarning)\n",
      "C:\\Users\\maxma\\anaconda3\\envs\\nlp\\lib\\site-packages\\sklearn\\model_selection\\_search.py:976: UserWarning: One or more of the test scores are non-finite: [       nan 0.97191647 0.97110683 0.53610281 0.96066827 0.74074859\n",
      " 0.54332209 0.73834217        nan 0.9751261 ]\n",
      "  warnings.warn(\n",
      "C:\\Users\\maxma\\anaconda3\\envs\\nlp\\lib\\site-packages\\sklearn\\model_selection\\_search.py:976: UserWarning: One or more of the test scores are non-finite: [       nan 0.5318329  0.53259202 0.53354307 0.53480897 0.5459924\n",
      " 0.535156   0.543015          nan 0.5307867 ]\n",
      "  warnings.warn(\n",
      "C:\\Users\\maxma\\anaconda3\\envs\\nlp\\lib\\site-packages\\sklearn\\model_selection\\_search.py:976: UserWarning: One or more of the test scores are non-finite: [       nan 0.53544304 0.53670886 0.5092827  0.54008439 0.53966245\n",
      " 0.51139241 0.53544304        nan 0.53375527]\n",
      "  warnings.warn(\n",
      "C:\\Users\\maxma\\anaconda3\\envs\\nlp\\lib\\site-packages\\sklearn\\model_selection\\_search.py:976: UserWarning: One or more of the test scores are non-finite: [       nan 0.68747432 0.68784699 0.53450133 0.68705575 0.62801138\n",
      " 0.53889285 0.62520708        nan 0.68738894]\n",
      "  warnings.warn(\n"
     ]
    },
    {
     "data": {
      "text/plain": [
       "{'kernel': 'rbf', 'C': 0.5}"
      ]
     },
     "execution_count": 28,
     "metadata": {},
     "output_type": "execute_result"
    }
   ],
   "source": [
    "# Agr\n",
    "svc = SVC()\n",
    "\n",
    "params_dict = { 'C': np.linspace(start=0, stop=2, num=5),\n",
    "                'kernel':['linear', 'poly', 'rbf', 'sigmoid']\n",
    "              }\n",
    "\n",
    "search = RandomizedSearchCV(\n",
    "         estimator=svc,\n",
    "         param_distributions=params_dict,\n",
    "         scoring = ['recall', 'precision', 'accuracy', 'f1'],\n",
    "         refit = 'f1', \n",
    "         cv= 5,\n",
    "         verbose=3)\n",
    "\n",
    "search.fit(X_train_agr_p,y_train_agr_p)\n",
    "search.best_params_"
   ]
  },
  {
   "cell_type": "code",
   "execution_count": 29,
   "id": "b2d8461c",
   "metadata": {},
   "outputs": [
    {
     "name": "stdout",
     "output_type": "stream",
     "text": [
      "Fitting 5 folds for each of 10 candidates, totalling 50 fits\n",
      "[CV 1/5] END C=1.5, kernel=linear; accuracy: (test=0.515) f1: (test=0.489) precision: (test=0.529) recall: (test=0.455) total time=  20.7s\n",
      "[CV 2/5] END C=1.5, kernel=linear; accuracy: (test=0.506) f1: (test=0.555) precision: (test=0.514) recall: (test=0.603) total time=  23.6s\n",
      "[CV 3/5] END C=1.5, kernel=linear; accuracy: (test=0.536) f1: (test=0.583) precision: (test=0.537) recall: (test=0.639) total time=  18.9s\n",
      "[CV 4/5] END C=1.5, kernel=linear; accuracy: (test=0.496) f1: (test=0.563) precision: (test=0.503) recall: (test=0.639) total time=  21.3s\n",
      "[CV 5/5] END C=1.5, kernel=linear; accuracy: (test=0.540) f1: (test=0.593) precision: (test=0.539) recall: (test=0.660) total time=  18.5s\n",
      "[CV 1/5] END C=2.0, kernel=linear; accuracy: (test=0.519) f1: (test=0.493) precision: (test=0.534) recall: (test=0.459) total time=  22.4s\n",
      "[CV 2/5] END C=2.0, kernel=linear; accuracy: (test=0.506) f1: (test=0.555) precision: (test=0.514) recall: (test=0.603) total time=  25.5s\n",
      "[CV 3/5] END C=2.0, kernel=linear; accuracy: (test=0.538) f1: (test=0.584) precision: (test=0.538) recall: (test=0.639) total time=  18.7s\n",
      "[CV 4/5] END C=2.0, kernel=linear; accuracy: (test=0.496) f1: (test=0.563) precision: (test=0.503) recall: (test=0.639) total time=  34.6s\n",
      "[CV 5/5] END C=2.0, kernel=linear; accuracy: (test=0.540) f1: (test=0.593) precision: (test=0.539) recall: (test=0.660) total time=  25.5s\n",
      "[CV 1/5] END C=1.0, kernel=linear; accuracy: (test=0.521) f1: (test=0.492) precision: (test=0.537) recall: (test=0.455) total time=  14.4s\n",
      "[CV 2/5] END C=1.0, kernel=linear; accuracy: (test=0.508) f1: (test=0.556) precision: (test=0.516) recall: (test=0.603) total time=  11.5s\n",
      "[CV 3/5] END C=1.0, kernel=linear; accuracy: (test=0.536) f1: (test=0.583) precision: (test=0.537) recall: (test=0.639) total time=  12.8s\n",
      "[CV 4/5] END C=1.0, kernel=linear; accuracy: (test=0.496) f1: (test=0.561) precision: (test=0.503) recall: (test=0.635) total time=  13.7s\n",
      "[CV 5/5] END C=1.0, kernel=linear; accuracy: (test=0.540) f1: (test=0.593) precision: (test=0.539) recall: (test=0.660) total time=  10.0s\n",
      "[CV 1/5] END C=0.0, kernel=linear; accuracy: (test=nan) f1: (test=nan) precision: (test=nan) recall: (test=nan) total time=   0.0s\n",
      "[CV 2/5] END C=0.0, kernel=linear; accuracy: (test=nan) f1: (test=nan) precision: (test=nan) recall: (test=nan) total time=   0.0s\n",
      "[CV 3/5] END C=0.0, kernel=linear; accuracy: (test=nan) f1: (test=nan) precision: (test=nan) recall: (test=nan) total time=   0.0s\n",
      "[CV 4/5] END C=0.0, kernel=linear; accuracy: (test=nan) f1: (test=nan) precision: (test=nan) recall: (test=nan) total time=   0.0s\n",
      "[CV 5/5] END C=0.0, kernel=linear; accuracy: (test=nan) f1: (test=nan) precision: (test=nan) recall: (test=nan) total time=   0.0s\n",
      "[CV 1/5] END C=1.5, kernel=sigmoid; accuracy: (test=0.536) f1: (test=0.534) precision: (test=0.548) recall: (test=0.521) total time=   0.1s\n",
      "[CV 2/5] END C=1.5, kernel=sigmoid; accuracy: (test=0.508) f1: (test=0.531) precision: (test=0.518) recall: (test=0.545) total time=   0.1s\n",
      "[CV 3/5] END C=1.5, kernel=sigmoid; accuracy: (test=0.496) f1: (test=0.509) precision: (test=0.504) recall: (test=0.515) total time=   0.2s\n",
      "[CV 4/5] END C=1.5, kernel=sigmoid; accuracy: (test=0.511) f1: (test=0.523) precision: (test=0.518) recall: (test=0.527) total time=   0.2s\n",
      "[CV 5/5] END C=1.5, kernel=sigmoid; accuracy: (test=0.508) f1: (test=0.525) precision: (test=0.516) recall: (test=0.535) total time=   0.2s\n",
      "[CV 1/5] END C=2.0, kernel=poly; accuracy: (test=0.525) f1: (test=0.675) precision: (test=0.519) recall: (test=0.967) total time=   0.4s\n",
      "[CV 2/5] END C=2.0, kernel=poly; accuracy: (test=0.517) f1: (test=0.669) precision: (test=0.514) recall: (test=0.955) total time=   0.5s\n",
      "[CV 3/5] END C=2.0, kernel=poly; accuracy: (test=0.511) f1: (test=0.662) precision: (test=0.510) recall: (test=0.942) total time=   0.4s\n",
      "[CV 4/5] END C=2.0, kernel=poly; accuracy: (test=0.523) f1: (test=0.672) precision: (test=0.517) recall: (test=0.959) total time=   0.4s\n",
      "[CV 5/5] END C=2.0, kernel=poly; accuracy: (test=0.517) f1: (test=0.671) precision: (test=0.513) recall: (test=0.971) total time=   0.4s\n",
      "[CV 1/5] END C=2.0, kernel=rbf; accuracy: (test=0.523) f1: (test=0.559) precision: (test=0.530) recall: (test=0.591) total time=   0.4s\n",
      "[CV 2/5] END C=2.0, kernel=rbf; accuracy: (test=0.530) f1: (test=0.651) precision: (test=0.524) recall: (test=0.860) total time=   0.4s\n",
      "[CV 3/5] END C=2.0, kernel=rbf; accuracy: (test=0.515) f1: (test=0.639) precision: (test=0.514) recall: (test=0.846) total time=   0.4s\n",
      "[CV 4/5] END C=2.0, kernel=rbf; accuracy: (test=0.521) f1: (test=0.654) precision: (test=0.517) recall: (test=0.892) total time=   0.4s\n",
      "[CV 5/5] END C=2.0, kernel=rbf; accuracy: (test=0.532) f1: (test=0.667) precision: (test=0.522) recall: (test=0.921) total time=   0.3s\n",
      "[CV 1/5] END C=1.0, kernel=poly; accuracy: (test=0.527) f1: (test=0.678) precision: (test=0.520) recall: (test=0.975) total time=   0.4s\n",
      "[CV 2/5] END C=1.0, kernel=poly; accuracy: (test=0.508) f1: (test=0.665) precision: (test=0.510) recall: (test=0.955) total time=   0.4s\n",
      "[CV 3/5] END C=1.0, kernel=poly; accuracy: (test=0.506) f1: (test=0.660) precision: (test=0.508) recall: (test=0.942) total time=   0.4s\n",
      "[CV 4/5] END C=1.0, kernel=poly; accuracy: (test=0.521) f1: (test=0.672) precision: (test=0.515) recall: (test=0.967) total time=   0.5s\n",
      "[CV 5/5] END C=1.0, kernel=poly; accuracy: (test=0.513) f1: (test=0.669) precision: (test=0.511) recall: (test=0.967) total time=   0.5s\n",
      "[CV 1/5] END C=2.0, kernel=sigmoid; accuracy: (test=0.536) f1: (test=0.534) precision: (test=0.548) recall: (test=0.521) total time=   0.1s\n",
      "[CV 2/5] END C=2.0, kernel=sigmoid; accuracy: (test=0.508) f1: (test=0.531) precision: (test=0.518) recall: (test=0.545) total time=   0.2s\n",
      "[CV 3/5] END C=2.0, kernel=sigmoid; accuracy: (test=0.494) f1: (test=0.508) precision: (test=0.502) recall: (test=0.515) total time=   0.2s\n",
      "[CV 4/5] END C=2.0, kernel=sigmoid; accuracy: (test=0.511) f1: (test=0.525) precision: (test=0.518) recall: (test=0.531) total time=   0.2s\n",
      "[CV 5/5] END C=2.0, kernel=sigmoid; accuracy: (test=0.506) f1: (test=0.524) precision: (test=0.514) recall: (test=0.535) total time=   0.2s\n",
      "[CV 1/5] END C=0.0, kernel=poly; accuracy: (test=nan) f1: (test=nan) precision: (test=nan) recall: (test=nan) total time=   0.0s\n",
      "[CV 2/5] END C=0.0, kernel=poly; accuracy: (test=nan) f1: (test=nan) precision: (test=nan) recall: (test=nan) total time=   0.0s\n",
      "[CV 3/5] END C=0.0, kernel=poly; accuracy: (test=nan) f1: (test=nan) precision: (test=nan) recall: (test=nan) total time=   0.0s\n",
      "[CV 4/5] END C=0.0, kernel=poly; accuracy: (test=nan) f1: (test=nan) precision: (test=nan) recall: (test=nan) total time=   0.0s\n",
      "[CV 5/5] END C=0.0, kernel=poly; accuracy: (test=nan) f1: (test=nan) precision: (test=nan) recall: (test=nan) total time=   0.0s\n"
     ]
    },
    {
     "name": "stderr",
     "output_type": "stream",
     "text": [
      "C:\\Users\\maxma\\anaconda3\\envs\\nlp\\lib\\site-packages\\sklearn\\model_selection\\_validation.py:425: FitFailedWarning: \n",
      "10 fits failed out of a total of 50.\n",
      "The score on these train-test partitions for these parameters will be set to nan.\n",
      "If these failures are not expected, you can try to debug them by setting error_score='raise'.\n",
      "\n",
      "Below are more details about the failures:\n",
      "--------------------------------------------------------------------------------\n",
      "10 fits failed with the following error:\n",
      "Traceback (most recent call last):\n",
      "  File \"C:\\Users\\maxma\\anaconda3\\envs\\nlp\\lib\\site-packages\\sklearn\\model_selection\\_validation.py\", line 732, in _fit_and_score\n",
      "    estimator.fit(X_train, y_train, **fit_params)\n",
      "  File \"C:\\Users\\maxma\\anaconda3\\envs\\nlp\\lib\\site-packages\\sklearn\\base.py\", line 1144, in wrapper\n",
      "    estimator._validate_params()\n",
      "  File \"C:\\Users\\maxma\\anaconda3\\envs\\nlp\\lib\\site-packages\\sklearn\\base.py\", line 637, in _validate_params\n",
      "    validate_parameter_constraints(\n",
      "  File \"C:\\Users\\maxma\\anaconda3\\envs\\nlp\\lib\\site-packages\\sklearn\\utils\\_param_validation.py\", line 95, in validate_parameter_constraints\n",
      "    raise InvalidParameterError(\n",
      "sklearn.utils._param_validation.InvalidParameterError: The 'C' parameter of SVC must be a float in the range (0.0, inf). Got 0.0 instead.\n",
      "\n",
      "  warnings.warn(some_fits_failed_message, FitFailedWarning)\n",
      "C:\\Users\\maxma\\anaconda3\\envs\\nlp\\lib\\site-packages\\sklearn\\model_selection\\_search.py:976: UserWarning: One or more of the test scores are non-finite: [0.59912212 0.59994856 0.59829224        nan 0.52857584 0.95857138\n",
      " 0.82203285 0.96105415 0.52940571        nan]\n",
      "  warnings.warn(\n",
      "C:\\Users\\maxma\\anaconda3\\envs\\nlp\\lib\\site-packages\\sklearn\\model_selection\\_search.py:976: UserWarning: One or more of the test scores are non-finite: [0.52435341 0.52569018 0.52626886        nan 0.52078111 0.51467448\n",
      " 0.52131857 0.51280784 0.51993206        nan]\n",
      "  warnings.warn(\n",
      "C:\\Users\\maxma\\anaconda3\\envs\\nlp\\lib\\site-packages\\sklearn\\model_selection\\_search.py:976: UserWarning: One or more of the test scores are non-finite: [0.5185654  0.51983122 0.52025316        nan 0.51181435 0.5185654\n",
      " 0.52405063 0.51518987 0.51097046        nan]\n",
      "  warnings.warn(\n",
      "C:\\Users\\maxma\\anaconda3\\envs\\nlp\\lib\\site-packages\\sklearn\\model_selection\\_search.py:976: UserWarning: One or more of the test scores are non-finite: [0.55674204 0.5578523  0.55728906        nan 0.52448353 0.66973784\n",
      " 0.63405323 0.66876223 0.52445251        nan]\n",
      "  warnings.warn(\n"
     ]
    },
    {
     "data": {
      "text/plain": [
       "{'kernel': 'poly', 'C': 2.0}"
      ]
     },
     "execution_count": 29,
     "metadata": {},
     "output_type": "execute_result"
    }
   ],
   "source": [
    "# Con\n",
    "svc = SVC()\n",
    "\n",
    "params_dict = { 'C': np.linspace(start=0, stop=2, num=5),\n",
    "                'kernel':['linear', 'poly', 'rbf', 'sigmoid']\n",
    "              }\n",
    "\n",
    "search = RandomizedSearchCV(\n",
    "         estimator=svc,\n",
    "         param_distributions=params_dict,\n",
    "         scoring = ['recall', 'precision', 'accuracy', 'f1'],\n",
    "         refit = 'f1', \n",
    "         cv= 5,\n",
    "         verbose=3)\n",
    "\n",
    "search.fit(X_train_con_p,y_train_con_p)\n",
    "search.best_params_"
   ]
  },
  {
   "cell_type": "code",
   "execution_count": 30,
   "id": "21f3b432",
   "metadata": {},
   "outputs": [
    {
     "name": "stdout",
     "output_type": "stream",
     "text": [
      "Fitting 5 folds for each of 10 candidates, totalling 50 fits\n",
      "[CV 1/5] END C=2.0, kernel=linear; accuracy: (test=0.534) f1: (test=0.395) precision: (test=0.537) recall: (test=0.312) total time=  20.8s\n",
      "[CV 2/5] END C=2.0, kernel=linear; accuracy: (test=0.536) f1: (test=0.424) precision: (test=0.533) recall: (test=0.352) total time=  25.9s\n",
      "[CV 3/5] END C=2.0, kernel=linear; accuracy: (test=0.542) f1: (test=0.453) precision: (test=0.539) recall: (test=0.391) total time=  28.7s\n",
      "[CV 4/5] END C=2.0, kernel=linear; accuracy: (test=0.568) f1: (test=0.462) precision: (test=0.583) recall: (test=0.383) total time=  25.8s\n",
      "[CV 5/5] END C=2.0, kernel=linear; accuracy: (test=0.544) f1: (test=0.416) precision: (test=0.550) recall: (test=0.335) total time=  35.8s\n",
      "[CV 1/5] END C=0.0, kernel=poly; accuracy: (test=nan) f1: (test=nan) precision: (test=nan) recall: (test=nan) total time=   0.0s\n",
      "[CV 2/5] END C=0.0, kernel=poly; accuracy: (test=nan) f1: (test=nan) precision: (test=nan) recall: (test=nan) total time=   0.0s\n",
      "[CV 3/5] END C=0.0, kernel=poly; accuracy: (test=nan) f1: (test=nan) precision: (test=nan) recall: (test=nan) total time=   0.0s\n",
      "[CV 4/5] END C=0.0, kernel=poly; accuracy: (test=nan) f1: (test=nan) precision: (test=nan) recall: (test=nan) total time=   0.0s\n",
      "[CV 5/5] END C=0.0, kernel=poly; accuracy: (test=nan) f1: (test=nan) precision: (test=nan) recall: (test=nan) total time=   0.0s\n",
      "[CV 1/5] END C=0.0, kernel=rbf; accuracy: (test=nan) f1: (test=nan) precision: (test=nan) recall: (test=nan) total time=   0.0s\n",
      "[CV 2/5] END C=0.0, kernel=rbf; accuracy: (test=nan) f1: (test=nan) precision: (test=nan) recall: (test=nan) total time=   0.0s\n",
      "[CV 3/5] END C=0.0, kernel=rbf; accuracy: (test=nan) f1: (test=nan) precision: (test=nan) recall: (test=nan) total time=   0.0s\n",
      "[CV 4/5] END C=0.0, kernel=rbf; accuracy: (test=nan) f1: (test=nan) precision: (test=nan) recall: (test=nan) total time=   0.0s\n",
      "[CV 5/5] END C=0.0, kernel=rbf; accuracy: (test=nan) f1: (test=nan) precision: (test=nan) recall: (test=nan) total time=   0.0s\n",
      "[CV 1/5] END C=0.5, kernel=linear; accuracy: (test=0.534) f1: (test=0.395) precision: (test=0.537) recall: (test=0.312) total time=   6.2s\n",
      "[CV 2/5] END C=0.5, kernel=linear; accuracy: (test=0.538) f1: (test=0.428) precision: (test=0.536) recall: (test=0.357) total time=   7.3s\n",
      "[CV 3/5] END C=0.5, kernel=linear; accuracy: (test=0.534) f1: (test=0.441) precision: (test=0.527) recall: (test=0.378) total time=   6.9s\n",
      "[CV 4/5] END C=0.5, kernel=linear; accuracy: (test=0.570) f1: (test=0.466) precision: (test=0.586) recall: (test=0.387) total time=   6.3s\n",
      "[CV 5/5] END C=0.5, kernel=linear; accuracy: (test=0.544) f1: (test=0.416) precision: (test=0.550) recall: (test=0.335) total time=  12.8s\n",
      "[CV 1/5] END C=0.5, kernel=rbf; accuracy: (test=0.542) f1: (test=0.485) precision: (test=0.537) recall: (test=0.442) total time=   0.4s\n",
      "[CV 2/5] END C=0.5, kernel=rbf; accuracy: (test=0.521) f1: (test=0.508) precision: (test=0.506) recall: (test=0.509) total time=   0.4s\n",
      "[CV 3/5] END C=0.5, kernel=rbf; accuracy: (test=0.542) f1: (test=0.535) precision: (test=0.527) recall: (test=0.543) total time=   0.4s\n",
      "[CV 4/5] END C=0.5, kernel=rbf; accuracy: (test=0.568) f1: (test=0.555) precision: (test=0.554) recall: (test=0.557) total time=   0.4s\n",
      "[CV 5/5] END C=0.5, kernel=rbf; accuracy: (test=0.561) f1: (test=0.534) precision: (test=0.551) recall: (test=0.517) total time=   0.4s\n",
      "[CV 1/5] END C=0.0, kernel=linear; accuracy: (test=nan) f1: (test=nan) precision: (test=nan) recall: (test=nan) total time=   0.0s\n",
      "[CV 2/5] END C=0.0, kernel=linear; accuracy: (test=nan) f1: (test=nan) precision: (test=nan) recall: (test=nan) total time=   0.0s\n",
      "[CV 3/5] END C=0.0, kernel=linear; accuracy: (test=nan) f1: (test=nan) precision: (test=nan) recall: (test=nan) total time=   0.0s\n",
      "[CV 4/5] END C=0.0, kernel=linear; accuracy: (test=nan) f1: (test=nan) precision: (test=nan) recall: (test=nan) total time=   0.0s\n",
      "[CV 5/5] END C=0.0, kernel=linear; accuracy: (test=nan) f1: (test=nan) precision: (test=nan) recall: (test=nan) total time=   0.0s\n",
      "[CV 1/5] END C=1.0, kernel=rbf; accuracy: (test=0.546) f1: (test=0.517) precision: (test=0.537) recall: (test=0.498) total time=   0.4s\n",
      "[CV 2/5] END C=1.0, kernel=rbf; accuracy: (test=0.527) f1: (test=0.521) precision: (test=0.513) recall: (test=0.530) total time=   0.4s\n",
      "[CV 3/5] END C=1.0, kernel=rbf; accuracy: (test=0.546) f1: (test=0.545) precision: (test=0.531) recall: (test=0.561) total time=   0.4s\n",
      "[CV 4/5] END C=1.0, kernel=rbf; accuracy: (test=0.570) f1: (test=0.571) precision: (test=0.553) recall: (test=0.591) total time=   0.3s\n",
      "[CV 5/5] END C=1.0, kernel=rbf; accuracy: (test=0.570) f1: (test=0.557) precision: (test=0.557) recall: (test=0.557) total time=   0.4s\n",
      "[CV 1/5] END C=0.0, kernel=sigmoid; accuracy: (test=nan) f1: (test=nan) precision: (test=nan) recall: (test=nan) total time=   0.0s\n",
      "[CV 2/5] END C=0.0, kernel=sigmoid; accuracy: (test=nan) f1: (test=nan) precision: (test=nan) recall: (test=nan) total time=   0.0s\n",
      "[CV 3/5] END C=0.0, kernel=sigmoid; accuracy: (test=nan) f1: (test=nan) precision: (test=nan) recall: (test=nan) total time=   0.0s\n",
      "[CV 4/5] END C=0.0, kernel=sigmoid; accuracy: (test=nan) f1: (test=nan) precision: (test=nan) recall: (test=nan) total time=   0.0s\n",
      "[CV 5/5] END C=0.0, kernel=sigmoid; accuracy: (test=nan) f1: (test=nan) precision: (test=nan) recall: (test=nan) total time=   0.0s\n",
      "[CV 1/5] END C=0.5, kernel=sigmoid; accuracy: (test=0.498) f1: (test=0.483) precision: (test=0.485) recall: (test=0.481) total time=   0.2s\n",
      "[CV 2/5] END C=0.5, kernel=sigmoid; accuracy: (test=0.513) f1: (test=0.512) precision: (test=0.498) recall: (test=0.526) total time=   0.2s\n",
      "[CV 3/5] END C=0.5, kernel=sigmoid; accuracy: (test=0.451) f1: (test=0.430) precision: (test=0.434) recall: (test=0.426) total time=   0.2s\n",
      "[CV 4/5] END C=0.5, kernel=sigmoid; accuracy: (test=0.464) f1: (test=0.441) precision: (test=0.446) recall: (test=0.435) total time=   0.3s\n",
      "[CV 5/5] END C=0.5, kernel=sigmoid; accuracy: (test=0.473) f1: (test=0.479) precision: (test=0.460) recall: (test=0.500) total time=   0.2s\n",
      "[CV 1/5] END C=2.0, kernel=sigmoid; accuracy: (test=0.502) f1: (test=0.485) precision: (test=0.489) recall: (test=0.481) total time=   0.2s\n",
      "[CV 2/5] END C=2.0, kernel=sigmoid; accuracy: (test=0.513) f1: (test=0.507) precision: (test=0.498) recall: (test=0.517) total time=   0.3s\n",
      "[CV 3/5] END C=2.0, kernel=sigmoid; accuracy: (test=0.445) f1: (test=0.417) precision: (test=0.425) recall: (test=0.409) total time=   0.2s\n",
      "[CV 4/5] END C=2.0, kernel=sigmoid; accuracy: (test=0.464) f1: (test=0.438) precision: (test=0.446) recall: (test=0.430) total time=   0.2s\n",
      "[CV 5/5] END C=2.0, kernel=sigmoid; accuracy: (test=0.483) f1: (test=0.482) precision: (test=0.469) recall: (test=0.496) total time=   0.2s\n"
     ]
    },
    {
     "name": "stderr",
     "output_type": "stream",
     "text": [
      "C:\\Users\\maxma\\anaconda3\\envs\\nlp\\lib\\site-packages\\sklearn\\model_selection\\_validation.py:425: FitFailedWarning: \n",
      "20 fits failed out of a total of 50.\n",
      "The score on these train-test partitions for these parameters will be set to nan.\n",
      "If these failures are not expected, you can try to debug them by setting error_score='raise'.\n",
      "\n",
      "Below are more details about the failures:\n",
      "--------------------------------------------------------------------------------\n",
      "20 fits failed with the following error:\n",
      "Traceback (most recent call last):\n",
      "  File \"C:\\Users\\maxma\\anaconda3\\envs\\nlp\\lib\\site-packages\\sklearn\\model_selection\\_validation.py\", line 732, in _fit_and_score\n",
      "    estimator.fit(X_train, y_train, **fit_params)\n",
      "  File \"C:\\Users\\maxma\\anaconda3\\envs\\nlp\\lib\\site-packages\\sklearn\\base.py\", line 1144, in wrapper\n",
      "    estimator._validate_params()\n",
      "  File \"C:\\Users\\maxma\\anaconda3\\envs\\nlp\\lib\\site-packages\\sklearn\\base.py\", line 637, in _validate_params\n",
      "    validate_parameter_constraints(\n",
      "  File \"C:\\Users\\maxma\\anaconda3\\envs\\nlp\\lib\\site-packages\\sklearn\\utils\\_param_validation.py\", line 95, in validate_parameter_constraints\n",
      "    raise InvalidParameterError(\n",
      "sklearn.utils._param_validation.InvalidParameterError: The 'C' parameter of SVC must be a float in the range (0.0, inf). Got 0.0 instead.\n",
      "\n",
      "  warnings.warn(some_fits_failed_message, FitFailedWarning)\n",
      "C:\\Users\\maxma\\anaconda3\\envs\\nlp\\lib\\site-packages\\sklearn\\model_selection\\_search.py:976: UserWarning: One or more of the test scores are non-finite: [0.35451158        nan        nan 0.35364201 0.51352908        nan\n",
      " 0.54739319        nan 0.4734952  0.46653868]\n",
      "  warnings.warn(\n",
      "C:\\Users\\maxma\\anaconda3\\envs\\nlp\\lib\\site-packages\\sklearn\\model_selection\\_search.py:976: UserWarning: One or more of the test scores are non-finite: [0.54838236        nan        nan 0.54721204 0.53516005        nan\n",
      " 0.53804394        nan 0.46454309 0.46546317]\n",
      "  warnings.warn(\n",
      "C:\\Users\\maxma\\anaconda3\\envs\\nlp\\lib\\site-packages\\sklearn\\model_selection\\_search.py:976: UserWarning: One or more of the test scores are non-finite: [0.54472574        nan        nan 0.54388186 0.54683544        nan\n",
      " 0.55189873        nan 0.47974684 0.4814346 ]\n",
      "  warnings.warn(\n",
      "C:\\Users\\maxma\\anaconda3\\envs\\nlp\\lib\\site-packages\\sklearn\\model_selection\\_search.py:976: UserWarning: One or more of the test scores are non-finite: [0.43003266        nan        nan 0.42908202 0.5232863         nan\n",
      " 0.54232526        nan 0.46875129 0.4658226 ]\n",
      "  warnings.warn(\n"
     ]
    },
    {
     "data": {
      "text/plain": [
       "{'kernel': 'rbf', 'C': 1.0}"
      ]
     },
     "execution_count": 30,
     "metadata": {},
     "output_type": "execute_result"
    }
   ],
   "source": [
    "# Opn\n",
    "svc = SVC()\n",
    "\n",
    "params_dict = { 'C': np.linspace(start=0, stop=2, num=5),\n",
    "                'kernel':['linear', 'poly', 'rbf', 'sigmoid']\n",
    "              }\n",
    "\n",
    "search = RandomizedSearchCV(\n",
    "         estimator=svc,\n",
    "         param_distributions=params_dict,\n",
    "         scoring = ['recall', 'precision', 'accuracy', 'f1'],\n",
    "         refit = 'f1', \n",
    "         cv= 5,\n",
    "         verbose=3)\n",
    "\n",
    "search.fit(X_train_opn_p,y_train_opn_p)\n",
    "search.best_params_"
   ]
  },
  {
   "cell_type": "markdown",
   "id": "151ac2f8",
   "metadata": {},
   "source": [
    "### Actual training and testing\n",
    "\n",
    "With the optimal parameters found, the SVM is trained on the training set and then tested for validation."
   ]
  },
  {
   "cell_type": "code",
   "execution_count": 19,
   "id": "8e233bfc",
   "metadata": {},
   "outputs": [
    {
     "name": "stdout",
     "output_type": "stream",
     "text": [
      "Accuracy: 0.50\n",
      "Precision: 0.50\n",
      "Recall: 0.93\n",
      "F1 Score: 0.65\n"
     ]
    }
   ],
   "source": [
    "# Ext\n",
    "metrics_ext_p = SVM_model(X_train_ext_p, X_test_ext_p, y_train_ext_p, y_test_ext_p, 'poly', 1.0)"
   ]
  },
  {
   "cell_type": "code",
   "execution_count": 20,
   "id": "69a2d504",
   "metadata": {},
   "outputs": [
    {
     "name": "stdout",
     "output_type": "stream",
     "text": [
      "Accuracy: 0.53\n",
      "Precision: 0.58\n",
      "Recall: 0.46\n",
      "F1 Score: 0.51\n"
     ]
    }
   ],
   "source": [
    "# Neu\n",
    "metrics_neu_p = SVM_model(X_train_neu_p, X_test_neu_p, y_train_neu_p, y_test_neu_p, 'sigmoid', 2.0)"
   ]
  },
  {
   "cell_type": "code",
   "execution_count": 21,
   "id": "8e0520ee",
   "metadata": {},
   "outputs": [
    {
     "name": "stdout",
     "output_type": "stream",
     "text": [
      "Accuracy: 0.49\n",
      "Precision: 0.49\n",
      "Recall: 0.97\n",
      "F1 Score: 0.65\n"
     ]
    }
   ],
   "source": [
    "# Agr\n",
    "metrics_agr_p = SVM_model(X_train_agr_p, X_test_agr_p, y_train_agr_p, y_test_agr_p, 'rbf', 0.5)"
   ]
  },
  {
   "cell_type": "code",
   "execution_count": 22,
   "id": "f298341f",
   "metadata": {},
   "outputs": [
    {
     "name": "stdout",
     "output_type": "stream",
     "text": [
      "Accuracy: 0.53\n",
      "Precision: 0.53\n",
      "Recall: 0.98\n",
      "F1 Score: 0.69\n"
     ]
    }
   ],
   "source": [
    "# Con\n",
    "metrics_con_p = SVM_model(X_train_con_p, X_test_con_p, y_train_con_p, y_test_con_p, 'poly', 2.0)"
   ]
  },
  {
   "cell_type": "code",
   "execution_count": 23,
   "id": "19d885c3",
   "metadata": {},
   "outputs": [
    {
     "name": "stdout",
     "output_type": "stream",
     "text": [
      "Accuracy: 0.56\n",
      "Precision: 0.53\n",
      "Recall: 0.53\n",
      "F1 Score: 0.53\n"
     ]
    }
   ],
   "source": [
    "# Opn\n",
    "metrics_opn_p = SVM_model(X_train_opn_p, X_test_opn_p, y_train_opn_p, y_test_opn_p, 'rbf', 1.0)"
   ]
  },
  {
   "cell_type": "markdown",
   "id": "e133cc83",
   "metadata": {},
   "source": [
    "## Using Bag-of-Words (BoW)\n",
    "\n",
    "Firstly Converts the texts into Bag-of-Words representation and determine the train-test splits"
   ]
  },
  {
   "cell_type": "code",
   "execution_count": 24,
   "id": "bef27d12",
   "metadata": {},
   "outputs": [],
   "source": [
    "vectorizer = CountVectorizer()\n",
    "X_b = vectorizer.fit_transform(df['TEXT'])"
   ]
  },
  {
   "cell_type": "code",
   "execution_count": 25,
   "id": "5362222d",
   "metadata": {},
   "outputs": [],
   "source": [
    "# Ext\n",
    "X_train_ext_b, X_test_ext_b, y_train_ext_b, y_test_ext_b = train_test_split(X_b, y_ext, test_size=0.2, random_state=42)\n",
    "\n",
    "# Neu\n",
    "X_train_neu_b, X_test_neu_b, y_train_neu_b, y_test_neu_b = train_test_split(X_b, y_neu, test_size=0.2, random_state=42)\n",
    "\n",
    "# Agr\n",
    "X_train_agr_b, X_test_agr_b, y_train_agr_b, y_test_agr_b = train_test_split(X_b, y_agr, test_size=0.2, random_state=42)\n",
    "\n",
    "# Con\n",
    "X_train_con_b, X_test_con_b, y_train_con_b, y_test_con_b = train_test_split(X_b, y_con, test_size=0.2, random_state=42)\n",
    "\n",
    "# Opn\n",
    "X_train_opn_b, X_test_opn_b, y_train_opn_b, y_test_opn_b = train_test_split(X_b, y_opn, test_size=0.2, random_state=42)"
   ]
  },
  {
   "cell_type": "markdown",
   "id": "29c72d6c",
   "metadata": {},
   "source": [
    "### Hyperparameter tuning\n",
    "\n",
    "In order to have the optimal SVM, a Randomized Search is done to find the 'C' and 'kernel' parameters of the SVM that yield the highest F1 score. This is done per target variable "
   ]
  },
  {
   "cell_type": "code",
   "execution_count": 26,
   "id": "e3e359ac",
   "metadata": {},
   "outputs": [
    {
     "name": "stdout",
     "output_type": "stream",
     "text": [
      "Fitting 5 folds for each of 10 candidates, totalling 50 fits\n"
     ]
    },
    {
     "ename": "KeyboardInterrupt",
     "evalue": "",
     "output_type": "error",
     "traceback": [
      "\u001b[1;31m---------------------------------------------------------------------------\u001b[0m",
      "\u001b[1;31mKeyboardInterrupt\u001b[0m                         Traceback (most recent call last)",
      "Cell \u001b[1;32mIn[26], line 16\u001b[0m\n\u001b[0;32m      4\u001b[0m params_dict \u001b[38;5;241m=\u001b[39m { \u001b[38;5;124m'\u001b[39m\u001b[38;5;124mC\u001b[39m\u001b[38;5;124m'\u001b[39m: np\u001b[38;5;241m.\u001b[39mlinspace(start\u001b[38;5;241m=\u001b[39m\u001b[38;5;241m0\u001b[39m, stop\u001b[38;5;241m=\u001b[39m\u001b[38;5;241m2\u001b[39m, num\u001b[38;5;241m=\u001b[39m\u001b[38;5;241m5\u001b[39m),\n\u001b[0;32m      5\u001b[0m                 \u001b[38;5;124m'\u001b[39m\u001b[38;5;124mkernel\u001b[39m\u001b[38;5;124m'\u001b[39m:[\u001b[38;5;124m'\u001b[39m\u001b[38;5;124mlinear\u001b[39m\u001b[38;5;124m'\u001b[39m, \u001b[38;5;124m'\u001b[39m\u001b[38;5;124mpoly\u001b[39m\u001b[38;5;124m'\u001b[39m, \u001b[38;5;124m'\u001b[39m\u001b[38;5;124mrbf\u001b[39m\u001b[38;5;124m'\u001b[39m, \u001b[38;5;124m'\u001b[39m\u001b[38;5;124msigmoid\u001b[39m\u001b[38;5;124m'\u001b[39m]\n\u001b[0;32m      6\u001b[0m               }\n\u001b[0;32m      8\u001b[0m search \u001b[38;5;241m=\u001b[39m RandomizedSearchCV(\n\u001b[0;32m      9\u001b[0m          estimator\u001b[38;5;241m=\u001b[39msvc,\n\u001b[0;32m     10\u001b[0m          param_distributions\u001b[38;5;241m=\u001b[39mparams_dict,\n\u001b[1;32m   (...)\u001b[0m\n\u001b[0;32m     13\u001b[0m          cv\u001b[38;5;241m=\u001b[39m \u001b[38;5;241m5\u001b[39m,\n\u001b[0;32m     14\u001b[0m          verbose\u001b[38;5;241m=\u001b[39m\u001b[38;5;241m3\u001b[39m)\n\u001b[1;32m---> 16\u001b[0m \u001b[43msearch\u001b[49m\u001b[38;5;241;43m.\u001b[39;49m\u001b[43mfit\u001b[49m\u001b[43m(\u001b[49m\u001b[43mX_train_ext_b\u001b[49m\u001b[43m,\u001b[49m\u001b[43my_train_ext_b\u001b[49m\u001b[43m)\u001b[49m\n\u001b[0;32m     17\u001b[0m search\u001b[38;5;241m.\u001b[39mbest_params_\n",
      "File \u001b[1;32m~\\anaconda3\\envs\\nlp\\lib\\site-packages\\sklearn\\base.py:1151\u001b[0m, in \u001b[0;36m_fit_context.<locals>.decorator.<locals>.wrapper\u001b[1;34m(estimator, *args, **kwargs)\u001b[0m\n\u001b[0;32m   1144\u001b[0m     estimator\u001b[38;5;241m.\u001b[39m_validate_params()\n\u001b[0;32m   1146\u001b[0m \u001b[38;5;28;01mwith\u001b[39;00m config_context(\n\u001b[0;32m   1147\u001b[0m     skip_parameter_validation\u001b[38;5;241m=\u001b[39m(\n\u001b[0;32m   1148\u001b[0m         prefer_skip_nested_validation \u001b[38;5;129;01mor\u001b[39;00m global_skip_validation\n\u001b[0;32m   1149\u001b[0m     )\n\u001b[0;32m   1150\u001b[0m ):\n\u001b[1;32m-> 1151\u001b[0m     \u001b[38;5;28;01mreturn\u001b[39;00m \u001b[43mfit_method\u001b[49m\u001b[43m(\u001b[49m\u001b[43mestimator\u001b[49m\u001b[43m,\u001b[49m\u001b[43m \u001b[49m\u001b[38;5;241;43m*\u001b[39;49m\u001b[43margs\u001b[49m\u001b[43m,\u001b[49m\u001b[43m \u001b[49m\u001b[38;5;241;43m*\u001b[39;49m\u001b[38;5;241;43m*\u001b[39;49m\u001b[43mkwargs\u001b[49m\u001b[43m)\u001b[49m\n",
      "File \u001b[1;32m~\\anaconda3\\envs\\nlp\\lib\\site-packages\\sklearn\\model_selection\\_search.py:898\u001b[0m, in \u001b[0;36mBaseSearchCV.fit\u001b[1;34m(self, X, y, groups, **fit_params)\u001b[0m\n\u001b[0;32m    892\u001b[0m     results \u001b[38;5;241m=\u001b[39m \u001b[38;5;28mself\u001b[39m\u001b[38;5;241m.\u001b[39m_format_results(\n\u001b[0;32m    893\u001b[0m         all_candidate_params, n_splits, all_out, all_more_results\n\u001b[0;32m    894\u001b[0m     )\n\u001b[0;32m    896\u001b[0m     \u001b[38;5;28;01mreturn\u001b[39;00m results\n\u001b[1;32m--> 898\u001b[0m \u001b[38;5;28;43mself\u001b[39;49m\u001b[38;5;241;43m.\u001b[39;49m\u001b[43m_run_search\u001b[49m\u001b[43m(\u001b[49m\u001b[43mevaluate_candidates\u001b[49m\u001b[43m)\u001b[49m\n\u001b[0;32m    900\u001b[0m \u001b[38;5;66;03m# multimetric is determined here because in the case of a callable\u001b[39;00m\n\u001b[0;32m    901\u001b[0m \u001b[38;5;66;03m# self.scoring the return type is only known after calling\u001b[39;00m\n\u001b[0;32m    902\u001b[0m first_test_score \u001b[38;5;241m=\u001b[39m all_out[\u001b[38;5;241m0\u001b[39m][\u001b[38;5;124m\"\u001b[39m\u001b[38;5;124mtest_scores\u001b[39m\u001b[38;5;124m\"\u001b[39m]\n",
      "File \u001b[1;32m~\\anaconda3\\envs\\nlp\\lib\\site-packages\\sklearn\\model_selection\\_search.py:1806\u001b[0m, in \u001b[0;36mRandomizedSearchCV._run_search\u001b[1;34m(self, evaluate_candidates)\u001b[0m\n\u001b[0;32m   1804\u001b[0m \u001b[38;5;28;01mdef\u001b[39;00m \u001b[38;5;21m_run_search\u001b[39m(\u001b[38;5;28mself\u001b[39m, evaluate_candidates):\n\u001b[0;32m   1805\u001b[0m \u001b[38;5;250m    \u001b[39m\u001b[38;5;124;03m\"\"\"Search n_iter candidates from param_distributions\"\"\"\u001b[39;00m\n\u001b[1;32m-> 1806\u001b[0m     \u001b[43mevaluate_candidates\u001b[49m\u001b[43m(\u001b[49m\n\u001b[0;32m   1807\u001b[0m \u001b[43m        \u001b[49m\u001b[43mParameterSampler\u001b[49m\u001b[43m(\u001b[49m\n\u001b[0;32m   1808\u001b[0m \u001b[43m            \u001b[49m\u001b[38;5;28;43mself\u001b[39;49m\u001b[38;5;241;43m.\u001b[39;49m\u001b[43mparam_distributions\u001b[49m\u001b[43m,\u001b[49m\u001b[43m \u001b[49m\u001b[38;5;28;43mself\u001b[39;49m\u001b[38;5;241;43m.\u001b[39;49m\u001b[43mn_iter\u001b[49m\u001b[43m,\u001b[49m\u001b[43m \u001b[49m\u001b[43mrandom_state\u001b[49m\u001b[38;5;241;43m=\u001b[39;49m\u001b[38;5;28;43mself\u001b[39;49m\u001b[38;5;241;43m.\u001b[39;49m\u001b[43mrandom_state\u001b[49m\n\u001b[0;32m   1809\u001b[0m \u001b[43m        \u001b[49m\u001b[43m)\u001b[49m\n\u001b[0;32m   1810\u001b[0m \u001b[43m    \u001b[49m\u001b[43m)\u001b[49m\n",
      "File \u001b[1;32m~\\anaconda3\\envs\\nlp\\lib\\site-packages\\sklearn\\model_selection\\_search.py:845\u001b[0m, in \u001b[0;36mBaseSearchCV.fit.<locals>.evaluate_candidates\u001b[1;34m(candidate_params, cv, more_results)\u001b[0m\n\u001b[0;32m    837\u001b[0m \u001b[38;5;28;01mif\u001b[39;00m \u001b[38;5;28mself\u001b[39m\u001b[38;5;241m.\u001b[39mverbose \u001b[38;5;241m>\u001b[39m \u001b[38;5;241m0\u001b[39m:\n\u001b[0;32m    838\u001b[0m     \u001b[38;5;28mprint\u001b[39m(\n\u001b[0;32m    839\u001b[0m         \u001b[38;5;124m\"\u001b[39m\u001b[38;5;124mFitting \u001b[39m\u001b[38;5;132;01m{0}\u001b[39;00m\u001b[38;5;124m folds for each of \u001b[39m\u001b[38;5;132;01m{1}\u001b[39;00m\u001b[38;5;124m candidates,\u001b[39m\u001b[38;5;124m\"\u001b[39m\n\u001b[0;32m    840\u001b[0m         \u001b[38;5;124m\"\u001b[39m\u001b[38;5;124m totalling \u001b[39m\u001b[38;5;132;01m{2}\u001b[39;00m\u001b[38;5;124m fits\u001b[39m\u001b[38;5;124m\"\u001b[39m\u001b[38;5;241m.\u001b[39mformat(\n\u001b[0;32m    841\u001b[0m             n_splits, n_candidates, n_candidates \u001b[38;5;241m*\u001b[39m n_splits\n\u001b[0;32m    842\u001b[0m         )\n\u001b[0;32m    843\u001b[0m     )\n\u001b[1;32m--> 845\u001b[0m out \u001b[38;5;241m=\u001b[39m \u001b[43mparallel\u001b[49m\u001b[43m(\u001b[49m\n\u001b[0;32m    846\u001b[0m \u001b[43m    \u001b[49m\u001b[43mdelayed\u001b[49m\u001b[43m(\u001b[49m\u001b[43m_fit_and_score\u001b[49m\u001b[43m)\u001b[49m\u001b[43m(\u001b[49m\n\u001b[0;32m    847\u001b[0m \u001b[43m        \u001b[49m\u001b[43mclone\u001b[49m\u001b[43m(\u001b[49m\u001b[43mbase_estimator\u001b[49m\u001b[43m)\u001b[49m\u001b[43m,\u001b[49m\n\u001b[0;32m    848\u001b[0m \u001b[43m        \u001b[49m\u001b[43mX\u001b[49m\u001b[43m,\u001b[49m\n\u001b[0;32m    849\u001b[0m \u001b[43m        \u001b[49m\u001b[43my\u001b[49m\u001b[43m,\u001b[49m\n\u001b[0;32m    850\u001b[0m \u001b[43m        \u001b[49m\u001b[43mtrain\u001b[49m\u001b[38;5;241;43m=\u001b[39;49m\u001b[43mtrain\u001b[49m\u001b[43m,\u001b[49m\n\u001b[0;32m    851\u001b[0m \u001b[43m        \u001b[49m\u001b[43mtest\u001b[49m\u001b[38;5;241;43m=\u001b[39;49m\u001b[43mtest\u001b[49m\u001b[43m,\u001b[49m\n\u001b[0;32m    852\u001b[0m \u001b[43m        \u001b[49m\u001b[43mparameters\u001b[49m\u001b[38;5;241;43m=\u001b[39;49m\u001b[43mparameters\u001b[49m\u001b[43m,\u001b[49m\n\u001b[0;32m    853\u001b[0m \u001b[43m        \u001b[49m\u001b[43msplit_progress\u001b[49m\u001b[38;5;241;43m=\u001b[39;49m\u001b[43m(\u001b[49m\u001b[43msplit_idx\u001b[49m\u001b[43m,\u001b[49m\u001b[43m \u001b[49m\u001b[43mn_splits\u001b[49m\u001b[43m)\u001b[49m\u001b[43m,\u001b[49m\n\u001b[0;32m    854\u001b[0m \u001b[43m        \u001b[49m\u001b[43mcandidate_progress\u001b[49m\u001b[38;5;241;43m=\u001b[39;49m\u001b[43m(\u001b[49m\u001b[43mcand_idx\u001b[49m\u001b[43m,\u001b[49m\u001b[43m \u001b[49m\u001b[43mn_candidates\u001b[49m\u001b[43m)\u001b[49m\u001b[43m,\u001b[49m\n\u001b[0;32m    855\u001b[0m \u001b[43m        \u001b[49m\u001b[38;5;241;43m*\u001b[39;49m\u001b[38;5;241;43m*\u001b[39;49m\u001b[43mfit_and_score_kwargs\u001b[49m\u001b[43m,\u001b[49m\n\u001b[0;32m    856\u001b[0m \u001b[43m    \u001b[49m\u001b[43m)\u001b[49m\n\u001b[0;32m    857\u001b[0m \u001b[43m    \u001b[49m\u001b[38;5;28;43;01mfor\u001b[39;49;00m\u001b[43m \u001b[49m\u001b[43m(\u001b[49m\u001b[43mcand_idx\u001b[49m\u001b[43m,\u001b[49m\u001b[43m \u001b[49m\u001b[43mparameters\u001b[49m\u001b[43m)\u001b[49m\u001b[43m,\u001b[49m\u001b[43m \u001b[49m\u001b[43m(\u001b[49m\u001b[43msplit_idx\u001b[49m\u001b[43m,\u001b[49m\u001b[43m \u001b[49m\u001b[43m(\u001b[49m\u001b[43mtrain\u001b[49m\u001b[43m,\u001b[49m\u001b[43m \u001b[49m\u001b[43mtest\u001b[49m\u001b[43m)\u001b[49m\u001b[43m)\u001b[49m\u001b[43m \u001b[49m\u001b[38;5;129;43;01min\u001b[39;49;00m\u001b[43m \u001b[49m\u001b[43mproduct\u001b[49m\u001b[43m(\u001b[49m\n\u001b[0;32m    858\u001b[0m \u001b[43m        \u001b[49m\u001b[38;5;28;43menumerate\u001b[39;49m\u001b[43m(\u001b[49m\u001b[43mcandidate_params\u001b[49m\u001b[43m)\u001b[49m\u001b[43m,\u001b[49m\u001b[43m \u001b[49m\u001b[38;5;28;43menumerate\u001b[39;49m\u001b[43m(\u001b[49m\u001b[43mcv\u001b[49m\u001b[38;5;241;43m.\u001b[39;49m\u001b[43msplit\u001b[49m\u001b[43m(\u001b[49m\u001b[43mX\u001b[49m\u001b[43m,\u001b[49m\u001b[43m \u001b[49m\u001b[43my\u001b[49m\u001b[43m,\u001b[49m\u001b[43m \u001b[49m\u001b[43mgroups\u001b[49m\u001b[43m)\u001b[49m\u001b[43m)\u001b[49m\n\u001b[0;32m    859\u001b[0m \u001b[43m    \u001b[49m\u001b[43m)\u001b[49m\n\u001b[0;32m    860\u001b[0m \u001b[43m\u001b[49m\u001b[43m)\u001b[49m\n\u001b[0;32m    862\u001b[0m \u001b[38;5;28;01mif\u001b[39;00m \u001b[38;5;28mlen\u001b[39m(out) \u001b[38;5;241m<\u001b[39m \u001b[38;5;241m1\u001b[39m:\n\u001b[0;32m    863\u001b[0m     \u001b[38;5;28;01mraise\u001b[39;00m \u001b[38;5;167;01mValueError\u001b[39;00m(\n\u001b[0;32m    864\u001b[0m         \u001b[38;5;124m\"\u001b[39m\u001b[38;5;124mNo fits were performed. \u001b[39m\u001b[38;5;124m\"\u001b[39m\n\u001b[0;32m    865\u001b[0m         \u001b[38;5;124m\"\u001b[39m\u001b[38;5;124mWas the CV iterator empty? \u001b[39m\u001b[38;5;124m\"\u001b[39m\n\u001b[0;32m    866\u001b[0m         \u001b[38;5;124m\"\u001b[39m\u001b[38;5;124mWere there no candidates?\u001b[39m\u001b[38;5;124m\"\u001b[39m\n\u001b[0;32m    867\u001b[0m     )\n",
      "File \u001b[1;32m~\\anaconda3\\envs\\nlp\\lib\\site-packages\\sklearn\\utils\\parallel.py:65\u001b[0m, in \u001b[0;36mParallel.__call__\u001b[1;34m(self, iterable)\u001b[0m\n\u001b[0;32m     60\u001b[0m config \u001b[38;5;241m=\u001b[39m get_config()\n\u001b[0;32m     61\u001b[0m iterable_with_config \u001b[38;5;241m=\u001b[39m (\n\u001b[0;32m     62\u001b[0m     (_with_config(delayed_func, config), args, kwargs)\n\u001b[0;32m     63\u001b[0m     \u001b[38;5;28;01mfor\u001b[39;00m delayed_func, args, kwargs \u001b[38;5;129;01min\u001b[39;00m iterable\n\u001b[0;32m     64\u001b[0m )\n\u001b[1;32m---> 65\u001b[0m \u001b[38;5;28;01mreturn\u001b[39;00m \u001b[38;5;28;43msuper\u001b[39;49m\u001b[43m(\u001b[49m\u001b[43m)\u001b[49m\u001b[38;5;241;43m.\u001b[39;49m\u001b[38;5;21;43m__call__\u001b[39;49m\u001b[43m(\u001b[49m\u001b[43miterable_with_config\u001b[49m\u001b[43m)\u001b[49m\n",
      "File \u001b[1;32m~\\AppData\\Roaming\\Python\\Python38\\site-packages\\joblib\\parallel.py:1863\u001b[0m, in \u001b[0;36mParallel.__call__\u001b[1;34m(self, iterable)\u001b[0m\n\u001b[0;32m   1861\u001b[0m     output \u001b[38;5;241m=\u001b[39m \u001b[38;5;28mself\u001b[39m\u001b[38;5;241m.\u001b[39m_get_sequential_output(iterable)\n\u001b[0;32m   1862\u001b[0m     \u001b[38;5;28mnext\u001b[39m(output)\n\u001b[1;32m-> 1863\u001b[0m     \u001b[38;5;28;01mreturn\u001b[39;00m output \u001b[38;5;28;01mif\u001b[39;00m \u001b[38;5;28mself\u001b[39m\u001b[38;5;241m.\u001b[39mreturn_generator \u001b[38;5;28;01melse\u001b[39;00m \u001b[38;5;28;43mlist\u001b[39;49m\u001b[43m(\u001b[49m\u001b[43moutput\u001b[49m\u001b[43m)\u001b[49m\n\u001b[0;32m   1865\u001b[0m \u001b[38;5;66;03m# Let's create an ID that uniquely identifies the current call. If the\u001b[39;00m\n\u001b[0;32m   1866\u001b[0m \u001b[38;5;66;03m# call is interrupted early and that the same instance is immediately\u001b[39;00m\n\u001b[0;32m   1867\u001b[0m \u001b[38;5;66;03m# re-used, this id will be used to prevent workers that were\u001b[39;00m\n\u001b[0;32m   1868\u001b[0m \u001b[38;5;66;03m# concurrently finalizing a task from the previous call to run the\u001b[39;00m\n\u001b[0;32m   1869\u001b[0m \u001b[38;5;66;03m# callback.\u001b[39;00m\n\u001b[0;32m   1870\u001b[0m \u001b[38;5;28;01mwith\u001b[39;00m \u001b[38;5;28mself\u001b[39m\u001b[38;5;241m.\u001b[39m_lock:\n",
      "File \u001b[1;32m~\\AppData\\Roaming\\Python\\Python38\\site-packages\\joblib\\parallel.py:1792\u001b[0m, in \u001b[0;36mParallel._get_sequential_output\u001b[1;34m(self, iterable)\u001b[0m\n\u001b[0;32m   1790\u001b[0m \u001b[38;5;28mself\u001b[39m\u001b[38;5;241m.\u001b[39mn_dispatched_batches \u001b[38;5;241m+\u001b[39m\u001b[38;5;241m=\u001b[39m \u001b[38;5;241m1\u001b[39m\n\u001b[0;32m   1791\u001b[0m \u001b[38;5;28mself\u001b[39m\u001b[38;5;241m.\u001b[39mn_dispatched_tasks \u001b[38;5;241m+\u001b[39m\u001b[38;5;241m=\u001b[39m \u001b[38;5;241m1\u001b[39m\n\u001b[1;32m-> 1792\u001b[0m res \u001b[38;5;241m=\u001b[39m \u001b[43mfunc\u001b[49m\u001b[43m(\u001b[49m\u001b[38;5;241;43m*\u001b[39;49m\u001b[43margs\u001b[49m\u001b[43m,\u001b[49m\u001b[43m \u001b[49m\u001b[38;5;241;43m*\u001b[39;49m\u001b[38;5;241;43m*\u001b[39;49m\u001b[43mkwargs\u001b[49m\u001b[43m)\u001b[49m\n\u001b[0;32m   1793\u001b[0m \u001b[38;5;28mself\u001b[39m\u001b[38;5;241m.\u001b[39mn_completed_tasks \u001b[38;5;241m+\u001b[39m\u001b[38;5;241m=\u001b[39m \u001b[38;5;241m1\u001b[39m\n\u001b[0;32m   1794\u001b[0m \u001b[38;5;28mself\u001b[39m\u001b[38;5;241m.\u001b[39mprint_progress()\n",
      "File \u001b[1;32m~\\anaconda3\\envs\\nlp\\lib\\site-packages\\sklearn\\utils\\parallel.py:127\u001b[0m, in \u001b[0;36m_FuncWrapper.__call__\u001b[1;34m(self, *args, **kwargs)\u001b[0m\n\u001b[0;32m    125\u001b[0m     config \u001b[38;5;241m=\u001b[39m {}\n\u001b[0;32m    126\u001b[0m \u001b[38;5;28;01mwith\u001b[39;00m config_context(\u001b[38;5;241m*\u001b[39m\u001b[38;5;241m*\u001b[39mconfig):\n\u001b[1;32m--> 127\u001b[0m     \u001b[38;5;28;01mreturn\u001b[39;00m \u001b[38;5;28;43mself\u001b[39;49m\u001b[38;5;241;43m.\u001b[39;49m\u001b[43mfunction\u001b[49m\u001b[43m(\u001b[49m\u001b[38;5;241;43m*\u001b[39;49m\u001b[43margs\u001b[49m\u001b[43m,\u001b[49m\u001b[43m \u001b[49m\u001b[38;5;241;43m*\u001b[39;49m\u001b[38;5;241;43m*\u001b[39;49m\u001b[43mkwargs\u001b[49m\u001b[43m)\u001b[49m\n",
      "File \u001b[1;32m~\\anaconda3\\envs\\nlp\\lib\\site-packages\\sklearn\\model_selection\\_validation.py:732\u001b[0m, in \u001b[0;36m_fit_and_score\u001b[1;34m(estimator, X, y, scorer, train, test, verbose, parameters, fit_params, return_train_score, return_parameters, return_n_test_samples, return_times, return_estimator, split_progress, candidate_progress, error_score)\u001b[0m\n\u001b[0;32m    730\u001b[0m         estimator\u001b[38;5;241m.\u001b[39mfit(X_train, \u001b[38;5;241m*\u001b[39m\u001b[38;5;241m*\u001b[39mfit_params)\n\u001b[0;32m    731\u001b[0m     \u001b[38;5;28;01melse\u001b[39;00m:\n\u001b[1;32m--> 732\u001b[0m         \u001b[43mestimator\u001b[49m\u001b[38;5;241;43m.\u001b[39;49m\u001b[43mfit\u001b[49m\u001b[43m(\u001b[49m\u001b[43mX_train\u001b[49m\u001b[43m,\u001b[49m\u001b[43m \u001b[49m\u001b[43my_train\u001b[49m\u001b[43m,\u001b[49m\u001b[43m \u001b[49m\u001b[38;5;241;43m*\u001b[39;49m\u001b[38;5;241;43m*\u001b[39;49m\u001b[43mfit_params\u001b[49m\u001b[43m)\u001b[49m\n\u001b[0;32m    734\u001b[0m \u001b[38;5;28;01mexcept\u001b[39;00m \u001b[38;5;167;01mException\u001b[39;00m:\n\u001b[0;32m    735\u001b[0m     \u001b[38;5;66;03m# Note fit time as time until error\u001b[39;00m\n\u001b[0;32m    736\u001b[0m     fit_time \u001b[38;5;241m=\u001b[39m time\u001b[38;5;241m.\u001b[39mtime() \u001b[38;5;241m-\u001b[39m start_time\n",
      "File \u001b[1;32m~\\anaconda3\\envs\\nlp\\lib\\site-packages\\sklearn\\base.py:1151\u001b[0m, in \u001b[0;36m_fit_context.<locals>.decorator.<locals>.wrapper\u001b[1;34m(estimator, *args, **kwargs)\u001b[0m\n\u001b[0;32m   1144\u001b[0m     estimator\u001b[38;5;241m.\u001b[39m_validate_params()\n\u001b[0;32m   1146\u001b[0m \u001b[38;5;28;01mwith\u001b[39;00m config_context(\n\u001b[0;32m   1147\u001b[0m     skip_parameter_validation\u001b[38;5;241m=\u001b[39m(\n\u001b[0;32m   1148\u001b[0m         prefer_skip_nested_validation \u001b[38;5;129;01mor\u001b[39;00m global_skip_validation\n\u001b[0;32m   1149\u001b[0m     )\n\u001b[0;32m   1150\u001b[0m ):\n\u001b[1;32m-> 1151\u001b[0m     \u001b[38;5;28;01mreturn\u001b[39;00m \u001b[43mfit_method\u001b[49m\u001b[43m(\u001b[49m\u001b[43mestimator\u001b[49m\u001b[43m,\u001b[49m\u001b[43m \u001b[49m\u001b[38;5;241;43m*\u001b[39;49m\u001b[43margs\u001b[49m\u001b[43m,\u001b[49m\u001b[43m \u001b[49m\u001b[38;5;241;43m*\u001b[39;49m\u001b[38;5;241;43m*\u001b[39;49m\u001b[43mkwargs\u001b[49m\u001b[43m)\u001b[49m\n",
      "File \u001b[1;32m~\\anaconda3\\envs\\nlp\\lib\\site-packages\\sklearn\\svm\\_base.py:250\u001b[0m, in \u001b[0;36mBaseLibSVM.fit\u001b[1;34m(self, X, y, sample_weight)\u001b[0m\n\u001b[0;32m    247\u001b[0m     \u001b[38;5;28mprint\u001b[39m(\u001b[38;5;124m\"\u001b[39m\u001b[38;5;124m[LibSVM]\u001b[39m\u001b[38;5;124m\"\u001b[39m, end\u001b[38;5;241m=\u001b[39m\u001b[38;5;124m\"\u001b[39m\u001b[38;5;124m\"\u001b[39m)\n\u001b[0;32m    249\u001b[0m seed \u001b[38;5;241m=\u001b[39m rnd\u001b[38;5;241m.\u001b[39mrandint(np\u001b[38;5;241m.\u001b[39miinfo(\u001b[38;5;124m\"\u001b[39m\u001b[38;5;124mi\u001b[39m\u001b[38;5;124m\"\u001b[39m)\u001b[38;5;241m.\u001b[39mmax)\n\u001b[1;32m--> 250\u001b[0m \u001b[43mfit\u001b[49m\u001b[43m(\u001b[49m\u001b[43mX\u001b[49m\u001b[43m,\u001b[49m\u001b[43m \u001b[49m\u001b[43my\u001b[49m\u001b[43m,\u001b[49m\u001b[43m \u001b[49m\u001b[43msample_weight\u001b[49m\u001b[43m,\u001b[49m\u001b[43m \u001b[49m\u001b[43msolver_type\u001b[49m\u001b[43m,\u001b[49m\u001b[43m \u001b[49m\u001b[43mkernel\u001b[49m\u001b[43m,\u001b[49m\u001b[43m \u001b[49m\u001b[43mrandom_seed\u001b[49m\u001b[38;5;241;43m=\u001b[39;49m\u001b[43mseed\u001b[49m\u001b[43m)\u001b[49m\n\u001b[0;32m    251\u001b[0m \u001b[38;5;66;03m# see comment on the other call to np.iinfo in this file\u001b[39;00m\n\u001b[0;32m    253\u001b[0m \u001b[38;5;28mself\u001b[39m\u001b[38;5;241m.\u001b[39mshape_fit_ \u001b[38;5;241m=\u001b[39m X\u001b[38;5;241m.\u001b[39mshape \u001b[38;5;28;01mif\u001b[39;00m \u001b[38;5;28mhasattr\u001b[39m(X, \u001b[38;5;124m\"\u001b[39m\u001b[38;5;124mshape\u001b[39m\u001b[38;5;124m\"\u001b[39m) \u001b[38;5;28;01melse\u001b[39;00m (n_samples,)\n",
      "File \u001b[1;32m~\\anaconda3\\envs\\nlp\\lib\\site-packages\\sklearn\\svm\\_base.py:371\u001b[0m, in \u001b[0;36mBaseLibSVM._sparse_fit\u001b[1;34m(self, X, y, sample_weight, solver_type, kernel, random_seed)\u001b[0m\n\u001b[0;32m    357\u001b[0m kernel_type \u001b[38;5;241m=\u001b[39m \u001b[38;5;28mself\u001b[39m\u001b[38;5;241m.\u001b[39m_sparse_kernels\u001b[38;5;241m.\u001b[39mindex(kernel)\n\u001b[0;32m    359\u001b[0m libsvm_sparse\u001b[38;5;241m.\u001b[39mset_verbosity_wrap(\u001b[38;5;28mself\u001b[39m\u001b[38;5;241m.\u001b[39mverbose)\n\u001b[0;32m    361\u001b[0m (\n\u001b[0;32m    362\u001b[0m     \u001b[38;5;28mself\u001b[39m\u001b[38;5;241m.\u001b[39msupport_,\n\u001b[0;32m    363\u001b[0m     \u001b[38;5;28mself\u001b[39m\u001b[38;5;241m.\u001b[39msupport_vectors_,\n\u001b[0;32m    364\u001b[0m     dual_coef_data,\n\u001b[0;32m    365\u001b[0m     \u001b[38;5;28mself\u001b[39m\u001b[38;5;241m.\u001b[39mintercept_,\n\u001b[0;32m    366\u001b[0m     \u001b[38;5;28mself\u001b[39m\u001b[38;5;241m.\u001b[39m_n_support,\n\u001b[0;32m    367\u001b[0m     \u001b[38;5;28mself\u001b[39m\u001b[38;5;241m.\u001b[39m_probA,\n\u001b[0;32m    368\u001b[0m     \u001b[38;5;28mself\u001b[39m\u001b[38;5;241m.\u001b[39m_probB,\n\u001b[0;32m    369\u001b[0m     \u001b[38;5;28mself\u001b[39m\u001b[38;5;241m.\u001b[39mfit_status_,\n\u001b[0;32m    370\u001b[0m     \u001b[38;5;28mself\u001b[39m\u001b[38;5;241m.\u001b[39m_num_iter,\n\u001b[1;32m--> 371\u001b[0m ) \u001b[38;5;241m=\u001b[39m \u001b[43mlibsvm_sparse\u001b[49m\u001b[38;5;241;43m.\u001b[39;49m\u001b[43mlibsvm_sparse_train\u001b[49m\u001b[43m(\u001b[49m\n\u001b[0;32m    372\u001b[0m \u001b[43m    \u001b[49m\u001b[43mX\u001b[49m\u001b[38;5;241;43m.\u001b[39;49m\u001b[43mshape\u001b[49m\u001b[43m[\u001b[49m\u001b[38;5;241;43m1\u001b[39;49m\u001b[43m]\u001b[49m\u001b[43m,\u001b[49m\n\u001b[0;32m    373\u001b[0m \u001b[43m    \u001b[49m\u001b[43mX\u001b[49m\u001b[38;5;241;43m.\u001b[39;49m\u001b[43mdata\u001b[49m\u001b[43m,\u001b[49m\n\u001b[0;32m    374\u001b[0m \u001b[43m    \u001b[49m\u001b[43mX\u001b[49m\u001b[38;5;241;43m.\u001b[39;49m\u001b[43mindices\u001b[49m\u001b[43m,\u001b[49m\n\u001b[0;32m    375\u001b[0m \u001b[43m    \u001b[49m\u001b[43mX\u001b[49m\u001b[38;5;241;43m.\u001b[39;49m\u001b[43mindptr\u001b[49m\u001b[43m,\u001b[49m\n\u001b[0;32m    376\u001b[0m \u001b[43m    \u001b[49m\u001b[43my\u001b[49m\u001b[43m,\u001b[49m\n\u001b[0;32m    377\u001b[0m \u001b[43m    \u001b[49m\u001b[43msolver_type\u001b[49m\u001b[43m,\u001b[49m\n\u001b[0;32m    378\u001b[0m \u001b[43m    \u001b[49m\u001b[43mkernel_type\u001b[49m\u001b[43m,\u001b[49m\n\u001b[0;32m    379\u001b[0m \u001b[43m    \u001b[49m\u001b[38;5;28;43mself\u001b[39;49m\u001b[38;5;241;43m.\u001b[39;49m\u001b[43mdegree\u001b[49m\u001b[43m,\u001b[49m\n\u001b[0;32m    380\u001b[0m \u001b[43m    \u001b[49m\u001b[38;5;28;43mself\u001b[39;49m\u001b[38;5;241;43m.\u001b[39;49m\u001b[43m_gamma\u001b[49m\u001b[43m,\u001b[49m\n\u001b[0;32m    381\u001b[0m \u001b[43m    \u001b[49m\u001b[38;5;28;43mself\u001b[39;49m\u001b[38;5;241;43m.\u001b[39;49m\u001b[43mcoef0\u001b[49m\u001b[43m,\u001b[49m\n\u001b[0;32m    382\u001b[0m \u001b[43m    \u001b[49m\u001b[38;5;28;43mself\u001b[39;49m\u001b[38;5;241;43m.\u001b[39;49m\u001b[43mtol\u001b[49m\u001b[43m,\u001b[49m\n\u001b[0;32m    383\u001b[0m \u001b[43m    \u001b[49m\u001b[38;5;28;43mself\u001b[39;49m\u001b[38;5;241;43m.\u001b[39;49m\u001b[43mC\u001b[49m\u001b[43m,\u001b[49m\n\u001b[0;32m    384\u001b[0m \u001b[43m    \u001b[49m\u001b[38;5;66;43;03m# TODO(1.4): Replace \"_class_weight\" with \"class_weight_\"\u001b[39;49;00m\n\u001b[0;32m    385\u001b[0m \u001b[43m    \u001b[49m\u001b[38;5;28;43mgetattr\u001b[39;49m\u001b[43m(\u001b[49m\u001b[38;5;28;43mself\u001b[39;49m\u001b[43m,\u001b[49m\u001b[43m \u001b[49m\u001b[38;5;124;43m\"\u001b[39;49m\u001b[38;5;124;43m_class_weight\u001b[39;49m\u001b[38;5;124;43m\"\u001b[39;49m\u001b[43m,\u001b[49m\u001b[43m \u001b[49m\u001b[43mnp\u001b[49m\u001b[38;5;241;43m.\u001b[39;49m\u001b[43mempty\u001b[49m\u001b[43m(\u001b[49m\u001b[38;5;241;43m0\u001b[39;49m\u001b[43m)\u001b[49m\u001b[43m)\u001b[49m\u001b[43m,\u001b[49m\n\u001b[0;32m    386\u001b[0m \u001b[43m    \u001b[49m\u001b[43msample_weight\u001b[49m\u001b[43m,\u001b[49m\n\u001b[0;32m    387\u001b[0m \u001b[43m    \u001b[49m\u001b[38;5;28;43mself\u001b[39;49m\u001b[38;5;241;43m.\u001b[39;49m\u001b[43mnu\u001b[49m\u001b[43m,\u001b[49m\n\u001b[0;32m    388\u001b[0m \u001b[43m    \u001b[49m\u001b[38;5;28;43mself\u001b[39;49m\u001b[38;5;241;43m.\u001b[39;49m\u001b[43mcache_size\u001b[49m\u001b[43m,\u001b[49m\n\u001b[0;32m    389\u001b[0m \u001b[43m    \u001b[49m\u001b[38;5;28;43mself\u001b[39;49m\u001b[38;5;241;43m.\u001b[39;49m\u001b[43mepsilon\u001b[49m\u001b[43m,\u001b[49m\n\u001b[0;32m    390\u001b[0m \u001b[43m    \u001b[49m\u001b[38;5;28;43mint\u001b[39;49m\u001b[43m(\u001b[49m\u001b[38;5;28;43mself\u001b[39;49m\u001b[38;5;241;43m.\u001b[39;49m\u001b[43mshrinking\u001b[49m\u001b[43m)\u001b[49m\u001b[43m,\u001b[49m\n\u001b[0;32m    391\u001b[0m \u001b[43m    \u001b[49m\u001b[38;5;28;43mint\u001b[39;49m\u001b[43m(\u001b[49m\u001b[38;5;28;43mself\u001b[39;49m\u001b[38;5;241;43m.\u001b[39;49m\u001b[43mprobability\u001b[49m\u001b[43m)\u001b[49m\u001b[43m,\u001b[49m\n\u001b[0;32m    392\u001b[0m \u001b[43m    \u001b[49m\u001b[38;5;28;43mself\u001b[39;49m\u001b[38;5;241;43m.\u001b[39;49m\u001b[43mmax_iter\u001b[49m\u001b[43m,\u001b[49m\n\u001b[0;32m    393\u001b[0m \u001b[43m    \u001b[49m\u001b[43mrandom_seed\u001b[49m\u001b[43m,\u001b[49m\n\u001b[0;32m    394\u001b[0m \u001b[43m\u001b[49m\u001b[43m)\u001b[49m\n\u001b[0;32m    396\u001b[0m \u001b[38;5;28mself\u001b[39m\u001b[38;5;241m.\u001b[39m_warn_from_fit_status()\n\u001b[0;32m    398\u001b[0m \u001b[38;5;28;01mif\u001b[39;00m \u001b[38;5;28mhasattr\u001b[39m(\u001b[38;5;28mself\u001b[39m, \u001b[38;5;124m\"\u001b[39m\u001b[38;5;124mclasses_\u001b[39m\u001b[38;5;124m\"\u001b[39m):\n",
      "File \u001b[1;32msklearn\\svm\\_libsvm_sparse.pyx:219\u001b[0m, in \u001b[0;36msklearn.svm._libsvm_sparse.libsvm_sparse_train\u001b[1;34m()\u001b[0m\n",
      "File \u001b[1;32m~\\anaconda3\\envs\\nlp\\lib\\site-packages\\scipy\\sparse\\_compressed.py:26\u001b[0m, in \u001b[0;36m_cs_matrix.__init__\u001b[1;34m(self, arg1, shape, dtype, copy)\u001b[0m\n\u001b[0;32m     23\u001b[0m \u001b[38;5;28;01mclass\u001b[39;00m \u001b[38;5;21;01m_cs_matrix\u001b[39;00m(_data_matrix, _minmax_mixin, IndexMixin):\n\u001b[0;32m     24\u001b[0m \u001b[38;5;250m    \u001b[39m\u001b[38;5;124;03m\"\"\"base matrix class for compressed row- and column-oriented matrices\"\"\"\u001b[39;00m\n\u001b[1;32m---> 26\u001b[0m     \u001b[38;5;28;01mdef\u001b[39;00m \u001b[38;5;21m__init__\u001b[39m(\u001b[38;5;28mself\u001b[39m, arg1, shape\u001b[38;5;241m=\u001b[39m\u001b[38;5;28;01mNone\u001b[39;00m, dtype\u001b[38;5;241m=\u001b[39m\u001b[38;5;28;01mNone\u001b[39;00m, copy\u001b[38;5;241m=\u001b[39m\u001b[38;5;28;01mFalse\u001b[39;00m):\n\u001b[0;32m     27\u001b[0m         _data_matrix\u001b[38;5;241m.\u001b[39m\u001b[38;5;21m__init__\u001b[39m(\u001b[38;5;28mself\u001b[39m)\n\u001b[0;32m     29\u001b[0m         \u001b[38;5;28;01mif\u001b[39;00m isspmatrix(arg1):\n",
      "\u001b[1;31mKeyboardInterrupt\u001b[0m: "
     ]
    }
   ],
   "source": [
    "# Ext\n",
    "svc = SVC()\n",
    "\n",
    "params_dict = { 'C': np.linspace(start=0, stop=2, num=5),\n",
    "                'kernel':['linear', 'poly', 'rbf', 'sigmoid']\n",
    "              }\n",
    "\n",
    "search = RandomizedSearchCV(\n",
    "         estimator=svc,\n",
    "         param_distributions=params_dict,\n",
    "         scoring = ['recall', 'precision', 'accuracy', 'f1'],\n",
    "         refit = 'f1', \n",
    "         cv= 5,\n",
    "         verbose=3)\n",
    "\n",
    "search.fit(X_train_ext_b,y_train_ext_b)\n",
    "search.best_params_"
   ]
  },
  {
   "cell_type": "code",
   "execution_count": 39,
   "id": "45c66032",
   "metadata": {},
   "outputs": [
    {
     "name": "stdout",
     "output_type": "stream",
     "text": [
      "Fitting 5 folds for each of 10 candidates, totalling 50 fits\n",
      "[CV 1/5] END C=0.5, kernel=rbf; accuracy: (test=0.591) f1: (test=0.505) precision: (test=0.619) recall: (test=0.427) total time=  11.4s\n",
      "[CV 2/5] END C=0.5, kernel=rbf; accuracy: (test=0.532) f1: (test=0.437) precision: (test=0.531) recall: (test=0.371) total time=   9.9s\n",
      "[CV 3/5] END C=0.5, kernel=rbf; accuracy: (test=0.551) f1: (test=0.432) precision: (test=0.566) recall: (test=0.349) total time=   9.9s\n",
      "[CV 4/5] END C=0.5, kernel=rbf; accuracy: (test=0.561) f1: (test=0.453) precision: (test=0.585) recall: (test=0.369) total time=   9.6s\n",
      "[CV 5/5] END C=0.5, kernel=rbf; accuracy: (test=0.559) f1: (test=0.457) precision: (test=0.579) recall: (test=0.378) total time=   9.1s\n",
      "[CV 1/5] END C=0.5, kernel=sigmoid; accuracy: (test=0.515) f1: (test=0.500) precision: (test=0.504) recall: (test=0.496) total time=   9.2s\n",
      "[CV 2/5] END C=0.5, kernel=sigmoid; accuracy: (test=0.542) f1: (test=0.512) precision: (test=0.535) recall: (test=0.491) total time=   9.2s\n",
      "[CV 3/5] END C=0.5, kernel=sigmoid; accuracy: (test=0.523) f1: (test=0.515) precision: (test=0.513) recall: (test=0.517) total time=   9.4s\n",
      "[CV 4/5] END C=0.5, kernel=sigmoid; accuracy: (test=0.536) f1: (test=0.526) precision: (test=0.528) recall: (test=0.524) total time=   9.9s\n",
      "[CV 5/5] END C=0.5, kernel=sigmoid; accuracy: (test=0.519) f1: (test=0.496) precision: (test=0.511) recall: (test=0.481) total time=  10.8s\n",
      "[CV 1/5] END C=2.0, kernel=rbf; accuracy: (test=0.557) f1: (test=0.537) precision: (test=0.550) recall: (test=0.526) total time=   9.6s\n",
      "[CV 2/5] END C=2.0, kernel=rbf; accuracy: (test=0.494) f1: (test=0.485) precision: (test=0.483) recall: (test=0.487) total time=   9.4s\n",
      "[CV 3/5] END C=2.0, kernel=rbf; accuracy: (test=0.555) f1: (test=0.556) precision: (test=0.543) recall: (test=0.569) total time=  13.8s\n",
      "[CV 4/5] END C=2.0, kernel=rbf; accuracy: (test=0.572) f1: (test=0.522) precision: (test=0.578) recall: (test=0.476) total time=  12.1s\n",
      "[CV 5/5] END C=2.0, kernel=rbf; accuracy: (test=0.578) f1: (test=0.558) precision: (test=0.575) recall: (test=0.541) total time=   9.6s\n",
      "[CV 1/5] END C=1.5, kernel=rbf; accuracy: (test=0.586) f1: (test=0.555) precision: (test=0.587) recall: (test=0.526) total time=   9.8s\n",
      "[CV 2/5] END C=1.5, kernel=rbf; accuracy: (test=0.494) f1: (test=0.478) precision: (test=0.482) recall: (test=0.474) total time=   9.4s\n",
      "[CV 3/5] END C=1.5, kernel=rbf; accuracy: (test=0.576) f1: (test=0.564) precision: (test=0.568) recall: (test=0.560) total time=   8.9s\n",
      "[CV 4/5] END C=1.5, kernel=rbf; accuracy: (test=0.555) f1: (test=0.496) precision: (test=0.559) recall: (test=0.446) total time=   9.2s\n",
      "[CV 5/5] END C=1.5, kernel=rbf; accuracy: (test=0.559) f1: (test=0.524) precision: (test=0.558) recall: (test=0.494) total time=   9.5s\n",
      "[CV 1/5] END C=2.0, kernel=linear; accuracy: (test=0.542) f1: (test=0.529) precision: (test=0.533) recall: (test=0.526) total time=   9.3s\n",
      "[CV 2/5] END C=2.0, kernel=linear; accuracy: (test=0.517) f1: (test=0.497) precision: (test=0.507) recall: (test=0.487) total time=  10.5s\n",
      "[CV 3/5] END C=2.0, kernel=linear; accuracy: (test=0.542) f1: (test=0.547) precision: (test=0.530) recall: (test=0.565) total time=   9.3s\n",
      "[CV 4/5] END C=2.0, kernel=linear; accuracy: (test=0.546) f1: (test=0.553) precision: (test=0.536) recall: (test=0.571) total time=   9.6s\n",
      "[CV 5/5] END C=2.0, kernel=linear; accuracy: (test=0.506) f1: (test=0.473) precision: (test=0.498) recall: (test=0.451) total time=  11.1s\n",
      "[CV 1/5] END C=2.0, kernel=poly; accuracy: (test=0.559) f1: (test=0.357) precision: (test=0.624) recall: (test=0.250) total time=  10.1s\n",
      "[CV 2/5] END C=2.0, kernel=poly; accuracy: (test=0.519) f1: (test=0.274) precision: (test=0.524) recall: (test=0.185) total time=   9.8s\n",
      "[CV 3/5] END C=2.0, kernel=poly; accuracy: (test=0.542) f1: (test=0.293) precision: (test=0.600) recall: (test=0.194) total time=   9.9s\n",
      "[CV 4/5] END C=2.0, kernel=poly; accuracy: (test=0.525) f1: (test=0.299) precision: (test=0.545) recall: (test=0.206) total time=   8.9s\n",
      "[CV 5/5] END C=2.0, kernel=poly; accuracy: (test=0.553) f1: (test=0.325) precision: (test=0.630) recall: (test=0.219) total time=   8.7s\n",
      "[CV 1/5] END C=2.0, kernel=sigmoid; accuracy: (test=0.485) f1: (test=0.479) precision: (test=0.475) recall: (test=0.483) total time=   6.6s\n",
      "[CV 2/5] END C=2.0, kernel=sigmoid; accuracy: (test=0.534) f1: (test=0.506) precision: (test=0.526) recall: (test=0.487) total time=   6.3s\n",
      "[CV 3/5] END C=2.0, kernel=sigmoid; accuracy: (test=0.492) f1: (test=0.499) precision: (test=0.482) recall: (test=0.517) total time=   6.3s\n",
      "[CV 4/5] END C=2.0, kernel=sigmoid; accuracy: (test=0.502) f1: (test=0.491) precision: (test=0.494) recall: (test=0.489) total time=   5.6s\n",
      "[CV 5/5] END C=2.0, kernel=sigmoid; accuracy: (test=0.506) f1: (test=0.489) precision: (test=0.498) recall: (test=0.481) total time=   6.2s\n",
      "[CV 1/5] END C=1.5, kernel=sigmoid; accuracy: (test=0.492) f1: (test=0.493) precision: (test=0.481) recall: (test=0.504) total time=   6.5s\n",
      "[CV 2/5] END C=1.5, kernel=sigmoid; accuracy: (test=0.530) f1: (test=0.503) precision: (test=0.521) recall: (test=0.487) total time=   6.6s\n",
      "[CV 3/5] END C=1.5, kernel=sigmoid; accuracy: (test=0.502) f1: (test=0.508) precision: (test=0.492) recall: (test=0.526) total time=   6.8s\n",
      "[CV 4/5] END C=1.5, kernel=sigmoid; accuracy: (test=0.496) f1: (test=0.488) precision: (test=0.487) recall: (test=0.489) total time=   6.0s\n",
      "[CV 5/5] END C=1.5, kernel=sigmoid; accuracy: (test=0.517) f1: (test=0.492) precision: (test=0.509) recall: (test=0.476) total time=   7.8s\n",
      "[CV 1/5] END C=0.0, kernel=poly; accuracy: (test=nan) f1: (test=nan) precision: (test=nan) recall: (test=nan) total time=   0.0s\n",
      "[CV 2/5] END C=0.0, kernel=poly; accuracy: (test=nan) f1: (test=nan) precision: (test=nan) recall: (test=nan) total time=   0.0s\n",
      "[CV 3/5] END C=0.0, kernel=poly; accuracy: (test=nan) f1: (test=nan) precision: (test=nan) recall: (test=nan) total time=   0.0s\n",
      "[CV 4/5] END C=0.0, kernel=poly; accuracy: (test=nan) f1: (test=nan) precision: (test=nan) recall: (test=nan) total time=   0.0s\n",
      "[CV 5/5] END C=0.0, kernel=poly; accuracy: (test=nan) f1: (test=nan) precision: (test=nan) recall: (test=nan) total time=   0.0s\n",
      "[CV 1/5] END C=1.0, kernel=rbf; accuracy: (test=0.578) f1: (test=0.548) precision: (test=0.576) recall: (test=0.522) total time=  10.7s\n",
      "[CV 2/5] END C=1.0, kernel=rbf; accuracy: (test=0.500) f1: (test=0.460) precision: (test=0.488) recall: (test=0.435) total time=   9.6s\n",
      "[CV 3/5] END C=1.0, kernel=rbf; accuracy: (test=0.589) f1: (test=0.550) precision: (test=0.592) recall: (test=0.513) total time=   9.8s\n",
      "[CV 4/5] END C=1.0, kernel=rbf; accuracy: (test=0.546) f1: (test=0.472) precision: (test=0.552) recall: (test=0.412) total time=  10.1s\n",
      "[CV 5/5] END C=1.0, kernel=rbf; accuracy: (test=0.565) f1: (test=0.512) precision: (test=0.571) recall: (test=0.464) total time=   8.9s\n"
     ]
    },
    {
     "name": "stderr",
     "output_type": "stream",
     "text": [
      "C:\\Users\\maxma\\anaconda3\\envs\\nlp\\lib\\site-packages\\sklearn\\model_selection\\_validation.py:425: FitFailedWarning: \n",
      "5 fits failed out of a total of 50.\n",
      "The score on these train-test partitions for these parameters will be set to nan.\n",
      "If these failures are not expected, you can try to debug them by setting error_score='raise'.\n",
      "\n",
      "Below are more details about the failures:\n",
      "--------------------------------------------------------------------------------\n",
      "5 fits failed with the following error:\n",
      "Traceback (most recent call last):\n",
      "  File \"C:\\Users\\maxma\\anaconda3\\envs\\nlp\\lib\\site-packages\\sklearn\\model_selection\\_validation.py\", line 732, in _fit_and_score\n",
      "    estimator.fit(X_train, y_train, **fit_params)\n",
      "  File \"C:\\Users\\maxma\\anaconda3\\envs\\nlp\\lib\\site-packages\\sklearn\\base.py\", line 1144, in wrapper\n",
      "    estimator._validate_params()\n",
      "  File \"C:\\Users\\maxma\\anaconda3\\envs\\nlp\\lib\\site-packages\\sklearn\\base.py\", line 637, in _validate_params\n",
      "    validate_parameter_constraints(\n",
      "  File \"C:\\Users\\maxma\\anaconda3\\envs\\nlp\\lib\\site-packages\\sklearn\\utils\\_param_validation.py\", line 95, in validate_parameter_constraints\n",
      "    raise InvalidParameterError(\n",
      "sklearn.utils._param_validation.InvalidParameterError: The 'C' parameter of SVC must be a float in the range (0.0, inf). Got 0.0 instead.\n",
      "\n",
      "  warnings.warn(some_fits_failed_message, FitFailedWarning)\n",
      "C:\\Users\\maxma\\anaconda3\\envs\\nlp\\lib\\site-packages\\sklearn\\model_selection\\_search.py:976: UserWarning: One or more of the test scores are non-finite: [0.37866657 0.50172044 0.51981279 0.5000518  0.51980909 0.21084061\n",
      " 0.49140521 0.49658132        nan 0.46907281]\n",
      "  warnings.warn(\n",
      "C:\\Users\\maxma\\anaconda3\\envs\\nlp\\lib\\site-packages\\sklearn\\model_selection\\_search.py:976: UserWarning: One or more of the test scores are non-finite: [0.57600583 0.51839436 0.54582657 0.55081448 0.52075252 0.58462607\n",
      " 0.49467393 0.49810162        nan 0.55586114]\n",
      "  warnings.warn(\n",
      "C:\\Users\\maxma\\anaconda3\\envs\\nlp\\lib\\site-packages\\sklearn\\model_selection\\_search.py:976: UserWarning: One or more of the test scores are non-finite: [0.55864979 0.52700422 0.55105485 0.55400844 0.53080169 0.53966245\n",
      " 0.50379747 0.507173          nan 0.5556962 ]\n",
      "  warnings.warn(\n",
      "C:\\Users\\maxma\\anaconda3\\envs\\nlp\\lib\\site-packages\\sklearn\\model_selection\\_search.py:976: UserWarning: One or more of the test scores are non-finite: [0.45668494 0.50976366 0.5316176  0.52342714 0.51978957 0.30957484\n",
      " 0.49272962 0.49695357        nan 0.50817888]\n",
      "  warnings.warn(\n"
     ]
    },
    {
     "data": {
      "text/plain": [
       "{'kernel': 'rbf', 'C': 2.0}"
      ]
     },
     "execution_count": 39,
     "metadata": {},
     "output_type": "execute_result"
    }
   ],
   "source": [
    "# Neu\n",
    "svc = SVC()\n",
    "\n",
    "params_dict = { 'C': np.linspace(start=0, stop=2, num=5),\n",
    "                'kernel':['linear', 'poly', 'rbf', 'sigmoid']\n",
    "              }\n",
    "\n",
    "search = RandomizedSearchCV(\n",
    "         estimator=svc,\n",
    "         param_distributions=params_dict,\n",
    "         scoring = ['recall', 'precision', 'accuracy', 'f1'],\n",
    "         refit = 'f1', \n",
    "         cv= 5,\n",
    "         verbose=3)\n",
    "\n",
    "search.fit(X_train_neu_b, y_train_neu_b)\n",
    "search.best_params_"
   ]
  },
  {
   "cell_type": "code",
   "execution_count": 40,
   "id": "29c2a158",
   "metadata": {},
   "outputs": [
    {
     "name": "stdout",
     "output_type": "stream",
     "text": [
      "Fitting 5 folds for each of 10 candidates, totalling 50 fits\n",
      "[CV 1/5] END C=2.0, kernel=sigmoid; accuracy: (test=0.532) f1: (test=0.561) precision: (test=0.555) recall: (test=0.568) total time=   6.2s\n",
      "[CV 2/5] END C=2.0, kernel=sigmoid; accuracy: (test=0.515) f1: (test=0.534) precision: (test=0.539) recall: (test=0.530) total time=   6.2s\n",
      "[CV 3/5] END C=2.0, kernel=sigmoid; accuracy: (test=0.542) f1: (test=0.577) precision: (test=0.561) recall: (test=0.594) total time=   6.3s\n",
      "[CV 4/5] END C=2.0, kernel=sigmoid; accuracy: (test=0.521) f1: (test=0.554) precision: (test=0.542) recall: (test=0.566) total time=   5.7s\n",
      "[CV 5/5] END C=2.0, kernel=sigmoid; accuracy: (test=0.534) f1: (test=0.568) precision: (test=0.553) recall: (test=0.582) total time=   6.3s\n",
      "[CV 1/5] END C=0.5, kernel=poly; accuracy: (test=0.546) f1: (test=0.690) precision: (test=0.540) recall: (test=0.956) total time=   9.4s\n",
      "[CV 2/5] END C=0.5, kernel=poly; accuracy: (test=0.515) f1: (test=0.666) precision: (test=0.522) recall: (test=0.920) total time=  10.0s\n",
      "[CV 3/5] END C=0.5, kernel=poly; accuracy: (test=0.538) f1: (test=0.690) precision: (test=0.533) recall: (test=0.980) total time=  11.7s\n",
      "[CV 4/5] END C=0.5, kernel=poly; accuracy: (test=0.534) f1: (test=0.678) precision: (test=0.532) recall: (test=0.936) total time=  10.4s\n",
      "[CV 5/5] END C=0.5, kernel=poly; accuracy: (test=0.540) f1: (test=0.686) precision: (test=0.535) recall: (test=0.956) total time=   9.6s\n",
      "[CV 1/5] END C=1.0, kernel=sigmoid; accuracy: (test=0.551) f1: (test=0.603) precision: (test=0.564) recall: (test=0.648) total time=   7.5s\n",
      "[CV 2/5] END C=1.0, kernel=sigmoid; accuracy: (test=0.521) f1: (test=0.566) precision: (test=0.540) recall: (test=0.594) total time=   8.3s\n",
      "[CV 3/5] END C=1.0, kernel=sigmoid; accuracy: (test=0.551) f1: (test=0.605) precision: (test=0.562) recall: (test=0.655) total time=   7.0s\n",
      "[CV 4/5] END C=1.0, kernel=sigmoid; accuracy: (test=0.542) f1: (test=0.591) precision: (test=0.557) recall: (test=0.631) total time=   6.3s\n",
      "[CV 5/5] END C=1.0, kernel=sigmoid; accuracy: (test=0.519) f1: (test=0.581) precision: (test=0.536) recall: (test=0.635) total time=   7.1s\n",
      "[CV 1/5] END C=2.0, kernel=rbf; accuracy: (test=0.578) f1: (test=0.608) precision: (test=0.596) recall: (test=0.620) total time=   9.4s\n",
      "[CV 2/5] END C=2.0, kernel=rbf; accuracy: (test=0.565) f1: (test=0.617) precision: (test=0.574) recall: (test=0.667) total time=   9.5s\n",
      "[CV 3/5] END C=2.0, kernel=rbf; accuracy: (test=0.561) f1: (test=0.606) precision: (test=0.573) recall: (test=0.643) total time=   9.3s\n",
      "[CV 4/5] END C=2.0, kernel=rbf; accuracy: (test=0.559) f1: (test=0.600) precision: (test=0.573) recall: (test=0.631) total time=   9.5s\n",
      "[CV 5/5] END C=2.0, kernel=rbf; accuracy: (test=0.593) f1: (test=0.642) precision: (test=0.597) recall: (test=0.695) total time=  10.0s\n",
      "[CV 1/5] END C=0.0, kernel=rbf; accuracy: (test=nan) f1: (test=nan) precision: (test=nan) recall: (test=nan) total time=   0.0s\n",
      "[CV 2/5] END C=0.0, kernel=rbf; accuracy: (test=nan) f1: (test=nan) precision: (test=nan) recall: (test=nan) total time=   0.0s\n",
      "[CV 3/5] END C=0.0, kernel=rbf; accuracy: (test=nan) f1: (test=nan) precision: (test=nan) recall: (test=nan) total time=   0.0s\n",
      "[CV 4/5] END C=0.0, kernel=rbf; accuracy: (test=nan) f1: (test=nan) precision: (test=nan) recall: (test=nan) total time=   0.0s\n",
      "[CV 5/5] END C=0.0, kernel=rbf; accuracy: (test=nan) f1: (test=nan) precision: (test=nan) recall: (test=nan) total time=   0.0s\n",
      "[CV 1/5] END C=0.5, kernel=rbf; accuracy: (test=0.580) f1: (test=0.672) precision: (test=0.571) recall: (test=0.816) total time=  10.7s\n",
      "[CV 2/5] END C=0.5, kernel=rbf; accuracy: (test=0.565) f1: (test=0.662) precision: (test=0.560) recall: (test=0.811) total time=  10.8s\n",
      "[CV 3/5] END C=0.5, kernel=rbf; accuracy: (test=0.561) f1: (test=0.656) precision: (test=0.558) recall: (test=0.795) total time=  10.0s\n",
      "[CV 4/5] END C=0.5, kernel=rbf; accuracy: (test=0.559) f1: (test=0.656) precision: (test=0.556) recall: (test=0.799) total time=   9.6s\n",
      "[CV 5/5] END C=0.5, kernel=rbf; accuracy: (test=0.582) f1: (test=0.687) precision: (test=0.567) recall: (test=0.871) total time=   9.7s\n",
      "[CV 1/5] END C=2.0, kernel=poly; accuracy: (test=0.551) f1: (test=0.677) precision: (test=0.545) recall: (test=0.892) total time=   8.7s\n",
      "[CV 2/5] END C=2.0, kernel=poly; accuracy: (test=0.498) f1: (test=0.636) precision: (test=0.514) recall: (test=0.835) total time=   8.9s\n",
      "[CV 3/5] END C=2.0, kernel=poly; accuracy: (test=0.540) f1: (test=0.675) precision: (test=0.537) recall: (test=0.908) total time=   9.3s\n",
      "[CV 4/5] END C=2.0, kernel=poly; accuracy: (test=0.553) f1: (test=0.659) precision: (test=0.550) recall: (test=0.823) total time=   9.4s\n",
      "[CV 5/5] END C=2.0, kernel=poly; accuracy: (test=0.544) f1: (test=0.676) precision: (test=0.540) recall: (test=0.904) total time=   9.4s\n",
      "[CV 1/5] END C=1.0, kernel=poly; accuracy: (test=0.540) f1: (test=0.678) precision: (test=0.537) recall: (test=0.920) total time=   9.6s\n",
      "[CV 2/5] END C=1.0, kernel=poly; accuracy: (test=0.508) f1: (test=0.651) precision: (test=0.519) recall: (test=0.871) total time=   9.7s\n",
      "[CV 3/5] END C=1.0, kernel=poly; accuracy: (test=0.532) f1: (test=0.678) precision: (test=0.531) recall: (test=0.940) total time=  10.1s\n",
      "[CV 4/5] END C=1.0, kernel=poly; accuracy: (test=0.544) f1: (test=0.674) precision: (test=0.540) recall: (test=0.896) total time=  10.8s\n",
      "[CV 5/5] END C=1.0, kernel=poly; accuracy: (test=0.538) f1: (test=0.677) precision: (test=0.535) recall: (test=0.924) total time=   9.9s\n",
      "[CV 1/5] END C=0.0, kernel=linear; accuracy: (test=nan) f1: (test=nan) precision: (test=nan) recall: (test=nan) total time=   0.0s\n",
      "[CV 2/5] END C=0.0, kernel=linear; accuracy: (test=nan) f1: (test=nan) precision: (test=nan) recall: (test=nan) total time=   0.0s\n",
      "[CV 3/5] END C=0.0, kernel=linear; accuracy: (test=nan) f1: (test=nan) precision: (test=nan) recall: (test=nan) total time=   0.0s\n",
      "[CV 4/5] END C=0.0, kernel=linear; accuracy: (test=nan) f1: (test=nan) precision: (test=nan) recall: (test=nan) total time=   0.0s\n",
      "[CV 5/5] END C=0.0, kernel=linear; accuracy: (test=nan) f1: (test=nan) precision: (test=nan) recall: (test=nan) total time=   0.0s\n",
      "[CV 1/5] END C=1.0, kernel=rbf; accuracy: (test=0.582) f1: (test=0.626) precision: (test=0.593) recall: (test=0.664) total time=   9.8s\n",
      "[CV 2/5] END C=1.0, kernel=rbf; accuracy: (test=0.570) f1: (test=0.626) precision: (test=0.576) recall: (test=0.687) total time=  10.0s\n",
      "[CV 3/5] END C=1.0, kernel=rbf; accuracy: (test=0.559) f1: (test=0.615) precision: (test=0.568) recall: (test=0.671) total time=   9.3s\n",
      "[CV 4/5] END C=1.0, kernel=rbf; accuracy: (test=0.553) f1: (test=0.604) precision: (test=0.564) recall: (test=0.651) total time=   9.2s\n",
      "[CV 5/5] END C=1.0, kernel=rbf; accuracy: (test=0.597) f1: (test=0.662) precision: (test=0.592) recall: (test=0.751) total time=   8.9s\n"
     ]
    },
    {
     "name": "stderr",
     "output_type": "stream",
     "text": [
      "C:\\Users\\maxma\\anaconda3\\envs\\nlp\\lib\\site-packages\\sklearn\\model_selection\\_validation.py:425: FitFailedWarning: \n",
      "10 fits failed out of a total of 50.\n",
      "The score on these train-test partitions for these parameters will be set to nan.\n",
      "If these failures are not expected, you can try to debug them by setting error_score='raise'.\n",
      "\n",
      "Below are more details about the failures:\n",
      "--------------------------------------------------------------------------------\n",
      "10 fits failed with the following error:\n",
      "Traceback (most recent call last):\n",
      "  File \"C:\\Users\\maxma\\anaconda3\\envs\\nlp\\lib\\site-packages\\sklearn\\model_selection\\_validation.py\", line 732, in _fit_and_score\n",
      "    estimator.fit(X_train, y_train, **fit_params)\n",
      "  File \"C:\\Users\\maxma\\anaconda3\\envs\\nlp\\lib\\site-packages\\sklearn\\base.py\", line 1144, in wrapper\n",
      "    estimator._validate_params()\n",
      "  File \"C:\\Users\\maxma\\anaconda3\\envs\\nlp\\lib\\site-packages\\sklearn\\base.py\", line 637, in _validate_params\n",
      "    validate_parameter_constraints(\n",
      "  File \"C:\\Users\\maxma\\anaconda3\\envs\\nlp\\lib\\site-packages\\sklearn\\utils\\_param_validation.py\", line 95, in validate_parameter_constraints\n",
      "    raise InvalidParameterError(\n",
      "sklearn.utils._param_validation.InvalidParameterError: The 'C' parameter of SVC must be a float in the range (0.0, inf). Got 0.0 instead.\n",
      "\n",
      "  warnings.warn(some_fits_failed_message, FitFailedWarning)\n",
      "C:\\Users\\maxma\\anaconda3\\envs\\nlp\\lib\\site-packages\\sklearn\\model_selection\\_search.py:976: UserWarning: One or more of the test scores are non-finite: [0.56821847 0.94943293 0.63241124 0.65090763        nan 0.81862169\n",
      " 0.8723759  0.91010442        nan 0.68460723]\n",
      "  warnings.warn(\n",
      "C:\\Users\\maxma\\anaconda3\\envs\\nlp\\lib\\site-packages\\sklearn\\model_selection\\_search.py:976: UserWarning: One or more of the test scores are non-finite: [0.54996238 0.5321379  0.55180114 0.58271389        nan 0.56223548\n",
      " 0.53695916 0.53239389        nan 0.5785748 ]\n",
      "  warnings.warn(\n",
      "C:\\Users\\maxma\\anaconda3\\envs\\nlp\\lib\\site-packages\\sklearn\\model_selection\\_search.py:976: UserWarning: One or more of the test scores are non-finite: [0.52869198 0.53459916 0.53670886 0.57130802        nan 0.56962025\n",
      " 0.5371308  0.53248945        nan 0.5721519 ]\n",
      "  warnings.warn(\n",
      "C:\\Users\\maxma\\anaconda3\\envs\\nlp\\lib\\site-packages\\sklearn\\model_selection\\_search.py:976: UserWarning: One or more of the test scores are non-finite: [0.5588436  0.68197666 0.58927215 0.6146632         nan 0.66649499\n",
      " 0.66446703 0.6717169         nan 0.6268629 ]\n",
      "  warnings.warn(\n"
     ]
    },
    {
     "data": {
      "text/plain": [
       "{'kernel': 'poly', 'C': 0.5}"
      ]
     },
     "execution_count": 40,
     "metadata": {},
     "output_type": "execute_result"
    }
   ],
   "source": [
    "# Agr\n",
    "svc = SVC()\n",
    "\n",
    "params_dict = { 'C': np.linspace(start=0, stop=2, num=5),\n",
    "                'kernel':['linear', 'poly', 'rbf', 'sigmoid']\n",
    "              }\n",
    "\n",
    "search = RandomizedSearchCV(\n",
    "         estimator=svc,\n",
    "         param_distributions=params_dict,\n",
    "         scoring = ['recall', 'precision', 'accuracy', 'f1'],\n",
    "         refit = 'f1', \n",
    "         cv= 5,\n",
    "         verbose=3)\n",
    "\n",
    "search.fit(X_train_agr_b,y_train_agr_b)\n",
    "search.best_params_"
   ]
  },
  {
   "cell_type": "code",
   "execution_count": 41,
   "id": "2f0d20e7",
   "metadata": {},
   "outputs": [
    {
     "name": "stdout",
     "output_type": "stream",
     "text": [
      "Fitting 5 folds for each of 10 candidates, totalling 50 fits\n",
      "[CV 1/5] END C=0.5, kernel=sigmoid; accuracy: (test=0.551) f1: (test=0.546) precision: (test=0.564) recall: (test=0.529) total time=   9.2s\n",
      "[CV 2/5] END C=0.5, kernel=sigmoid; accuracy: (test=0.565) f1: (test=0.602) precision: (test=0.565) recall: (test=0.645) total time=   9.2s\n",
      "[CV 3/5] END C=0.5, kernel=sigmoid; accuracy: (test=0.549) f1: (test=0.580) precision: (test=0.550) recall: (test=0.614) total time=   9.2s\n",
      "[CV 4/5] END C=0.5, kernel=sigmoid; accuracy: (test=0.591) f1: (test=0.643) precision: (test=0.578) recall: (test=0.726) total time=   9.2s\n",
      "[CV 5/5] END C=0.5, kernel=sigmoid; accuracy: (test=0.544) f1: (test=0.563) precision: (test=0.549) recall: (test=0.577) total time=  10.7s\n",
      "[CV 1/5] END C=1.5, kernel=rbf; accuracy: (test=0.561) f1: (test=0.581) precision: (test=0.567) recall: (test=0.595) total time=  10.0s\n",
      "[CV 2/5] END C=1.5, kernel=rbf; accuracy: (test=0.530) f1: (test=0.551) precision: (test=0.537) recall: (test=0.566) total time=   9.7s\n",
      "[CV 3/5] END C=1.5, kernel=rbf; accuracy: (test=0.580) f1: (test=0.586) precision: (test=0.588) recall: (test=0.585) total time=  10.2s\n",
      "[CV 4/5] END C=1.5, kernel=rbf; accuracy: (test=0.574) f1: (test=0.609) precision: (test=0.571) recall: (test=0.651) total time=   9.9s\n",
      "[CV 5/5] END C=1.5, kernel=rbf; accuracy: (test=0.586) f1: (test=0.600) precision: (test=0.590) recall: (test=0.610) total time=   8.6s\n",
      "[CV 1/5] END C=1.0, kernel=rbf; accuracy: (test=0.580) f1: (test=0.595) precision: (test=0.586) recall: (test=0.603) total time=   9.1s\n",
      "[CV 2/5] END C=1.0, kernel=rbf; accuracy: (test=0.553) f1: (test=0.579) precision: (test=0.557) recall: (test=0.603) total time=   9.2s\n",
      "[CV 3/5] END C=1.0, kernel=rbf; accuracy: (test=0.589) f1: (test=0.600) precision: (test=0.593) recall: (test=0.606) total time=   9.4s\n",
      "[CV 4/5] END C=1.0, kernel=rbf; accuracy: (test=0.593) f1: (test=0.630) precision: (test=0.586) recall: (test=0.680) total time=   9.5s\n",
      "[CV 5/5] END C=1.0, kernel=rbf; accuracy: (test=0.584) f1: (test=0.599) precision: (test=0.588) recall: (test=0.610) total time=   9.4s\n",
      "[CV 1/5] END C=0.5, kernel=rbf; accuracy: (test=0.572) f1: (test=0.580) precision: (test=0.581) recall: (test=0.579) total time=   9.4s\n",
      "[CV 2/5] END C=0.5, kernel=rbf; accuracy: (test=0.555) f1: (test=0.607) precision: (test=0.553) recall: (test=0.674) total time=  10.9s\n",
      "[CV 3/5] END C=0.5, kernel=rbf; accuracy: (test=0.582) f1: (test=0.609) precision: (test=0.581) recall: (test=0.639) total time=  10.3s\n",
      "[CV 4/5] END C=0.5, kernel=rbf; accuracy: (test=0.574) f1: (test=0.619) precision: (test=0.567) recall: (test=0.680) total time=  10.2s\n",
      "[CV 5/5] END C=0.5, kernel=rbf; accuracy: (test=0.568) f1: (test=0.602) precision: (test=0.566) recall: (test=0.643) total time=  10.0s\n",
      "[CV 1/5] END C=0.0, kernel=linear; accuracy: (test=nan) f1: (test=nan) precision: (test=nan) recall: (test=nan) total time=   0.0s\n",
      "[CV 2/5] END C=0.0, kernel=linear; accuracy: (test=nan) f1: (test=nan) precision: (test=nan) recall: (test=nan) total time=   0.0s\n",
      "[CV 3/5] END C=0.0, kernel=linear; accuracy: (test=nan) f1: (test=nan) precision: (test=nan) recall: (test=nan) total time=   0.0s\n",
      "[CV 4/5] END C=0.0, kernel=linear; accuracy: (test=nan) f1: (test=nan) precision: (test=nan) recall: (test=nan) total time=   0.0s\n",
      "[CV 5/5] END C=0.0, kernel=linear; accuracy: (test=nan) f1: (test=nan) precision: (test=nan) recall: (test=nan) total time=   0.0s\n",
      "[CV 1/5] END C=0.5, kernel=poly; accuracy: (test=0.538) f1: (test=0.674) precision: (test=0.527) recall: (test=0.934) total time=  10.1s\n",
      "[CV 2/5] END C=0.5, kernel=poly; accuracy: (test=0.508) f1: (test=0.658) precision: (test=0.510) recall: (test=0.926) total time=   8.7s\n",
      "[CV 3/5] END C=0.5, kernel=poly; accuracy: (test=0.515) f1: (test=0.669) precision: (test=0.512) recall: (test=0.963) total time=   8.7s\n",
      "[CV 4/5] END C=0.5, kernel=poly; accuracy: (test=0.506) f1: (test=0.652) precision: (test=0.508) recall: (test=0.909) total time=   9.5s\n",
      "[CV 5/5] END C=0.5, kernel=poly; accuracy: (test=0.506) f1: (test=0.652) precision: (test=0.508) recall: (test=0.909) total time=   9.5s\n",
      "[CV 1/5] END C=2.0, kernel=linear; accuracy: (test=0.534) f1: (test=0.542) precision: (test=0.544) recall: (test=0.541) total time=   9.4s\n",
      "[CV 2/5] END C=2.0, kernel=linear; accuracy: (test=0.527) f1: (test=0.533) precision: (test=0.538) recall: (test=0.529) total time=   9.2s\n",
      "[CV 3/5] END C=2.0, kernel=linear; accuracy: (test=0.570) f1: (test=0.577) precision: (test=0.577) recall: (test=0.577) total time=   9.3s\n",
      "[CV 4/5] END C=2.0, kernel=linear; accuracy: (test=0.523) f1: (test=0.529) precision: (test=0.531) recall: (test=0.527) total time=   9.9s\n",
      "[CV 5/5] END C=2.0, kernel=linear; accuracy: (test=0.532) f1: (test=0.561) precision: (test=0.536) recall: (test=0.589) total time=  11.5s\n",
      "[CV 1/5] END C=0.0, kernel=rbf; accuracy: (test=nan) f1: (test=nan) precision: (test=nan) recall: (test=nan) total time=   0.0s\n",
      "[CV 2/5] END C=0.0, kernel=rbf; accuracy: (test=nan) f1: (test=nan) precision: (test=nan) recall: (test=nan) total time=   0.0s\n",
      "[CV 3/5] END C=0.0, kernel=rbf; accuracy: (test=nan) f1: (test=nan) precision: (test=nan) recall: (test=nan) total time=   0.0s\n",
      "[CV 4/5] END C=0.0, kernel=rbf; accuracy: (test=nan) f1: (test=nan) precision: (test=nan) recall: (test=nan) total time=   0.0s\n",
      "[CV 5/5] END C=0.0, kernel=rbf; accuracy: (test=nan) f1: (test=nan) precision: (test=nan) recall: (test=nan) total time=   0.0s\n",
      "[CV 1/5] END C=0.0, kernel=poly; accuracy: (test=nan) f1: (test=nan) precision: (test=nan) recall: (test=nan) total time=   0.0s\n",
      "[CV 2/5] END C=0.0, kernel=poly; accuracy: (test=nan) f1: (test=nan) precision: (test=nan) recall: (test=nan) total time=   0.0s\n",
      "[CV 3/5] END C=0.0, kernel=poly; accuracy: (test=nan) f1: (test=nan) precision: (test=nan) recall: (test=nan) total time=   0.0s\n",
      "[CV 4/5] END C=0.0, kernel=poly; accuracy: (test=nan) f1: (test=nan) precision: (test=nan) recall: (test=nan) total time=   0.0s\n",
      "[CV 5/5] END C=0.0, kernel=poly; accuracy: (test=nan) f1: (test=nan) precision: (test=nan) recall: (test=nan) total time=   0.0s\n",
      "[CV 1/5] END C=2.0, kernel=poly; accuracy: (test=0.551) f1: (test=0.611) precision: (test=0.548) recall: (test=0.690) total time=  10.0s\n",
      "[CV 2/5] END C=2.0, kernel=poly; accuracy: (test=0.498) f1: (test=0.617) precision: (test=0.505) recall: (test=0.793) total time=   9.7s\n",
      "[CV 3/5] END C=2.0, kernel=poly; accuracy: (test=0.551) f1: (test=0.655) precision: (test=0.537) recall: (test=0.838) total time=  10.0s\n",
      "[CV 4/5] END C=2.0, kernel=poly; accuracy: (test=0.530) f1: (test=0.629) precision: (test=0.525) recall: (test=0.784) total time=   9.1s\n",
      "[CV 5/5] END C=2.0, kernel=poly; accuracy: (test=0.540) f1: (test=0.645) precision: (test=0.531) recall: (test=0.822) total time=   8.5s\n"
     ]
    },
    {
     "name": "stderr",
     "output_type": "stream",
     "text": [
      "C:\\Users\\maxma\\anaconda3\\envs\\nlp\\lib\\site-packages\\sklearn\\model_selection\\_validation.py:425: FitFailedWarning: \n",
      "15 fits failed out of a total of 50.\n",
      "The score on these train-test partitions for these parameters will be set to nan.\n",
      "If these failures are not expected, you can try to debug them by setting error_score='raise'.\n",
      "\n",
      "Below are more details about the failures:\n",
      "--------------------------------------------------------------------------------\n",
      "15 fits failed with the following error:\n",
      "Traceback (most recent call last):\n",
      "  File \"C:\\Users\\maxma\\anaconda3\\envs\\nlp\\lib\\site-packages\\sklearn\\model_selection\\_validation.py\", line 732, in _fit_and_score\n",
      "    estimator.fit(X_train, y_train, **fit_params)\n",
      "  File \"C:\\Users\\maxma\\anaconda3\\envs\\nlp\\lib\\site-packages\\sklearn\\base.py\", line 1144, in wrapper\n",
      "    estimator._validate_params()\n",
      "  File \"C:\\Users\\maxma\\anaconda3\\envs\\nlp\\lib\\site-packages\\sklearn\\base.py\", line 637, in _validate_params\n",
      "    validate_parameter_constraints(\n",
      "  File \"C:\\Users\\maxma\\anaconda3\\envs\\nlp\\lib\\site-packages\\sklearn\\utils\\_param_validation.py\", line 95, in validate_parameter_constraints\n",
      "    raise InvalidParameterError(\n",
      "sklearn.utils._param_validation.InvalidParameterError: The 'C' parameter of SVC must be a float in the range (0.0, inf). Got 0.0 instead.\n",
      "\n",
      "  warnings.warn(some_fits_failed_message, FitFailedWarning)\n",
      "C:\\Users\\maxma\\anaconda3\\envs\\nlp\\lib\\site-packages\\sklearn\\model_selection\\_search.py:976: UserWarning: One or more of the test scores are non-finite: [0.61811323 0.60152601 0.62057543 0.64294434        nan 0.92791742\n",
      " 0.5526388         nan        nan 0.7854909 ]\n",
      "  warnings.warn(\n",
      "C:\\Users\\maxma\\anaconda3\\envs\\nlp\\lib\\site-packages\\sklearn\\model_selection\\_search.py:976: UserWarning: One or more of the test scores are non-finite: [0.56124896 0.57059091 0.5821615  0.56955096        nan 0.51308794\n",
      " 0.54507538        nan        nan 0.52917386]\n",
      "  warnings.warn(\n",
      "C:\\Users\\maxma\\anaconda3\\envs\\nlp\\lib\\site-packages\\sklearn\\model_selection\\_search.py:976: UserWarning: One or more of the test scores are non-finite: [0.55991561 0.56624473 0.57974684 0.57004219        nan 0.51476793\n",
      " 0.5371308         nan        nan 0.53375527]\n",
      "  warnings.warn(\n",
      "C:\\Users\\maxma\\anaconda3\\envs\\nlp\\lib\\site-packages\\sklearn\\model_selection\\_search.py:976: UserWarning: One or more of the test scores are non-finite: [0.58693727 0.58535175 0.60039913 0.60325836        nan 0.66072738\n",
      " 0.54859427        nan        nan 0.63133014]\n",
      "  warnings.warn(\n"
     ]
    },
    {
     "data": {
      "text/plain": [
       "{'kernel': 'poly', 'C': 0.5}"
      ]
     },
     "execution_count": 41,
     "metadata": {},
     "output_type": "execute_result"
    }
   ],
   "source": [
    "# Con\n",
    "svc = SVC()\n",
    "\n",
    "params_dict = { 'C': np.linspace(start=0, stop=2, num=5),\n",
    "                'kernel':['linear', 'poly', 'rbf', 'sigmoid']\n",
    "              }\n",
    "\n",
    "search = RandomizedSearchCV(\n",
    "         estimator=svc,\n",
    "         param_distributions=params_dict,\n",
    "         scoring = ['recall', 'precision', 'accuracy', 'f1'],\n",
    "         refit = 'f1', \n",
    "         cv= 5,\n",
    "         verbose=3)\n",
    "\n",
    "search.fit(X_train_con_b,y_train_con_b)\n",
    "search.best_params_"
   ]
  },
  {
   "cell_type": "code",
   "execution_count": 42,
   "id": "415918c9",
   "metadata": {},
   "outputs": [
    {
     "name": "stdout",
     "output_type": "stream",
     "text": [
      "Fitting 5 folds for each of 10 candidates, totalling 50 fits\n",
      "[CV 1/5] END C=0.5, kernel=linear; accuracy: (test=0.538) f1: (test=0.523) precision: (test=0.526) recall: (test=0.519) total time=   9.3s\n",
      "[CV 2/5] END C=0.5, kernel=linear; accuracy: (test=0.574) f1: (test=0.563) precision: (test=0.560) recall: (test=0.565) total time=   9.1s\n",
      "[CV 3/5] END C=0.5, kernel=linear; accuracy: (test=0.557) f1: (test=0.539) precision: (test=0.544) recall: (test=0.535) total time=   9.1s\n",
      "[CV 4/5] END C=0.5, kernel=linear; accuracy: (test=0.536) f1: (test=0.509) precision: (test=0.523) recall: (test=0.496) total time=   9.0s\n",
      "[CV 5/5] END C=0.5, kernel=linear; accuracy: (test=0.540) f1: (test=0.530) precision: (test=0.526) recall: (test=0.535) total time=  10.4s\n",
      "[CV 1/5] END C=1.0, kernel=sigmoid; accuracy: (test=0.574) f1: (test=0.561) precision: (test=0.563) recall: (test=0.558) total time=   8.9s\n",
      "[CV 2/5] END C=1.0, kernel=sigmoid; accuracy: (test=0.570) f1: (test=0.545) precision: (test=0.560) recall: (test=0.530) total time=   8.6s\n",
      "[CV 3/5] END C=1.0, kernel=sigmoid; accuracy: (test=0.582) f1: (test=0.586) precision: (test=0.565) recall: (test=0.609) total time=   7.0s\n",
      "[CV 4/5] END C=1.0, kernel=sigmoid; accuracy: (test=0.578) f1: (test=0.578) precision: (test=0.561) recall: (test=0.596) total time=   6.5s\n",
      "[CV 5/5] END C=1.0, kernel=sigmoid; accuracy: (test=0.597) f1: (test=0.569) precision: (test=0.592) recall: (test=0.548) total time=   6.8s\n",
      "[CV 1/5] END C=2.0, kernel=rbf; accuracy: (test=0.591) f1: (test=0.555) precision: (test=0.590) recall: (test=0.524) total time=   9.2s\n",
      "[CV 2/5] END C=2.0, kernel=rbf; accuracy: (test=0.593) f1: (test=0.558) precision: (test=0.589) recall: (test=0.530) total time=   9.4s\n",
      "[CV 3/5] END C=2.0, kernel=rbf; accuracy: (test=0.595) f1: (test=0.560) precision: (test=0.592) recall: (test=0.530) total time=   9.4s\n",
      "[CV 4/5] END C=2.0, kernel=rbf; accuracy: (test=0.586) f1: (test=0.583) precision: (test=0.571) recall: (test=0.596) total time=   9.3s\n",
      "[CV 5/5] END C=2.0, kernel=rbf; accuracy: (test=0.589) f1: (test=0.556) precision: (test=0.584) recall: (test=0.530) total time=   9.3s\n",
      "[CV 1/5] END C=1.0, kernel=poly; accuracy: (test=0.530) f1: (test=0.234) precision: (test=0.567) recall: (test=0.147) total time=   9.0s\n",
      "[CV 2/5] END C=1.0, kernel=poly; accuracy: (test=0.542) f1: (test=0.274) precision: (test=0.594) recall: (test=0.178) total time=   9.2s\n",
      "[CV 3/5] END C=1.0, kernel=poly; accuracy: (test=0.544) f1: (test=0.270) precision: (test=0.606) recall: (test=0.174) total time=   9.8s\n",
      "[CV 4/5] END C=1.0, kernel=poly; accuracy: (test=0.551) f1: (test=0.372) precision: (test=0.578) recall: (test=0.274) total time=  13.4s\n",
      "[CV 5/5] END C=1.0, kernel=poly; accuracy: (test=0.523) f1: (test=0.231) precision: (test=0.531) recall: (test=0.148) total time=  11.6s\n",
      "[CV 1/5] END C=1.5, kernel=rbf; accuracy: (test=0.593) f1: (test=0.558) precision: (test=0.592) recall: (test=0.528) total time=   9.4s\n",
      "[CV 2/5] END C=1.5, kernel=rbf; accuracy: (test=0.586) f1: (test=0.548) precision: (test=0.583) recall: (test=0.517) total time=   9.4s\n",
      "[CV 3/5] END C=1.5, kernel=rbf; accuracy: (test=0.589) f1: (test=0.554) precision: (test=0.585) recall: (test=0.526) total time=   9.4s\n",
      "[CV 4/5] END C=1.5, kernel=rbf; accuracy: (test=0.595) f1: (test=0.588) precision: (test=0.581) recall: (test=0.596) total time=   9.1s\n",
      "[CV 5/5] END C=1.5, kernel=rbf; accuracy: (test=0.603) f1: (test=0.563) precision: (test=0.605) recall: (test=0.526) total time=   9.3s\n",
      "[CV 1/5] END C=0.0, kernel=linear; accuracy: (test=nan) f1: (test=nan) precision: (test=nan) recall: (test=nan) total time=   0.0s\n",
      "[CV 2/5] END C=0.0, kernel=linear; accuracy: (test=nan) f1: (test=nan) precision: (test=nan) recall: (test=nan) total time=   0.0s\n",
      "[CV 3/5] END C=0.0, kernel=linear; accuracy: (test=nan) f1: (test=nan) precision: (test=nan) recall: (test=nan) total time=   0.0s\n",
      "[CV 4/5] END C=0.0, kernel=linear; accuracy: (test=nan) f1: (test=nan) precision: (test=nan) recall: (test=nan) total time=   0.0s\n",
      "[CV 5/5] END C=0.0, kernel=linear; accuracy: (test=nan) f1: (test=nan) precision: (test=nan) recall: (test=nan) total time=   0.0s\n",
      "[CV 1/5] END C=1.5, kernel=linear; accuracy: (test=0.534) f1: (test=0.521) precision: (test=0.522) recall: (test=0.519) total time=   9.1s\n",
      "[CV 2/5] END C=1.5, kernel=linear; accuracy: (test=0.568) f1: (test=0.553) precision: (test=0.555) recall: (test=0.552) total time=   9.1s\n",
      "[CV 3/5] END C=1.5, kernel=linear; accuracy: (test=0.557) f1: (test=0.539) precision: (test=0.544) recall: (test=0.535) total time=   9.1s\n",
      "[CV 4/5] END C=1.5, kernel=linear; accuracy: (test=0.538) f1: (test=0.512) precision: (test=0.525) recall: (test=0.500) total time=   8.9s\n",
      "[CV 5/5] END C=1.5, kernel=linear; accuracy: (test=0.542) f1: (test=0.531) precision: (test=0.528) recall: (test=0.535) total time=  10.0s\n",
      "[CV 1/5] END C=1.5, kernel=sigmoid; accuracy: (test=0.586) f1: (test=0.581) precision: (test=0.574) recall: (test=0.589) total time=   7.5s\n",
      "[CV 2/5] END C=1.5, kernel=sigmoid; accuracy: (test=0.549) f1: (test=0.518) precision: (test=0.537) recall: (test=0.500) total time=   8.1s\n",
      "[CV 3/5] END C=1.5, kernel=sigmoid; accuracy: (test=0.565) f1: (test=0.578) precision: (test=0.547) recall: (test=0.613) total time=   6.8s\n",
      "[CV 4/5] END C=1.5, kernel=sigmoid; accuracy: (test=0.563) f1: (test=0.562) precision: (test=0.547) recall: (test=0.578) total time=   5.9s\n",
      "[CV 5/5] END C=1.5, kernel=sigmoid; accuracy: (test=0.605) f1: (test=0.585) precision: (test=0.597) recall: (test=0.574) total time=   6.4s\n",
      "[CV 1/5] END C=0.5, kernel=poly; accuracy: (test=0.540) f1: (test=0.193) precision: (test=0.667) recall: (test=0.113) total time=  10.2s\n",
      "[CV 2/5] END C=0.5, kernel=poly; accuracy: (test=0.546) f1: (test=0.218) precision: (test=0.667) recall: (test=0.130) total time=   9.5s\n",
      "[CV 3/5] END C=0.5, kernel=poly; accuracy: (test=0.521) f1: (test=0.150) precision: (test=0.541) recall: (test=0.087) total time=   9.3s\n",
      "[CV 4/5] END C=0.5, kernel=poly; accuracy: (test=0.534) f1: (test=0.256) precision: (test=0.567) recall: (test=0.165) total time=   8.6s\n",
      "[CV 5/5] END C=0.5, kernel=poly; accuracy: (test=0.519) f1: (test=0.156) precision: (test=0.525) recall: (test=0.091) total time=   9.5s\n",
      "[CV 1/5] END C=1.0, kernel=rbf; accuracy: (test=0.603) f1: (test=0.559) precision: (test=0.610) recall: (test=0.515) total time=   9.1s\n",
      "[CV 2/5] END C=1.0, kernel=rbf; accuracy: (test=0.584) f1: (test=0.557) precision: (test=0.577) recall: (test=0.539) total time=   9.3s\n",
      "[CV 3/5] END C=1.0, kernel=rbf; accuracy: (test=0.599) f1: (test=0.574) precision: (test=0.593) recall: (test=0.557) total time=   9.1s\n",
      "[CV 4/5] END C=1.0, kernel=rbf; accuracy: (test=0.616) f1: (test=0.604) precision: (test=0.604) recall: (test=0.604) total time=   9.1s\n",
      "[CV 5/5] END C=1.0, kernel=rbf; accuracy: (test=0.608) f1: (test=0.565) precision: (test=0.611) recall: (test=0.526) total time=  10.0s\n"
     ]
    },
    {
     "name": "stderr",
     "output_type": "stream",
     "text": [
      "C:\\Users\\maxma\\anaconda3\\envs\\nlp\\lib\\site-packages\\sklearn\\model_selection\\_validation.py:425: FitFailedWarning: \n",
      "5 fits failed out of a total of 50.\n",
      "The score on these train-test partitions for these parameters will be set to nan.\n",
      "If these failures are not expected, you can try to debug them by setting error_score='raise'.\n",
      "\n",
      "Below are more details about the failures:\n",
      "--------------------------------------------------------------------------------\n",
      "5 fits failed with the following error:\n",
      "Traceback (most recent call last):\n",
      "  File \"C:\\Users\\maxma\\anaconda3\\envs\\nlp\\lib\\site-packages\\sklearn\\model_selection\\_validation.py\", line 732, in _fit_and_score\n",
      "    estimator.fit(X_train, y_train, **fit_params)\n",
      "  File \"C:\\Users\\maxma\\anaconda3\\envs\\nlp\\lib\\site-packages\\sklearn\\base.py\", line 1144, in wrapper\n",
      "    estimator._validate_params()\n",
      "  File \"C:\\Users\\maxma\\anaconda3\\envs\\nlp\\lib\\site-packages\\sklearn\\base.py\", line 637, in _validate_params\n",
      "    validate_parameter_constraints(\n",
      "  File \"C:\\Users\\maxma\\anaconda3\\envs\\nlp\\lib\\site-packages\\sklearn\\utils\\_param_validation.py\", line 95, in validate_parameter_constraints\n",
      "    raise InvalidParameterError(\n",
      "sklearn.utils._param_validation.InvalidParameterError: The 'C' parameter of SVC must be a float in the range (0.0, inf). Got 0.0 instead.\n",
      "\n",
      "  warnings.warn(some_fits_failed_message, FitFailedWarning)\n",
      "C:\\Users\\maxma\\anaconda3\\envs\\nlp\\lib\\site-packages\\sklearn\\model_selection\\_search.py:976: UserWarning: One or more of the test scores are non-finite: [0.52998306 0.56821005 0.54215321 0.18421984 0.53867118        nan\n",
      " 0.52824393 0.5707924  0.11729343 0.54824769]\n",
      "  warnings.warn(\n",
      "C:\\Users\\maxma\\anaconda3\\envs\\nlp\\lib\\site-packages\\sklearn\\model_selection\\_search.py:976: UserWarning: One or more of the test scores are non-finite: [0.53589704 0.56809853 0.58528286 0.57523236 0.58912318        nan\n",
      " 0.53471664 0.56046893 0.59320761 0.59901043]\n",
      "  warnings.warn(\n",
      "C:\\Users\\maxma\\anaconda3\\envs\\nlp\\lib\\site-packages\\sklearn\\model_selection\\_search.py:976: UserWarning: One or more of the test scores are non-finite: [0.54894515 0.58016878 0.5907173  0.53797468 0.59324895        nan\n",
      " 0.54767932 0.57383966 0.53206751 0.6021097 ]\n",
      "  warnings.warn(\n",
      "C:\\Users\\maxma\\anaconda3\\envs\\nlp\\lib\\site-packages\\sklearn\\model_selection\\_search.py:976: UserWarning: One or more of the test scores are non-finite: [0.53284421 0.56763886 0.56236374 0.27623373 0.56225775        nan\n",
      " 0.53140498 0.56496343 0.19440699 0.57194965]\n",
      "  warnings.warn(\n"
     ]
    },
    {
     "data": {
      "text/plain": [
       "{'kernel': 'rbf', 'C': 1.0}"
      ]
     },
     "execution_count": 42,
     "metadata": {},
     "output_type": "execute_result"
    }
   ],
   "source": [
    "# Opn\n",
    "svc = SVC()\n",
    "\n",
    "params_dict = { 'C': np.linspace(start=0, stop=2, num=5),\n",
    "                'kernel':['linear', 'poly', 'rbf', 'sigmoid']\n",
    "              }\n",
    "\n",
    "search = RandomizedSearchCV(\n",
    "         estimator=svc,\n",
    "         param_distributions=params_dict,\n",
    "         scoring = ['recall', 'precision', 'accuracy', 'f1'],\n",
    "         refit = 'f1', \n",
    "         cv= 5,\n",
    "         verbose=3)\n",
    "\n",
    "search.fit(X_train_opn_b,y_train_opn_b)\n",
    "search.best_params_"
   ]
  },
  {
   "cell_type": "markdown",
   "id": "842c151b",
   "metadata": {},
   "source": [
    "### Actual training and testing\n",
    "\n",
    "With the optimal parameters found, the SVM is trained on the training set and then tested for validation."
   ]
  },
  {
   "cell_type": "code",
   "execution_count": 27,
   "id": "bd46b049",
   "metadata": {},
   "outputs": [
    {
     "name": "stdout",
     "output_type": "stream",
     "text": [
      "Accuracy: 0.53\n",
      "Precision: 0.52\n",
      "Recall: 0.90\n",
      "F1 Score: 0.66\n"
     ]
    }
   ],
   "source": [
    "# Ext\n",
    "metrics_ext_b = SVM_model(X_train_ext_b, X_test_ext_b, y_train_ext_b, y_test_ext_b, 'poly', 1.0)"
   ]
  },
  {
   "cell_type": "code",
   "execution_count": 28,
   "id": "6fc81eac",
   "metadata": {},
   "outputs": [
    {
     "name": "stdout",
     "output_type": "stream",
     "text": [
      "Accuracy: 0.56\n",
      "Precision: 0.61\n",
      "Recall: 0.50\n",
      "F1 Score: 0.55\n"
     ]
    }
   ],
   "source": [
    "# Neu\n",
    "metrics_neu_b = SVM_model(X_train_neu_b, X_test_neu_b, y_train_neu_b, y_test_neu_b, 'rbf', 2.0)"
   ]
  },
  {
   "cell_type": "code",
   "execution_count": 29,
   "id": "b9f5bc96",
   "metadata": {},
   "outputs": [
    {
     "name": "stdout",
     "output_type": "stream",
     "text": [
      "Accuracy: 0.48\n",
      "Precision: 0.48\n",
      "Recall: 0.94\n",
      "F1 Score: 0.64\n"
     ]
    }
   ],
   "source": [
    "# Agr\n",
    "metrics_agr_b = SVM_model(X_train_agr_b, X_test_agr_b, y_train_agr_b, y_test_agr_b, 'poly', 0.5)"
   ]
  },
  {
   "cell_type": "code",
   "execution_count": 30,
   "id": "aa1ac80b",
   "metadata": {},
   "outputs": [
    {
     "name": "stdout",
     "output_type": "stream",
     "text": [
      "Accuracy: 0.53\n",
      "Precision: 0.53\n",
      "Recall: 0.94\n",
      "F1 Score: 0.68\n"
     ]
    }
   ],
   "source": [
    "# Con\n",
    "metrics_con_b = SVM_model(X_train_con_b, X_test_con_b, y_train_con_b, y_test_con_b, 'poly', 0.5)"
   ]
  },
  {
   "cell_type": "code",
   "execution_count": 31,
   "id": "abf66b94",
   "metadata": {},
   "outputs": [
    {
     "name": "stdout",
     "output_type": "stream",
     "text": [
      "Accuracy: 0.62\n",
      "Precision: 0.61\n",
      "Recall: 0.55\n",
      "F1 Score: 0.58\n"
     ]
    }
   ],
   "source": [
    "# Opn\n",
    "metrics_opn_b = SVM_model(X_train_opn_b, X_test_opn_b, y_train_opn_b, y_test_opn_b, 'rbf', 1.0)"
   ]
  },
  {
   "cell_type": "markdown",
   "id": "52f254b4",
   "metadata": {},
   "source": [
    "# Comparison of the different techniques per target variable\n",
    "\n",
    "With the different feeding techniques done, the metrics can be identified. These are used to compare the methods to see what method would work best."
   ]
  },
  {
   "cell_type": "code",
   "execution_count": 32,
   "id": "8fd6713e",
   "metadata": {},
   "outputs": [
    {
     "data": {
      "text/html": [
       "<div>\n",
       "<style scoped>\n",
       "    .dataframe tbody tr th:only-of-type {\n",
       "        vertical-align: middle;\n",
       "    }\n",
       "\n",
       "    .dataframe tbody tr th {\n",
       "        vertical-align: top;\n",
       "    }\n",
       "\n",
       "    .dataframe thead th {\n",
       "        text-align: right;\n",
       "    }\n",
       "</style>\n",
       "<table border=\"1\" class=\"dataframe\">\n",
       "  <thead>\n",
       "    <tr style=\"text-align: right;\">\n",
       "      <th></th>\n",
       "      <th>f1</th>\n",
       "      <th>accuracy</th>\n",
       "      <th>precision</th>\n",
       "      <th>recall</th>\n",
       "    </tr>\n",
       "  </thead>\n",
       "  <tbody>\n",
       "    <tr>\n",
       "      <th>TF-IDF</th>\n",
       "      <td>0.669663</td>\n",
       "      <td>0.504216</td>\n",
       "      <td>0.503378</td>\n",
       "      <td>1.000000</td>\n",
       "    </tr>\n",
       "    <tr>\n",
       "      <th>PoS</th>\n",
       "      <td>0.648649</td>\n",
       "      <td>0.495784</td>\n",
       "      <td>0.499096</td>\n",
       "      <td>0.926174</td>\n",
       "    </tr>\n",
       "    <tr>\n",
       "      <th>BoW</th>\n",
       "      <td>0.659259</td>\n",
       "      <td>0.534570</td>\n",
       "      <td>0.521484</td>\n",
       "      <td>0.895973</td>\n",
       "    </tr>\n",
       "  </tbody>\n",
       "</table>\n",
       "</div>"
      ],
      "text/plain": [
       "              f1  accuracy  precision    recall\n",
       "TF-IDF  0.669663  0.504216   0.503378  1.000000\n",
       "PoS     0.648649  0.495784   0.499096  0.926174\n",
       "BoW     0.659259  0.534570   0.521484  0.895973"
      ]
     },
     "execution_count": 32,
     "metadata": {},
     "output_type": "execute_result"
    }
   ],
   "source": [
    "# Ext\n",
    "metrics_ext = pd.DataFrame([metrics_ext_t, metrics_ext_p, metrics_ext_b], columns=['f1', 'accuracy', 'precision', 'recall'])\n",
    "metrics_ext = metrics_ext.transpose()\n",
    "metrics_ext.columns = ['TF-IDF', 'PoS', 'BoW']\n",
    "metrics_ext = metrics_ext.transpose()\n",
    "metrics_ext"
   ]
  },
  {
   "cell_type": "code",
   "execution_count": 33,
   "id": "1ae6aadc",
   "metadata": {},
   "outputs": [
    {
     "data": {
      "text/html": [
       "<div>\n",
       "<style scoped>\n",
       "    .dataframe tbody tr th:only-of-type {\n",
       "        vertical-align: middle;\n",
       "    }\n",
       "\n",
       "    .dataframe tbody tr th {\n",
       "        vertical-align: top;\n",
       "    }\n",
       "\n",
       "    .dataframe thead th {\n",
       "        text-align: right;\n",
       "    }\n",
       "</style>\n",
       "<table border=\"1\" class=\"dataframe\">\n",
       "  <thead>\n",
       "    <tr style=\"text-align: right;\">\n",
       "      <th></th>\n",
       "      <th>f1</th>\n",
       "      <th>accuracy</th>\n",
       "      <th>precision</th>\n",
       "      <th>recall</th>\n",
       "    </tr>\n",
       "  </thead>\n",
       "  <tbody>\n",
       "    <tr>\n",
       "      <th>TF-IDF</th>\n",
       "      <td>0.540717</td>\n",
       "      <td>0.524452</td>\n",
       "      <td>0.564626</td>\n",
       "      <td>0.518750</td>\n",
       "    </tr>\n",
       "    <tr>\n",
       "      <th>PoS</th>\n",
       "      <td>0.513986</td>\n",
       "      <td>0.531197</td>\n",
       "      <td>0.583333</td>\n",
       "      <td>0.459375</td>\n",
       "    </tr>\n",
       "    <tr>\n",
       "      <th>BoW</th>\n",
       "      <td>0.548885</td>\n",
       "      <td>0.556492</td>\n",
       "      <td>0.608365</td>\n",
       "      <td>0.500000</td>\n",
       "    </tr>\n",
       "  </tbody>\n",
       "</table>\n",
       "</div>"
      ],
      "text/plain": [
       "              f1  accuracy  precision    recall\n",
       "TF-IDF  0.540717  0.524452   0.564626  0.518750\n",
       "PoS     0.513986  0.531197   0.583333  0.459375\n",
       "BoW     0.548885  0.556492   0.608365  0.500000"
      ]
     },
     "execution_count": 33,
     "metadata": {},
     "output_type": "execute_result"
    }
   ],
   "source": [
    "# Neu\n",
    "metrics_neu = pd.DataFrame([metrics_neu_t, metrics_neu_p, metrics_neu_b], columns=['f1', 'accuracy', 'precision', 'recall'])\n",
    "metrics_neu = metrics_neu.transpose()\n",
    "metrics_neu.columns = ['TF-IDF', 'PoS', 'BoW']\n",
    "metrics_neu = metrics_neu.transpose()\n",
    "metrics_neu"
   ]
  },
  {
   "cell_type": "code",
   "execution_count": 34,
   "id": "1517465f",
   "metadata": {},
   "outputs": [
    {
     "data": {
      "text/html": [
       "<div>\n",
       "<style scoped>\n",
       "    .dataframe tbody tr th:only-of-type {\n",
       "        vertical-align: middle;\n",
       "    }\n",
       "\n",
       "    .dataframe tbody tr th {\n",
       "        vertical-align: top;\n",
       "    }\n",
       "\n",
       "    .dataframe thead th {\n",
       "        text-align: right;\n",
       "    }\n",
       "</style>\n",
       "<table border=\"1\" class=\"dataframe\">\n",
       "  <thead>\n",
       "    <tr style=\"text-align: right;\">\n",
       "      <th></th>\n",
       "      <th>f1</th>\n",
       "      <th>accuracy</th>\n",
       "      <th>precision</th>\n",
       "      <th>recall</th>\n",
       "    </tr>\n",
       "  </thead>\n",
       "  <tbody>\n",
       "    <tr>\n",
       "      <th>TF-IDF</th>\n",
       "      <td>0.615591</td>\n",
       "      <td>0.517707</td>\n",
       "      <td>0.505519</td>\n",
       "      <td>0.786942</td>\n",
       "    </tr>\n",
       "    <tr>\n",
       "      <th>PoS</th>\n",
       "      <td>0.653580</td>\n",
       "      <td>0.494098</td>\n",
       "      <td>0.492174</td>\n",
       "      <td>0.972509</td>\n",
       "    </tr>\n",
       "    <tr>\n",
       "      <th>BoW</th>\n",
       "      <td>0.637850</td>\n",
       "      <td>0.477234</td>\n",
       "      <td>0.483186</td>\n",
       "      <td>0.938144</td>\n",
       "    </tr>\n",
       "  </tbody>\n",
       "</table>\n",
       "</div>"
      ],
      "text/plain": [
       "              f1  accuracy  precision    recall\n",
       "TF-IDF  0.615591  0.517707   0.505519  0.786942\n",
       "PoS     0.653580  0.494098   0.492174  0.972509\n",
       "BoW     0.637850  0.477234   0.483186  0.938144"
      ]
     },
     "execution_count": 34,
     "metadata": {},
     "output_type": "execute_result"
    }
   ],
   "source": [
    "# Agr\n",
    "metrics_agr = pd.DataFrame([metrics_agr_t, metrics_agr_p, metrics_agr_b], columns=['f1', 'accuracy', 'precision', 'recall'])\n",
    "metrics_agr = metrics_agr.transpose()\n",
    "metrics_agr.columns = ['TF-IDF', 'PoS', 'BoW']\n",
    "metrics_agr = metrics_agr.transpose()\n",
    "metrics_agr"
   ]
  },
  {
   "cell_type": "code",
   "execution_count": 35,
   "id": "2544df19",
   "metadata": {},
   "outputs": [
    {
     "data": {
      "text/html": [
       "<div>\n",
       "<style scoped>\n",
       "    .dataframe tbody tr th:only-of-type {\n",
       "        vertical-align: middle;\n",
       "    }\n",
       "\n",
       "    .dataframe tbody tr th {\n",
       "        vertical-align: top;\n",
       "    }\n",
       "\n",
       "    .dataframe thead th {\n",
       "        text-align: right;\n",
       "    }\n",
       "</style>\n",
       "<table border=\"1\" class=\"dataframe\">\n",
       "  <thead>\n",
       "    <tr style=\"text-align: right;\">\n",
       "      <th></th>\n",
       "      <th>f1</th>\n",
       "      <th>accuracy</th>\n",
       "      <th>precision</th>\n",
       "      <th>recall</th>\n",
       "    </tr>\n",
       "  </thead>\n",
       "  <tbody>\n",
       "    <tr>\n",
       "      <th>TF-IDF</th>\n",
       "      <td>0.688815</td>\n",
       "      <td>0.526138</td>\n",
       "      <td>0.525338</td>\n",
       "      <td>1.000000</td>\n",
       "    </tr>\n",
       "    <tr>\n",
       "      <th>PoS</th>\n",
       "      <td>0.687783</td>\n",
       "      <td>0.534570</td>\n",
       "      <td>0.530541</td>\n",
       "      <td>0.977492</td>\n",
       "    </tr>\n",
       "    <tr>\n",
       "      <th>BoW</th>\n",
       "      <td>0.675958</td>\n",
       "      <td>0.529511</td>\n",
       "      <td>0.529091</td>\n",
       "      <td>0.935691</td>\n",
       "    </tr>\n",
       "  </tbody>\n",
       "</table>\n",
       "</div>"
      ],
      "text/plain": [
       "              f1  accuracy  precision    recall\n",
       "TF-IDF  0.688815  0.526138   0.525338  1.000000\n",
       "PoS     0.687783  0.534570   0.530541  0.977492\n",
       "BoW     0.675958  0.529511   0.529091  0.935691"
      ]
     },
     "execution_count": 35,
     "metadata": {},
     "output_type": "execute_result"
    }
   ],
   "source": [
    "# Con\n",
    "metrics_con = pd.DataFrame([metrics_con_t, metrics_con_p, metrics_con_b], columns=['f1', 'accuracy', 'precision', 'recall'])\n",
    "metrics_con = metrics_con.transpose()\n",
    "metrics_con.columns = ['TF-IDF', 'PoS', 'BoW']\n",
    "metrics_con = metrics_con.transpose()\n",
    "metrics_con"
   ]
  },
  {
   "cell_type": "code",
   "execution_count": 36,
   "id": "16bb3a13",
   "metadata": {
    "scrolled": true
   },
   "outputs": [
    {
     "data": {
      "text/html": [
       "<div>\n",
       "<style scoped>\n",
       "    .dataframe tbody tr th:only-of-type {\n",
       "        vertical-align: middle;\n",
       "    }\n",
       "\n",
       "    .dataframe tbody tr th {\n",
       "        vertical-align: top;\n",
       "    }\n",
       "\n",
       "    .dataframe thead th {\n",
       "        text-align: right;\n",
       "    }\n",
       "</style>\n",
       "<table border=\"1\" class=\"dataframe\">\n",
       "  <thead>\n",
       "    <tr style=\"text-align: right;\">\n",
       "      <th></th>\n",
       "      <th>f1</th>\n",
       "      <th>accuracy</th>\n",
       "      <th>precision</th>\n",
       "      <th>recall</th>\n",
       "    </tr>\n",
       "  </thead>\n",
       "  <tbody>\n",
       "    <tr>\n",
       "      <th>TF-IDF</th>\n",
       "      <td>0.575488</td>\n",
       "      <td>0.596965</td>\n",
       "      <td>0.572438</td>\n",
       "      <td>0.578571</td>\n",
       "    </tr>\n",
       "    <tr>\n",
       "      <th>PoS</th>\n",
       "      <td>0.531418</td>\n",
       "      <td>0.559865</td>\n",
       "      <td>0.534296</td>\n",
       "      <td>0.528571</td>\n",
       "    </tr>\n",
       "    <tr>\n",
       "      <th>BoW</th>\n",
       "      <td>0.578358</td>\n",
       "      <td>0.618887</td>\n",
       "      <td>0.605469</td>\n",
       "      <td>0.553571</td>\n",
       "    </tr>\n",
       "  </tbody>\n",
       "</table>\n",
       "</div>"
      ],
      "text/plain": [
       "              f1  accuracy  precision    recall\n",
       "TF-IDF  0.575488  0.596965   0.572438  0.578571\n",
       "PoS     0.531418  0.559865   0.534296  0.528571\n",
       "BoW     0.578358  0.618887   0.605469  0.553571"
      ]
     },
     "execution_count": 36,
     "metadata": {},
     "output_type": "execute_result"
    }
   ],
   "source": [
    "# Opn\n",
    "metrics_opn = pd.DataFrame([metrics_opn_t, metrics_opn_p, metrics_opn_b], columns=['f1', 'accuracy', 'precision', 'recall'])\n",
    "metrics_opn = metrics_opn.transpose()\n",
    "metrics_opn.columns = ['TF-IDF', 'PoS', 'BoW']\n",
    "metrics_opn = metrics_opn.transpose()\n",
    "metrics_opn"
   ]
  },
  {
   "cell_type": "markdown",
   "id": "1e532899",
   "metadata": {},
   "source": [
    "Macro average for all personality traits"
   ]
  },
  {
   "cell_type": "code",
   "execution_count": 63,
   "id": "e89fd251",
   "metadata": {},
   "outputs": [
    {
     "data": {
      "text/html": [
       "<div>\n",
       "<style scoped>\n",
       "    .dataframe tbody tr th:only-of-type {\n",
       "        vertical-align: middle;\n",
       "    }\n",
       "\n",
       "    .dataframe tbody tr th {\n",
       "        vertical-align: top;\n",
       "    }\n",
       "\n",
       "    .dataframe thead th {\n",
       "        text-align: right;\n",
       "    }\n",
       "</style>\n",
       "<table border=\"1\" class=\"dataframe\">\n",
       "  <thead>\n",
       "    <tr style=\"text-align: right;\">\n",
       "      <th></th>\n",
       "      <th>f1</th>\n",
       "      <th>accuracy</th>\n",
       "      <th>precision</th>\n",
       "      <th>recall</th>\n",
       "    </tr>\n",
       "  </thead>\n",
       "  <tbody>\n",
       "    <tr>\n",
       "      <th>TF-IDF</th>\n",
       "      <td>0.618055</td>\n",
       "      <td>0.533895</td>\n",
       "      <td>0.534260</td>\n",
       "      <td>0.776853</td>\n",
       "    </tr>\n",
       "    <tr>\n",
       "      <th>PoS</th>\n",
       "      <td>0.607083</td>\n",
       "      <td>0.523103</td>\n",
       "      <td>0.527888</td>\n",
       "      <td>0.772824</td>\n",
       "    </tr>\n",
       "    <tr>\n",
       "      <th>BoW</th>\n",
       "      <td>0.620062</td>\n",
       "      <td>0.543339</td>\n",
       "      <td>0.549519</td>\n",
       "      <td>0.764676</td>\n",
       "    </tr>\n",
       "  </tbody>\n",
       "</table>\n",
       "</div>"
      ],
      "text/plain": [
       "              f1  accuracy  precision    recall\n",
       "TF-IDF  0.618055  0.533895   0.534260  0.776853\n",
       "PoS     0.607083  0.523103   0.527888  0.772824\n",
       "BoW     0.620062  0.543339   0.549519  0.764676"
      ]
     },
     "execution_count": 63,
     "metadata": {},
     "output_type": "execute_result"
    }
   ],
   "source": [
    "dfs = [metrics_ext, metrics_neu, metrics_agr, metrics_con, metrics_opn]\n",
    "df_avg = pd.DataFrame(np.mean([df.values for df in dfs], axis=0), columns=metrics_ext.columns)\n",
    "new_index_values = ['TF-IDF', 'PoS', 'BoW']\n",
    "df_avg = df_avg.set_index(pd.Index(new_index_values))\n",
    "df_avg"
   ]
  },
  {
   "cell_type": "markdown",
   "id": "579677de",
   "metadata": {},
   "source": [
    "# Conclusions"
   ]
  },
  {
   "cell_type": "markdown",
   "id": "0e38626f",
   "metadata": {},
   "source": [
    "Inspecting the metrics per target value, we can see that the metrics vary heavily across the target variables. For Extraversion, Agreeableness and Conscientiousness, the recall is very high, implying the model's ability to correctly predict when the text actually has these traits. it however fails to do so for other traits. Moreover, precision is rather low for all traits, indicating that the model predicts a text often as having that trait while it actually hasn't. Concludingly, the F1 scores are not very high. Moreover, the optimal vectorization techniques also depend on which personality trait is predicted. Every trait prefers a different technique. \n",
    "\n",
    "Inspecting the macro averages of all 5 personality traits, we can state that the SVM has mediocre performance in predicting the personality traits in general. We can identify that BoW seems to be the best vectorization technique in general, but as stated earlier this depends on the trait you are trying to predict.\n",
    "\n",
    "Results from the SVM thus are not very good and vary much per personality trait. Therefore, we want to identify if other machine learners can do better, before comparing them to deep learners."
   ]
  }
 ],
 "metadata": {
  "kernelspec": {
   "display_name": "Python 3 (ipykernel)",
   "language": "python",
   "name": "python3"
  },
  "language_info": {
   "codemirror_mode": {
    "name": "ipython",
    "version": 3
   },
   "file_extension": ".py",
   "mimetype": "text/x-python",
   "name": "python",
   "nbconvert_exporter": "python",
   "pygments_lexer": "ipython3",
   "version": "3.8.18"
  }
 },
 "nbformat": 4,
 "nbformat_minor": 5
}
