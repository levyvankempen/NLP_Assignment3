{
 "cells": [
  {
   "cell_type": "markdown",
   "id": "b23b0389",
   "metadata": {},
   "source": [
    "# Assignment 3 Natural Language Processing - Part 1: Data Analysis and Preprocessing\n"
   ]
  },
  {
   "cell_type": "code",
   "execution_count": 1,
   "id": "abae15a7",
   "metadata": {},
   "outputs": [
    {
     "name": "stderr",
     "output_type": "stream",
     "text": [
      "[nltk_data] Downloading package stopwords to\n",
      "[nltk_data]     C:\\Users\\maxma\\AppData\\Roaming\\nltk_data...\n",
      "[nltk_data]   Package stopwords is already up-to-date!\n",
      "[nltk_data] Downloading package wordnet to\n",
      "[nltk_data]     C:\\Users\\maxma\\AppData\\Roaming\\nltk_data...\n",
      "[nltk_data]   Package wordnet is already up-to-date!\n"
     ]
    },
    {
     "data": {
      "text/plain": [
       "True"
      ]
     },
     "execution_count": 1,
     "metadata": {},
     "output_type": "execute_result"
    }
   ],
   "source": [
    "import nltk\n",
    "from nltk.stem import WordNetLemmatizer\n",
    "from nltk.corpus import stopwords\n",
    "import re\n",
    "import pandas as pd\n",
    "from typing import List\n",
    "import matplotlib.pyplot as plt\n",
    "import seaborn as sns\n",
    "\n",
    "nltk.download('stopwords')\n",
    "nltk.download('wordnet')"
   ]
  },
  {
   "cell_type": "code",
   "execution_count": 2,
   "id": "2e8fceb5",
   "metadata": {},
   "outputs": [
    {
     "data": {
      "text/html": [
       "<div>\n",
       "<style scoped>\n",
       "    .dataframe tbody tr th:only-of-type {\n",
       "        vertical-align: middle;\n",
       "    }\n",
       "\n",
       "    .dataframe tbody tr th {\n",
       "        vertical-align: top;\n",
       "    }\n",
       "\n",
       "    .dataframe thead th {\n",
       "        text-align: right;\n",
       "    }\n",
       "</style>\n",
       "<table border=\"1\" class=\"dataframe\">\n",
       "  <thead>\n",
       "    <tr style=\"text-align: right;\">\n",
       "      <th></th>\n",
       "      <th>TEXT</th>\n",
       "      <th>TEXT_NL</th>\n",
       "      <th>cEXT</th>\n",
       "      <th>cNEU</th>\n",
       "      <th>cAGR</th>\n",
       "      <th>cCON</th>\n",
       "      <th>cOPN</th>\n",
       "    </tr>\n",
       "  </thead>\n",
       "  <tbody>\n",
       "    <tr>\n",
       "      <th>0</th>\n",
       "      <td>Well, right now I just woke up from a mid-day ...</td>\n",
       "      <td>Nou, op dit moment werd ik net wakker na een m...</td>\n",
       "      <td>n</td>\n",
       "      <td>y</td>\n",
       "      <td>y</td>\n",
       "      <td>n</td>\n",
       "      <td>y</td>\n",
       "    </tr>\n",
       "    <tr>\n",
       "      <th>1</th>\n",
       "      <td>Well, here we go with the stream of consciousn...</td>\n",
       "      <td>Nou, hier gaan we met de stroom van bewustzijn...</td>\n",
       "      <td>n</td>\n",
       "      <td>n</td>\n",
       "      <td>y</td>\n",
       "      <td>n</td>\n",
       "      <td>n</td>\n",
       "    </tr>\n",
       "    <tr>\n",
       "      <th>2</th>\n",
       "      <td>An open keyboard and buttons to push. The thin...</td>\n",
       "      <td>Een open toetsenbord en knoppen om in te drukk...</td>\n",
       "      <td>n</td>\n",
       "      <td>y</td>\n",
       "      <td>n</td>\n",
       "      <td>y</td>\n",
       "      <td>y</td>\n",
       "    </tr>\n",
       "    <tr>\n",
       "      <th>3</th>\n",
       "      <td>I can't believe it!  It's really happening!  M...</td>\n",
       "      <td>Ik kan het niet geloven! Het gebeurt echt! Mij...</td>\n",
       "      <td>y</td>\n",
       "      <td>n</td>\n",
       "      <td>y</td>\n",
       "      <td>y</td>\n",
       "      <td>n</td>\n",
       "    </tr>\n",
       "    <tr>\n",
       "      <th>4</th>\n",
       "      <td>Well, here I go with the good old stream of co...</td>\n",
       "      <td>Welnu, hier ga ik weer met de goede oude stroo...</td>\n",
       "      <td>y</td>\n",
       "      <td>n</td>\n",
       "      <td>y</td>\n",
       "      <td>n</td>\n",
       "      <td>y</td>\n",
       "    </tr>\n",
       "    <tr>\n",
       "      <th>...</th>\n",
       "      <td>...</td>\n",
       "      <td>...</td>\n",
       "      <td>...</td>\n",
       "      <td>...</td>\n",
       "      <td>...</td>\n",
       "      <td>...</td>\n",
       "      <td>...</td>\n",
       "    </tr>\n",
       "    <tr>\n",
       "      <th>2958</th>\n",
       "      <td>I am motivated on a day to day basis by the ne...</td>\n",
       "      <td>Ik word dagelijks gemotiveerd door de noodzaak...</td>\n",
       "      <td>y</td>\n",
       "      <td>n</td>\n",
       "      <td>n</td>\n",
       "      <td>y</td>\n",
       "      <td>y</td>\n",
       "    </tr>\n",
       "    <tr>\n",
       "      <th>2959</th>\n",
       "      <td>My son is the biggest part of my life and with...</td>\n",
       "      <td>Mijn zoon is het grootste deel van mijn leven ...</td>\n",
       "      <td>y</td>\n",
       "      <td>y</td>\n",
       "      <td>n</td>\n",
       "      <td>n</td>\n",
       "      <td>n</td>\n",
       "    </tr>\n",
       "    <tr>\n",
       "      <th>2960</th>\n",
       "      <td>My kids and grandkids are what keeps me motiva...</td>\n",
       "      <td>Mijn kinderen en kleinkinderen houden me elke ...</td>\n",
       "      <td>y</td>\n",
       "      <td>n</td>\n",
       "      <td>y</td>\n",
       "      <td>y</td>\n",
       "      <td>n</td>\n",
       "    </tr>\n",
       "    <tr>\n",
       "      <th>2961</th>\n",
       "      <td>My biggest drive is to earn money so I can ret...</td>\n",
       "      <td>Mijn grootste drijfveer is om geld te verdiene...</td>\n",
       "      <td>n</td>\n",
       "      <td>n</td>\n",
       "      <td>n</td>\n",
       "      <td>n</td>\n",
       "      <td>n</td>\n",
       "    </tr>\n",
       "    <tr>\n",
       "      <th>2962</th>\n",
       "      <td>People who never give up, cause life can be ve...</td>\n",
       "      <td>Mensen die nooit opgeven, want het leven kan v...</td>\n",
       "      <td>y</td>\n",
       "      <td>y</td>\n",
       "      <td>n</td>\n",
       "      <td>n</td>\n",
       "      <td>n</td>\n",
       "    </tr>\n",
       "  </tbody>\n",
       "</table>\n",
       "<p>2963 rows × 7 columns</p>\n",
       "</div>"
      ],
      "text/plain": [
       "                                                   TEXT  \\\n",
       "0     Well, right now I just woke up from a mid-day ...   \n",
       "1     Well, here we go with the stream of consciousn...   \n",
       "2     An open keyboard and buttons to push. The thin...   \n",
       "3     I can't believe it!  It's really happening!  M...   \n",
       "4     Well, here I go with the good old stream of co...   \n",
       "...                                                 ...   \n",
       "2958  I am motivated on a day to day basis by the ne...   \n",
       "2959  My son is the biggest part of my life and with...   \n",
       "2960  My kids and grandkids are what keeps me motiva...   \n",
       "2961  My biggest drive is to earn money so I can ret...   \n",
       "2962  People who never give up, cause life can be ve...   \n",
       "\n",
       "                                                TEXT_NL cEXT cNEU cAGR cCON  \\\n",
       "0     Nou, op dit moment werd ik net wakker na een m...    n    y    y    n   \n",
       "1     Nou, hier gaan we met de stroom van bewustzijn...    n    n    y    n   \n",
       "2     Een open toetsenbord en knoppen om in te drukk...    n    y    n    y   \n",
       "3     Ik kan het niet geloven! Het gebeurt echt! Mij...    y    n    y    y   \n",
       "4     Welnu, hier ga ik weer met de goede oude stroo...    y    n    y    n   \n",
       "...                                                 ...  ...  ...  ...  ...   \n",
       "2958  Ik word dagelijks gemotiveerd door de noodzaak...    y    n    n    y   \n",
       "2959  Mijn zoon is het grootste deel van mijn leven ...    y    y    n    n   \n",
       "2960  Mijn kinderen en kleinkinderen houden me elke ...    y    n    y    y   \n",
       "2961  Mijn grootste drijfveer is om geld te verdiene...    n    n    n    n   \n",
       "2962  Mensen die nooit opgeven, want het leven kan v...    y    y    n    n   \n",
       "\n",
       "     cOPN  \n",
       "0       y  \n",
       "1       n  \n",
       "2       y  \n",
       "3       n  \n",
       "4       y  \n",
       "...   ...  \n",
       "2958    y  \n",
       "2959    n  \n",
       "2960    n  \n",
       "2961    n  \n",
       "2962    n  \n",
       "\n",
       "[2963 rows x 7 columns]"
      ]
     },
     "execution_count": 2,
     "metadata": {},
     "output_type": "execute_result"
    }
   ],
   "source": [
    "df = pd.read_csv('combined_mturk_mpersonality_fixed.csv')\n",
    "df"
   ]
  },
  {
   "cell_type": "markdown",
   "id": "c1c2dddb",
   "metadata": {},
   "source": [
    "# Data Exploration and Analysis\n",
    "\n",
    "Before using the data, we first need to inspect the data for any anomalies or imbalances that we need to correct for."
   ]
  },
  {
   "cell_type": "markdown",
   "id": "50f16301",
   "metadata": {},
   "source": [
    "## Corpus\n",
    "\n",
    "first inspect some statistics of the corpus"
   ]
  },
  {
   "cell_type": "code",
   "execution_count": 15,
   "id": "a9c5b57e",
   "metadata": {},
   "outputs": [],
   "source": [
    "expl = df.copy()"
   ]
  },
  {
   "cell_type": "code",
   "execution_count": 60,
   "id": "62680293",
   "metadata": {},
   "outputs": [
    {
     "data": {
      "text/plain": [
       "2963"
      ]
     },
     "execution_count": 60,
     "metadata": {},
     "output_type": "execute_result"
    }
   ],
   "source": [
    "# number of documents in the corpus\n",
    "nr_of_docu = expl['TEXT'].nunique()\n",
    "nr_of_docu"
   ]
  },
  {
   "cell_type": "markdown",
   "id": "ef230dfa",
   "metadata": {},
   "source": [
    "Inspect the lexical variation in both corpuses"
   ]
  },
  {
   "cell_type": "code",
   "execution_count": 61,
   "id": "cdeb439a",
   "metadata": {},
   "outputs": [
    {
     "data": {
      "text/plain": [
       "1838930"
      ]
     },
     "execution_count": 61,
     "metadata": {},
     "output_type": "execute_result"
    }
   ],
   "source": [
    "# Total words in the English corpus\n",
    "expl['word_count'] = expl['TEXT'].apply(lambda x: len(x.split()))\n",
    "total_word_count = expl['word_count'].sum()\n",
    "total_word_count"
   ]
  },
  {
   "cell_type": "code",
   "execution_count": 62,
   "id": "9cb5024f",
   "metadata": {},
   "outputs": [
    {
     "data": {
      "text/plain": [
       "1908778"
      ]
     },
     "execution_count": 62,
     "metadata": {},
     "output_type": "execute_result"
    }
   ],
   "source": [
    "# Total words in the Dutch corpus\n",
    "expl['word_count'] = expl['TEXT_NL'].apply(lambda x: len(x.split()))\n",
    "total_word_count_nl = expl['word_count'].sum()\n",
    "total_word_count_nl"
   ]
  },
  {
   "cell_type": "code",
   "execution_count": 37,
   "id": "8d864f73",
   "metadata": {},
   "outputs": [
    {
     "data": {
      "text/plain": [
       "69539"
      ]
     },
     "execution_count": 37,
     "metadata": {},
     "output_type": "execute_result"
    }
   ],
   "source": [
    "# Unique words in the English corpus\n",
    "unique_words = set()\n",
    "\n",
    "# Tokenize and count unique words in smaller chunks\n",
    "chunk_size = 1000  # Adjust this value based on your available memory and DataFrame size\n",
    "\n",
    "for i in range(0, len(expl), chunk_size):\n",
    "    chunk = expl.loc[i:i+chunk_size-1]  # Get a chunk of the DataFrame\n",
    "    combined_text = ' '.join(chunk['TEXT'])  # Combine text from the chunk\n",
    "    chunk_words = combined_text.split()  # Tokenize the chunk\n",
    "    unique_words.update(chunk_words)  # Add unique words to the set\n",
    "\n",
    "# Count the total number of unique words\n",
    "unique_word_count = len(unique_words)\n",
    "unique_word_count"
   ]
  },
  {
   "cell_type": "code",
   "execution_count": 38,
   "id": "183f68a7",
   "metadata": {},
   "outputs": [
    {
     "data": {
      "text/plain": [
       "77126"
      ]
     },
     "execution_count": 38,
     "metadata": {},
     "output_type": "execute_result"
    }
   ],
   "source": [
    "# Unique words in the Dutch corpus\n",
    "unique_words_nl = set()\n",
    "\n",
    "# Tokenize and count unique words in smaller chunks\n",
    "chunk_size = 1000  # Adjust this value based on your available memory and DataFrame size\n",
    "\n",
    "for i in range(0, len(expl), chunk_size):\n",
    "    chunk = expl.loc[i:i+chunk_size-1]  # Get a chunk of the DataFrame\n",
    "    combined_text = ' '.join(chunk['TEXT_NL'])  # Combine text from the chunk\n",
    "    chunk_words = combined_text.split()  # Tokenize the chunk\n",
    "    unique_words_nl.update(chunk_words)  # Add unique words to the set\n",
    "\n",
    "# Count the total number of unique words\n",
    "unique_word_count_nl = len(unique_words_nl)\n",
    "unique_word_count_nl"
   ]
  },
  {
   "cell_type": "code",
   "execution_count": 39,
   "id": "028db879",
   "metadata": {},
   "outputs": [
    {
     "data": {
      "text/plain": [
       "0.03781492498355021"
      ]
     },
     "execution_count": 39,
     "metadata": {},
     "output_type": "execute_result"
    }
   ],
   "source": [
    "# Lexical variation in English corpus\n",
    "lexical_variation = unique_word_count/total_word_count\n",
    "lexical_variation"
   ]
  },
  {
   "cell_type": "code",
   "execution_count": 40,
   "id": "6538e967",
   "metadata": {},
   "outputs": [
    {
     "data": {
      "text/plain": [
       "0.0404059560619412"
      ]
     },
     "execution_count": 40,
     "metadata": {},
     "output_type": "execute_result"
    }
   ],
   "source": [
    "# Lexical variation in Dutch corpus\n",
    "lexical_variation_nl = unique_word_count_nl/total_word_count_nl\n",
    "lexical_variation_nl"
   ]
  },
  {
   "cell_type": "markdown",
   "id": "ff323c60",
   "metadata": {},
   "source": [
    "Average document length and outlier detections"
   ]
  },
  {
   "cell_type": "code",
   "execution_count": 41,
   "id": "e76d35bd",
   "metadata": {},
   "outputs": [
    {
     "data": {
      "text/plain": [
       "620.6311171110361"
      ]
     },
     "execution_count": 41,
     "metadata": {},
     "output_type": "execute_result"
    }
   ],
   "source": [
    "#Average document length English corpus\n",
    "avg_doc_length = total_word_count/nr_of_docu\n",
    "avg_doc_length"
   ]
  },
  {
   "cell_type": "code",
   "execution_count": 32,
   "id": "183b9ea3",
   "metadata": {},
   "outputs": [
    {
     "data": {
      "image/png": "[encoded data removed]",
      "text/plain": [
       "<Figure size 500x200 with 1 Axes>"
      ]
     },
     "metadata": {},
     "output_type": "display_data"
    },
    {
     "name": "stdout",
     "output_type": "stream",
     "text": [
      "Number of outliers: 43\n"
     ]
    }
   ],
   "source": [
    "# Boxplot and outlier count for the lengths of the English corpus\n",
    "expl['word_length_eng'] = expl['TEXT'].apply(lambda x: len(str(x).split()))\n",
    "plt.figure(figsize=(5,2))\n",
    "plt.boxplot(expl['word_length_eng'], vert=False)\n",
    "boxplot_eng = plt.boxplot(expl['word_length_eng'], vert=False, showfliers=True)\n",
    "plt.title('Boxplot for English document lengths')\n",
    "plt.xlabel('Document Length')\n",
    "plt.show()\n",
    "\n",
    "outliers = boxplot_eng['fliers'][0].get_data()[1]\n",
    "outlier_count = len(outliers)\n",
    "print(f\"Number of outliers: {outlier_count}\")"
   ]
  },
  {
   "cell_type": "code",
   "execution_count": 42,
   "id": "f605e862",
   "metadata": {},
   "outputs": [
    {
     "data": {
      "text/plain": [
       "644.2045224434695"
      ]
     },
     "execution_count": 42,
     "metadata": {},
     "output_type": "execute_result"
    }
   ],
   "source": [
    "#Average document length Dutch corpus\n",
    "avg_doc_length_nl = total_word_count_nl/nr_of_docu\n",
    "avg_doc_length_nl"
   ]
  },
  {
   "cell_type": "code",
   "execution_count": 34,
   "id": "e7259896",
   "metadata": {},
   "outputs": [
    {
     "data": {
      "image/png": "[encoded data removed]",
      "text/plain": [
       "<Figure size 500x200 with 1 Axes>"
      ]
     },
     "metadata": {},
     "output_type": "display_data"
    },
    {
     "name": "stdout",
     "output_type": "stream",
     "text": [
      "Number of outliers: 43\n"
     ]
    }
   ],
   "source": [
    "# Boxplot for the lengths of the English corpus\n",
    "expl['word_length_nl'] = expl['TEXT'].apply(lambda x: len(str(x).split()))\n",
    "plt.figure(figsize=(5,2))\n",
    "boxplot_nl = plt.boxplot(expl['word_length_nl'], vert=False, showfliers=True)\n",
    "plt.title('Boxplot for Dutch document lengths')\n",
    "plt.xlabel('Document Length')\n",
    "plt.show()\n",
    "\n",
    "outliers = boxplot_nl['fliers'][0].get_data()[1]\n",
    "outlier_count = len(outliers)\n",
    "print(f\"Number of outliers: {outlier_count}\")"
   ]
  },
  {
   "cell_type": "markdown",
   "id": "0a03461f",
   "metadata": {},
   "source": [
    "Based on the metrics and plots above, some insights about the texts in the dataset can be determined. In summary, the dataset has almost 3000 documents in it. Moreover, we can see that the corpus that the ratio of unique vs total words is between 3 to 4%. This indicates that there lexical variation in the corpus. Therefore, we need to reduce this by preprocessing the data.\n",
    "\n",
    "Furthermore, it was decided to explore the lengths of the dataset. From this, it can be determined that on average, the Dutch texts are roughly 20 words longer than the English texts. This might imply that Dutch in general uses more words to express feelings etc. than the English texts. This might be something to take into account when modelling.\n",
    "\n",
    "Finally, it was inspected if there were outliers in the texts. In total, there are 43 outliers that seem to be much longer than the average document length, with one answer containing +-2500 words. As there are only 43 outliers, it is decided to not remove these from the dataset. This is decided as longer answers might contain more detailed information which eventually might lead to better being able to identify certain personality traits.\n"
   ]
  },
  {
   "cell_type": "markdown",
   "id": "eac059cc",
   "metadata": {},
   "source": [
    "## Target variables\n",
    "\n",
    "Besides the corpus, we want to see the distribution of yes and no per personality traits. This way we can see how these are distributed and if we need to alter something here. As such, we plotted the distribution per class per target variable.\n",
    "\n",
    "Besides the distributions, we also wanted to see how the target variables relate towards each other. Is it for example possible that if an answer displays a certain personality trait, other traits are less likely to also be present? By plotting a heatmap, it can be investigated how the different personality traits are correlated to each other.\n",
    "\n",
    "Finally, we also looked into whether certain pairs of personality traits occur more often than others. As such, a cluster plot can be created to identify what clusters of personality traits occur often.\n"
   ]
  },
  {
   "cell_type": "code",
   "execution_count": 57,
   "id": "052b2d47",
   "metadata": {},
   "outputs": [
    {
     "data": {
      "image/png": "[encoded data removed]",
      "text/plain": [
       "<Figure size 300x300 with 1 Axes>"
      ]
     },
     "metadata": {},
     "output_type": "display_data"
    },
    {
     "data": {
      "image/png": "[encoded data removed]",
      "text/plain": [
       "<Figure size 300x300 with 1 Axes>"
      ]
     },
     "metadata": {},
     "output_type": "display_data"
    },
    {
     "data": {
      "image/png": "[encoded data removed]",
      "text/plain": [
       "<Figure size 300x300 with 1 Axes>"
      ]
     },
     "metadata": {},
     "output_type": "display_data"
    },
    {
     "data": {
      "image/png": "[encoded data removed]",
      "text/plain": [
       "<Figure size 300x300 with 1 Axes>"
      ]
     },
     "metadata": {},
     "output_type": "display_data"
    },
    {
     "data": {
      "image/png": "[encoded data removed]",
      "text/plain": [
       "<Figure size 300x300 with 1 Axes>"
      ]
     },
     "metadata": {},
     "output_type": "display_data"
    }
   ],
   "source": [
    "# Distributions\n",
    "for trait in ['cEXT', 'cNEU', 'cAGR', 'cCON', 'cOPN']:\n",
    "    category_counts = expl[trait].value_counts()\n",
    "    plt.figure(figsize=(3,3))\n",
    "    bars = plt.bar(category_counts.index, category_counts)\n",
    "    plt.xlabel('Category')\n",
    "    plt.ylabel('Count')\n",
    "    plt.title(trait)\n",
    "\n",
    "    for bar in bars:\n",
    "        yval = bar.get_height()\n",
    "        plt.text(bar.get_x() + bar.get_width()/2, yval, round(yval, 2), ha='center', va='bottom')\n",
    "\n",
    "    plt.show()"
   ]
  },
  {
   "cell_type": "code",
   "execution_count": 44,
   "id": "89c1e561",
   "metadata": {},
   "outputs": [
    {
     "data": {
      "image/png": "[encoded data removed]",
      "text/plain": [
       "<Figure size 640x480 with 2 Axes>"
      ]
     },
     "metadata": {},
     "output_type": "display_data"
    },
    {
     "data": {
      "text/plain": [
       "<Figure size 200x200 with 0 Axes>"
      ]
     },
     "metadata": {},
     "output_type": "display_data"
    }
   ],
   "source": [
    "# Correlations between traits\n",
    "target_binary = expl[['cEXT', 'cNEU', 'cAGR', 'cCON', 'cOPN']].apply(lambda x: x.map({'y': 1, 'n': 0}))\n",
    "sns.heatmap(target_binary.corr(), annot=True, cmap='coolwarm', fmt='.2f')\n",
    "plt.figure(figsize=(2,2))\n",
    "plt.show()"
   ]
  },
  {
   "cell_type": "code",
   "execution_count": 58,
   "id": "d1ee766a",
   "metadata": {},
   "outputs": [
    {
     "data": {
      "text/plain": [
       "<Figure size 500x500 with 0 Axes>"
      ]
     },
     "metadata": {},
     "output_type": "display_data"
    },
    {
     "data": {
      "image/png": "[encoded data removed]",
      "text/plain": [
       "<Figure size 400x400 with 4 Axes>"
      ]
     },
     "metadata": {},
     "output_type": "display_data"
    }
   ],
   "source": [
    "# Possible patterns in the traits\n",
    "plt.figure(figsize=(5, 5))\n",
    "sns.clustermap(target_binary.corr(), cmap='coolwarm', annot=True, fmt='.2f',  figsize=(4, 4))\n",
    "\n",
    "plt.show()"
   ]
  },
  {
   "cell_type": "markdown",
   "id": "5bf87a78",
   "metadata": {},
   "source": [
    "From the distributions, we can see that for 3 of the 5 target variables, there is a very small class imbalance. This however always is +- 100 cases out of the 3000. If we were to remove cases in one class, this might lead to a (further) imbalance in other target variables. As such we decided not to remove anything as the differences are only very small\n",
    "\n",
    "From the heatmap, the Neuroticism clearly shows some correlations. Apparently, if Neuroticism is displayed, especially Extraversion, Agreeableness and Conscientiousness are less likely to be displayed. This finding is something to take into account as Neuroticism thus is more likely to not be combined with other traits.\n",
    "\n",
    "Finally, from the cluster plot, it can be determined that Conscientiousness and Agreeableness are the most likely to be paired together. In line with the heatmap, Neuroticism is more likely to be displayed alone.\n"
   ]
  },
  {
   "cell_type": "markdown",
   "id": "56d0f875",
   "metadata": {},
   "source": [
    "# Preprocessing\n",
    "\n",
    "For the traditional machine learning methods, we decided to preprocess the data. This preprocessing is not done for the deep learning methods as these do require the original corpus, without any modifications.\n",
    "\n",
    "To begin, target variables are converted from 'y' and 'n' to 1 and 0 respectively. This was done as it makes working with the binary classification easier. Many machine learning algorithms work with numerical input and output. It thus enables machine learning algorithms that require numerical inputs to work with the target variable better.\n",
    "\n",
    "Afterwards, we preprocess the texts inside the data frames. For this, we decided to use 'basic' techniques. the following techniques with the reasoning behind it have been used:\n",
    "\n",
    "- Removing alphabetic characters. This is necessary as alphabetic characters, such as punctuation and special symbols, may not provide meaningful information for certain machine learning algorithms. The inclusion of them might result in noise that may make it harder for models to understand the text. Removing them thus simplifies the text and makes it easier for the models. For the dataset, this means that symbols such as commas or dots are removed and thus are not considered by the models.\n",
    "\n",
    "- Removing stopwords. Stopwords (like 'the', 'and' and 'or') are frequent in most texts but carry little semantic meaning. This can result in models being less focused on relevant words, potentially leading to reduced prediction performance of the model. By removing them, it thus reduces the noise in the data. This allows the models to focus on more informative words that have a more significant contribution to the classification and are more representative for certain personality traits.\n",
    "\n",
    "- Lemmatizing. In written text, many words can appear in a different form (e.g. 'work' and 'working' are the same word but in a different form). This might be confusing for the models as they are perceived by the models as different words, while they are actually the same in meaning. This then could lead to the models struggling to recognize they are the same. By lemmatizing, these words grouped such that they have an overarching word (e.g. 'working' and 'worked' are part of the 'work' lemma). These words are then replaced by that overarching word. With this, it becomes easier for the model to recognize the similarity of these words.\n",
    "\n",
    "- Filtering out words with length less than 3. Short words, often abbreviations, may convey little information. As with the stop words, the models could become less focused on relevant words, potentially leading to reduced prediction performance of the model. Removing them helps to focus on longer words that are more likely to carry meaningful content.\n",
    "\n",
    "Furthermore, it is important to notice that we decided to leave out lowercasing. We did not take this into account as, during lectures, it was mentioned that uppercasing often is a significant factor in human writing to for identifying personalities. In the field of linguistic typology, uppercase usage is often contextually significant and can convey aspects of emphasis or formality. As such, the usage of uppercasing can be a factor in determining certain personality traits. Therefore, it was decided to not remove uppercasing in the text, as it might be beneficial to the prediction process.\n",
    "\n",
    "Finally, With the text processed, we saved them as CSV files, so that they could be used for the remainder of the assignment. This way we do not need to preprocess every time we use the data for a traditional machine learner, but have the processed content ready for usage. \n"
   ]
  },
  {
   "cell_type": "code",
   "execution_count": 78,
   "id": "6f9ba3cb",
   "metadata": {},
   "outputs": [
    {
     "data": {
      "text/html": [
       "<div>\n",
       "<style scoped>\n",
       "    .dataframe tbody tr th:only-of-type {\n",
       "        vertical-align: middle;\n",
       "    }\n",
       "\n",
       "    .dataframe tbody tr th {\n",
       "        vertical-align: top;\n",
       "    }\n",
       "\n",
       "    .dataframe thead th {\n",
       "        text-align: right;\n",
       "    }\n",
       "</style>\n",
       "<table border=\"1\" class=\"dataframe\">\n",
       "  <thead>\n",
       "    <tr style=\"text-align: right;\">\n",
       "      <th></th>\n",
       "      <th>TEXT</th>\n",
       "      <th>TEXT_NL</th>\n",
       "      <th>cEXT</th>\n",
       "      <th>cNEU</th>\n",
       "      <th>cAGR</th>\n",
       "      <th>cCON</th>\n",
       "      <th>cOPN</th>\n",
       "    </tr>\n",
       "  </thead>\n",
       "  <tbody>\n",
       "    <tr>\n",
       "      <th>0</th>\n",
       "      <td>Well, right now I just woke up from a mid-day ...</td>\n",
       "      <td>Nou, op dit moment werd ik net wakker na een m...</td>\n",
       "      <td>0</td>\n",
       "      <td>1</td>\n",
       "      <td>1</td>\n",
       "      <td>0</td>\n",
       "      <td>1</td>\n",
       "    </tr>\n",
       "    <tr>\n",
       "      <th>1</th>\n",
       "      <td>Well, here we go with the stream of consciousn...</td>\n",
       "      <td>Nou, hier gaan we met de stroom van bewustzijn...</td>\n",
       "      <td>0</td>\n",
       "      <td>0</td>\n",
       "      <td>1</td>\n",
       "      <td>0</td>\n",
       "      <td>0</td>\n",
       "    </tr>\n",
       "    <tr>\n",
       "      <th>2</th>\n",
       "      <td>An open keyboard and buttons to push. The thin...</td>\n",
       "      <td>Een open toetsenbord en knoppen om in te drukk...</td>\n",
       "      <td>0</td>\n",
       "      <td>1</td>\n",
       "      <td>0</td>\n",
       "      <td>1</td>\n",
       "      <td>1</td>\n",
       "    </tr>\n",
       "    <tr>\n",
       "      <th>3</th>\n",
       "      <td>I can't believe it!  It's really happening!  M...</td>\n",
       "      <td>Ik kan het niet geloven! Het gebeurt echt! Mij...</td>\n",
       "      <td>1</td>\n",
       "      <td>0</td>\n",
       "      <td>1</td>\n",
       "      <td>1</td>\n",
       "      <td>0</td>\n",
       "    </tr>\n",
       "    <tr>\n",
       "      <th>4</th>\n",
       "      <td>Well, here I go with the good old stream of co...</td>\n",
       "      <td>Welnu, hier ga ik weer met de goede oude stroo...</td>\n",
       "      <td>1</td>\n",
       "      <td>0</td>\n",
       "      <td>1</td>\n",
       "      <td>0</td>\n",
       "      <td>1</td>\n",
       "    </tr>\n",
       "  </tbody>\n",
       "</table>\n",
       "</div>"
      ],
      "text/plain": [
       "                                                TEXT  \\\n",
       "0  Well, right now I just woke up from a mid-day ...   \n",
       "1  Well, here we go with the stream of consciousn...   \n",
       "2  An open keyboard and buttons to push. The thin...   \n",
       "3  I can't believe it!  It's really happening!  M...   \n",
       "4  Well, here I go with the good old stream of co...   \n",
       "\n",
       "                                             TEXT_NL  cEXT  cNEU  cAGR  cCON  \\\n",
       "0  Nou, op dit moment werd ik net wakker na een m...     0     1     1     0   \n",
       "1  Nou, hier gaan we met de stroom van bewustzijn...     0     0     1     0   \n",
       "2  Een open toetsenbord en knoppen om in te drukk...     0     1     0     1   \n",
       "3  Ik kan het niet geloven! Het gebeurt echt! Mij...     1     0     1     1   \n",
       "4  Welnu, hier ga ik weer met de goede oude stroo...     1     0     1     0   \n",
       "\n",
       "   cOPN  \n",
       "0     1  \n",
       "1     0  \n",
       "2     1  \n",
       "3     0  \n",
       "4     1  "
      ]
     },
     "execution_count": 78,
     "metadata": {},
     "output_type": "execute_result"
    }
   ],
   "source": [
    "# Transform the target variables into binary\n",
    "df['cEXT'] = df['cEXT'].map({'y': 1, 'n': 0})\n",
    "df['cNEU'] = df['cNEU'].map({'y': 1, 'n': 0})\n",
    "df['cAGR'] = df['cAGR'].map({'y': 1, 'n': 0})\n",
    "df['cCON'] = df['cCON'].map({'y': 1, 'n': 0})\n",
    "df['cOPN'] = df['cOPN'].map({'y': 1, 'n': 0})\n",
    "df.head()"
   ]
  },
  {
   "cell_type": "code",
   "execution_count": 4,
   "id": "2ec30d72",
   "metadata": {},
   "outputs": [],
   "source": [
    "def preprocess_dataframe_content(df: pd.DataFrame, language: str) -> pd.DataFrame:\n",
    "    \"\"\"\n",
    "    Preprocesses each entry in the 'content' column of the given DataFrame by:\n",
    "    - Keeping only alphabetic characters\n",
    "    - Removing stopwords\n",
    "    - Lemmatizing\n",
    "    - Filtering out words with length less than 3\n",
    "    Tokenizes the preprocessed entry into a list of words.\n",
    "    Returns a list of lists where each inner list is a tokenized and preprocessed entry from the\n",
    "    'content' column of the DataFrame.\n",
    "\n",
    "    Parameters:\n",
    "    - df (pd.DataFrame): The DataFrame containing the 'content' column to be processed.\n",
    "\n",
    "    Returns:\n",
    "    - df (pd.DataFrame): The same DataFrame, but with the column of the specified language processed according the above techniques.\n",
    "    \"\"\"\n",
    "    # Prepare lemmatizer and stopwords list\n",
    "    lemmatizer = WordNetLemmatizer()\n",
    "    stop_words = set(stopwords.words(language))\n",
    "\n",
    "    # Preprocess the content\n",
    "    \n",
    "    if language == 'english':\n",
    "        column = 'TEXT'\n",
    "    elif language == 'dutch':\n",
    "        column = 'TEXT_NL'\n",
    "        \n",
    "    processed_content = []\n",
    "    for content in df[column]:\n",
    "        # Keep only alphabetic characters and lowercased\n",
    "        tokens = re.sub('[^a-zA-Z\\s]', '', content.strip()).split()\n",
    "        # Remove stopwords and short words, and lemmatize\n",
    "        tokens = [lemmatizer.lemmatize(word) for word in tokens if word not in stop_words and len(word) >= 3]\n",
    "        processed_content.append(tokens)\n",
    "        \n",
    "    df[column] = [' '.join(words) for words in processed_content]\n",
    "\n",
    "    return df"
   ]
  },
  {
   "cell_type": "code",
   "execution_count": 5,
   "id": "a225fee9",
   "metadata": {},
   "outputs": [
    {
     "data": {
      "text/html": [
       "<div>\n",
       "<style scoped>\n",
       "    .dataframe tbody tr th:only-of-type {\n",
       "        vertical-align: middle;\n",
       "    }\n",
       "\n",
       "    .dataframe tbody tr th {\n",
       "        vertical-align: top;\n",
       "    }\n",
       "\n",
       "    .dataframe thead th {\n",
       "        text-align: right;\n",
       "    }\n",
       "</style>\n",
       "<table border=\"1\" class=\"dataframe\">\n",
       "  <thead>\n",
       "    <tr style=\"text-align: right;\">\n",
       "      <th></th>\n",
       "      <th>TEXT</th>\n",
       "      <th>TEXT_NL</th>\n",
       "      <th>cEXT</th>\n",
       "      <th>cNEU</th>\n",
       "      <th>cAGR</th>\n",
       "      <th>cCON</th>\n",
       "      <th>cOPN</th>\n",
       "    </tr>\n",
       "  </thead>\n",
       "  <tbody>\n",
       "    <tr>\n",
       "      <th>0</th>\n",
       "      <td>Well right woke midday nap Its sort weird ever...</td>\n",
       "      <td>Nou moment net wakker middagdutje Het beetje r...</td>\n",
       "      <td>0</td>\n",
       "      <td>1</td>\n",
       "      <td>1</td>\n",
       "      <td>0</td>\n",
       "      <td>1</td>\n",
       "    </tr>\n",
       "    <tr>\n",
       "      <th>1</th>\n",
       "      <td>Well stream consciousness essay used thing lik...</td>\n",
       "      <td>Nou gaan stroom bewustzijn essay deed soort di...</td>\n",
       "      <td>0</td>\n",
       "      <td>0</td>\n",
       "      <td>1</td>\n",
       "      <td>0</td>\n",
       "      <td>0</td>\n",
       "    </tr>\n",
       "    <tr>\n",
       "      <th>2</th>\n",
       "      <td>open keyboard button push The thing finally wo...</td>\n",
       "      <td>Een open toetsenbord knoppen drukken Het ding ...</td>\n",
       "      <td>0</td>\n",
       "      <td>1</td>\n",
       "      <td>0</td>\n",
       "      <td>1</td>\n",
       "      <td>1</td>\n",
       "    </tr>\n",
       "    <tr>\n",
       "      <th>3</th>\n",
       "      <td>cant believe Its really happening pulse racing...</td>\n",
       "      <td>geloven Het gebeurt echt Mijn pol raast gek Du...</td>\n",
       "      <td>1</td>\n",
       "      <td>0</td>\n",
       "      <td>1</td>\n",
       "      <td>1</td>\n",
       "      <td>0</td>\n",
       "    </tr>\n",
       "    <tr>\n",
       "      <th>4</th>\n",
       "      <td>Well good old stream consciousness assignment ...</td>\n",
       "      <td>Welnu weer goede oude stroom bewustzijnstoewij...</td>\n",
       "      <td>1</td>\n",
       "      <td>0</td>\n",
       "      <td>1</td>\n",
       "      <td>0</td>\n",
       "      <td>1</td>\n",
       "    </tr>\n",
       "  </tbody>\n",
       "</table>\n",
       "</div>"
      ],
      "text/plain": [
       "                                                TEXT  \\\n",
       "0  Well right woke midday nap Its sort weird ever...   \n",
       "1  Well stream consciousness essay used thing lik...   \n",
       "2  open keyboard button push The thing finally wo...   \n",
       "3  cant believe Its really happening pulse racing...   \n",
       "4  Well good old stream consciousness assignment ...   \n",
       "\n",
       "                                             TEXT_NL  cEXT  cNEU  cAGR  cCON  \\\n",
       "0  Nou moment net wakker middagdutje Het beetje r...     0     1     1     0   \n",
       "1  Nou gaan stroom bewustzijn essay deed soort di...     0     0     1     0   \n",
       "2  Een open toetsenbord knoppen drukken Het ding ...     0     1     0     1   \n",
       "3  geloven Het gebeurt echt Mijn pol raast gek Du...     1     0     1     1   \n",
       "4  Welnu weer goede oude stroom bewustzijnstoewij...     1     0     1     0   \n",
       "\n",
       "   cOPN  \n",
       "0     1  \n",
       "1     0  \n",
       "2     1  \n",
       "3     0  \n",
       "4     1  "
      ]
     },
     "execution_count": 5,
     "metadata": {},
     "output_type": "execute_result"
    }
   ],
   "source": [
    "processed_e = preprocess_dataframe_content(df, 'english')\n",
    "processed_nlc = preprocess_dataframe_content(processed_e, 'dutch')\n",
    "processed_nlc.head()"
   ]
  },
  {
   "cell_type": "code",
   "execution_count": 7,
   "id": "299b757b",
   "metadata": {},
   "outputs": [
    {
     "data": {
      "text/html": [
       "<div>\n",
       "<style scoped>\n",
       "    .dataframe tbody tr th:only-of-type {\n",
       "        vertical-align: middle;\n",
       "    }\n",
       "\n",
       "    .dataframe tbody tr th {\n",
       "        vertical-align: top;\n",
       "    }\n",
       "\n",
       "    .dataframe thead th {\n",
       "        text-align: right;\n",
       "    }\n",
       "</style>\n",
       "<table border=\"1\" class=\"dataframe\">\n",
       "  <thead>\n",
       "    <tr style=\"text-align: right;\">\n",
       "      <th></th>\n",
       "      <th>TEXT</th>\n",
       "      <th>cEXT</th>\n",
       "      <th>cNEU</th>\n",
       "      <th>cAGR</th>\n",
       "      <th>cCON</th>\n",
       "      <th>cOPN</th>\n",
       "    </tr>\n",
       "  </thead>\n",
       "  <tbody>\n",
       "    <tr>\n",
       "      <th>0</th>\n",
       "      <td>Well right woke midday nap Its sort weird ever...</td>\n",
       "      <td>0</td>\n",
       "      <td>1</td>\n",
       "      <td>1</td>\n",
       "      <td>0</td>\n",
       "      <td>1</td>\n",
       "    </tr>\n",
       "    <tr>\n",
       "      <th>1</th>\n",
       "      <td>Well stream consciousness essay used thing lik...</td>\n",
       "      <td>0</td>\n",
       "      <td>0</td>\n",
       "      <td>1</td>\n",
       "      <td>0</td>\n",
       "      <td>0</td>\n",
       "    </tr>\n",
       "    <tr>\n",
       "      <th>2</th>\n",
       "      <td>open keyboard button push The thing finally wo...</td>\n",
       "      <td>0</td>\n",
       "      <td>1</td>\n",
       "      <td>0</td>\n",
       "      <td>1</td>\n",
       "      <td>1</td>\n",
       "    </tr>\n",
       "    <tr>\n",
       "      <th>3</th>\n",
       "      <td>cant believe Its really happening pulse racing...</td>\n",
       "      <td>1</td>\n",
       "      <td>0</td>\n",
       "      <td>1</td>\n",
       "      <td>1</td>\n",
       "      <td>0</td>\n",
       "    </tr>\n",
       "    <tr>\n",
       "      <th>4</th>\n",
       "      <td>Well good old stream consciousness assignment ...</td>\n",
       "      <td>1</td>\n",
       "      <td>0</td>\n",
       "      <td>1</td>\n",
       "      <td>0</td>\n",
       "      <td>1</td>\n",
       "    </tr>\n",
       "  </tbody>\n",
       "</table>\n",
       "</div>"
      ],
      "text/plain": [
       "                                                TEXT  cEXT  cNEU  cAGR  cCON  \\\n",
       "0  Well right woke midday nap Its sort weird ever...     0     1     1     0   \n",
       "1  Well stream consciousness essay used thing lik...     0     0     1     0   \n",
       "2  open keyboard button push The thing finally wo...     0     1     0     1   \n",
       "3  cant believe Its really happening pulse racing...     1     0     1     1   \n",
       "4  Well good old stream consciousness assignment ...     1     0     1     0   \n",
       "\n",
       "   cOPN  \n",
       "0     1  \n",
       "1     0  \n",
       "2     1  \n",
       "3     0  \n",
       "4     1  "
      ]
     },
     "execution_count": 7,
     "metadata": {},
     "output_type": "execute_result"
    }
   ],
   "source": [
    "english_df_nlc = processed_nlc[['TEXT', 'cEXT','cNEU','cAGR','cCON','cOPN']]\n",
    "dutch_df_nlc = processed_nlc[['TEXT_NL', 'cEXT','cNEU','cAGR','cCON','cOPN']]\n",
    "english_df_nlc.head()"
   ]
  },
  {
   "cell_type": "code",
   "execution_count": 8,
   "id": "a27c9e33",
   "metadata": {},
   "outputs": [],
   "source": [
    "processed_nlc.to_csv('processed_data_full_no_lowercasing.csv', index=False)\n",
    "english_df_nlc.to_csv('processed_data_english_no_lowercasing.csv', index=False)\n",
    "dutch_df_nlc.to_csv('processed_data_dutch_no_lowercasing.csv', index=False)"
   ]
  }
 ],
 "metadata": {
  "kernelspec": {
   "display_name": "Python 3 (ipykernel)",
   "language": "python",
   "name": "python3"
  },
  "language_info": {
   "codemirror_mode": {
    "name": "ipython",
    "version": 3
   },
   "file_extension": ".py",
   "mimetype": "text/x-python",
   "name": "python",
   "nbconvert_exporter": "python",
   "pygments_lexer": "ipython3",
   "version": "3.8.18"
  }
 },
 "nbformat": 4,
 "nbformat_minor": 5
}
